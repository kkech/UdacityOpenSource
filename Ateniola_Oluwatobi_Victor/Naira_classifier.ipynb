{
  "nbformat": 4,
  "nbformat_minor": 0,
  "metadata": {
    "colab": {
      "name": "Naira_classifier.ipynb",
      "version": "0.3.2",
      "provenance": [],
      "collapsed_sections": []
    },
    "kernelspec": {
      "name": "python3",
      "display_name": "Python 3"
    },
    "accelerator": "GPU"
  },
  "cells": [
    {
      "cell_type": "markdown",
      "metadata": {
        "id": "4cA4ACZ3dkrS",
        "colab_type": "text"
      },
      "source": [
        "#NAIRA CURRENCY CLASSIFIER FOR THE CURRENCY COUNTER MOBILE APPLICATION PROJECT"
      ]
    },
    {
      "cell_type": "markdown",
      "metadata": {
        "id": "IOPmzhasd53o",
        "colab_type": "text"
      },
      "source": [
        "**Author** \n",
        ": Ateniola Oluwatobi Victor\n",
        "\n",
        "**Objective** : An implementation of a classifier to recognize images of the various denominations of the Nigerian Naira currency and also correctly classify the denominations. I built the classifier by using a modified Residual Neural Network(ResNet), I used the ResNet architecture because of its relatively small size and accuracy. I modified the ResNet architecure by changing the final sequential layer to classify the banknotes correctly. I made use of pytorch to create and train the model and then I converted the gradients of the trained model to the ONNX and PB format in order to easily integrate in a mobile application.\n"
      ]
    },
    {
      "cell_type": "markdown",
      "metadata": {
        "id": "43Ew_bgMqqtJ",
        "colab_type": "text"
      },
      "source": [
        "**Google Drive Import on Google Colab**"
      ]
    },
    {
      "cell_type": "code",
      "metadata": {
        "id": "DSpRSvRJRjAP",
        "colab_type": "code",
        "colab": {}
      },
      "source": [
        "#Google Drive Import on Google Colab\n",
        "from google.colab import drive\n",
        "drive.mount('/content/drive')\n",
        "data_dir = '/content/drive/My Drive/NAIRA'"
      ],
      "execution_count": 0,
      "outputs": []
    },
    {
      "cell_type": "code",
      "metadata": {
        "id": "E3Y1mOznyMsQ",
        "colab_type": "code",
        "colab": {}
      },
      "source": [
        ""
      ],
      "execution_count": 0,
      "outputs": []
    },
    {
      "cell_type": "code",
      "metadata": {
        "id": "eC4oN2rZ5UgN",
        "colab_type": "code",
        "colab": {
          "base_uri": "https://localhost:8080/",
          "height": 428
        },
        "outputId": "bbdcc930-122b-478e-f7e7-45d22cea770f"
      },
      "source": [
        "#Library import to perform os operations\n",
        "import os\n",
        "import subprocess\n",
        "from PIL import Image\n",
        "\n",
        "#Library import to to perform maths operations and to plot graphs\n",
        "import numpy as np\n",
        "import matplotlib.pyplot as plt\n",
        "\n",
        "#Library import to use pytorch\n",
        "import torch\n",
        "from torch import nn\n",
        "from torch import optim\n",
        "import torch.onnx\n",
        "import torch.nn.functional as F\n",
        "import torchvision\n",
        "from torchvision import transforms, models, datasets\n",
        "from torch.autograd import Variable\n",
        "\n",
        "#Library import to convert pytorch model to onnx format\n",
        "import onnx\n",
        "from onnx_tf.backend import prepare\n",
        "from onnx import helper\n",
        "\n",
        "#Library import to convert onnx format to mobile friendly caffe2 format\n",
        "import caffe2.python.onnx.backend as onnx_caffe2_backend\n",
        "from caffe2.python.predictor import mobile_exporter\n",
        "from caffe2.proto import caffe2_pb2\n",
        "from caffe2.python import core, net_drawer, net_printer, visualize, workspace, utils\n",
        "import caffe2.python.onnx.backend\n"
      ],
      "execution_count": 3,
      "outputs": [
        {
          "output_type": "stream",
          "text": [
            "/usr/local/lib/python3.6/dist-packages/onnx_tf/common/__init__.py:87: UserWarning: onnx_tf.common.get_outputs_names is deprecated. It will be removed in future release. Use TensorflowGraph.get_outputs_names instead.\n",
            "  warnings.warn(message)\n",
            "WARNING: Logging before flag parsing goes to stderr.\n",
            "W0820 09:52:17.350237 140300736243584 deprecation_wrapper.py:119] From /usr/local/lib/python3.6/dist-packages/onnx_tf/handlers/backend/ceil.py:10: The name tf.ceil is deprecated. Please use tf.math.ceil instead.\n",
            "\n",
            "W0820 09:52:17.357268 140300736243584 deprecation_wrapper.py:119] From /usr/local/lib/python3.6/dist-packages/onnx_tf/handlers/backend/depth_to_space.py:12: The name tf.depth_to_space is deprecated. Please use tf.compat.v1.depth_to_space instead.\n",
            "\n",
            "W0820 09:52:17.361622 140300736243584 deprecation_wrapper.py:119] From /usr/local/lib/python3.6/dist-packages/onnx_tf/handlers/backend/erf.py:9: The name tf.erf is deprecated. Please use tf.math.erf instead.\n",
            "\n",
            "W0820 09:52:18.452103 140300736243584 lazy_loader.py:50] \n",
            "The TensorFlow contrib module will not be included in TensorFlow 2.0.\n",
            "For more information, please see:\n",
            "  * https://github.com/tensorflow/community/blob/master/rfcs/20180907-contrib-sunset.md\n",
            "  * https://github.com/tensorflow/addons\n",
            "  * https://github.com/tensorflow/io (for I/O related ops)\n",
            "If you depend on functionality not listed there, please file an issue.\n",
            "\n",
            "W0820 09:52:18.456135 140300736243584 deprecation_wrapper.py:119] From /usr/local/lib/python3.6/dist-packages/onnx_tf/handlers/backend/is_nan.py:9: The name tf.is_nan is deprecated. Please use tf.math.is_nan instead.\n",
            "\n",
            "W0820 09:52:18.465100 140300736243584 deprecation_wrapper.py:119] From /usr/local/lib/python3.6/dist-packages/onnx_tf/handlers/backend/log.py:10: The name tf.log is deprecated. Please use tf.math.log instead.\n",
            "\n",
            "W0820 09:52:18.488834 140300736243584 deprecation_wrapper.py:119] From /usr/local/lib/python3.6/dist-packages/onnx_tf/handlers/backend/upsample.py:13: The name tf.image.resize_images is deprecated. Please use tf.image.resize instead.\n",
            "\n"
          ],
          "name": "stderr"
        }
      ]
    },
    {
      "cell_type": "code",
      "metadata": {
        "id": "RQrTZWqcSWMV",
        "colab_type": "code",
        "colab": {}
      },
      "source": [
        "\n",
        "device = torch.device(\"cuda\" if torch.cuda.is_available() else \"cpu\")\n",
        "\n",
        "\n",
        "train_transforms = transforms.Compose([\n",
        "        transforms.RandomResizedCrop(size=256, scale=(0.8, 1.0)),\n",
        "        transforms.RandomRotation(degrees=15),\n",
        "        transforms.RandomHorizontalFlip(),\n",
        "        transforms.CenterCrop(size=224),  # Image net standards\n",
        "        transforms.ToTensor(),\n",
        "        transforms.Normalize([0.485, 0.456, 0.406],\n",
        "                             [0.229, 0.224, 0.225])  # Imagenet standards\n",
        "    ])\n",
        "\n",
        "\n",
        "test_transforms = transforms.Compose([\n",
        "        transforms.Resize(size=256),\n",
        "        transforms.CenterCrop(size=224),\n",
        "        transforms.ToTensor(),\n",
        "        transforms.Normalize([0.485, 0.456, 0.406], [0.229, 0.224, 0.225])\n",
        "    ])"
      ],
      "execution_count": 0,
      "outputs": []
    },
    {
      "cell_type": "code",
      "metadata": {
        "id": "fp09AN_JS7wR",
        "colab_type": "code",
        "colab": {}
      },
      "source": [
        "train_data = datasets.ImageFolder(data_dir + \"/Data/Train\" , transform=train_transforms)\n",
        "test_data = datasets.ImageFolder(data_dir  + \"/Data/Test\" , transform=test_transforms)\n",
        "class_names = train_data.classes\n"
      ],
      "execution_count": 0,
      "outputs": []
    },
    {
      "cell_type": "code",
      "metadata": {
        "id": "sidqiJeDTCpX",
        "colab_type": "code",
        "colab": {}
      },
      "source": [
        "trainloader = torch.utils.data.DataLoader(train_data , batch_size=128, shuffle=True)\n",
        "testloader = torch.utils.data.DataLoader(test_data , batch_size=64, shuffle=True)"
      ],
      "execution_count": 0,
      "outputs": []
    },
    {
      "cell_type": "code",
      "metadata": {
        "id": "bQDOsLuag4P6",
        "colab_type": "code",
        "outputId": "546c6417-175b-4db3-9b7f-fbe37a4cce3f",
        "colab": {
          "base_uri": "https://localhost:8080/",
          "height": 1000
        }
      },
      "source": [
        "\n",
        "model = load_model(data_dir) if os.path.exists(data_dir + '/model_weights/checkpoint.pth') else create_model()\n",
        "model\n"
      ],
      "execution_count": 16,
      "outputs": [
        {
          "output_type": "execute_result",
          "data": {
            "text/plain": [
              "ResNet(\n",
              "  (conv1): Conv2d(3, 64, kernel_size=(7, 7), stride=(2, 2), padding=(3, 3), bias=False)\n",
              "  (bn1): BatchNorm2d(64, eps=1e-05, momentum=0.1, affine=True, track_running_stats=True)\n",
              "  (relu): ReLU(inplace)\n",
              "  (maxpool): MaxPool2d(kernel_size=3, stride=2, padding=1, dilation=1, ceil_mode=False)\n",
              "  (layer1): Sequential(\n",
              "    (0): BasicBlock(\n",
              "      (conv1): Conv2d(64, 64, kernel_size=(3, 3), stride=(1, 1), padding=(1, 1), bias=False)\n",
              "      (bn1): BatchNorm2d(64, eps=1e-05, momentum=0.1, affine=True, track_running_stats=True)\n",
              "      (relu): ReLU(inplace)\n",
              "      (conv2): Conv2d(64, 64, kernel_size=(3, 3), stride=(1, 1), padding=(1, 1), bias=False)\n",
              "      (bn2): BatchNorm2d(64, eps=1e-05, momentum=0.1, affine=True, track_running_stats=True)\n",
              "    )\n",
              "    (1): BasicBlock(\n",
              "      (conv1): Conv2d(64, 64, kernel_size=(3, 3), stride=(1, 1), padding=(1, 1), bias=False)\n",
              "      (bn1): BatchNorm2d(64, eps=1e-05, momentum=0.1, affine=True, track_running_stats=True)\n",
              "      (relu): ReLU(inplace)\n",
              "      (conv2): Conv2d(64, 64, kernel_size=(3, 3), stride=(1, 1), padding=(1, 1), bias=False)\n",
              "      (bn2): BatchNorm2d(64, eps=1e-05, momentum=0.1, affine=True, track_running_stats=True)\n",
              "    )\n",
              "  )\n",
              "  (layer2): Sequential(\n",
              "    (0): BasicBlock(\n",
              "      (conv1): Conv2d(64, 128, kernel_size=(3, 3), stride=(2, 2), padding=(1, 1), bias=False)\n",
              "      (bn1): BatchNorm2d(128, eps=1e-05, momentum=0.1, affine=True, track_running_stats=True)\n",
              "      (relu): ReLU(inplace)\n",
              "      (conv2): Conv2d(128, 128, kernel_size=(3, 3), stride=(1, 1), padding=(1, 1), bias=False)\n",
              "      (bn2): BatchNorm2d(128, eps=1e-05, momentum=0.1, affine=True, track_running_stats=True)\n",
              "      (downsample): Sequential(\n",
              "        (0): Conv2d(64, 128, kernel_size=(1, 1), stride=(2, 2), bias=False)\n",
              "        (1): BatchNorm2d(128, eps=1e-05, momentum=0.1, affine=True, track_running_stats=True)\n",
              "      )\n",
              "    )\n",
              "    (1): BasicBlock(\n",
              "      (conv1): Conv2d(128, 128, kernel_size=(3, 3), stride=(1, 1), padding=(1, 1), bias=False)\n",
              "      (bn1): BatchNorm2d(128, eps=1e-05, momentum=0.1, affine=True, track_running_stats=True)\n",
              "      (relu): ReLU(inplace)\n",
              "      (conv2): Conv2d(128, 128, kernel_size=(3, 3), stride=(1, 1), padding=(1, 1), bias=False)\n",
              "      (bn2): BatchNorm2d(128, eps=1e-05, momentum=0.1, affine=True, track_running_stats=True)\n",
              "    )\n",
              "  )\n",
              "  (layer3): Sequential(\n",
              "    (0): BasicBlock(\n",
              "      (conv1): Conv2d(128, 256, kernel_size=(3, 3), stride=(2, 2), padding=(1, 1), bias=False)\n",
              "      (bn1): BatchNorm2d(256, eps=1e-05, momentum=0.1, affine=True, track_running_stats=True)\n",
              "      (relu): ReLU(inplace)\n",
              "      (conv2): Conv2d(256, 256, kernel_size=(3, 3), stride=(1, 1), padding=(1, 1), bias=False)\n",
              "      (bn2): BatchNorm2d(256, eps=1e-05, momentum=0.1, affine=True, track_running_stats=True)\n",
              "      (downsample): Sequential(\n",
              "        (0): Conv2d(128, 256, kernel_size=(1, 1), stride=(2, 2), bias=False)\n",
              "        (1): BatchNorm2d(256, eps=1e-05, momentum=0.1, affine=True, track_running_stats=True)\n",
              "      )\n",
              "    )\n",
              "    (1): BasicBlock(\n",
              "      (conv1): Conv2d(256, 256, kernel_size=(3, 3), stride=(1, 1), padding=(1, 1), bias=False)\n",
              "      (bn1): BatchNorm2d(256, eps=1e-05, momentum=0.1, affine=True, track_running_stats=True)\n",
              "      (relu): ReLU(inplace)\n",
              "      (conv2): Conv2d(256, 256, kernel_size=(3, 3), stride=(1, 1), padding=(1, 1), bias=False)\n",
              "      (bn2): BatchNorm2d(256, eps=1e-05, momentum=0.1, affine=True, track_running_stats=True)\n",
              "    )\n",
              "  )\n",
              "  (layer4): Sequential(\n",
              "    (0): BasicBlock(\n",
              "      (conv1): Conv2d(256, 512, kernel_size=(3, 3), stride=(2, 2), padding=(1, 1), bias=False)\n",
              "      (bn1): BatchNorm2d(512, eps=1e-05, momentum=0.1, affine=True, track_running_stats=True)\n",
              "      (relu): ReLU(inplace)\n",
              "      (conv2): Conv2d(512, 512, kernel_size=(3, 3), stride=(1, 1), padding=(1, 1), bias=False)\n",
              "      (bn2): BatchNorm2d(512, eps=1e-05, momentum=0.1, affine=True, track_running_stats=True)\n",
              "      (downsample): Sequential(\n",
              "        (0): Conv2d(256, 512, kernel_size=(1, 1), stride=(2, 2), bias=False)\n",
              "        (1): BatchNorm2d(512, eps=1e-05, momentum=0.1, affine=True, track_running_stats=True)\n",
              "      )\n",
              "    )\n",
              "    (1): BasicBlock(\n",
              "      (conv1): Conv2d(512, 512, kernel_size=(3, 3), stride=(1, 1), padding=(1, 1), bias=False)\n",
              "      (bn1): BatchNorm2d(512, eps=1e-05, momentum=0.1, affine=True, track_running_stats=True)\n",
              "      (relu): ReLU(inplace)\n",
              "      (conv2): Conv2d(512, 512, kernel_size=(3, 3), stride=(1, 1), padding=(1, 1), bias=False)\n",
              "      (bn2): BatchNorm2d(512, eps=1e-05, momentum=0.1, affine=True, track_running_stats=True)\n",
              "    )\n",
              "  )\n",
              "  (avgpool): AdaptiveAvgPool2d(output_size=(1, 1))\n",
              "  (fc): Sequential(\n",
              "    (0): Linear(in_features=512, out_features=256, bias=True)\n",
              "    (1): ReLU()\n",
              "    (2): Dropout(p=0.4)\n",
              "    (3): Linear(in_features=256, out_features=8, bias=True)\n",
              "    (4): LogSoftmax()\n",
              "  )\n",
              ")"
            ]
          },
          "metadata": {
            "tags": []
          },
          "execution_count": 16
        }
      ]
    },
    {
      "cell_type": "markdown",
      "metadata": {
        "id": "4w0yjAIwfvui",
        "colab_type": "text"
      },
      "source": [
        ""
      ]
    },
    {
      "cell_type": "code",
      "metadata": {
        "id": "c6AzxcG4JCLi",
        "colab_type": "code",
        "outputId": "7740d063-a4e5-4063-fd96-75cb7e6ab675",
        "colab": {
          "base_uri": "https://localhost:8080/",
          "height": 1000
        }
      },
      "source": [
        "model = train_model(model, device, 6, trainloader, testloader)"
      ],
      "execution_count": 17,
      "outputs": [
        {
          "output_type": "stream",
          "text": [
            "Currently using  cuda\n",
            "EPOCH 1\n",
            "  THE RUNNING LOSS IS 2.236693286895752\n",
            "  THE TEST PERCENTAGE IS 0.3402777910232544\n",
            "EPOCH 1\n",
            "  THE RUNNING LOSS IS 1.5716129064559936\n",
            "  THE TEST PERCENTAGE IS 0.2586805820465088\n",
            "EPOCH 1\n",
            "  THE RUNNING LOSS IS 1.2505617618560791\n",
            "  THE TEST PERCENTAGE IS 0.3732639253139496\n",
            "EPOCH 1\n",
            "  THE RUNNING LOSS IS 0.9275718927383423\n",
            "  THE TEST PERCENTAGE IS 0.3697916865348816\n",
            "EPOCH 1\n",
            "  THE RUNNING LOSS IS 0.7617600202560425\n",
            "  THE TEST PERCENTAGE IS 0.538194477558136\n",
            "EPOCH 1\n",
            "  THE RUNNING LOSS IS 0.6398110270500184\n",
            "  THE TEST PERCENTAGE IS 0.4479166865348816\n",
            "EPOCH 1\n",
            "  THE RUNNING LOSS IS 0.5886604487895966\n",
            "  THE TEST PERCENTAGE IS 0.5121527910232544\n",
            "EPOCH 2\n",
            "  THE RUNNING LOSS IS 0.5161669373512268\n",
            "  THE TEST PERCENTAGE IS 0.5677083730697632\n",
            "EPOCH 2\n",
            "  THE RUNNING LOSS IS 0.5128214716911316\n",
            "  THE TEST PERCENTAGE IS 0.5729166865348816\n",
            "EPOCH 2\n",
            "  THE RUNNING LOSS IS 0.3596955299377441\n",
            "  THE TEST PERCENTAGE IS 0.4704861342906952\n",
            "EPOCH 2\n",
            "  THE RUNNING LOSS IS 0.36645066142082217\n",
            "  THE TEST PERCENTAGE IS 0.560763955116272\n",
            "EPOCH 2\n",
            "  THE RUNNING LOSS IS 0.3827772617340088\n",
            "  THE TEST PERCENTAGE IS 0.5989583730697632\n",
            "EPOCH 2\n",
            "  THE RUNNING LOSS IS 0.26548678874969484\n",
            "  THE TEST PERCENTAGE IS 0.569444477558136\n",
            "EPOCH 2\n",
            "  THE RUNNING LOSS IS 0.2570526570081711\n",
            "  THE TEST PERCENTAGE IS 0.538194477558136\n",
            "EPOCH 3\n",
            "  THE RUNNING LOSS IS 0.24297138154506684\n",
            "  THE TEST PERCENTAGE IS 0.607638955116272\n",
            "EPOCH 3\n",
            "  THE RUNNING LOSS IS 0.2542623788118362\n",
            "  THE TEST PERCENTAGE IS 0.5677083730697632\n",
            "EPOCH 3\n",
            "  THE RUNNING LOSS IS 0.21524286270141602\n",
            "  THE TEST PERCENTAGE IS 0.5399305820465088\n",
            "EPOCH 3\n",
            "  THE RUNNING LOSS IS 0.21928416192531586\n",
            "  THE TEST PERCENTAGE IS 0.5868055820465088\n",
            "EPOCH 3\n",
            "  THE RUNNING LOSS IS 0.18180079460144044\n",
            "  THE TEST PERCENTAGE IS 0.5590277910232544\n",
            "EPOCH 3\n",
            "  THE RUNNING LOSS IS 0.18972257375717164\n",
            "  THE TEST PERCENTAGE IS 0.5555555820465088\n",
            "EPOCH 3\n",
            "  THE RUNNING LOSS IS 0.2255224406719208\n",
            "  THE TEST PERCENTAGE IS 0.5972222685813904\n",
            "EPOCH 4\n",
            "  THE RUNNING LOSS IS 0.18711479008197784\n",
            "  THE TEST PERCENTAGE IS 0.553819477558136\n",
            "EPOCH 4\n",
            "  THE RUNNING LOSS IS 0.21095748245716095\n",
            "  THE TEST PERCENTAGE IS 0.5399305820465088\n",
            "EPOCH 4\n",
            "  THE RUNNING LOSS IS 0.17236745953559876\n",
            "  THE TEST PERCENTAGE IS 0.5677083730697632\n",
            "EPOCH 4\n",
            "  THE RUNNING LOSS IS 0.17552803456783295\n",
            "  THE TEST PERCENTAGE IS 0.6597222685813904\n",
            "EPOCH 4\n",
            "  THE RUNNING LOSS IS 0.19825934767723083\n",
            "  THE TEST PERCENTAGE IS 0.5954861640930176\n",
            "EPOCH 4\n",
            "  THE RUNNING LOSS IS 0.16458857655525208\n",
            "  THE TEST PERCENTAGE IS 0.609375\n",
            "EPOCH 4\n",
            "  THE RUNNING LOSS IS 0.16779680103063582\n",
            "  THE TEST PERCENTAGE IS 0.607638955116272\n",
            "EPOCH 5\n",
            "  THE RUNNING LOSS IS 0.1086496278643608\n",
            "  THE TEST PERCENTAGE IS 0.6180555820465088\n",
            "EPOCH 5\n",
            "  THE RUNNING LOSS IS 0.15430459082126619\n",
            "  THE TEST PERCENTAGE IS 0.6145833730697632\n",
            "EPOCH 5\n",
            "  THE RUNNING LOSS IS 0.10891764611005783\n",
            "  THE TEST PERCENTAGE IS 0.625\n",
            "EPOCH 5\n",
            "  THE RUNNING LOSS IS 0.0952971562743187\n",
            "  THE TEST PERCENTAGE IS 0.6059027910232544\n",
            "EPOCH 5\n",
            "  THE RUNNING LOSS IS 0.13294933885335922\n",
            "  THE TEST PERCENTAGE IS 0.6180555820465088\n",
            "EPOCH 5\n",
            "  THE RUNNING LOSS IS 0.11124373823404313\n",
            "  THE TEST PERCENTAGE IS 0.6111111640930176\n",
            "EPOCH 5\n",
            "  THE RUNNING LOSS IS 0.1080625519156456\n",
            "  THE TEST PERCENTAGE IS 0.5902777910232544\n",
            "EPOCH 5\n",
            "  THE RUNNING LOSS IS 0.09877308458089828\n",
            "  THE TEST PERCENTAGE IS 0.625\n",
            "EPOCH 6\n",
            "  THE RUNNING LOSS IS 0.14444607943296434\n",
            "  THE TEST PERCENTAGE IS 0.578125\n",
            "EPOCH 6\n",
            "  THE RUNNING LOSS IS 0.12836032658815383\n",
            "  THE TEST PERCENTAGE IS 0.5989583730697632\n",
            "EPOCH 6\n",
            "  THE RUNNING LOSS IS 0.13496920615434646\n",
            "  THE TEST PERCENTAGE IS 0.6024305820465088\n",
            "EPOCH 6\n",
            "  THE RUNNING LOSS IS 0.09105724915862083\n",
            "  THE TEST PERCENTAGE IS 0.5572916865348816\n",
            "EPOCH 6\n",
            "  THE RUNNING LOSS IS 0.11897847205400466\n",
            "  THE TEST PERCENTAGE IS 0.6302083730697632\n",
            "EPOCH 6\n",
            "  THE RUNNING LOSS IS 0.0876617468893528\n",
            "  THE TEST PERCENTAGE IS 0.6197916865348816\n",
            "EPOCH 6\n",
            "  THE RUNNING LOSS IS 0.11850915178656578\n",
            "  THE TEST PERCENTAGE IS 0.6371527910232544\n"
          ],
          "name": "stdout"
        }
      ]
    },
    {
      "cell_type": "code",
      "metadata": {
        "id": "KcLvlnohJfGp",
        "colab_type": "code",
        "colab": {}
      },
      "source": [
        "save_model(model ,data_dir)"
      ],
      "execution_count": 0,
      "outputs": []
    },
    {
      "cell_type": "code",
      "metadata": {
        "id": "SQHN7GmFrycB",
        "colab_type": "code",
        "outputId": "fcfbfda4-6b72-4449-e7d0-f866e54eb3ff",
        "colab": {
          "base_uri": "https://localhost:8080/",
          "height": 165
        }
      },
      "source": [
        "test_predict(testloader, model)"
      ],
      "execution_count": 23,
      "outputs": [
        {
          "output_type": "stream",
          "text": [
            "The predictions are  ['500', '20', '05', '100']\n"
          ],
          "name": "stdout"
        },
        {
          "output_type": "display_data",
          "data": {
            "image/png": "[encoded data removed]",
            "text/plain": [
              "<Figure size 432x288 with 1 Axes>"
            ]
          },
          "metadata": {
            "tags": []
          }
        }
      ]
    },
    {
      "cell_type": "code",
      "metadata": {
        "id": "zg3Ns2PXKF3w",
        "colab_type": "code",
        "colab": {}
      },
      "source": [
        "batch_size = 1\n",
        "# Input to the model\n",
        "x = Variable(torch.randn(batch_size, 3, 224, 224), requires_grad=True)\n",
        "\n",
        "#Generates onnx format from pytorch pth file\n",
        "torch_out = generate_onnx(model, x)\n",
        "\n",
        "#Converts onnx format to more mobile friendly pb format\n",
        "# where naira_init_net.pb - stores the structure of the model\n",
        "# naira_predict_net - stores the weights and other parameters of the model\n",
        "convert_to_mobile_friendly_format(model, torch_out, x)"
      ],
      "execution_count": 0,
      "outputs": []
    },
    {
      "cell_type": "code",
      "metadata": {
        "id": "jFlzRrvwWmjR",
        "colab_type": "code",
        "outputId": "ab0321a8-5706-431a-9b6e-3a692329f94a",
        "colab": {
          "base_uri": "https://localhost:8080/",
          "height": 51
        }
      },
      "source": [
        "#Verifies that the 2 \".pb\" files works by testing on a dummy dataset\n",
        "verify_coffe2_working()"
      ],
      "execution_count": 32,
      "outputs": [
        {
          "output_type": "stream",
          "text": [
            "[[0.00263736 0.00436988 0.34423348 0.00252272 0.02454991 0.02725486\n",
            "  0.53154737 0.06288442]]\n"
          ],
          "name": "stdout"
        }
      ]
    },
    {
      "cell_type": "code",
      "metadata": {
        "id": "Bcwv-yt9T2Jb",
        "colab_type": "code",
        "colab": {}
      },
      "source": [
        "def create_model():\n",
        "# Loading in the resnet pre-trained model.\n",
        "  model = models.resnet18(pretrained=True)\n",
        "  # Freeze parameters so we don't backprop through them\n",
        "  for param in model.parameters():\n",
        "      param.requires_grad = False\n",
        "  #code to modify the last layer of the pre-trained network to suite my classification\n",
        "  model.fc = nn.Sequential(\n",
        "                      nn.Linear(512, 256), \n",
        "                      nn.ReLU(), \n",
        "                      nn.Dropout(0.4),\n",
        "                      nn.Linear(256, 8),                   \n",
        "                      nn.LogSoftmax(dim=1))\n",
        "  return model"
      ],
      "execution_count": 0,
      "outputs": []
    },
    {
      "cell_type": "code",
      "metadata": {
        "id": "vYqjui3SjAiB",
        "colab_type": "code",
        "colab": {}
      },
      "source": [
        "#Method to load the current state of the model if it exists\n",
        "def load_model(data_dir, name = \"checkpoint.pth\"):\n",
        "  print(\"Model checkpoint found and loaded\")\n",
        "  model = create_model()\n",
        "  state_dict = torch.load(data_dir + '/model_weights/checkpoint.pth')\n",
        "  model.load_state_dict(state_dict)\n",
        "  return model\n",
        "  \n",
        "  "
      ],
      "execution_count": 0,
      "outputs": []
    },
    {
      "cell_type": "code",
      "metadata": {
        "id": "BI44DRWMfXf7",
        "colab_type": "code",
        "colab": {}
      },
      "source": [
        "def save_model(model, data_dir, name = \"checkpoint.pth\"):\n",
        "  torch.save(model.state_dict(), data_dir+\"/model_weights/checkpoint.pth\")"
      ],
      "execution_count": 0,
      "outputs": []
    },
    {
      "cell_type": "code",
      "metadata": {
        "id": "mv324iOyUph8",
        "colab_type": "code",
        "colab": {}
      },
      "source": [
        "\n",
        "\n",
        "def train_model(model, device, epochs, trainloader, testloader):\n",
        "  #Try and catch block to return the current model state when the cancel button is clicked in order to allow for early stopping.\n",
        "  try:\n",
        "    print(\"Currently using \", device)\n",
        "    #loss function to be used\n",
        "    criterion = nn.NLLLoss()\n",
        "    \n",
        "    #Adam optimizer\n",
        "    optimizer = optim.Adam(model.fc.parameters(), lr=0.003)\n",
        "    \n",
        "    #Moving the model to either cpu or gpu if available\n",
        "    model.to(device);\n",
        "    \n",
        "    \n",
        "    steps = 0\n",
        "    running_loss = 0\n",
        "    print_every = 5\n",
        "    for epoch in range(epochs):\n",
        "        for inputs, labels in trainloader:\n",
        "            steps += 1\n",
        "            # Move input and label tensors to the default device\n",
        "            inputs, labels = inputs.to(device), labels.to(device)\n",
        "\n",
        "            optimizer.zero_grad()\n",
        "\n",
        "            logps = model.forward(inputs)\n",
        "#             print(\"Aqui\")\n",
        "            loss = criterion(logps, labels)\n",
        "  #           loss.requires_grad_()\n",
        "            loss.backward()\n",
        "  #           print(\"Here\")\n",
        "            optimizer.step()\n",
        "\n",
        "            running_loss += loss.item()\n",
        "\n",
        "            if ((steps % print_every) == 0):\n",
        "              cum_perc = 0\n",
        "              for imgs, labels in testloader:\n",
        "                  model.eval()\n",
        "                  imgs, labels = imgs.to(device), labels.to(device)\n",
        "                  with torch.no_grad():\n",
        "                    ps =  torch.exp(model.forward(imgs))\n",
        "                    top_p, top_class = ps.topk(1, dim = 1)\n",
        "                    prob = top_class == labels.view(*top_class.shape)\n",
        "                    prob = prob.float()\n",
        "                    cum_perc += prob.mean().float()\n",
        "              model.train()\n",
        "              print(\"\"\"EPOCH {0}\n",
        "  THE RUNNING LOSS IS {1}\n",
        "  THE TEST PERCENTAGE IS {2}\"\"\".format(epoch+1, running_loss /  print_every, cum_perc / len(testloader)))\n",
        "              running_loss = 0\n",
        "  except KeyboardInterrupt:\n",
        "    pass\n",
        "  return model"
      ],
      "execution_count": 0,
      "outputs": []
    },
    {
      "cell_type": "code",
      "metadata": {
        "id": "dxN0Oi2Pl0cx",
        "colab_type": "code",
        "colab": {}
      },
      "source": [
        "#The method is for displaying an image from its tensors.\n",
        "def imshow(inp, title=None):\n",
        "    \"\"\"Imshow for Tensor.\"\"\"\n",
        "    inp = inp.numpy().transpose((1, 2, 0))\n",
        "    mean = np.array([0.485, 0.456, 0.406])\n",
        "    std = np.array([0.229, 0.224, 0.225])\n",
        "    inp = std * inp + mean\n",
        "    inp = np.clip(inp, 0, 1)\n",
        "    plt.imshow(inp)\n",
        "    if title is not None:\n",
        "        plt.title(title)\n",
        "    plt.pause(0.001)  # pause a bit so that plots are updated"
      ],
      "execution_count": 0,
      "outputs": []
    },
    {
      "cell_type": "code",
      "metadata": {
        "id": "qgR0Qgebl1un",
        "colab_type": "code",
        "colab": {}
      },
      "source": [
        "#The method is for running inference of the model on images to display the images and predictions\n",
        "def test_predict(testloader, model):\n",
        "  inputs, classes = next(iter(testloader))\n",
        "  inputs = inputs[15:19]\n",
        "  classes = classes[15:19]\n",
        "  model.to(\"cpu\")\n",
        "  # # Make a grid from batch\n",
        "  out = torchvision.utils.make_grid(inputs)\n",
        "  model.eval()\n",
        "  with torch.no_grad():\n",
        "       ps =  torch.exp(model.forward(inputs))\n",
        "       top_p, top_class = ps.topk(1, dim = 1)\n",
        "\n",
        "  top_class =[class_names[x] for x in top_class]\n",
        "  print('The predictions are ', top_class)\n",
        "  imshow(out, title=[class_names[x] for x in classes])\n",
        "  "
      ],
      "execution_count": 0,
      "outputs": []
    },
    {
      "cell_type": "code",
      "metadata": {
        "id": "rVZBL-1DUqRC",
        "colab_type": "code",
        "colab": {}
      },
      "source": [
        "#The method is for converting the model from pytorch to a more global onnx format\n",
        "def generate_onnx(model, x): \n",
        "  batch_size = 1    # just a random number\n",
        "\n",
        "  # Export the model\n",
        "  model.eval()\n",
        "  torch_out = torch.onnx._export(model,             # model being run\n",
        "                                 x,                       # model input (or a tuple for multiple inputs)\n",
        "                                 data_dir +\"/model_weights/nairanet.onnx\",       # where to save the model (can be a file or file-like object)\n",
        "                                 export_params=True)      # store the trained parameter weights inside the model file\n",
        "  return torch_out"
      ],
      "execution_count": 0,
      "outputs": []
    },
    {
      "cell_type": "code",
      "metadata": {
        "id": "VeWjnRROhQ0Q",
        "colab_type": "code",
        "colab": {}
      },
      "source": [
        "#The method is for converting the model to a caffe2 format which is more suitable for mobile devices\n",
        "def convert_to_mobile_friendly_format(model, torch_out, x):\n",
        "  # Load the ONNX GraphProto object. Graph is a standard Python protobuf object\n",
        "  model = onnx.load(data_dir +\"/model_weights/nairanet.onnx\")\n",
        "  \n",
        "  # prepare the caffe2 backend for executing the model this converts the ONNX graph into a\n",
        "  # Caffe2 NetDef that can execute it. Other ONNX backends, like one for CNTK will be\n",
        "  # availiable soon.\n",
        "  prepared_backend = caffe2.python.onnx.backend.prepare(model)\n",
        "\n",
        "  # run the model in Caffe2\n",
        "\n",
        "  # Construct a map from input names to Tensor data.\n",
        "  # The graph itself contains inputs for all weight parameters, followed by the input image.\n",
        "  # Since the weights are already embedded, we just need to pass the input image.\n",
        "  # last input the grap\n",
        "  W = {model.graph.input[0].name: x.data.numpy()}\n",
        "\n",
        "  # Run the Caffe2 net:\n",
        "  c2_out = prepared_backend.run(W)[0]\n",
        "\n",
        "  # Verify the numerical correctness upto 3 decimal places\n",
        "  np.testing.assert_almost_equal(torch_out.data.cpu().numpy(), c2_out, decimal=3)\n",
        "  # Export to mobile\n",
        "  from caffe2.python.onnx.backend import Caffe2Backend as c2\n",
        "\n",
        "  init_net, predict_net = c2.onnx_graph_to_caffe2_net(model)\n",
        "  with open(data_dir + \"/model_weights/naira_init_net.pb\", \"wb\") as f:\n",
        "      f.write(init_net.SerializeToString())\n",
        "  with open(data_dir + \"/model_weights/naira_predict_net.pb\", \"wb\") as f:\n",
        "      f.write(predict_net.SerializeToString())"
      ],
      "execution_count": 0,
      "outputs": []
    },
    {
      "cell_type": "code",
      "metadata": {
        "id": "ZTRPhSgnhmBP",
        "colab_type": "code",
        "colab": {}
      },
      "source": [
        ""
      ],
      "execution_count": 0,
      "outputs": []
    },
    {
      "cell_type": "code",
      "metadata": {
        "id": "I9bfY6eLh0lv",
        "colab_type": "code",
        "colab": {}
      },
      "source": [
        "#Method is to verify if the coffe2 format is operational\n",
        "def verify_coffe2_working():\n",
        "  # Verify it runs with predictor\n",
        "  with open(data_dir + \"/model_weights/naira_init_net.pb\", \"rb\") as f:\n",
        "      init_net = f.read()\n",
        "  with open(data_dir + \"/model_weights/naira_predict_net.pb\", \"rb\") as f:\n",
        "      predict_net = f.read()\n",
        "  from caffe2.python import workspace\n",
        "  p = workspace.Predictor(init_net, predict_net)\n",
        "  # The following code should run:\n",
        "  img = np.random.rand(1, 3, 224, 224).astype(np.float32)\n",
        "  result, = p.run([img])\n",
        "  print(np.exp(result)) # our model produces prediction for each of ImageNet 1000 classes"
      ],
      "execution_count": 0,
      "outputs": []
    }
  ]
}