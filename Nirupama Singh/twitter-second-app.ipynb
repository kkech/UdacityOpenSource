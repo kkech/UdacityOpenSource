{
 "cells": [
  {
   "cell_type": "code",
   "execution_count": 1,
   "metadata": {
    "_cell_guid": "b1076dfc-b9ad-4769-8c92-a6c4dae69d19",
    "_uuid": "8f2839f25d086af736a60e9eeb907d3b93b6e0e5"
   },
   "outputs": [
    {
     "name": "stdout",
     "output_type": "stream",
     "text": [
      "/kaggle/input/twitter-second-app/__notebook__.ipynb\n",
      "/kaggle/input/twitter-second-app/__output__.json\n",
      "/kaggle/input/twitter-second-app/traindf.csv\n",
      "/kaggle/input/twitter-second-app/valdf.csv\n",
      "/kaggle/input/twitter-second-app/custom.css\n",
      "/kaggle/input/twitter-second-app/__results__.html\n",
      "/kaggle/input/twitter-second-app/__results___files/__results___3_0.png\n",
      "/kaggle/input/nlp-hack/sample-submission.csv\n",
      "/kaggle/input/nlp-hack/train.csv\n",
      "/kaggle/input/nlp-hack/test.csv\n"
     ]
    }
   ],
   "source": [
    "# This Python 3 environment comes with many helpful analytics libraries installed\n",
    "# It is defined by the kaggle/python docker image: https://github.com/kaggle/docker-python\n",
    "# For example, here's several helpful packages to load in \n",
    "\n",
    "import numpy as np # linear algebra\n",
    "import pandas as pd # data processing, CSV file I/O (e.g. pd.read_csv)\n",
    "\n",
    "# Input data files are available in the \"../input/\" directory.\n",
    "# For example, running this (by clicking run or pressing Shift+Enter) will list all files under the input directory\n",
    "\n",
    "import os\n",
    "for dirname, _, filenames in os.walk('/kaggle/input'):\n",
    "    for filename in filenames:\n",
    "        print(os.path.join(dirname, filename))\n",
    "\n",
    "# Any results you write to the current directory are saved as output."
   ]
  },
  {
   "cell_type": "code",
   "execution_count": 2,
   "metadata": {
    "_cell_guid": "79c7e3d0-c299-4dcb-8224-4455121ee9b0",
    "_uuid": "d629ff2d2480ee46fbb7e2d37f6b5fab8052498a"
   },
   "outputs": [],
   "source": [
    "%matplotlib inline\n",
    "import os, sys\n",
    "import re\n",
    "import string\n",
    "import pathlib\n",
    "import random\n",
    "from collections import Counter, OrderedDict\n",
    "import numpy as np\n",
    "import pandas as pd\n",
    "import matplotlib.pyplot as plt\n",
    "import seaborn as sns\n",
    "import spacy\n",
    "from tqdm import tqdm, tqdm_notebook, tnrange\n",
    "tqdm.pandas(desc='Progress')\n",
    "\n",
    "import torch\n",
    "import torch.nn as nn\n",
    "import torch.optim as optim\n",
    "from torch.autograd import Variable\n",
    "import torch.nn.functional as F\n",
    "from torch.nn.utils.rnn import pack_padded_sequence, pad_packed_sequence\n",
    "\n",
    "import torchtext\n",
    "from torchtext import data\n",
    "from torchtext import vocab\n",
    "\n",
    "from sklearn.model_selection import StratifiedShuffleSplit, train_test_split\n",
    "from sklearn.metrics import accuracy_score\n",
    "\n",
    "from IPython.core.interactiveshell import InteractiveShell\n",
    "InteractiveShell.ast_node_interactivity='all'\n",
    "\n",
    "import warnings\n",
    "warnings.filterwarnings('ignore')\n",
    "\n",
    "device = torch.device(\"cuda:0\" if torch.cuda.is_available() else \"cpu\")"
   ]
  },
  {
   "cell_type": "code",
   "execution_count": 3,
   "metadata": {},
   "outputs": [
    {
     "data": {
      "text/plain": [
       "(1280000, 5)"
      ]
     },
     "execution_count": 3,
     "metadata": {},
     "output_type": "execute_result"
    },
    {
     "data": {
      "text/html": [
       "<div>\n",
       "<style scoped>\n",
       "    .dataframe tbody tr th:only-of-type {\n",
       "        vertical-align: middle;\n",
       "    }\n",
       "\n",
       "    .dataframe tbody tr th {\n",
       "        vertical-align: top;\n",
       "    }\n",
       "\n",
       "    .dataframe thead th {\n",
       "        text-align: right;\n",
       "    }\n",
       "</style>\n",
       "<table border=\"1\" class=\"dataframe\">\n",
       "  <thead>\n",
       "    <tr style=\"text-align: right;\">\n",
       "      <th></th>\n",
       "      <th>Id</th>\n",
       "      <th>date</th>\n",
       "      <th>user</th>\n",
       "      <th>text</th>\n",
       "      <th>target</th>\n",
       "    </tr>\n",
       "  </thead>\n",
       "  <tbody>\n",
       "    <tr>\n",
       "      <th>0</th>\n",
       "      <td>0</td>\n",
       "      <td>Fri Jun 05 22:04:23 PDT 2009</td>\n",
       "      <td>JGoldsborough</td>\n",
       "      <td>@jbtaylor WIth ya. &amp;quot;I'd like a Palm Pre, ...</td>\n",
       "      <td>4</td>\n",
       "    </tr>\n",
       "    <tr>\n",
       "      <th>1</th>\n",
       "      <td>1</td>\n",
       "      <td>Sat Jun 06 03:12:21 PDT 2009</td>\n",
       "      <td>Psioui</td>\n",
       "      <td>felt the earthquake this afternoon, it seems t...</td>\n",
       "      <td>4</td>\n",
       "    </tr>\n",
       "    <tr>\n",
       "      <th>2</th>\n",
       "      <td>2</td>\n",
       "      <td>Sat May 30 19:02:49 PDT 2009</td>\n",
       "      <td>adriville</td>\n",
       "      <td>Ruffles on shirts are like so in, me Likey</td>\n",
       "      <td>4</td>\n",
       "    </tr>\n",
       "    <tr>\n",
       "      <th>3</th>\n",
       "      <td>3</td>\n",
       "      <td>Thu Jun 25 05:59:18 PDT 2009</td>\n",
       "      <td>Blondie128</td>\n",
       "      <td>Pretty bad night into a crappy morning....FML!...</td>\n",
       "      <td>0</td>\n",
       "    </tr>\n",
       "    <tr>\n",
       "      <th>4</th>\n",
       "      <td>4</td>\n",
       "      <td>Sat May 30 11:16:35 PDT 2009</td>\n",
       "      <td>khrabrov</td>\n",
       "      <td>@dcbriccetti yeah, what a clear view!</td>\n",
       "      <td>4</td>\n",
       "    </tr>\n",
       "  </tbody>\n",
       "</table>\n",
       "</div>"
      ],
      "text/plain": [
       "   Id                          date           user  \\\n",
       "0   0  Fri Jun 05 22:04:23 PDT 2009  JGoldsborough   \n",
       "1   1  Sat Jun 06 03:12:21 PDT 2009         Psioui   \n",
       "2   2  Sat May 30 19:02:49 PDT 2009      adriville   \n",
       "3   3  Thu Jun 25 05:59:18 PDT 2009     Blondie128   \n",
       "4   4  Sat May 30 11:16:35 PDT 2009       khrabrov   \n",
       "\n",
       "                                                text  target  \n",
       "0  @jbtaylor WIth ya. &quot;I'd like a Palm Pre, ...       4  \n",
       "1  felt the earthquake this afternoon, it seems t...       4  \n",
       "2        Ruffles on shirts are like so in, me Likey        4  \n",
       "3  Pretty bad night into a crappy morning....FML!...       0  \n",
       "4             @dcbriccetti yeah, what a clear view!        4  "
      ]
     },
     "execution_count": 3,
     "metadata": {},
     "output_type": "execute_result"
    }
   ],
   "source": [
    "df=pd.read_csv('../input/nlp-hack/train.csv')\n",
    "df.shape\n",
    "df.head()"
   ]
  },
  {
   "cell_type": "code",
   "execution_count": 4,
   "metadata": {},
   "outputs": [
    {
     "data": {
      "image/png": "[encoded data removed]",
      "text/plain": [
       "<Figure size 576x360 with 1 Axes>"
      ]
     },
     "metadata": {
      "needs_background": "light"
     },
     "output_type": "display_data"
    }
   ],
   "source": [
    "fig = plt.figure(figsize=(8,5))\n",
    "ax = sns.barplot(x=df.target.unique(),y=df.target.value_counts());\n",
    "ax.set(xlabel='Labels');"
   ]
  },
  {
   "cell_type": "code",
   "execution_count": 5,
   "metadata": {},
   "outputs": [
    {
     "name": "stderr",
     "output_type": "stream",
     "text": [
      "Progress: 100%|██████████| 1280000/1280000 [00:02<00:00, 479121.53it/s]\n"
     ]
    }
   ],
   "source": [
    "df['text'] = df.text.progress_apply(lambda x: re.sub('\\n', ' ', x))"
   ]
  },
  {
   "cell_type": "code",
   "execution_count": 6,
   "metadata": {},
   "outputs": [],
   "source": [
    "def split_train_test(df, test_size=0.2):\n",
    "    train, val = train_test_split(df, test_size=test_size,random_state=42)\n",
    "    return train.reset_index(drop=True), val.reset_index(drop=True)"
   ]
  },
  {
   "cell_type": "code",
   "execution_count": 7,
   "metadata": {},
   "outputs": [],
   "source": [
    "traindf, valdf = split_train_test(df, test_size=0.2)"
   ]
  },
  {
   "cell_type": "code",
   "execution_count": 8,
   "metadata": {},
   "outputs": [
    {
     "data": {
      "text/plain": [
       "(1024000, 5)"
      ]
     },
     "execution_count": 8,
     "metadata": {},
     "output_type": "execute_result"
    },
    {
     "data": {
      "text/html": [
       "<div>\n",
       "<style scoped>\n",
       "    .dataframe tbody tr th:only-of-type {\n",
       "        vertical-align: middle;\n",
       "    }\n",
       "\n",
       "    .dataframe tbody tr th {\n",
       "        vertical-align: top;\n",
       "    }\n",
       "\n",
       "    .dataframe thead th {\n",
       "        text-align: right;\n",
       "    }\n",
       "</style>\n",
       "<table border=\"1\" class=\"dataframe\">\n",
       "  <thead>\n",
       "    <tr style=\"text-align: right;\">\n",
       "      <th></th>\n",
       "      <th>Id</th>\n",
       "      <th>date</th>\n",
       "      <th>user</th>\n",
       "      <th>text</th>\n",
       "      <th>target</th>\n",
       "    </tr>\n",
       "  </thead>\n",
       "  <tbody>\n",
       "    <tr>\n",
       "      <th>0</th>\n",
       "      <td>263132</td>\n",
       "      <td>Fri May 29 09:37:27 PDT 2009</td>\n",
       "      <td>dawgs52</td>\n",
       "      <td>@laurenvdw ahh when i was there it was closed</td>\n",
       "      <td>0</td>\n",
       "    </tr>\n",
       "    <tr>\n",
       "      <th>1</th>\n",
       "      <td>615448</td>\n",
       "      <td>Sat Jun 06 21:51:09 PDT 2009</td>\n",
       "      <td>Imelbing</td>\n",
       "      <td>Having an awesome lunch w/ mom &amp;amp; bro - yum...</td>\n",
       "      <td>4</td>\n",
       "    </tr>\n",
       "    <tr>\n",
       "      <th>2</th>\n",
       "      <td>158240</td>\n",
       "      <td>Tue Jun 16 17:49:15 PDT 2009</td>\n",
       "      <td>cutthroatpixie</td>\n",
       "      <td>#IMISSCATH #IMISSCATH #IMISSCATH #IMISSCATH #...</td>\n",
       "      <td>0</td>\n",
       "    </tr>\n",
       "    <tr>\n",
       "      <th>3</th>\n",
       "      <td>1218246</td>\n",
       "      <td>Sun Apr 19 07:09:48 PDT 2009</td>\n",
       "      <td>Meroko</td>\n",
       "      <td>@reikifurbabies Good morning beautiful one!</td>\n",
       "      <td>4</td>\n",
       "    </tr>\n",
       "    <tr>\n",
       "      <th>4</th>\n",
       "      <td>414653</td>\n",
       "      <td>Mon Apr 20 23:26:02 PDT 2009</td>\n",
       "      <td>Mehita</td>\n",
       "      <td>cracked open the first chapter of something ol...</td>\n",
       "      <td>4</td>\n",
       "    </tr>\n",
       "  </tbody>\n",
       "</table>\n",
       "</div>"
      ],
      "text/plain": [
       "        Id                          date            user  \\\n",
       "0   263132  Fri May 29 09:37:27 PDT 2009         dawgs52   \n",
       "1   615448  Sat Jun 06 21:51:09 PDT 2009        Imelbing   \n",
       "2   158240  Tue Jun 16 17:49:15 PDT 2009  cutthroatpixie   \n",
       "3  1218246  Sun Apr 19 07:09:48 PDT 2009          Meroko   \n",
       "4   414653  Mon Apr 20 23:26:02 PDT 2009          Mehita   \n",
       "\n",
       "                                                text  target  \n",
       "0     @laurenvdw ahh when i was there it was closed        0  \n",
       "1  Having an awesome lunch w/ mom &amp; bro - yum...       4  \n",
       "2   #IMISSCATH #IMISSCATH #IMISSCATH #IMISSCATH #...       0  \n",
       "3       @reikifurbabies Good morning beautiful one!        4  \n",
       "4  cracked open the first chapter of something ol...       4  "
      ]
     },
     "execution_count": 8,
     "metadata": {},
     "output_type": "execute_result"
    },
    {
     "data": {
      "text/plain": [
       "isPlayer Has Died! Sorry                                                                                                                 134\n",
       "good morning                                                                                                                              73\n",
       "Headache                                                                                                                                  73\n",
       "headache                                                                                                                                  69\n",
       "Good morning                                                                                                                              62\n",
       "Goodnight                                                                                                                                 59\n",
       " cant afford to see Angels and Demons, so i watched it for free: http://tr.im/lvBu                                                        58\n",
       "Jogging, isnt REALLY that cool, especially if you've got a fever                                                                          57\n",
       "Not to worry, noone got that one. Next question starts in 1 minute, get your thinking caps on                                             55\n",
       "At work                                                                                                                                   51\n",
       "my tummy hurts                                                                                                                            50\n",
       "I am so so so so so bored of studying                                                                                                     50\n",
       "at work                                                                                                                                   49\n",
       "goodnight                                                                                                                                 49\n",
       "My tummy hurts                                                                                                                            45\n",
       "Good Morning                                                                                                                              44\n",
       "homework                                                                                                                                  41\n",
       "Off to work                                                                                                                               37\n",
       "my head hurts                                                                                                                             37\n",
       "Need to send emails to 100,000  contacts? Check out EmailUnlimited on http://www.4officeautomation.com                                    35\n",
       "I have a headache                                                                                                                         33\n",
       "Back to work                                                                                                                              32\n",
       "just woke up                                                                                                                              30\n",
       "I miss you                                                                                                                                29\n",
       "So tired                                                                                                                                  29\n",
       "nothing                                                                                                                                   28\n",
       "Good morning!                                                                                                                             27\n",
       "back to work                                                                                                                              27\n",
       "no one is signing up to come talk?  the lighting on this webcam sucks anyway...http://bit.ly/CZHD8                                        26\n",
       "My head hurts                                                                                                                             26\n",
       "                                                                                                                                        ... \n",
       "@ddlovato I can't wait to see u in August                                                                                                  1\n",
       "@kidnapdavey youre missing the frantic                                                                                                     1\n",
       "can't wait to show my mom what i got her for mothers day shes gonna love it!!!!!  (finished twilight yesterday on new moon again!!)        1\n",
       "Storms + dogs + baby = no sleep!                                                                                                           1\n",
       "@kinspire 43% of all statistics are worthless. http://kinspire.us lol and 95% are  made up on the spot! lol                                1\n",
       "BORING MONDAY CAR BROKE DOWN @ HOME FROM WORK                                                                                              1\n",
       "@Fashiontweet ooooooo good luck I gave up half way though                                                                                  1\n",
       "reading tweets about #PeopleBrowsr at the #140conf                                                                                         1\n",
       "@stephie70 was just told they found something in her stomach. She is having surgery to get it out now                                      1\n",
       "Garden is all finished, time for a glass of wine I think                                                                                   1\n",
       "@caitd7 awww cait...why so sad?  i agree revision sucks..got french 2mos :/                                                                1\n",
       "@Vegas_Skyy Must have been the chirping birds distracting me.                                                                              1\n",
       "working on the hottest day so far  had to stay inside all day                                                                              1\n",
       "Hates salt lake city at this point. Misses DFW and people in it.                                                                           1\n",
       "hey my peeps. just wanted to check in. gonna go hme &amp; eat my cheese stix, then wash some clothes. be back later. much love peeps       1\n",
       "@haejinee i'm so jealous ur going to see conan! let me know if he really is that pale.  love him!                                          1\n",
       "learn accounting principles                                                                                                                1\n",
       "My mum is asking me to take a bath now. I don't want to. pleasepleaseplease                                                                1\n",
       "@Courageous_one true...i forget sometimes &amp; then songs like this bring me back to reality                                              1\n",
       "I'm up! unfortunately...study time                                                                                                         1\n",
       "eating cherries!!!  mmm so good :]                                                                                                         1\n",
       "@starleigh2000 oh boy do i miss having her around                                                                                          1\n",
       "Happppy berdayyyyy!!  don't b mad!! http://twitpic.com/5oi3q                                                                               1\n",
       "@miraclelaurie congratulations on dollhouse season 2  i can't wait                                                                         1\n",
       "@MATT_369 Thanks for the follow shout out!!                                                                                                1\n",
       "@theob I am embracing and expanding! ?????????!                                                                                            1\n",
       "@FokusedOne kall me tomorrow or text.  my stupid twitter app isnt working  probably kant tweet at work. k?                                 1\n",
       "@PerezHilton Sleep is a good thing almost better than something sometimes                                                                  1\n",
       "Pool again today. Then burgers later!                                                                                                      1\n",
       "FITNESS DIARY, DAY 7: Shrunk my rice to 1/3 cup. Still 60-min workout... Yet I don't think it's making any difference.                     1\n",
       "Name: text, Length: 1014288, dtype: int64"
      ]
     },
     "execution_count": 8,
     "metadata": {},
     "output_type": "execute_result"
    }
   ],
   "source": [
    "traindf.shape\n",
    "traindf.head()\n",
    "traindf.text.value_counts()"
   ]
  },
  {
   "cell_type": "code",
   "execution_count": 9,
   "metadata": {},
   "outputs": [
    {
     "data": {
      "text/plain": [
       "(256000, 5)"
      ]
     },
     "execution_count": 9,
     "metadata": {},
     "output_type": "execute_result"
    },
    {
     "data": {
      "text/html": [
       "<div>\n",
       "<style scoped>\n",
       "    .dataframe tbody tr th:only-of-type {\n",
       "        vertical-align: middle;\n",
       "    }\n",
       "\n",
       "    .dataframe tbody tr th {\n",
       "        vertical-align: top;\n",
       "    }\n",
       "\n",
       "    .dataframe thead th {\n",
       "        text-align: right;\n",
       "    }\n",
       "</style>\n",
       "<table border=\"1\" class=\"dataframe\">\n",
       "  <thead>\n",
       "    <tr style=\"text-align: right;\">\n",
       "      <th></th>\n",
       "      <th>Id</th>\n",
       "      <th>date</th>\n",
       "      <th>user</th>\n",
       "      <th>text</th>\n",
       "      <th>target</th>\n",
       "    </tr>\n",
       "  </thead>\n",
       "  <tbody>\n",
       "    <tr>\n",
       "      <th>0</th>\n",
       "      <td>598756</td>\n",
       "      <td>Tue Jun 02 21:44:56 PDT 2009</td>\n",
       "      <td>danrom81</td>\n",
       "      <td>Heat  Brought to you by the letter F:  Summer ...</td>\n",
       "      <td>4</td>\n",
       "    </tr>\n",
       "    <tr>\n",
       "      <th>1</th>\n",
       "      <td>1103804</td>\n",
       "      <td>Wed Jun 17 08:31:33 PDT 2009</td>\n",
       "      <td>debbeaton</td>\n",
       "      <td>missing the days I felt you inside of me.</td>\n",
       "      <td>0</td>\n",
       "    </tr>\n",
       "    <tr>\n",
       "      <th>2</th>\n",
       "      <td>1192002</td>\n",
       "      <td>Mon May 18 07:19:52 PDT 2009</td>\n",
       "      <td>Nick7782</td>\n",
       "      <td>@rebeccao372 oh dear  xx she not well?</td>\n",
       "      <td>0</td>\n",
       "    </tr>\n",
       "    <tr>\n",
       "      <th>3</th>\n",
       "      <td>71502</td>\n",
       "      <td>Sat May 30 00:10:49 PDT 2009</td>\n",
       "      <td>MissAddict</td>\n",
       "      <td>@ChalkBored Thank you  I love bright colours. ...</td>\n",
       "      <td>4</td>\n",
       "    </tr>\n",
       "    <tr>\n",
       "      <th>4</th>\n",
       "      <td>1069136</td>\n",
       "      <td>Fri Jun 05 23:27:04 PDT 2009</td>\n",
       "      <td>billygee12</td>\n",
       "      <td>'Thinking about eating another doughnut.</td>\n",
       "      <td>4</td>\n",
       "    </tr>\n",
       "  </tbody>\n",
       "</table>\n",
       "</div>"
      ],
      "text/plain": [
       "        Id                          date        user  \\\n",
       "0   598756  Tue Jun 02 21:44:56 PDT 2009    danrom81   \n",
       "1  1103804  Wed Jun 17 08:31:33 PDT 2009   debbeaton   \n",
       "2  1192002  Mon May 18 07:19:52 PDT 2009    Nick7782   \n",
       "3    71502  Sat May 30 00:10:49 PDT 2009  MissAddict   \n",
       "4  1069136  Fri Jun 05 23:27:04 PDT 2009  billygee12   \n",
       "\n",
       "                                                text  target  \n",
       "0  Heat  Brought to you by the letter F:  Summer ...       4  \n",
       "1        missing the days I felt you inside of me.         0  \n",
       "2             @rebeccao372 oh dear  xx she not well?       0  \n",
       "3  @ChalkBored Thank you  I love bright colours. ...       4  \n",
       "4         'Thinking about eating another doughnut.         4  "
      ]
     },
     "execution_count": 9,
     "metadata": {},
     "output_type": "execute_result"
    },
    {
     "data": {
      "text/plain": [
       "isPlayer Has Died! Sorry                                                                                                                 33\n",
       "headache                                                                                                                                 22\n",
       "Good morning                                                                                                                             20\n",
       "good morning                                                                                                                             18\n",
       "Need to send emails to 100,000  contacts? Check out EmailUnlimited on http://www.4officeautomation.com                                   18\n",
       "Not to worry, noone got that one. Next question starts in 1 minute, get your thinking caps on                                            18\n",
       "my tummy hurts                                                                                                                           16\n",
       " cant afford to see Angels and Demons, so i watched it for free: http://tr.im/lvBu                                                       13\n",
       "My tummy hurts                                                                                                                           12\n",
       "Headache                                                                                                                                 10\n",
       "at work                                                                                                                                  10\n",
       "Goodnight                                                                                                                                 9\n",
       "Jogging, isnt REALLY that cool, especially if you've got a fever                                                                          9\n",
       "Off to work                                                                                                                               9\n",
       "i cant sleep                                                                                                                              8\n",
       "Watching Kobe Doin' Work inside my bed  http://bit.ly/JJN3g                                                                               8\n",
       "Happy Mothers Day                                                                                                                         8\n",
       "getting ready for work                                                                                                                    8\n",
       "i miss you                                                                                                                                8\n",
       "I don't feel good                                                                                                                         8\n",
       "Good morning world                                                                                                                        8\n",
       "homework                                                                                                                                  7\n",
       "Back to work                                                                                                                              7\n",
       "bed time                                                                                                                                  7\n",
       "Homework                                                                                                                                  7\n",
       "Good Morning                                                                                                                              7\n",
       "As a reward, you may download a free copy of EmailUnlimited on http://www.4officeautomation.com                                           7\n",
       "Good morning everyone                                                                                                                     7\n",
       "Getting ready for work                                                                                                                    7\n",
       "I am so so so so so bored of studying                                                                                                     7\n",
       "                                                                                                                                         ..\n",
       "On my way to a poetry event in LA ...i get to meet Talam Acey  im so excited  -GRANTAGIOUS-                                               1\n",
       "aw awsome party lst nite hink drank too much x gt wrk in 20mins dini wanna go  feel ill lol                                               1\n",
       "Is just sitting here in the dark,eating a nuttybuddy ice cream cone.   Ice cream after midnight=      Still kinda bored thou.             1\n",
       "bilang yeah saling serang  http://plurk.com/p/y1cav                                                                                       1\n",
       "wants more than anything to be home                                                                                                       1\n",
       "@Chet_Cannon &quot;camp anawanna we hold you in our hearts!&quot;..Camp Anawanna lives on                                                 1\n",
       "@tacotourusa Aw yay that would be wonderfulll, I'm only free days tho  I work at 5 or so every night fri-sun.                             1\n",
       "&quot;A margarita a day makes work more like play&quot;                                                                                   1\n",
       "Layin in bed awake. Txtin my girl in vegas. Wishin I didn't have to work and I was w her                                                  1\n",
       "Nothing like drawing a character over and over again over a couple of days and looking at the evolution to where you really dig it        1\n",
       "Conquered two damn burgers, salad, soup, ice cream. Fuck, i got the munchies  Recapping the night..                                       1\n",
       "@HiveMindMovie and Miss Fizzy Duck loves Hive Mind too                                                                                    1\n",
       "@moradae you doing ok w/that? i thought id freak at 30 but it wasn't that bad! i was still young in the 30 crowd! LOL ill b 34 n NOV      1\n",
       "so bored!! there's no one to talk to!!                                                                                                    1\n",
       "Ughh!! I don't feel like going 2 work                                                                                                     1\n",
       "Tear in my eye  http://mypict.me/2bpF                                                                                                     1\n",
       "I just fell down the stairs and it hurt                                                                                                   1\n",
       "@Efusjonsales plus theres no autoship reqired to make $$ And its addictive and it will save milloins of lives  http://bit.ly/CHZLW        1\n",
       "@SammieSmee  Not good at all. How come it's been cancelled? x                                                                             1\n",
       "@mellowdi  Awesome attitude to have...you rock!  I'll definitely meet up with you when I'm in MD again...no sparring tho!  LOL!           1\n",
       "@lykanthrope It was nice knowing you, man                                                                                                 1\n",
       "@brandonacox You're such a dork LOL Glad she's okay. I HATE when that happens                                                             1\n",
       "@freedomfry *giggles*  I couldn't NOT do it.                                                                                              1\n",
       "@meredi Oh no! And it was such a yummy salad, too! Dinner instead?                                                                        1\n",
       "Site load rising again. Increased my capacity but it's going up still                                                                     1\n",
       "@Krombein whatever. You just don't get it.                                                                                                1\n",
       "A tv attacked me!!! And now I have a bruise  sad day                                                                                      1\n",
       "@lophatphun Get 100 followers a day using www.tweeteradder.com Once you add everyone you are on the train or pay vip                      1\n",
       "@josesosa Shit man, they closed your birthday thread                                                                                      1\n",
       "Oh ny gawsh, I'm a loser  fell asleep again.                                                                                              1\n",
       "Name: text, Length: 254807, dtype: int64"
      ]
     },
     "execution_count": 9,
     "metadata": {},
     "output_type": "execute_result"
    }
   ],
   "source": [
    "valdf.shape\n",
    "valdf.head()\n",
    "valdf.text.value_counts()"
   ]
  },
  {
   "cell_type": "code",
   "execution_count": 10,
   "metadata": {},
   "outputs": [],
   "source": [
    "traindf.to_csv('traindf.csv', index=False)#\n",
    "valdf.to_csv('valdf.csv', index=False)"
   ]
  },
  {
   "cell_type": "code",
   "execution_count": 11,
   "metadata": {},
   "outputs": [],
   "source": [
    "\n",
    "nlp = spacy.load('en',disable=['parser', 'tagger', 'ner'])\n",
    "def tokenizer(s): return [w.text.lower() for w in nlp(tweet_clean(s))]"
   ]
  },
  {
   "cell_type": "code",
   "execution_count": 12,
   "metadata": {},
   "outputs": [],
   "source": [
    "def tweet_clean(text):\n",
    "    text = re.sub(r'[^A-Za-z0-9]+', ' ', text) # remove non alphanumeric character\n",
    "    text = re.sub(r'https?:/\\/\\S+', ' ', text) # remove links\n",
    "    return text.strip()"
   ]
  },
  {
   "cell_type": "code",
   "execution_count": 13,
   "metadata": {},
   "outputs": [],
   "source": [
    "txt_field = data.Field(sequential=True, tokenize=tokenizer, include_lengths=True, use_vocab=True)\n",
    "label_field = data.Field(sequential=False, use_vocab=False, pad_token=None, unk_token=None)\n",
    "\n",
    "train_val_fields = [\n",
    "    ('Id', None),\n",
    "    ('target', label_field),\n",
    "    ('user', None),\n",
    "    ('text', txt_field)\n",
    "]"
   ]
  },
  {
   "cell_type": "code",
   "execution_count": 14,
   "metadata": {},
   "outputs": [
    {
     "ename": "FileNotFoundError",
     "evalue": "File b'/kaggle/input/Twitter-second-app/traindf.csv' does not exist",
     "output_type": "error",
     "traceback": [
      "\u001b[0;31m---------------------------------------------------------------------------\u001b[0m",
      "\u001b[0;31mFileNotFoundError\u001b[0m                         Traceback (most recent call last)",
      "\u001b[0;32m<ipython-input-14-0c52cd1f6f6c>\u001b[0m in \u001b[0;36m<module>\u001b[0;34m\u001b[0m\n\u001b[0;32m----> 1\u001b[0;31m \u001b[0mdf1\u001b[0m\u001b[0;34m=\u001b[0m\u001b[0mpd\u001b[0m\u001b[0;34m.\u001b[0m\u001b[0mread_csv\u001b[0m\u001b[0;34m(\u001b[0m\u001b[0;34m'/kaggle/input/Twitter-second-app/traindf.csv'\u001b[0m\u001b[0;34m)\u001b[0m\u001b[0;34m\u001b[0m\u001b[0m\n\u001b[0m\u001b[1;32m      2\u001b[0m \u001b[0mlen\u001b[0m\u001b[0;34m(\u001b[0m\u001b[0mdf1\u001b[0m\u001b[0;34m)\u001b[0m\u001b[0;34m\u001b[0m\u001b[0m\n",
      "\u001b[0;32m/opt/conda/lib/python3.6/site-packages/pandas/io/parsers.py\u001b[0m in \u001b[0;36mparser_f\u001b[0;34m(filepath_or_buffer, sep, delimiter, header, names, index_col, usecols, squeeze, prefix, mangle_dupe_cols, dtype, engine, converters, true_values, false_values, skipinitialspace, skiprows, nrows, na_values, keep_default_na, na_filter, verbose, skip_blank_lines, parse_dates, infer_datetime_format, keep_date_col, date_parser, dayfirst, iterator, chunksize, compression, thousands, decimal, lineterminator, quotechar, quoting, escapechar, comment, encoding, dialect, tupleize_cols, error_bad_lines, warn_bad_lines, skipfooter, doublequote, delim_whitespace, low_memory, memory_map, float_precision)\u001b[0m\n\u001b[1;32m    676\u001b[0m                     skip_blank_lines=skip_blank_lines)\n\u001b[1;32m    677\u001b[0m \u001b[0;34m\u001b[0m\u001b[0m\n\u001b[0;32m--> 678\u001b[0;31m         \u001b[0;32mreturn\u001b[0m \u001b[0m_read\u001b[0m\u001b[0;34m(\u001b[0m\u001b[0mfilepath_or_buffer\u001b[0m\u001b[0;34m,\u001b[0m \u001b[0mkwds\u001b[0m\u001b[0;34m)\u001b[0m\u001b[0;34m\u001b[0m\u001b[0m\n\u001b[0m\u001b[1;32m    679\u001b[0m \u001b[0;34m\u001b[0m\u001b[0m\n\u001b[1;32m    680\u001b[0m     \u001b[0mparser_f\u001b[0m\u001b[0;34m.\u001b[0m\u001b[0m__name__\u001b[0m \u001b[0;34m=\u001b[0m \u001b[0mname\u001b[0m\u001b[0;34m\u001b[0m\u001b[0m\n",
      "\u001b[0;32m/opt/conda/lib/python3.6/site-packages/pandas/io/parsers.py\u001b[0m in \u001b[0;36m_read\u001b[0;34m(filepath_or_buffer, kwds)\u001b[0m\n\u001b[1;32m    438\u001b[0m \u001b[0;34m\u001b[0m\u001b[0m\n\u001b[1;32m    439\u001b[0m     \u001b[0;31m# Create the parser.\u001b[0m\u001b[0;34m\u001b[0m\u001b[0;34m\u001b[0m\u001b[0m\n\u001b[0;32m--> 440\u001b[0;31m     \u001b[0mparser\u001b[0m \u001b[0;34m=\u001b[0m \u001b[0mTextFileReader\u001b[0m\u001b[0;34m(\u001b[0m\u001b[0mfilepath_or_buffer\u001b[0m\u001b[0;34m,\u001b[0m \u001b[0;34m**\u001b[0m\u001b[0mkwds\u001b[0m\u001b[0;34m)\u001b[0m\u001b[0;34m\u001b[0m\u001b[0m\n\u001b[0m\u001b[1;32m    441\u001b[0m \u001b[0;34m\u001b[0m\u001b[0m\n\u001b[1;32m    442\u001b[0m     \u001b[0;32mif\u001b[0m \u001b[0mchunksize\u001b[0m \u001b[0;32mor\u001b[0m \u001b[0miterator\u001b[0m\u001b[0;34m:\u001b[0m\u001b[0;34m\u001b[0m\u001b[0m\n",
      "\u001b[0;32m/opt/conda/lib/python3.6/site-packages/pandas/io/parsers.py\u001b[0m in \u001b[0;36m__init__\u001b[0;34m(self, f, engine, **kwds)\u001b[0m\n\u001b[1;32m    785\u001b[0m             \u001b[0mself\u001b[0m\u001b[0;34m.\u001b[0m\u001b[0moptions\u001b[0m\u001b[0;34m[\u001b[0m\u001b[0;34m'has_index_names'\u001b[0m\u001b[0;34m]\u001b[0m \u001b[0;34m=\u001b[0m \u001b[0mkwds\u001b[0m\u001b[0;34m[\u001b[0m\u001b[0;34m'has_index_names'\u001b[0m\u001b[0;34m]\u001b[0m\u001b[0;34m\u001b[0m\u001b[0m\n\u001b[1;32m    786\u001b[0m \u001b[0;34m\u001b[0m\u001b[0m\n\u001b[0;32m--> 787\u001b[0;31m         \u001b[0mself\u001b[0m\u001b[0;34m.\u001b[0m\u001b[0m_make_engine\u001b[0m\u001b[0;34m(\u001b[0m\u001b[0mself\u001b[0m\u001b[0;34m.\u001b[0m\u001b[0mengine\u001b[0m\u001b[0;34m)\u001b[0m\u001b[0;34m\u001b[0m\u001b[0m\n\u001b[0m\u001b[1;32m    788\u001b[0m \u001b[0;34m\u001b[0m\u001b[0m\n\u001b[1;32m    789\u001b[0m     \u001b[0;32mdef\u001b[0m \u001b[0mclose\u001b[0m\u001b[0;34m(\u001b[0m\u001b[0mself\u001b[0m\u001b[0;34m)\u001b[0m\u001b[0;34m:\u001b[0m\u001b[0;34m\u001b[0m\u001b[0m\n",
      "\u001b[0;32m/opt/conda/lib/python3.6/site-packages/pandas/io/parsers.py\u001b[0m in \u001b[0;36m_make_engine\u001b[0;34m(self, engine)\u001b[0m\n\u001b[1;32m   1012\u001b[0m     \u001b[0;32mdef\u001b[0m \u001b[0m_make_engine\u001b[0m\u001b[0;34m(\u001b[0m\u001b[0mself\u001b[0m\u001b[0;34m,\u001b[0m \u001b[0mengine\u001b[0m\u001b[0;34m=\u001b[0m\u001b[0;34m'c'\u001b[0m\u001b[0;34m)\u001b[0m\u001b[0;34m:\u001b[0m\u001b[0;34m\u001b[0m\u001b[0m\n\u001b[1;32m   1013\u001b[0m         \u001b[0;32mif\u001b[0m \u001b[0mengine\u001b[0m \u001b[0;34m==\u001b[0m \u001b[0;34m'c'\u001b[0m\u001b[0;34m:\u001b[0m\u001b[0;34m\u001b[0m\u001b[0m\n\u001b[0;32m-> 1014\u001b[0;31m             \u001b[0mself\u001b[0m\u001b[0;34m.\u001b[0m\u001b[0m_engine\u001b[0m \u001b[0;34m=\u001b[0m \u001b[0mCParserWrapper\u001b[0m\u001b[0;34m(\u001b[0m\u001b[0mself\u001b[0m\u001b[0;34m.\u001b[0m\u001b[0mf\u001b[0m\u001b[0;34m,\u001b[0m \u001b[0;34m**\u001b[0m\u001b[0mself\u001b[0m\u001b[0;34m.\u001b[0m\u001b[0moptions\u001b[0m\u001b[0;34m)\u001b[0m\u001b[0;34m\u001b[0m\u001b[0m\n\u001b[0m\u001b[1;32m   1015\u001b[0m         \u001b[0;32melse\u001b[0m\u001b[0;34m:\u001b[0m\u001b[0;34m\u001b[0m\u001b[0m\n\u001b[1;32m   1016\u001b[0m             \u001b[0;32mif\u001b[0m \u001b[0mengine\u001b[0m \u001b[0;34m==\u001b[0m \u001b[0;34m'python'\u001b[0m\u001b[0;34m:\u001b[0m\u001b[0;34m\u001b[0m\u001b[0m\n",
      "\u001b[0;32m/opt/conda/lib/python3.6/site-packages/pandas/io/parsers.py\u001b[0m in \u001b[0;36m__init__\u001b[0;34m(self, src, **kwds)\u001b[0m\n\u001b[1;32m   1706\u001b[0m         \u001b[0mkwds\u001b[0m\u001b[0;34m[\u001b[0m\u001b[0;34m'usecols'\u001b[0m\u001b[0;34m]\u001b[0m \u001b[0;34m=\u001b[0m \u001b[0mself\u001b[0m\u001b[0;34m.\u001b[0m\u001b[0musecols\u001b[0m\u001b[0;34m\u001b[0m\u001b[0m\n\u001b[1;32m   1707\u001b[0m \u001b[0;34m\u001b[0m\u001b[0m\n\u001b[0;32m-> 1708\u001b[0;31m         \u001b[0mself\u001b[0m\u001b[0;34m.\u001b[0m\u001b[0m_reader\u001b[0m \u001b[0;34m=\u001b[0m \u001b[0mparsers\u001b[0m\u001b[0;34m.\u001b[0m\u001b[0mTextReader\u001b[0m\u001b[0;34m(\u001b[0m\u001b[0msrc\u001b[0m\u001b[0;34m,\u001b[0m \u001b[0;34m**\u001b[0m\u001b[0mkwds\u001b[0m\u001b[0;34m)\u001b[0m\u001b[0;34m\u001b[0m\u001b[0m\n\u001b[0m\u001b[1;32m   1709\u001b[0m \u001b[0;34m\u001b[0m\u001b[0m\n\u001b[1;32m   1710\u001b[0m         \u001b[0mpassed_names\u001b[0m \u001b[0;34m=\u001b[0m \u001b[0mself\u001b[0m\u001b[0;34m.\u001b[0m\u001b[0mnames\u001b[0m \u001b[0;32mis\u001b[0m \u001b[0;32mNone\u001b[0m\u001b[0;34m\u001b[0m\u001b[0m\n",
      "\u001b[0;32mpandas/_libs/parsers.pyx\u001b[0m in \u001b[0;36mpandas._libs.parsers.TextReader.__cinit__\u001b[0;34m()\u001b[0m\n",
      "\u001b[0;32mpandas/_libs/parsers.pyx\u001b[0m in \u001b[0;36mpandas._libs.parsers.TextReader._setup_parser_source\u001b[0;34m()\u001b[0m\n",
      "\u001b[0;31mFileNotFoundError\u001b[0m: File b'/kaggle/input/Twitter-second-app/traindf.csv' does not exist"
     ]
    }
   ],
   "source": [
    "df1=pd.read_csv('/kaggle/input/Twitter-second-app/traindf.csv')\n",
    "len(df1)"
   ]
  },
  {
   "cell_type": "code",
   "execution_count": 15,
   "metadata": {},
   "outputs": [],
   "source": [
    "#%%time\n",
    "trainds, valds = data.TabularDataset.splits(path='/kaggle/input/twitter-second-app', format='csv', train='traindf.csv',\n",
    "                                            validation='valdf.csv', fields=train_val_fields, skip_header=True)"
   ]
  },
  {
   "cell_type": "code",
   "execution_count": null,
   "metadata": {},
   "outputs": [],
   "source": []
  }
 ],
 "metadata": {
  "kernelspec": {
   "display_name": "Python 3",
   "language": "python",
   "name": "python3"
  },
  "language_info": {
   "codemirror_mode": {
    "name": "ipython",
    "version": 3
   },
   "file_extension": ".py",
   "mimetype": "text/x-python",
   "name": "python",
   "nbconvert_exporter": "python",
   "pygments_lexer": "ipython3",
   "version": "3.6.6"
  }
 },
 "nbformat": 4,
 "nbformat_minor": 1
}
