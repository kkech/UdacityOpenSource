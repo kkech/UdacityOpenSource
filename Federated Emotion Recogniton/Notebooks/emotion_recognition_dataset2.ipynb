{
 "cells": [
  {
   "cell_type": "code",
   "execution_count": 1,
   "metadata": {},
   "outputs": [],
   "source": [
    "import torch\n",
    "from torch import nn, optim\n",
    "import torch.nn.functional as F"
   ]
  },
  {
   "cell_type": "code",
   "execution_count": 2,
   "metadata": {},
   "outputs": [],
   "source": [
    "import re\n",
    "import numpy as np\n",
    "import time\n",
    "from sklearn import preprocessing\n",
    "from sklearn.model_selection import train_test_split\n",
    "import matplotlib.pyplot as plt\n",
    "%matplotlib inline\n",
    "\n",
    "import pandas as pd"
   ]
  },
  {
   "cell_type": "code",
   "execution_count": 3,
   "metadata": {},
   "outputs": [],
   "source": [
    "import pickle\n",
    "\n",
    "def covert_into_pickle(item, directory):\n",
    "    pickle.dump(item, open(directory,'wb'))\n",
    "\n",
    "def load_from_pickle(directory):\n",
    "    return pickle.load(open(directory,'rb'))"
   ]
  },
  {
   "cell_type": "code",
   "execution_count": 4,
   "metadata": {},
   "outputs": [
    {
     "data": {
      "text/plain": [
       "<matplotlib.axes._subplots.AxesSubplot at 0x7efcf0767a20>"
      ]
     },
     "execution_count": 4,
     "metadata": {},
     "output_type": "execute_result"
    },
    {
     "data": {
      "image/png": "[encoded data removed]",
      "text/plain": [
       "<matplotlib.figure.Figure at 0x7efd62d40ba8>"
      ]
     },
     "metadata": {
      "needs_background": "light"
     },
     "output_type": "display_data"
    }
   ],
   "source": [
    "#load data\n",
    "data = load_from_pickle(directory='./merged_training.pkl')\n",
    "data.emotions.value_counts().plot.bar()"
   ]
  },
  {
   "cell_type": "code",
   "execution_count": 5,
   "metadata": {},
   "outputs": [
    {
     "name": "stdout",
     "output_type": "stream",
     "text": [
      "(416809, 2)\n",
      "<class 'pandas.core.frame.DataFrame'>\n"
     ]
    }
   ],
   "source": [
    "print(data.shape)\n",
    "print(type(data))"
   ]
  },
  {
   "cell_type": "code",
   "execution_count": 6,
   "metadata": {},
   "outputs": [
    {
     "data": {
      "text/html": [
       "<div>\n",
       "<style scoped>\n",
       "    .dataframe tbody tr th:only-of-type {\n",
       "        vertical-align: middle;\n",
       "    }\n",
       "\n",
       "    .dataframe tbody tr th {\n",
       "        vertical-align: top;\n",
       "    }\n",
       "\n",
       "    .dataframe thead th {\n",
       "        text-align: right;\n",
       "    }\n",
       "</style>\n",
       "<table border=\"1\" class=\"dataframe\">\n",
       "  <thead>\n",
       "    <tr style=\"text-align: right;\">\n",
       "      <th></th>\n",
       "      <th>text</th>\n",
       "      <th>emotions</th>\n",
       "    </tr>\n",
       "  </thead>\n",
       "  <tbody>\n",
       "    <tr>\n",
       "      <th>27383</th>\n",
       "      <td>i feel awful about it too because it s my job ...</td>\n",
       "      <td>sadness</td>\n",
       "    </tr>\n",
       "    <tr>\n",
       "      <th>110083</th>\n",
       "      <td>im alone i feel awful</td>\n",
       "      <td>sadness</td>\n",
       "    </tr>\n",
       "    <tr>\n",
       "      <th>140764</th>\n",
       "      <td>ive probably mentioned this before but i reall...</td>\n",
       "      <td>joy</td>\n",
       "    </tr>\n",
       "    <tr>\n",
       "      <th>100071</th>\n",
       "      <td>i was feeling a little low few days back</td>\n",
       "      <td>sadness</td>\n",
       "    </tr>\n",
       "    <tr>\n",
       "      <th>2837</th>\n",
       "      <td>i beleive that i am much more sensitive to oth...</td>\n",
       "      <td>love</td>\n",
       "    </tr>\n",
       "  </tbody>\n",
       "</table>\n",
       "</div>"
      ],
      "text/plain": [
       "                                                     text emotions\n",
       "27383   i feel awful about it too because it s my job ...  sadness\n",
       "110083                              im alone i feel awful  sadness\n",
       "140764  ive probably mentioned this before but i reall...      joy\n",
       "100071           i was feeling a little low few days back  sadness\n",
       "2837    i beleive that i am much more sensitive to oth...     love"
      ]
     },
     "execution_count": 6,
     "metadata": {},
     "output_type": "execute_result"
    }
   ],
   "source": [
    "data.head()"
   ]
  },
  {
   "cell_type": "code",
   "execution_count": 7,
   "metadata": {},
   "outputs": [],
   "source": [
    "#copying data with number of tokens less than 70\n",
    "data[\"token size\"] = data[\"text\"].apply(lambda x: len(x.split(' ')))\n",
    "data = data.loc[data[\"token size\"] < 70].copy()\n",
    "\n",
    "#sampling data\n",
    "data = data.sample(n=50000)"
   ]
  },
  {
   "cell_type": "code",
   "execution_count": 8,
   "metadata": {},
   "outputs": [
    {
     "name": "stdout",
     "output_type": "stream",
     "text": [
      "[nltk_data] Downloading package punkt to /root/nltk_data...\n",
      "[nltk_data]   Unzipping tokenizers/punkt.zip.\n"
     ]
    },
    {
     "data": {
      "text/plain": [
       "True"
      ]
     },
     "execution_count": 8,
     "metadata": {},
     "output_type": "execute_result"
    }
   ],
   "source": [
    "from nltk import word_tokenize\n",
    "\n",
    "import nltk\n",
    "nltk.download('punkt')"
   ]
  },
  {
   "cell_type": "code",
   "execution_count": 9,
   "metadata": {},
   "outputs": [],
   "source": [
    "class ConstructDictionary():\n",
    "    def __init__(self, sentences):\n",
    "        self.sentences = sentences\n",
    "        self.word2index = {}\n",
    "        self.index2word = {}\n",
    "        self.vocab = set()\n",
    "        self.create_index()\n",
    "        \n",
    "    def create_index(self):\n",
    "        \n",
    "        #creating tokens from sentences and adding them to dictionary\n",
    "        for sentence in self.sentences:\n",
    "            self.vocab.update(word_tokenize(sentence))\n",
    "            \n",
    "        #sorting the dictionary\n",
    "        self.vocab = sorted(self.vocab)\n",
    "        \n",
    "        #adding padding token to 0 index\n",
    "        self.word2index['<pad>'] = 0\n",
    "           \n",
    "        #creating a word to index mapping\n",
    "        for index, word in enumerate(self.vocab):\n",
    "            self.word2index[word] = index + 1         #adding 1 becuase of padding element at 0 index\n",
    "            \n",
    "        #creating a index to word mapping\n",
    "        for index, word in self.word2index.items():\n",
    "            self.index2word[index] = word"
   ]
  },
  {
   "cell_type": "code",
   "execution_count": 10,
   "metadata": {},
   "outputs": [
    {
     "data": {
      "text/plain": [
       "['a',\n",
       " 'aa',\n",
       " 'aaa',\n",
       " 'aaaaand',\n",
       " 'aaaand',\n",
       " 'aaargh',\n",
       " 'aahed',\n",
       " 'aaron',\n",
       " 'aaryn',\n",
       " 'ab']"
      ]
     },
     "execution_count": 10,
     "metadata": {},
     "output_type": "execute_result"
    }
   ],
   "source": [
    "inputs = ConstructDictionary(data[\"text\"].values.tolist())\n",
    "inputs.vocab[:10]"
   ]
  },
  {
   "cell_type": "code",
   "execution_count": 11,
   "metadata": {},
   "outputs": [
    {
     "data": {
      "text/plain": [
       "27551"
      ]
     },
     "execution_count": 11,
     "metadata": {},
     "output_type": "execute_result"
    }
   ],
   "source": [
    "len(inputs.vocab)"
   ]
  },
  {
   "cell_type": "code",
   "execution_count": 12,
   "metadata": {},
   "outputs": [
    {
     "data": {
      "text/plain": [
       "[[11787, 26726, 4110, 14451, 14909, 8778, 8508, 23230, 1644],\n",
       " [11660,\n",
       "  743,\n",
       "  22557,\n",
       "  15671,\n",
       "  16697,\n",
       "  24332,\n",
       "  24605,\n",
       "  22399,\n",
       "  13077,\n",
       "  26480,\n",
       "  3412,\n",
       "  2012,\n",
       "  17296,\n",
       "  3262,\n",
       "  11660,\n",
       "  6877,\n",
       "  10879,\n",
       "  15545,\n",
       "  26786,\n",
       "  11660,\n",
       "  8778,\n",
       "  16758]]"
      ]
     },
     "execution_count": 12,
     "metadata": {},
     "output_type": "execute_result"
    }
   ],
   "source": [
    "input_tensor = [[inputs.word2index[word] for word in word_tokenize(sentence) ] for sentence in data['text'].values.tolist() ]\n",
    "input_tensor[:2]"
   ]
  },
  {
   "cell_type": "code",
   "execution_count": 13,
   "metadata": {},
   "outputs": [],
   "source": [
    "def max_length(tensor):\n",
    "    return max(len(t) for t in tensor)"
   ]
  },
  {
   "cell_type": "code",
   "execution_count": 14,
   "metadata": {},
   "outputs": [
    {
     "name": "stdout",
     "output_type": "stream",
     "text": [
      "68\n"
     ]
    }
   ],
   "source": [
    "max_length_input = max_length(input_tensor)\n",
    "print(max_length_input)"
   ]
  },
  {
   "cell_type": "code",
   "execution_count": 15,
   "metadata": {},
   "outputs": [],
   "source": [
    "def pad_sequences(x, max_len=max_length_input):\n",
    "    padded = np.zeros((max_len), dtype=np.int64)\n",
    "    padded[:len(x)] = x\n",
    "    return padded"
   ]
  },
  {
   "cell_type": "code",
   "execution_count": 16,
   "metadata": {},
   "outputs": [
    {
     "data": {
      "text/plain": [
       "[array([11787, 26726,  4110, 14451, 14909,  8778,  8508, 23230,  1644,\n",
       "            0,     0,     0,     0,     0,     0,     0,     0,     0,\n",
       "            0,     0,     0,     0,     0,     0,     0,     0,     0,\n",
       "            0,     0,     0,     0,     0,     0,     0,     0,     0,\n",
       "            0,     0,     0,     0,     0,     0,     0,     0,     0,\n",
       "            0,     0,     0,     0,     0,     0,     0,     0,     0,\n",
       "            0,     0,     0,     0,     0,     0,     0,     0,     0,\n",
       "            0,     0,     0,     0,     0]),\n",
       " array([11660,   743, 22557, 15671, 16697, 24332, 24605, 22399, 13077,\n",
       "        26480,  3412,  2012, 17296,  3262, 11660,  6877, 10879, 15545,\n",
       "        26786, 11660,  8778, 16758,     0,     0,     0,     0,     0,\n",
       "            0,     0,     0,     0,     0,     0,     0,     0,     0,\n",
       "            0,     0,     0,     0,     0,     0,     0,     0,     0,\n",
       "            0,     0,     0,     0,     0,     0,     0,     0,     0,\n",
       "            0,     0,     0,     0,     0,     0,     0,     0,     0,\n",
       "            0,     0,     0,     0,     0])]"
      ]
     },
     "execution_count": 16,
     "metadata": {},
     "output_type": "execute_result"
    }
   ],
   "source": [
    "input_tensor = [pad_sequences(x, max_length_input) for x in input_tensor]\n",
    "input_tensor[:2]"
   ]
  },
  {
   "cell_type": "code",
   "execution_count": 17,
   "metadata": {},
   "outputs": [],
   "source": [
    "#now we are using transforming our target values using one-hot encoding\n",
    "\n",
    "emotions = list(set(data.emotions.unique()))\n",
    "num_emotions = len(emotions)\n",
    "\n",
    "mlb = preprocessing.MultiLabelBinarizer()\n",
    "\n",
    "data_labels = [set(emos) & set(emotions) for emos in data[['emotions']].values]\n",
    "bin_emotions = mlb.fit_transform(data_labels)\n",
    "target_tensor = np.array(bin_emotions.tolist())"
   ]
  },
  {
   "cell_type": "code",
   "execution_count": 18,
   "metadata": {},
   "outputs": [
    {
     "data": {
      "text/plain": [
       "array([[0, 0, 1, 0, 0, 0],\n",
       "       [0, 0, 1, 0, 0, 0],\n",
       "       [0, 0, 1, 0, 0, 0],\n",
       "       [0, 0, 0, 0, 1, 0],\n",
       "       [0, 0, 1, 0, 0, 0]])"
      ]
     },
     "execution_count": 18,
     "metadata": {},
     "output_type": "execute_result"
    }
   ],
   "source": [
    "target_tensor[:5]"
   ]
  },
  {
   "cell_type": "code",
   "execution_count": 19,
   "metadata": {},
   "outputs": [
    {
     "data": {
      "text/html": [
       "<div>\n",
       "<style scoped>\n",
       "    .dataframe tbody tr th:only-of-type {\n",
       "        vertical-align: middle;\n",
       "    }\n",
       "\n",
       "    .dataframe tbody tr th {\n",
       "        vertical-align: top;\n",
       "    }\n",
       "\n",
       "    .dataframe thead th {\n",
       "        text-align: right;\n",
       "    }\n",
       "</style>\n",
       "<table border=\"1\" class=\"dataframe\">\n",
       "  <thead>\n",
       "    <tr style=\"text-align: right;\">\n",
       "      <th></th>\n",
       "      <th>text</th>\n",
       "      <th>emotions</th>\n",
       "      <th>token size</th>\n",
       "    </tr>\n",
       "  </thead>\n",
       "  <tbody>\n",
       "    <tr>\n",
       "      <th>138732</th>\n",
       "      <td>im well chuffed made me feel fab straight away</td>\n",
       "      <td>joy</td>\n",
       "      <td>9</td>\n",
       "    </tr>\n",
       "    <tr>\n",
       "      <th>11414</th>\n",
       "      <td>i am sore most of the time so just walking can...</td>\n",
       "      <td>joy</td>\n",
       "      <td>22</td>\n",
       "    </tr>\n",
       "    <tr>\n",
       "      <th>126544</th>\n",
       "      <td>i would only respond properly to her and make ...</td>\n",
       "      <td>joy</td>\n",
       "      <td>13</td>\n",
       "    </tr>\n",
       "    <tr>\n",
       "      <th>57319</th>\n",
       "      <td>i feel that i missed out on stopping somewhere...</td>\n",
       "      <td>sadness</td>\n",
       "      <td>29</td>\n",
       "    </tr>\n",
       "    <tr>\n",
       "      <th>19771</th>\n",
       "      <td>i couldnt possibly feel more thrilled more alive</td>\n",
       "      <td>joy</td>\n",
       "      <td>8</td>\n",
       "    </tr>\n",
       "  </tbody>\n",
       "</table>\n",
       "</div>"
      ],
      "text/plain": [
       "                                                     text emotions  token size\n",
       "138732     im well chuffed made me feel fab straight away      joy           9\n",
       "11414   i am sore most of the time so just walking can...      joy          22\n",
       "126544  i would only respond properly to her and make ...      joy          13\n",
       "57319   i feel that i missed out on stopping somewhere...  sadness          29\n",
       "19771    i couldnt possibly feel more thrilled more alive      joy           8"
      ]
     },
     "execution_count": 19,
     "metadata": {},
     "output_type": "execute_result"
    }
   ],
   "source": [
    "data[0:5]"
   ]
  },
  {
   "cell_type": "code",
   "execution_count": 20,
   "metadata": {},
   "outputs": [],
   "source": [
    "def get_emotion(x):\n",
    "    return np.argmax(x)"
   ]
  },
  {
   "cell_type": "code",
   "execution_count": 21,
   "metadata": {},
   "outputs": [
    {
     "data": {
      "text/plain": [
       "2"
      ]
     },
     "execution_count": 21,
     "metadata": {},
     "output_type": "execute_result"
    }
   ],
   "source": [
    "get_emotion(target_tensor[0])"
   ]
  },
  {
   "cell_type": "code",
   "execution_count": 22,
   "metadata": {},
   "outputs": [],
   "source": [
    "emotion_dict = {0: 'anger', 1: 'fear', 2: 'joy', 3: 'love', 4: 'sadness', 5: 'surprise'}"
   ]
  },
  {
   "cell_type": "code",
   "execution_count": 23,
   "metadata": {},
   "outputs": [
    {
     "data": {
      "text/plain": [
       "'joy'"
      ]
     },
     "execution_count": 23,
     "metadata": {},
     "output_type": "execute_result"
    }
   ],
   "source": [
    "emotion_dict[get_emotion(target_tensor[0])]"
   ]
  },
  {
   "cell_type": "code",
   "execution_count": 24,
   "metadata": {},
   "outputs": [
    {
     "data": {
      "text/plain": [
       "(40000, 40000, 5000, 5000, 5000, 5000)"
      ]
     },
     "execution_count": 24,
     "metadata": {},
     "output_type": "execute_result"
    }
   ],
   "source": [
    "# Creating training and validation sets using an 80-20 split\n",
    "input_tensor_train, input_tensor_val, target_tensor_train, target_tensor_val = train_test_split(input_tensor, target_tensor, test_size=0.2)\n",
    "\n",
    "# Split the validataion further to obtain a holdout dataset (for testing) -- split 50:50\n",
    "input_tensor_val, input_tensor_test, target_tensor_val, target_tensor_test = train_test_split(input_tensor_val, target_tensor_val, test_size=0.5)\n",
    "\n",
    "# Show length\n",
    "len(input_tensor_train), len(target_tensor_train), len(input_tensor_val), len(target_tensor_val), len(input_tensor_test), len(target_tensor_test)"
   ]
  },
  {
   "cell_type": "code",
   "execution_count": 25,
   "metadata": {},
   "outputs": [],
   "source": [
    "TRAIN_BUFFER_SIZE = len(input_tensor_train)\n",
    "VAL_BUFFER_SIZE = len(input_tensor_val)\n",
    "TEST_BUFFER_SIZE = len(input_tensor_test)\n",
    "BATCH_SIZE = 64\n",
    "TRAIN_N_BATCH = TRAIN_BUFFER_SIZE // BATCH_SIZE\n",
    "VAL_N_BATCH = VAL_BUFFER_SIZE // BATCH_SIZE\n",
    "TEST_N_BATCH = TEST_BUFFER_SIZE // BATCH_SIZE\n",
    "\n",
    "embedding_dim = 256\n",
    "units = 1024\n",
    "vocab_inp_size = len(inputs.word2index)\n",
    "target_size = num_emotions"
   ]
  },
  {
   "cell_type": "code",
   "execution_count": 26,
   "metadata": {},
   "outputs": [],
   "source": [
    "from torch.utils.data import Dataset, DataLoader"
   ]
  },
  {
   "cell_type": "code",
   "execution_count": 27,
   "metadata": {},
   "outputs": [],
   "source": [
    "# convert the data to tensors and pass to the Dataloader \n",
    "# to create an batch iterator\n",
    "\n",
    "class MyData(Dataset):\n",
    "    def __init__(self, X, y):\n",
    "        self.data = X\n",
    "        self.target = y\n",
    "        self.length = [ np.sum(1 - np.equal(x, 0)) for x in X]\n",
    "        \n",
    "    def __getitem__(self, index):\n",
    "        x = self.data[index]\n",
    "        y = self.target[index]\n",
    "        x_len = self.length[index]\n",
    "        return x, y, x_len\n",
    "    \n",
    "    def __len__(self):\n",
    "        return len(self.data)"
   ]
  },
  {
   "cell_type": "code",
   "execution_count": 28,
   "metadata": {},
   "outputs": [],
   "source": [
    "train_dataset = MyData(input_tensor_train, target_tensor_train)\n",
    "val_dataset = MyData(input_tensor_val, target_tensor_val)\n",
    "test_dataset = MyData(input_tensor_test, target_tensor_test)\n",
    "\n",
    "train_dataset = DataLoader(train_dataset, batch_size = BATCH_SIZE, \n",
    "                     drop_last=True,\n",
    "                     shuffle=True)\n",
    "val_dataset = DataLoader(val_dataset, batch_size = BATCH_SIZE, \n",
    "                     drop_last=True,\n",
    "                     shuffle=True)\n",
    "test_dataset = DataLoader(test_dataset, batch_size = BATCH_SIZE, \n",
    "                     drop_last=True,\n",
    "                     shuffle=True)"
   ]
  },
  {
   "cell_type": "code",
   "execution_count": 29,
   "metadata": {},
   "outputs": [
    {
     "data": {
      "text/plain": [
       "64"
      ]
     },
     "execution_count": 29,
     "metadata": {},
     "output_type": "execute_result"
    }
   ],
   "source": [
    "val_dataset.batch_size"
   ]
  },
  {
   "cell_type": "code",
   "execution_count": 30,
   "metadata": {},
   "outputs": [],
   "source": [
    "class EmoGRU(nn.Module):\n",
    "    def __init__(self, vocab_size, embedding_dim, hidden_units, batch_sz, output_size):\n",
    "        super(EmoGRU, self).__init__()\n",
    "        self.batch_sz = batch_sz\n",
    "        self.hidden_units = hidden_units\n",
    "        self.embedding_dim = embedding_dim\n",
    "        self.vocab_size = vocab_size\n",
    "        self.output_size = output_size\n",
    "        \n",
    "        # layers\n",
    "        self.embedding = nn.Embedding(self.vocab_size, self.embedding_dim)\n",
    "        self.dropout = nn.Dropout(p=0.5)\n",
    "        self.gru = nn.GRU(self.embedding_dim, self.hidden_units)\n",
    "        self.fc = nn.Linear(self.hidden_units, self.output_size)\n",
    "    \n",
    "    def initialize_hidden_state(self, device):\n",
    "        return torch.zeros((1, self.batch_sz, self.hidden_units)).to(device)\n",
    "    \n",
    "    def forward(self, x, lens, device):\n",
    "        x = self.embedding(x)\n",
    "        self.hidden = self.initialize_hidden_state(device)\n",
    "        output, self.hidden = self.gru(x, self.hidden) # max_len X batch_size X hidden_units\n",
    "        out = output[-1, :, :] \n",
    "        out = self.dropout(out)\n",
    "        out = self.fc(out)\n",
    "        return out, self.hidden  "
   ]
  },
  {
   "cell_type": "code",
   "execution_count": 31,
   "metadata": {},
   "outputs": [],
   "source": [
    "### sort batch function to be able to use with pad_packed_sequence\n",
    "def sort_batch(X, y, lengths):\n",
    "    lengths, indx = lengths.sort(dim=0, descending=True)\n",
    "    X = X[indx]\n",
    "    y = y[indx]\n",
    "    return X.transpose(0,1), y, lengths # transpose (batch x seq) to (seq x batch)"
   ]
  },
  {
   "cell_type": "code",
   "execution_count": 32,
   "metadata": {},
   "outputs": [
    {
     "name": "stdout",
     "output_type": "stream",
     "text": [
      "Input size:  torch.Size([68, 64])\n",
      "torch.Size([64, 6])\n",
      "cuda:0\n"
     ]
    }
   ],
   "source": [
    "device = torch.device(\"cuda:0\" if torch.cuda.is_available() else \"cpu\")\n",
    "model = EmoGRU(vocab_inp_size, embedding_dim, units, BATCH_SIZE, target_size)\n",
    "model.to(device)\n",
    "\n",
    "# obtain one sample from the data iterator\n",
    "it = iter(train_dataset)\n",
    "x, y, x_len = next(it)\n",
    "\n",
    "# sort the batch first to be able to use with pac_pack sequence\n",
    "xs, ys, lens = sort_batch(x, y, x_len)\n",
    "\n",
    "print(\"Input size: \", xs.size())\n",
    "\n",
    "output, _ = model(xs.to(device), lens, device)\n",
    "print(output.size())\n",
    "\n",
    "print(device)"
   ]
  },
  {
   "cell_type": "code",
   "execution_count": 33,
   "metadata": {},
   "outputs": [],
   "source": [
    "### Enabling cuda\n",
    "use_cuda = True if torch.cuda.is_available() else False\n",
    "device = torch.device(\"cuda\" if use_cuda else \"cpu\")\n",
    "model = EmoGRU(vocab_inp_size, embedding_dim, units, BATCH_SIZE, target_size)\n",
    "model.to(device)\n",
    "\n",
    "### loss criterion and optimizer for training\n",
    "criterion = nn.CrossEntropyLoss() # the same as log_softmax + NLLLoss\n",
    "optimizer = torch.optim.Adam(model.parameters())\n",
    "\n",
    "def loss_function(y, prediction):\n",
    "    \"\"\" CrossEntropyLoss expects outputs and class indices as target \"\"\"\n",
    "    # convert from one-hot encoding to class indices\n",
    "    target = torch.max(y, 1)[1]\n",
    "    loss = criterion(prediction, target) \n",
    "    return loss   #TODO: refer the parameter of these functions as the same\n",
    "    \n",
    "def accuracy(target, logit):\n",
    "    ''' Obtain accuracy for training round '''\n",
    "    target = torch.max(target, 1)[1] # convert from one-hot encoding to class indices\n",
    "    corrects = (torch.max(logit, 1)[1].data == target).sum()\n",
    "    accuracy = 100.0 * corrects / len(logit)\n",
    "    return accuracy"
   ]
  },
  {
   "cell_type": "code",
   "execution_count": 34,
   "metadata": {},
   "outputs": [
    {
     "name": "stdout",
     "output_type": "stream",
     "text": [
      "Epoch 1 Batch 0 Val. Loss 0.3039\n",
      "Epoch 1 Batch 100 Val. Loss 0.2877\n",
      "Epoch 1 Batch 200 Val. Loss 0.2143\n",
      "Epoch 1 Batch 300 Val. Loss 0.1413\n",
      "Epoch 1 Batch 400 Val. Loss 0.0925\n",
      "Epoch 1 Batch 500 Val. Loss 0.0343\n",
      "Epoch 1 Batch 600 Val. Loss 0.0418\n",
      "Epoch 1 Loss 0.1456 -- Train Acc. 65.0000 -- Val Acc. 90.0000\n",
      "Time taken for 1 epoch 62.48679304122925 sec\n",
      "\n",
      "Epoch 2 Batch 0 Val. Loss 0.0283\n",
      "Epoch 2 Batch 100 Val. Loss 0.0126\n",
      "Epoch 2 Batch 200 Val. Loss 0.0172\n",
      "Epoch 2 Batch 300 Val. Loss 0.0246\n",
      "Epoch 2 Batch 400 Val. Loss 0.0167\n",
      "Epoch 2 Batch 500 Val. Loss 0.0046\n",
      "Epoch 2 Batch 600 Val. Loss 0.0199\n",
      "Epoch 2 Loss 0.0270 -- Train Acc. 92.0000 -- Val Acc. 91.0000\n",
      "Time taken for 1 epoch 61.65662336349487 sec\n",
      "\n",
      "Epoch 3 Batch 0 Val. Loss 0.0295\n",
      "Epoch 3 Batch 100 Val. Loss 0.0215\n",
      "Epoch 3 Batch 200 Val. Loss 0.0155\n",
      "Epoch 3 Batch 300 Val. Loss 0.0226\n",
      "Epoch 3 Batch 400 Val. Loss 0.0137\n",
      "Epoch 3 Batch 500 Val. Loss 0.0320\n",
      "Epoch 3 Batch 600 Val. Loss 0.0128\n",
      "Epoch 3 Loss 0.0196 -- Train Acc. 93.0000 -- Val Acc. 92.0000\n",
      "Time taken for 1 epoch 60.754151344299316 sec\n",
      "\n",
      "Epoch 4 Batch 0 Val. Loss 0.0103\n",
      "Epoch 4 Batch 100 Val. Loss 0.0191\n",
      "Epoch 4 Batch 200 Val. Loss 0.0239\n",
      "Epoch 4 Batch 300 Val. Loss 0.0096\n",
      "Epoch 4 Batch 400 Val. Loss 0.0232\n",
      "Epoch 4 Batch 500 Val. Loss 0.0149\n",
      "Epoch 4 Batch 600 Val. Loss 0.0260\n",
      "Epoch 4 Loss 0.0169 -- Train Acc. 94.0000 -- Val Acc. 92.0000\n",
      "Time taken for 1 epoch 61.15332746505737 sec\n",
      "\n",
      "Epoch 5 Batch 0 Val. Loss 0.0321\n",
      "Epoch 5 Batch 100 Val. Loss 0.0146\n",
      "Epoch 5 Batch 200 Val. Loss 0.0339\n",
      "Epoch 5 Batch 300 Val. Loss 0.0336\n",
      "Epoch 5 Batch 400 Val. Loss 0.0171\n",
      "Epoch 5 Batch 500 Val. Loss 0.0130\n",
      "Epoch 5 Batch 600 Val. Loss 0.0100\n",
      "Epoch 5 Loss 0.0154 -- Train Acc. 95.0000 -- Val Acc. 92.0000\n",
      "Time taken for 1 epoch 61.34191560745239 sec\n",
      "\n",
      "Epoch 6 Batch 0 Val. Loss 0.0017\n",
      "Epoch 6 Batch 100 Val. Loss 0.0093\n",
      "Epoch 6 Batch 200 Val. Loss 0.0134\n",
      "Epoch 6 Batch 300 Val. Loss 0.0295\n",
      "Epoch 6 Batch 400 Val. Loss 0.0201\n",
      "Epoch 6 Batch 500 Val. Loss 0.0121\n",
      "Epoch 6 Batch 600 Val. Loss 0.0209\n",
      "Epoch 6 Loss 0.0136 -- Train Acc. 96.0000 -- Val Acc. 91.0000\n",
      "Time taken for 1 epoch 61.216652393341064 sec\n",
      "\n",
      "Epoch 7 Batch 0 Val. Loss 0.0185\n",
      "Epoch 7 Batch 100 Val. Loss 0.0060\n",
      "Epoch 7 Batch 200 Val. Loss 0.0177\n",
      "Epoch 7 Batch 300 Val. Loss 0.0033\n",
      "Epoch 7 Batch 400 Val. Loss 0.0151\n",
      "Epoch 7 Batch 500 Val. Loss 0.0219\n",
      "Epoch 7 Batch 600 Val. Loss 0.0186\n",
      "Epoch 7 Loss 0.0120 -- Train Acc. 96.0000 -- Val Acc. 92.0000\n",
      "Time taken for 1 epoch 61.308499813079834 sec\n",
      "\n",
      "Epoch 8 Batch 0 Val. Loss 0.0035\n",
      "Epoch 8 Batch 100 Val. Loss 0.0047\n",
      "Epoch 8 Batch 200 Val. Loss 0.0032\n",
      "Epoch 8 Batch 300 Val. Loss 0.0128\n",
      "Epoch 8 Batch 400 Val. Loss 0.0224\n",
      "Epoch 8 Batch 500 Val. Loss 0.0144\n",
      "Epoch 8 Batch 600 Val. Loss 0.0050\n",
      "Epoch 8 Loss 0.0104 -- Train Acc. 97.0000 -- Val Acc. 91.0000\n",
      "Time taken for 1 epoch 61.024587631225586 sec\n",
      "\n",
      "Epoch 9 Batch 0 Val. Loss 0.0234\n",
      "Epoch 9 Batch 100 Val. Loss 0.0029\n",
      "Epoch 9 Batch 200 Val. Loss 0.0066\n",
      "Epoch 9 Batch 300 Val. Loss 0.0262\n",
      "Epoch 9 Batch 400 Val. Loss 0.0106\n",
      "Epoch 9 Batch 500 Val. Loss 0.0010\n",
      "Epoch 9 Batch 600 Val. Loss 0.0224\n",
      "Epoch 9 Loss 0.0092 -- Train Acc. 97.0000 -- Val Acc. 91.0000\n",
      "Time taken for 1 epoch 61.24270820617676 sec\n",
      "\n",
      "Epoch 10 Batch 0 Val. Loss 0.0200\n",
      "Epoch 10 Batch 100 Val. Loss 0.0050\n",
      "Epoch 10 Batch 200 Val. Loss 0.0035\n",
      "Epoch 10 Batch 300 Val. Loss 0.0217\n",
      "Epoch 10 Batch 400 Val. Loss 0.0138\n",
      "Epoch 10 Batch 500 Val. Loss 0.0067\n",
      "Epoch 10 Batch 600 Val. Loss 0.0113\n",
      "Epoch 10 Loss 0.0081 -- Train Acc. 97.0000 -- Val Acc. 91.0000\n",
      "Time taken for 1 epoch 60.42744588851929 sec\n",
      "\n"
     ]
    }
   ],
   "source": [
    "EPOCHS = 10\n",
    "\n",
    "for epoch in range(EPOCHS):\n",
    "    start = time.time()\n",
    "    \n",
    "    ### Initialize hidden state\n",
    "    # TODO: do initialization here.\n",
    "    total_loss = 0\n",
    "    train_accuracy, val_accuracy = 0, 0\n",
    "    \n",
    "    ### Training\n",
    "    for (batch, (inp, targ, lens)) in enumerate(train_dataset):\n",
    "        loss = 0\n",
    "        predictions, _ = model(inp.permute(1 ,0).to(device), lens, device) # TODO:don't need _   \n",
    "              \n",
    "        loss += loss_function(targ.to(device), predictions)\n",
    "        batch_loss = (loss / int(targ.shape[1]))        \n",
    "        total_loss += batch_loss\n",
    "        \n",
    "        optimizer.zero_grad()\n",
    "        loss.backward()\n",
    "        optimizer.step()\n",
    "        \n",
    "        batch_accuracy = accuracy(targ.to(device), predictions)\n",
    "        train_accuracy += batch_accuracy\n",
    "        \n",
    "        if batch % 100 == 0:\n",
    "            print('Epoch {} Batch {} Val. Loss {:.4f}'.format(epoch + 1,\n",
    "                                                         batch,\n",
    "                                                         batch_loss))\n",
    "            \n",
    "    ### Validating\n",
    "    for (batch, (inp, targ, lens)) in enumerate(val_dataset):        \n",
    "        predictions,_ = model(inp.permute(1, 0).to(device), lens, device)        \n",
    "        batch_accuracy = accuracy(targ.to(device), predictions)\n",
    "        val_accuracy += batch_accuracy\n",
    "    \n",
    "    print('Epoch {} Loss {:.4f} -- Train Acc. {:.4f} -- Val Acc. {:.4f}'.format(epoch + 1, \n",
    "                                                             total_loss / TRAIN_N_BATCH, \n",
    "                                                             train_accuracy / TRAIN_N_BATCH,\n",
    "                                                             val_accuracy / VAL_N_BATCH))\n",
    "    print('Time taken for 1 epoch {} sec\\n'.format(time.time() - start))"
   ]
  },
  {
   "cell_type": "code",
   "execution_count": 35,
   "metadata": {},
   "outputs": [
    {
     "name": "stdout",
     "output_type": "stream",
     "text": [
      "Test Accuracy:  92.6794871795\n"
     ]
    }
   ],
   "source": [
    "test_accuracy = 0\n",
    "all_predictions = []\n",
    "x_raw = []\n",
    "y_raw = []\n",
    "\n",
    "device = \"cuda\" # we don't need GPU to do testing\n",
    "model.to(\"cuda\")\n",
    "\n",
    "for (batch, (inp, targ, lens)) in enumerate(test_dataset):          \n",
    "    predictions,_ = model(inp.permute(1, 0).to(device), lens, device)        \n",
    "    batch_accuracy = accuracy(targ.to(device), predictions)\n",
    "    test_accuracy += batch_accuracy\n",
    "    \n",
    "    x_raw = x_raw + [x for x in inp]\n",
    "    y_raw = y_raw + [y for y in targ]\n",
    "    \n",
    "    all_predictions.append(predictions)\n",
    "    \n",
    "print(\"Test Accuracy: \", test_accuracy.cpu().detach().numpy() / TEST_N_BATCH)"
   ]
  },
  {
   "cell_type": "code",
   "execution_count": 36,
   "metadata": {},
   "outputs": [],
   "source": [
    "### Class to Properly Evaluate our Models\n",
    "class Evaluate():\n",
    "\n",
    "    def va_dist(cls, prediction, target, va_df, binarizer, name='', silent=False):\n",
    "        \"\"\" Computes distance between actual and prediction through cosine distance \"\"\"\n",
    "        va_matrix = va_df.loc[binarizer.classes_][['valence','arousal']].values\n",
    "        y_va = target.dot(va_matrix)\n",
    "        F_va = prediction.dot(va_matrix)\n",
    "\n",
    "        # dist is a one row vector with size of the test data passed(emotion)\n",
    "        dist = metrics.pairwise.paired_cosine_distances(y_va, F_va)\n",
    "        res = stats.describe(dist)\n",
    "\n",
    "        # print by default (if silent=False)\n",
    "        if not silent:\n",
    "            print('%s\\tmean: %f\\tvariance: %f' % (name, res.mean, res.variance))\n",
    "\n",
    "        return {\n",
    "            'distances': dist,\n",
    "            'dist_stat': res\n",
    "        }\n",
    "\n",
    "    def evaluate_class(cls, predictions, target, target2=None, silent=False):\n",
    "        \"\"\" Compute only the predicted class \"\"\"\n",
    "        p_2_annotation = dict()\n",
    "\n",
    "        precision_recall_fscore_support = [\n",
    "            (pair[0], pair[1].mean()) for pair in zip(\n",
    "                ['precision', 'recall', 'f1', 'support'],\n",
    "                metrics.precision_recall_fscore_support(target, predictions)\n",
    "            )\n",
    "        ]\n",
    "\n",
    "        metrics.precision_recall_fscore_support(target, predictions)\n",
    "\n",
    "        # confusion matrix\n",
    "        le = LabelEncoder()\n",
    "        target_le = le.fit_transform(target)\n",
    "        predictions_le = le.transform(predictions)\n",
    "        cm = metrics.confusion_matrix(target_le, predictions_le)\n",
    "\n",
    "        # prediction if two annotations are given on test data\n",
    "        if target2:\n",
    "            p_2_annotation = pd.DataFrame(\n",
    "                [(pred, pred in set([t1,t2])) for pred, t1, t2 in zip(predictions, target, target2)],\n",
    "                columns=['emo','success']\n",
    "            ).groupby('emo').apply(lambda emo: emo.success.sum()/ len(emo.success)).to_dict()\n",
    "\n",
    "        if not silent:\n",
    "            print(\"Default Classification report\")\n",
    "            print(metrics.classification_report(target, predictions))\n",
    "\n",
    "            # print if target2 was provided\n",
    "            if len(p_2_annotation) > 0:\n",
    "                print('\\nPrecision on 2 annotations:')\n",
    "                for emo in p_2_annotation:\n",
    "                    print(\"%s: %.2f\" % (emo, p_2_annotation[emo]))\n",
    "\n",
    "            # print accuracies, precision, recall, and f1\n",
    "            print('\\nAccuracy:')\n",
    "            print(metrics.accuracy_score(target, predictions))\n",
    "            print(\"Correct Predictions: \", metrics.accuracy_score(target, predictions,normalize=False))\n",
    "            for to_print in precision_recall_fscore_support[:3]:\n",
    "                print( \"%s: %.2f\" % to_print )\n",
    "\n",
    "            # normalizing the values of the consfusion matrix\n",
    "            print('\\nconfusion matrix\\n %s' % cm)\n",
    "            print('(row=expected, col=predicted)')\n",
    "            cm_normalized = cm.astype('float') / cm.sum(axis=1)[:, np.newaxis]\n",
    "            cls.plot_confusion_matrix(cm_normalized, le.classes_, 'Confusion matrix Normalized')\n",
    "\n",
    "        return {\n",
    "            'precision_recall_fscore_support': precision_recall_fscore_support,\n",
    "            'accuracy': metrics.accuracy_score(target, predictions),\n",
    "            'p_2_annotation': p_2_annotation,\n",
    "            'confusion_matrix': cm\n",
    "        }\n",
    "\n",
    "    def predict_class(cls, X_train, y_train, X_test, y_test,\n",
    "                      pipeline, silent=False, target2=None):\n",
    "        \"\"\" Predicted class,then run some performance evaluation \"\"\"\n",
    "        pipeline.fit(X_train, y_train)\n",
    "        predictions = pipeline.predict(X_test)\n",
    "        print(\"predictions computed....\")\n",
    "        return cls.evaluate_class(predictions, y_test, target2, silent)\n",
    "\n",
    "    def evaluate_prob(cls, prediction, target_rank, target_class, binarizer, va_df, silent=False, target2=None):\n",
    "        \"\"\" Evaluate through probability \"\"\"\n",
    "        # Run normal class evaluator\n",
    "        predict_class = binarizer.classes_[prediction.argmax(axis=1)]\n",
    "        class_eval = cls.evaluate_class(predict_class, target_class, target2, silent)\n",
    "\n",
    "        if not silent:\n",
    "            print('\\n - First Emotion Classification Metrics -')\n",
    "            print('\\n - Multiple Emotion rank Metrics -')\n",
    "            print('VA Cosine Distance')\n",
    "\n",
    "        classes_dist = [\n",
    "            (\n",
    "                emo,\n",
    "                cls.va_dist(\n",
    "                    prediction[np.array(target_class) == emo],\n",
    "                    target_rank[np.array(target_class) == emo],\n",
    "                    va_df,\n",
    "                    binarizer,\n",
    "                    emo,\n",
    "                    silent)\n",
    "                ) for emo in binarizer.classes_\n",
    "        ]\n",
    "        avg_dist = cls.va_dist(prediction, target_rank, va_df, binarizer, 'avg', silent)\n",
    "\n",
    "        coverage_error = metrics.coverage_error(target_rank, prediction)\n",
    "        average_precision_score = metrics.average_precision_score(target_rank, prediction)\n",
    "        label_ranking_average_precision_score = metrics.label_ranking_average_precision_score(target_rank, prediction)\n",
    "        label_ranking_loss = metrics.label_ranking_loss(target_rank, prediction)\n",
    "\n",
    "        # recall at 2\n",
    "        # obtain top two predictions\n",
    "        top2_pred = [set([binarizer.classes_[i[0]], binarizer.classes_[i[1]]]) for i in (prediction.argsort(axis=1).T[-2:].T)]\n",
    "        recall_at_2 = pd.DataFrame(\n",
    "            [\n",
    "            t in p for t, p in zip(target_class, top2_pred)\n",
    "            ], index=target_class, columns=['recall@2']).groupby(level=0).apply(lambda emo: emo.sum()/len(emo))\n",
    "\n",
    "        # combine target into sets\n",
    "        if target2:\n",
    "            union_target = [set(t) for t in zip(target_class, target2)]\n",
    "        else:\n",
    "            union_target = [set(t) for t in zip(target_class)]\n",
    "\n",
    "        # precision at k\n",
    "        top_k_pred = [\n",
    "            [set([binarizer.classes_[i] for i in i_list]) for i_list in (prediction.argsort(axis=1).T[-i:].T)]\n",
    "            for i in range(2, len(binarizer.classes_)+1)]\n",
    "        precision_at_k = [\n",
    "            ('p@' + str(k+2), np.array([len(t & p)/(k+2) for t, p in zip(union_target, top_k_pred[k])]).mean())\n",
    "            for k in range(len(top_k_pred))]\n",
    "\n",
    "        # do this if silent= False\n",
    "        if not silent:\n",
    "            print('\\n')\n",
    "            print(recall_at_2)\n",
    "            print('\\n')\n",
    "            print('p@k')\n",
    "            for pk in precision_at_k:\n",
    "                print(pk[0] + ':\\t' + str(pk[1]))\n",
    "            print('\\ncoverage_error: %f' % coverage_error)\n",
    "            print('average_precision_score: %f' % average_precision_score)\n",
    "            print('label_ranking_average_precision_score: %f' % label_ranking_average_precision_score)\n",
    "            print('label_ranking_loss: %f' % label_ranking_loss)\n",
    "\n",
    "        return {\n",
    "            'class_eval': class_eval,\n",
    "            'recall_at_2': recall_at_2.to_dict(),\n",
    "            'precision_at_2': precision_at_k,\n",
    "            'classes_dist': classes_dist,\n",
    "            'avg_dist': avg_dist,\n",
    "            'coverage_error': coverage_error,\n",
    "            'average_precision_score': average_precision_score,\n",
    "            'label_ranking_average_precision_score': label_ranking_average_precision_score,\n",
    "            'label_ranking_loss': label_ranking_loss\n",
    "        }\n",
    "\n",
    "\n",
    "    def predict_prob(cls, X_train, y_train, X_test, y_test, label_test, pipeline, binarizer, va_df, silent=False, target2=None):\n",
    "        \"\"\" Output predcations based on training and labels \"\"\"\n",
    "        pipeline.fit(X_train, y_train)\n",
    "        predictions = pipeline.predict_proba(X_test)\n",
    "        pred_to_mlb = [np.where(pipeline.classes_ == emo)[0][0] for emo in binarizer.classes_.tolist()]\n",
    "        return cls.evaluate_prob(predictions[:,pred_to_mlb], y_test, label_test, binarizer, va_df, silent, target2)\n",
    "\n",
    "\n",
    "    def plot_confusion_matrix(cls, cm, my_tags, title='Confusion matrix', cmap=plt.cm.Blues):\n",
    "        \"\"\" Plotting the confusion_matrix\"\"\"\n",
    "        plt.rc('figure', figsize=(4, 4), dpi=100)\n",
    "        plt.imshow(cm, interpolation='nearest', cmap=cmap)\n",
    "        plt.title(title)\n",
    "        plt.colorbar()\n",
    "        tick_marks = np.arange(len(my_tags))\n",
    "        target_names = my_tags\n",
    "        plt.xticks(tick_marks, target_names, rotation=45)\n",
    "        plt.yticks(tick_marks, target_names)\n",
    "        \n",
    "        # add normalized values inside the Confusion matrix\n",
    "        fmt = '.2f'\n",
    "        thresh = cm.max() / 2.\n",
    "        for i, j in itertools.product(range(cm.shape[0]), range(cm.shape[1])):\n",
    "            plt.text(j, i, format(cm[i, j], fmt), horizontalalignment=\"center\", color=\"white\" if cm[i, j] > thresh else \"black\")\n",
    "\n",
    "        plt.tight_layout()\n",
    "        plt.ylabel('True label')\n",
    "        plt.xlabel('Predicted label')"
   ]
  },
  {
   "cell_type": "code",
   "execution_count": 37,
   "metadata": {},
   "outputs": [],
   "source": [
    "import itertools\n",
    "from scipy import stats\n",
    "from sklearn import metrics\n",
    "from sklearn.preprocessing import LabelEncoder"
   ]
  },
  {
   "cell_type": "code",
   "execution_count": 38,
   "metadata": {},
   "outputs": [
    {
     "name": "stdout",
     "output_type": "stream",
     "text": [
      "Default Classification report\n",
      "             precision    recall  f1-score   support\n",
      "\n",
      "      anger       0.90      0.95      0.93       653\n",
      "       fear       0.92      0.87      0.89       563\n",
      "        joy       0.95      0.95      0.95      1668\n",
      "       love       0.84      0.86      0.85       436\n",
      "    sadness       0.98      0.96      0.97      1475\n",
      "   surprise       0.81      0.84      0.82       197\n",
      "\n",
      "avg / total       0.93      0.93      0.93      4992\n",
      "\n",
      "\n",
      "Accuracy:\n",
      "0.931891025641\n",
      "Correct Predictions:  4652\n",
      "precision: 0.90\n",
      "recall: 0.91\n",
      "f1: 0.90\n",
      "\n",
      "confusion matrix\n",
      " [[ 623   11    5    0   14    0]\n",
      " [  23  490    9    2   17   22]\n",
      " [   7    0 1578   65    4   14]\n",
      " [   1    0   58  377    0    0]\n",
      " [  37    9    4    3 1419    3]\n",
      " [   0   23    8    0    1  165]]\n",
      "(row=expected, col=predicted)\n"
     ]
    },
    {
     "data": {
      "image/png": "[encoded data removed]",
      "text/plain": [
       "<matplotlib.figure.Figure at 0x7efce792a400>"
      ]
     },
     "metadata": {
      "needs_background": "light"
     },
     "output_type": "display_data"
    }
   ],
   "source": [
    "evaluator = Evaluate()\n",
    "\n",
    "final_predictions = []\n",
    "\n",
    "for p in all_predictions:\n",
    "    for sub_p in p:\n",
    "        final_predictions.append(sub_p.cpu().detach().numpy())\n",
    "        \n",
    "predictions = [np.argmax(p).item() for p in final_predictions]\n",
    "targets = [np.argmax(t).item() for t in y_raw]\n",
    "correct_predictions = float(np.sum(predictions == targets))\n",
    "\n",
    "# predictions\n",
    "predictions_human_readable = ((x_raw, predictions))\n",
    "# actual targets\n",
    "target_human_readable = ((x_raw,  targets))\n",
    "\n",
    "emotion_dict = {0: 'anger', 1: 'fear', 2: 'joy', 3: 'love', 4: 'sadness', 5: 'surprise'}\n",
    "\n",
    "# convert results into dataframe\n",
    "model_test_result = pd.DataFrame(predictions_human_readable[1],columns=[\"emotion\"])\n",
    "test = pd.DataFrame(target_human_readable[1], columns=[\"emotion\"])\n",
    "\n",
    "model_test_result.emotion = model_test_result.emotion.map(lambda x: emotion_dict[int(float(x))])\n",
    "test.emotion = test.emotion.map(lambda x: emotion_dict[int(x)])\n",
    "\n",
    "evaluator.evaluate_class(model_test_result.emotion, test.emotion );"
   ]
  }
 ],
 "metadata": {
  "kernelspec": {
   "display_name": "Python 3",
   "language": "python",
   "name": "python3"
  },
  "language_info": {
   "codemirror_mode": {
    "name": "ipython",
    "version": 3
   },
   "file_extension": ".py",
   "mimetype": "text/x-python",
   "name": "python",
   "nbconvert_exporter": "python",
   "pygments_lexer": "ipython3",
   "version": "3.6.3"
  }
 },
 "nbformat": 4,
 "nbformat_minor": 2
}
