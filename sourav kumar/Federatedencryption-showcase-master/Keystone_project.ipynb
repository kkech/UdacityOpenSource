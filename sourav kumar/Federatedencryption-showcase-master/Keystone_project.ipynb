{
  "nbformat": 4,
  "nbformat_minor": 0,
  "metadata": {
    "colab": {
      "name": "Keystone_project.ipynb",
      "version": "0.3.2",
      "provenance": [],
      "collapsed_sections": [],
      "include_colab_link": true
    },
    "kernelspec": {
      "name": "python3",
      "display_name": "Python 3"
    }
  },
  "cells": [
    {
      "cell_type": "markdown",
      "metadata": {
        "id": "view-in-github",
        "colab_type": "text"
      },
      "source": [
        "<a href=\"https://colab.research.google.com/github/souravs17031999/Federatedencryption-showcase/blob/master/Keystone_project.ipynb\" target=\"_parent\"><img src=\"https://colab.research.google.com/assets/colab-badge.svg\" alt=\"Open In Colab\"/></a>"
      ]
    },
    {
      "cell_type": "markdown",
      "metadata": {
        "id": "mRn-DQ_UI6ZD",
        "colab_type": "text"
      },
      "source": [
        "# PROJECT OBJECTIVE : To implement federated learning and encryption techniques on MNIST dataset using Pytorch and Pysyft"
      ]
    },
    {
      "cell_type": "code",
      "metadata": {
        "id": "fI4HeSS_-yYC",
        "colab_type": "code",
        "colab": {}
      },
      "source": [
        "# let's start off by installing privacy preserving deep learning framework pysyft\n",
        "!pip install syft"
      ],
      "execution_count": 0,
      "outputs": []
    },
    {
      "cell_type": "markdown",
      "metadata": {
        "id": "bYW5BtsKLWtr",
        "colab_type": "text"
      },
      "source": [
        "## Importing packages"
      ]
    },
    {
      "cell_type": "code",
      "metadata": {
        "id": "DuZtnC1v-5qw",
        "colab_type": "code",
        "colab": {}
      },
      "source": [
        "# import all required packages\n",
        "import torch\n",
        "import torch.nn as nn\n",
        "import torch.nn.functional as F\n",
        "import torch.optim as optim\n",
        "from torchvision import datasets, transforms"
      ],
      "execution_count": 0,
      "outputs": []
    },
    {
      "cell_type": "markdown",
      "metadata": {
        "id": "W6j1H-R-LaUi",
        "colab_type": "text"
      },
      "source": [
        "## Creating virtual workers"
      ]
    },
    {
      "cell_type": "code",
      "metadata": {
        "id": "1N5I5MWi_AHK",
        "colab_type": "code",
        "outputId": "31e3375f-9b9e-45dc-dfe0-5a1850be1c57",
        "colab": {
          "base_uri": "https://localhost:8080/",
          "height": 107
        }
      },
      "source": [
        "# creating virtual workers\n",
        "import syft as sy\n",
        "hook = sy.TorchHook(torch)\n",
        "# let's create two virtual workers who will hold the data while training the model locally\n",
        "bob = sy.VirtualWorker(hook, id = \"bob\")\n",
        "alice = sy.VirtualWorker(hook, id = \"alice\")\n",
        "crypto_provider = sy.VirtualWorker(hook, id=\"crypto_provider\") "
      ],
      "execution_count": 0,
      "outputs": [
        {
          "output_type": "stream",
          "text": [
            "WARNING: Logging before flag parsing goes to stderr.\n",
            "W0813 02:05:57.266631 139640065849216 secure_random.py:26] Falling back to insecure randomness since the required custom op could not be found for the installed version of TensorFlow. Fix this by compiling custom ops. Missing file was '/usr/local/lib/python3.6/dist-packages/tf_encrypted/operations/secure_random/secure_random_module_tf_1.14.0.so'\n",
            "W0813 02:05:57.284585 139640065849216 deprecation_wrapper.py:119] From /usr/local/lib/python3.6/dist-packages/tf_encrypted/session.py:26: The name tf.Session is deprecated. Please use tf.compat.v1.Session instead.\n",
            "\n"
          ],
          "name": "stderr"
        }
      ]
    },
    {
      "cell_type": "markdown",
      "metadata": {
        "id": "aiivamvOLeeH",
        "colab_type": "text"
      },
      "source": [
        "## Setting hyperparameters and device"
      ]
    },
    {
      "cell_type": "code",
      "metadata": {
        "id": "0N4vXtvV_M6R",
        "colab_type": "code",
        "outputId": "6b2f6799-8317-49ad-8189-a5d2fe5fdf62",
        "colab": {
          "base_uri": "https://localhost:8080/",
          "height": 34
        }
      },
      "source": [
        "# This arguments class is simply defining all the hyperparameters of the model we are going to train on\n",
        "class Arguments():\n",
        "    def __init__(self):\n",
        "        self.batch_size = 64 # batch size for training\n",
        "        self.test_batch_size = 64 # bacth size for testing \n",
        "        self.epochs = 10 # no of epochs\n",
        "        self.lr = 0.01  # setting learning rate\n",
        "        self.momentum = 0.5 \n",
        "        self.no_cuda = False  \n",
        "        self.seed = 1\n",
        "        self.log_interval = 10\n",
        "        self.save_model = False\n",
        "\n",
        "args = Arguments()\n",
        "\n",
        "use_cuda = not args.no_cuda and torch.cuda.is_available()\n",
        "\n",
        "torch.manual_seed(args.seed) # sets the random seed from pytorch random number generators\n",
        "\n",
        "device = torch.device(\"cuda\" if use_cuda else \"cpu\") # choose device based on what is available if cuda or not\n",
        "\n",
        "print(device)"
      ],
      "execution_count": 0,
      "outputs": [
        {
          "output_type": "stream",
          "text": [
            "cpu\n"
          ],
          "name": "stdout"
        }
      ]
    },
    {
      "cell_type": "markdown",
      "metadata": {
        "id": "6iKEU6JGLizm",
        "colab_type": "text"
      },
      "source": [
        "## Creating federated dataloader for loading of data and distributing it across the workers"
      ]
    },
    {
      "cell_type": "code",
      "metadata": {
        "id": "_PkLH7Il_NTL",
        "colab_type": "code",
        "outputId": "6b2932d5-b5fe-49b1-85f9-4cc5c5dc1d55",
        "colab": {
          "base_uri": "https://localhost:8080/",
          "height": 263
        }
      },
      "source": [
        "# using .federate method, we can distribute our data across all the workers for now , we have bob and alice\n",
        "federated_train_loader = sy.FederatedDataLoader( \n",
        "    datasets.MNIST('../data', train=True, download=True,\n",
        "                   transform=transforms.Compose([\n",
        "                       transforms.ToTensor(),\n",
        "                       transforms.Normalize((0.1307,), (0.3081,))\n",
        "                   ]))\n",
        "    .federate((bob, alice)), \n",
        "    batch_size=64, shuffle=True)\n",
        "\n",
        "validloader = torch.utils.data.DataLoader(\n",
        "    datasets.MNIST('../data', train=False, transform=transforms.Compose([\n",
        "                       transforms.ToTensor(),\n",
        "                       transforms.Normalize((0.1307,), (0.3081,))\n",
        "                   ])),\n",
        "    batch_size=64, shuffle=True)"
      ],
      "execution_count": 0,
      "outputs": [
        {
          "output_type": "stream",
          "text": [
            "\r0it [00:00, ?it/s]"
          ],
          "name": "stderr"
        },
        {
          "output_type": "stream",
          "text": [
            "Downloading http://yann.lecun.com/exdb/mnist/train-images-idx3-ubyte.gz to ../data/MNIST/raw/train-images-idx3-ubyte.gz\n"
          ],
          "name": "stdout"
        },
        {
          "output_type": "stream",
          "text": [
            "9920512it [00:01, 9575845.36it/s]                            \n"
          ],
          "name": "stderr"
        },
        {
          "output_type": "stream",
          "text": [
            "Extracting ../data/MNIST/raw/train-images-idx3-ubyte.gz\n"
          ],
          "name": "stdout"
        },
        {
          "output_type": "stream",
          "text": [
            "  0%|          | 0/28881 [00:00<?, ?it/s]"
          ],
          "name": "stderr"
        },
        {
          "output_type": "stream",
          "text": [
            "Downloading http://yann.lecun.com/exdb/mnist/train-labels-idx1-ubyte.gz to ../data/MNIST/raw/train-labels-idx1-ubyte.gz\n"
          ],
          "name": "stdout"
        },
        {
          "output_type": "stream",
          "text": [
            "32768it [00:00, 135435.06it/s]           \n",
            "  0%|          | 0/1648877 [00:00<?, ?it/s]"
          ],
          "name": "stderr"
        },
        {
          "output_type": "stream",
          "text": [
            "Extracting ../data/MNIST/raw/train-labels-idx1-ubyte.gz\n",
            "Downloading http://yann.lecun.com/exdb/mnist/t10k-images-idx3-ubyte.gz to ../data/MNIST/raw/t10k-images-idx3-ubyte.gz\n"
          ],
          "name": "stdout"
        },
        {
          "output_type": "stream",
          "text": [
            "1654784it [00:00, 2229496.99it/s]                            \n",
            "0it [00:00, ?it/s]"
          ],
          "name": "stderr"
        },
        {
          "output_type": "stream",
          "text": [
            "Extracting ../data/MNIST/raw/t10k-images-idx3-ubyte.gz\n",
            "Downloading http://yann.lecun.com/exdb/mnist/t10k-labels-idx1-ubyte.gz to ../data/MNIST/raw/t10k-labels-idx1-ubyte.gz\n"
          ],
          "name": "stdout"
        },
        {
          "output_type": "stream",
          "text": [
            "8192it [00:00, 51927.48it/s]            \n"
          ],
          "name": "stderr"
        },
        {
          "output_type": "stream",
          "text": [
            "Extracting ../data/MNIST/raw/t10k-labels-idx1-ubyte.gz\n",
            "Processing...\n",
            "Done!\n"
          ],
          "name": "stdout"
        }
      ]
    },
    {
      "cell_type": "markdown",
      "metadata": {
        "id": "B6rIap2tMMdB",
        "colab_type": "text"
      },
      "source": [
        "## Visualizing dataset"
      ]
    },
    {
      "cell_type": "code",
      "metadata": {
        "id": "2foszLff_PtV",
        "colab_type": "code",
        "outputId": "ecc8548c-61d5-4759-c82b-6c231ff9154c",
        "colab": {
          "base_uri": "https://localhost:8080/",
          "height": 383
        }
      },
      "source": [
        "images, labels = next(iter(federated_train_loader))\n",
        "\n",
        "# Checking shape of image\n",
        "print(f\"Image shape : {images.shape}\")\n",
        "print(f\"Label shape : {labels.shape}\")\n",
        "\n",
        "\n",
        "# denormalizing images\n",
        "def imshow(inp, title=None):\n",
        "    \"\"\"Imshow for Tensor.\"\"\"\n",
        "    inp = inp.numpy().transpose((1, 2, 0))\n",
        "    mean = np.array([0.485, 0.456, 0.406])\n",
        "    std = np.array([0.229, 0.224, 0.225])\n",
        "    inp = std * inp + mean\n",
        "    inp = np.clip(inp, 0, 1)\n",
        "    plt.imshow(inp)\n",
        "    if title is not None:\n",
        "        plt.title(title)\n",
        "    plt.pause(0.001)\n",
        "\n",
        "# plotting the images of loaded batch with given fig size and frame data    \n",
        "import torchvision\n",
        "import matplotlib.pyplot as plt\n",
        "import numpy as np\n",
        "grid = torchvision.utils.make_grid(images.get(), nrow = 20, padding = 2)\n",
        "plt.figure(figsize = (20, 20))  \n",
        "plt.imshow(np.transpose(grid, (1, 2, 0)))   \n",
        "print('labels:', labels.get()) "
      ],
      "execution_count": 0,
      "outputs": [
        {
          "output_type": "stream",
          "text": [
            "W0813 02:06:30.004012 139640065849216 image.py:648] Clipping input data to the valid range for imshow with RGB data ([0..1] for floats or [0..255] for integers).\n"
          ],
          "name": "stderr"
        },
        {
          "output_type": "stream",
          "text": [
            "Image shape : torch.Size([64, 1, 28, 28])\n",
            "Label shape : torch.Size([64])\n",
            "labels: tensor([6, 8, 1, 7, 3, 0, 7, 1, 1, 2, 2, 6, 0, 8, 1, 5, 0, 1, 1, 4, 8, 1, 0, 9,\n",
            "        3, 5, 6, 7, 0, 1, 9, 0, 7, 6, 0, 3, 2, 7, 7, 3, 8, 6, 9, 2, 2, 0, 9, 9,\n",
            "        7, 0, 4, 3, 2, 9, 2, 7, 2, 7, 1, 4, 8, 4, 7, 9])\n"
          ],
          "name": "stdout"
        },
        {
          "output_type": "display_data",
          "data": {
            "image/png": "[encoded data removed]",
            "text/plain": [
              "<Figure size 1440x1440 with 1 Axes>"
            ]
          },
          "metadata": {
            "tags": []
          }
        }
      ]
    },
    {
      "cell_type": "markdown",
      "metadata": {
        "id": "rM-yh1hhMR8v",
        "colab_type": "text"
      },
      "source": [
        "## Checking if cuda is available"
      ]
    },
    {
      "cell_type": "code",
      "metadata": {
        "id": "CcBdIfHC_RNR",
        "colab_type": "code",
        "outputId": "c22df1a4-ad49-47a8-e295-061c5e40a29d",
        "colab": {
          "base_uri": "https://localhost:8080/",
          "height": 34
        }
      },
      "source": [
        "train_on_gpu = torch.cuda.is_available()\n",
        "\n",
        "if not train_on_gpu:\n",
        "    print('CUDA is not available.  Training on CPU ...')\n",
        "else:\n",
        "    print('CUDA is available!  Training on GPU ...')\n",
        "    "
      ],
      "execution_count": 0,
      "outputs": [
        {
          "output_type": "stream",
          "text": [
            "CUDA is not available.  Training on CPU ...\n"
          ],
          "name": "stdout"
        }
      ]
    },
    {
      "cell_type": "markdown",
      "metadata": {
        "id": "DLGiRvRRMWBb",
        "colab_type": "text"
      },
      "source": [
        "## Defining model architechture"
      ]
    },
    {
      "cell_type": "code",
      "metadata": {
        "id": "j_KoZlDT_TOk",
        "colab_type": "code",
        "colab": {}
      },
      "source": [
        "# define the model CNN architechture\n",
        "class Net(nn.Module):\n",
        "    def __init__(self):\n",
        "        super(Net, self).__init__()\n",
        "        self.fc1 = nn.Linear(784, 500)\n",
        "        self.fc2 = nn.Linear(500, 10)\n",
        "\n",
        "    def forward(self, x):\n",
        "        x = x.view(-1, 784)\n",
        "        x = self.fc1(x)\n",
        "        x = F.relu(x)\n",
        "        x = self.fc2(x)\n",
        "        return x\n",
        "      \n",
        "        "
      ],
      "execution_count": 0,
      "outputs": []
    },
    {
      "cell_type": "markdown",
      "metadata": {
        "id": "eKPAwyD0Maq8",
        "colab_type": "text"
      },
      "source": [
        "## Defining optimizer"
      ]
    },
    {
      "cell_type": "code",
      "metadata": {
        "id": "W8feIlfC_WPI",
        "colab_type": "code",
        "colab": {}
      },
      "source": [
        "model = Net().to(device)\n",
        "optimizer = optim.SGD(model.parameters(), lr=args.lr)\n"
      ],
      "execution_count": 0,
      "outputs": []
    },
    {
      "cell_type": "markdown",
      "metadata": {
        "id": "EBeBasBWMd4l",
        "colab_type": "text"
      },
      "source": [
        "## Defining Training loop and validation loop\n",
        "### federated learning training"
      ]
    },
    {
      "cell_type": "code",
      "metadata": {
        "id": "EEPpe0uO_WiV",
        "colab_type": "code",
        "colab": {}
      },
      "source": [
        "def train_and_test(e):\n",
        "    epochs = e\n",
        "    train_losses , test_losses = [] , []\n",
        "    valid_loss_min = np.Inf \n",
        "    model.train()\n",
        "    print(\"training started...\")\n",
        "    for epoch in range(epochs):\n",
        "      running_loss = 0\n",
        "      batch = 0\n",
        "      #scheduler.step()\n",
        "      for images , labels in federated_train_loader:\n",
        "        model.send(images.location)\n",
        "        images, labels = images.to(device), labels.to(device)\n",
        "        optimizer.zero_grad()\n",
        "        outputs = model(images)\n",
        "        outputs = F.log_softmax(outputs, dim=1)\n",
        "        loss = F.nll_loss(outputs, labels)\n",
        "        loss.backward()\n",
        "        optimizer.step()\n",
        "        model.get()\n",
        "        running_loss += loss.get().item()\n",
        "        batch += 1\n",
        "        if batch % 200 == 0:\n",
        "          print(f\" epoch {epoch + 1} batch {batch} completed\")\n",
        "      test_loss = 0\n",
        "      accuracy = 0\n",
        "      with torch.no_grad():\n",
        "        model.eval() \n",
        "        for images , labels in validloader:\n",
        "          images, labels = images.to(device), labels.to(device)\n",
        "          logps = model(images) \n",
        "          logps = F.log_softmax(logps, dim=1)\n",
        "          test_loss +=  F.nll_loss(logps, labels)\n",
        "          ps = torch.exp(logps)\n",
        "          top_p , top_class = ps.topk(1,dim=1)\n",
        "          equals = top_class == labels.view(*top_class.shape)\n",
        "          accuracy += torch.mean(equals.type(torch.FloatTensor))\n",
        "      train_losses.append(running_loss/len(federated_train_loader))\n",
        "      test_losses.append(test_loss/len(validloader))\n",
        "      print(\"Epoch: {}/{}.. \".format(epoch+1, epochs),\"Training Loss: {:.3f}.. \".format(running_loss/len(federated_train_loader)),\"Valid Loss: {:.3f}.. \".format(test_loss/len(validloader)),\n",
        "        \"Valid Accuracy: {:.3f}\".format(accuracy/len(validloader)))\n",
        "      model.train()\n",
        "      if test_loss/len(validloader) <= valid_loss_min:\n",
        "        print('Validation loss decreased ({:.6f} --> {:.6f}).  Saving model ...'.format(valid_loss_min,test_loss/len(validloader))) \n",
        "        valid_loss_min = test_loss/len(validloader)   \n",
        "    print(\"Training completed\")    \n",
        "    return train_losses, test_losses"
      ],
      "execution_count": 0,
      "outputs": []
    },
    {
      "cell_type": "code",
      "metadata": {
        "id": "lSQSmHvy_aE1",
        "colab_type": "code",
        "outputId": "a368a850-60c7-4307-e141-edce5b2a1144",
        "colab": {
          "base_uri": "https://localhost:8080/",
          "height": 580
        }
      },
      "source": [
        "train_losses, test_losses = train_and_test(5)"
      ],
      "execution_count": 0,
      "outputs": [
        {
          "output_type": "stream",
          "text": [
            "training started...\n",
            " epoch 1 batch 200 completed\n",
            " epoch 1 batch 400 completed\n",
            " epoch 1 batch 600 completed\n",
            " epoch 1 batch 800 completed\n",
            "Epoch: 1/5..  Training Loss: 0.542..  Valid Loss: 0.304..  Valid Accuracy: 0.915\n",
            "Validation loss decreased (inf --> 0.304273).  Saving model ...\n",
            " epoch 2 batch 200 completed\n",
            " epoch 2 batch 400 completed\n",
            " epoch 2 batch 600 completed\n",
            " epoch 2 batch 800 completed\n",
            "Epoch: 2/5..  Training Loss: 0.286..  Valid Loss: 0.246..  Valid Accuracy: 0.930\n",
            "Validation loss decreased (0.304273 --> 0.246335).  Saving model ...\n",
            " epoch 3 batch 200 completed\n",
            " epoch 3 batch 400 completed\n",
            " epoch 3 batch 600 completed\n",
            " epoch 3 batch 800 completed\n",
            "Epoch: 3/5..  Training Loss: 0.237..  Valid Loss: 0.212..  Valid Accuracy: 0.939\n",
            "Validation loss decreased (0.246335 --> 0.212362).  Saving model ...\n",
            " epoch 4 batch 200 completed\n",
            " epoch 4 batch 400 completed\n",
            " epoch 4 batch 600 completed\n",
            " epoch 4 batch 800 completed\n",
            "Epoch: 4/5..  Training Loss: 0.204..  Valid Loss: 0.188..  Valid Accuracy: 0.946\n",
            "Validation loss decreased (0.212362 --> 0.188346).  Saving model ...\n",
            " epoch 5 batch 200 completed\n",
            " epoch 5 batch 400 completed\n",
            " epoch 5 batch 600 completed\n",
            " epoch 5 batch 800 completed\n",
            "Epoch: 5/5..  Training Loss: 0.180..  Valid Loss: 0.169..  Valid Accuracy: 0.951\n",
            "Validation loss decreased (0.188346 --> 0.169152).  Saving model ...\n",
            "Training completed\n"
          ],
          "name": "stdout"
        }
      ]
    },
    {
      "cell_type": "markdown",
      "metadata": {
        "id": "xLDOpNGoMqYS",
        "colab_type": "text"
      },
      "source": [
        "## defining private test loader for encrypting dataset"
      ]
    },
    {
      "cell_type": "code",
      "metadata": {
        "id": "_TRyudgc_cNa",
        "colab_type": "code",
        "colab": {}
      },
      "source": [
        "private_test_loader = []\n",
        "for data, target in validloader:\n",
        "    private_test_loader.append((\n",
        "        data.fix_prec().share(alice, bob, crypto_provider=crypto_provider),\n",
        "        target.fix_prec().share(alice, bob, crypto_provider=crypto_provider)\n",
        "    ))"
      ],
      "execution_count": 0,
      "outputs": []
    },
    {
      "cell_type": "markdown",
      "metadata": {
        "id": "JbP0nWAiMyB0",
        "colab_type": "text"
      },
      "source": [
        "## Encrypting model "
      ]
    },
    {
      "cell_type": "code",
      "metadata": {
        "id": "5VcKaC2Z_dmR",
        "colab_type": "code",
        "outputId": "1ac2c4e8-7a4b-4443-c6ac-a968b67f6241",
        "colab": {
          "base_uri": "https://localhost:8080/",
          "height": 87
        }
      },
      "source": [
        "model.fix_precision().share(alice, bob, crypto_provider=crypto_provider)\n"
      ],
      "execution_count": 0,
      "outputs": [
        {
          "output_type": "execute_result",
          "data": {
            "text/plain": [
              "Net(\n",
              "  (fc1): Linear(in_features=784, out_features=500, bias=True)\n",
              "  (fc2): Linear(in_features=500, out_features=10, bias=True)\n",
              ")"
            ]
          },
          "metadata": {
            "tags": []
          },
          "execution_count": 15
        }
      ]
    },
    {
      "cell_type": "markdown",
      "metadata": {
        "id": "wQHWdGUGM67c",
        "colab_type": "text"
      },
      "source": [
        "## Testing on encrypted dataset and encrypted model"
      ]
    },
    {
      "cell_type": "code",
      "metadata": {
        "id": "_MxC5aapFq0Q",
        "colab_type": "code",
        "colab": {}
      },
      "source": [
        "def test(args, model, test_loader):\n",
        "    model.eval()\n",
        "    n_correct_priv = 0\n",
        "    n_total = 0\n",
        "    with torch.no_grad():\n",
        "        for data, target in test_loader:\n",
        "            output = model(data)            \n",
        "            pred = output.argmax(dim=1) \n",
        "            n_correct_priv += pred.eq(target.view_as(pred)).sum()\n",
        "            n_total += args.test_batch_size\n",
        "            \n",
        "            n_correct = n_correct_priv.copy().get().float_precision().long().item()\n",
        "    \n",
        "            print('Test set: Accuracy: {}/{} ({:.0f}%)'.format(\n",
        "                n_correct, n_total,\n",
        "                100. * n_correct / n_total))"
      ],
      "execution_count": 0,
      "outputs": []
    },
    {
      "cell_type": "code",
      "metadata": {
        "id": "dueN0xrMxNgl",
        "colab_type": "code",
        "outputId": "2d813f27-b114-4242-b5c5-97a1b3a71a63",
        "colab": {
          "base_uri": "https://localhost:8080/",
          "height": 1000
        }
      },
      "source": [
        "test(args, model, private_test_loader)"
      ],
      "execution_count": 0,
      "outputs": [
        {
          "output_type": "stream",
          "text": [
            "Test set: Accuracy: 61/64 (95%)\n",
            "Test set: Accuracy: 124/128 (97%)\n",
            "Test set: Accuracy: 185/192 (96%)\n",
            "Test set: Accuracy: 246/256 (96%)\n",
            "Test set: Accuracy: 304/320 (95%)\n",
            "Test set: Accuracy: 364/384 (95%)\n",
            "Test set: Accuracy: 424/448 (95%)\n",
            "Test set: Accuracy: 482/512 (94%)\n",
            "Test set: Accuracy: 542/576 (94%)\n",
            "Test set: Accuracy: 603/640 (94%)\n",
            "Test set: Accuracy: 664/704 (94%)\n",
            "Test set: Accuracy: 725/768 (94%)\n",
            "Test set: Accuracy: 786/832 (94%)\n",
            "Test set: Accuracy: 843/896 (94%)\n",
            "Test set: Accuracy: 903/960 (94%)\n",
            "Test set: Accuracy: 964/1024 (94%)\n",
            "Test set: Accuracy: 1025/1088 (94%)\n",
            "Test set: Accuracy: 1083/1152 (94%)\n",
            "Test set: Accuracy: 1147/1216 (94%)\n",
            "Test set: Accuracy: 1210/1280 (95%)\n",
            "Test set: Accuracy: 1270/1344 (94%)\n",
            "Test set: Accuracy: 1330/1408 (94%)\n",
            "Test set: Accuracy: 1389/1472 (94%)\n",
            "Test set: Accuracy: 1452/1536 (95%)\n",
            "Test set: Accuracy: 1514/1600 (95%)\n",
            "Test set: Accuracy: 1578/1664 (95%)\n",
            "Test set: Accuracy: 1635/1728 (95%)\n",
            "Test set: Accuracy: 1698/1792 (95%)\n",
            "Test set: Accuracy: 1757/1856 (95%)\n",
            "Test set: Accuracy: 1821/1920 (95%)\n",
            "Test set: Accuracy: 1882/1984 (95%)\n",
            "Test set: Accuracy: 1942/2048 (95%)\n",
            "Test set: Accuracy: 2003/2112 (95%)\n",
            "Test set: Accuracy: 2066/2176 (95%)\n",
            "Test set: Accuracy: 2125/2240 (95%)\n",
            "Test set: Accuracy: 2185/2304 (95%)\n",
            "Test set: Accuracy: 2244/2368 (95%)\n",
            "Test set: Accuracy: 2305/2432 (95%)\n",
            "Test set: Accuracy: 2365/2496 (95%)\n",
            "Test set: Accuracy: 2425/2560 (95%)\n",
            "Test set: Accuracy: 2486/2624 (95%)\n",
            "Test set: Accuracy: 2545/2688 (95%)\n",
            "Test set: Accuracy: 2609/2752 (95%)\n",
            "Test set: Accuracy: 2670/2816 (95%)\n",
            "Test set: Accuracy: 2730/2880 (95%)\n",
            "Test set: Accuracy: 2787/2944 (95%)\n",
            "Test set: Accuracy: 2848/3008 (95%)\n",
            "Test set: Accuracy: 2910/3072 (95%)\n",
            "Test set: Accuracy: 2972/3136 (95%)\n",
            "Test set: Accuracy: 3033/3200 (95%)\n",
            "Test set: Accuracy: 3095/3264 (95%)\n",
            "Test set: Accuracy: 3158/3328 (95%)\n",
            "Test set: Accuracy: 3219/3392 (95%)\n",
            "Test set: Accuracy: 3282/3456 (95%)\n",
            "Test set: Accuracy: 3340/3520 (95%)\n",
            "Test set: Accuracy: 3402/3584 (95%)\n",
            "Test set: Accuracy: 3461/3648 (95%)\n",
            "Test set: Accuracy: 3523/3712 (95%)\n",
            "Test set: Accuracy: 3583/3776 (95%)\n",
            "Test set: Accuracy: 3644/3840 (95%)\n",
            "Test set: Accuracy: 3706/3904 (95%)\n",
            "Test set: Accuracy: 3766/3968 (95%)\n",
            "Test set: Accuracy: 3826/4032 (95%)\n",
            "Test set: Accuracy: 3888/4096 (95%)\n",
            "Test set: Accuracy: 3949/4160 (95%)\n",
            "Test set: Accuracy: 4008/4224 (95%)\n",
            "Test set: Accuracy: 4065/4288 (95%)\n",
            "Test set: Accuracy: 4128/4352 (95%)\n",
            "Test set: Accuracy: 4190/4416 (95%)\n",
            "Test set: Accuracy: 4252/4480 (95%)\n",
            "Test set: Accuracy: 4313/4544 (95%)\n",
            "Test set: Accuracy: 4372/4608 (95%)\n",
            "Test set: Accuracy: 4431/4672 (95%)\n",
            "Test set: Accuracy: 4492/4736 (95%)\n",
            "Test set: Accuracy: 4553/4800 (95%)\n",
            "Test set: Accuracy: 4613/4864 (95%)\n",
            "Test set: Accuracy: 4672/4928 (95%)\n",
            "Test set: Accuracy: 4733/4992 (95%)\n",
            "Test set: Accuracy: 4794/5056 (95%)\n",
            "Test set: Accuracy: 4855/5120 (95%)\n",
            "Test set: Accuracy: 4916/5184 (95%)\n",
            "Test set: Accuracy: 4979/5248 (95%)\n",
            "Test set: Accuracy: 5035/5312 (95%)\n",
            "Test set: Accuracy: 5095/5376 (95%)\n",
            "Test set: Accuracy: 5156/5440 (95%)\n",
            "Test set: Accuracy: 5213/5504 (95%)\n",
            "Test set: Accuracy: 5271/5568 (95%)\n",
            "Test set: Accuracy: 5331/5632 (95%)\n",
            "Test set: Accuracy: 5394/5696 (95%)\n",
            "Test set: Accuracy: 5456/5760 (95%)\n",
            "Test set: Accuracy: 5516/5824 (95%)\n",
            "Test set: Accuracy: 5575/5888 (95%)\n",
            "Test set: Accuracy: 5637/5952 (95%)\n",
            "Test set: Accuracy: 5700/6016 (95%)\n",
            "Test set: Accuracy: 5764/6080 (95%)\n",
            "Test set: Accuracy: 5827/6144 (95%)\n",
            "Test set: Accuracy: 5889/6208 (95%)\n",
            "Test set: Accuracy: 5951/6272 (95%)\n",
            "Test set: Accuracy: 6010/6336 (95%)\n",
            "Test set: Accuracy: 6068/6400 (95%)\n",
            "Test set: Accuracy: 6130/6464 (95%)\n",
            "Test set: Accuracy: 6191/6528 (95%)\n",
            "Test set: Accuracy: 6254/6592 (95%)\n",
            "Test set: Accuracy: 6313/6656 (95%)\n",
            "Test set: Accuracy: 6372/6720 (95%)\n",
            "Test set: Accuracy: 6434/6784 (95%)\n",
            "Test set: Accuracy: 6493/6848 (95%)\n",
            "Test set: Accuracy: 6552/6912 (95%)\n",
            "Test set: Accuracy: 6612/6976 (95%)\n",
            "Test set: Accuracy: 6673/7040 (95%)\n",
            "Test set: Accuracy: 6733/7104 (95%)\n",
            "Test set: Accuracy: 6792/7168 (95%)\n",
            "Test set: Accuracy: 6854/7232 (95%)\n",
            "Test set: Accuracy: 6913/7296 (95%)\n",
            "Test set: Accuracy: 6974/7360 (95%)\n",
            "Test set: Accuracy: 7035/7424 (95%)\n",
            "Test set: Accuracy: 7097/7488 (95%)\n",
            "Test set: Accuracy: 7160/7552 (95%)\n",
            "Test set: Accuracy: 7224/7616 (95%)\n",
            "Test set: Accuracy: 7285/7680 (95%)\n",
            "Test set: Accuracy: 7347/7744 (95%)\n",
            "Test set: Accuracy: 7407/7808 (95%)\n",
            "Test set: Accuracy: 7468/7872 (95%)\n",
            "Test set: Accuracy: 7530/7936 (95%)\n",
            "Test set: Accuracy: 7591/8000 (95%)\n",
            "Test set: Accuracy: 7652/8064 (95%)\n",
            "Test set: Accuracy: 7716/8128 (95%)\n",
            "Test set: Accuracy: 7777/8192 (95%)\n",
            "Test set: Accuracy: 7839/8256 (95%)\n",
            "Test set: Accuracy: 7900/8320 (95%)\n",
            "Test set: Accuracy: 7960/8384 (95%)\n",
            "Test set: Accuracy: 8023/8448 (95%)\n",
            "Test set: Accuracy: 8084/8512 (95%)\n",
            "Test set: Accuracy: 8148/8576 (95%)\n",
            "Test set: Accuracy: 8208/8640 (95%)\n",
            "Test set: Accuracy: 8268/8704 (95%)\n",
            "Test set: Accuracy: 8330/8768 (95%)\n",
            "Test set: Accuracy: 8392/8832 (95%)\n",
            "Test set: Accuracy: 8454/8896 (95%)\n",
            "Test set: Accuracy: 8514/8960 (95%)\n",
            "Test set: Accuracy: 8572/9024 (95%)\n",
            "Test set: Accuracy: 8633/9088 (95%)\n",
            "Test set: Accuracy: 8696/9152 (95%)\n",
            "Test set: Accuracy: 8758/9216 (95%)\n",
            "Test set: Accuracy: 8818/9280 (95%)\n",
            "Test set: Accuracy: 8875/9344 (95%)\n",
            "Test set: Accuracy: 8937/9408 (95%)\n",
            "Test set: Accuracy: 9001/9472 (95%)\n",
            "Test set: Accuracy: 9061/9536 (95%)\n",
            "Test set: Accuracy: 9125/9600 (95%)\n",
            "Test set: Accuracy: 9187/9664 (95%)\n",
            "Test set: Accuracy: 9248/9728 (95%)\n",
            "Test set: Accuracy: 9311/9792 (95%)\n",
            "Test set: Accuracy: 9374/9856 (95%)\n",
            "Test set: Accuracy: 9434/9920 (95%)\n",
            "Test set: Accuracy: 9495/9984 (95%)\n",
            "Test set: Accuracy: 9510/10048 (95%)\n"
          ],
          "name": "stdout"
        }
      ]
    },
    {
      "cell_type": "markdown",
      "metadata": {
        "id": "bOtrmSn8NAvu",
        "colab_type": "text"
      },
      "source": [
        "## Wooh ! We achived great accuracy while keeping data and model encrypted !"
      ]
    }
  ]
}