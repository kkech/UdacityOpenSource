{
  "nbformat": 4,
  "nbformat_minor": 0,
  "metadata": {
    "colab": {
      "name": "Song recommendation for autonomous vehicle.ipynb",
      "version": "0.3.2",
      "provenance": [],
      "collapsed_sections": [],
      "toc_visible": true,
      "machine_shape": "hm"
    },
    "kernelspec": {
      "name": "python3",
      "display_name": "Python 3"
    },
    "accelerator": "GPU"
  },
  "cells": [
    {
      "cell_type": "code",
      "metadata": {
        "id": "xUN57BiKyMqF",
        "colab_type": "code",
        "colab": {}
      },
      "source": [
        "from __future__ import print_function\n",
        "import os\n",
        "import random\n",
        "import torch\n",
        "import torch.nn as nn\n",
        "import torch.nn.parallel\n",
        "import torch.backends.cudnn as cudnn\n",
        "import torch.optim as optim\n",
        "import torch.utils.data\n",
        "import torch.nn.functional as F\n",
        "import torchvision.datasets as datasets\n",
        "import torchvision.transforms as transforms\n",
        "import torchvision.models as models\n",
        "import torchvision.utils as vutils\n",
        "from collections import OrderedDict\n",
        "import numpy as np\n",
        "import matplotlib.pyplot as plt\n"
      ],
      "execution_count": 0,
      "outputs": []
    },
    {
      "cell_type": "markdown",
      "metadata": {
        "id": "4UUeQvEENphz",
        "colab_type": "text"
      },
      "source": [
        "###check the content of folder"
      ]
    },
    {
      "cell_type": "markdown",
      "metadata": {
        "id": "vY-guANfNwqU",
        "colab_type": "text"
      },
      "source": [
        "##check each file one by one"
      ]
    },
    {
      "cell_type": "markdown",
      "metadata": {
        "id": "BSX91M8bN61e",
        "colab_type": "text"
      },
      "source": [
        "unpickle pickle file, \"genre_to_mxm_track_dict.pkl\" is a dictionary with values as genre type and each value has key which contain song lyrics token. "
      ]
    },
    {
      "cell_type": "code",
      "metadata": {
        "id": "mKzjqi8WL9Cj",
        "colab_type": "code",
        "colab": {}
      },
      "source": [
        "import pickle\n",
        "with open('genre_to_mxm_track_dict.pkl', 'rb') as f:\n",
        "    data = pickle.load(f)"
      ],
      "execution_count": 0,
      "outputs": []
    },
    {
      "cell_type": "code",
      "metadata": {
        "id": "99bfP1L3PypG",
        "colab_type": "code",
        "outputId": "5d632dd8-69a1-4b69-ac98-1bd1c56f94cc",
        "colab": {
          "base_uri": "https://localhost:8080/",
          "height": 34
        }
      },
      "source": [
        "type(data)"
      ],
      "execution_count": 7,
      "outputs": [
        {
          "output_type": "execute_result",
          "data": {
            "text/plain": [
              "collections.defaultdict"
            ]
          },
          "metadata": {
            "tags": []
          },
          "execution_count": 7
        }
      ]
    },
    {
      "cell_type": "markdown",
      "metadata": {
        "id": "8fi9u7rVQevB",
        "colab_type": "text"
      },
      "source": [
        "check the genre as keys of dictionary"
      ]
    },
    {
      "cell_type": "code",
      "metadata": {
        "id": "-qlbSgSyQ0zB",
        "colab_type": "code",
        "outputId": "e340606b-2833-4ea7-9f05-7efdebe01f0d",
        "colab": {
          "base_uri": "https://localhost:8080/",
          "height": 34
        }
      },
      "source": [
        "data.keys()"
      ],
      "execution_count": 8,
      "outputs": [
        {
          "output_type": "execute_result",
          "data": {
            "text/plain": [
              "dict_keys(['rock', 'hip-hop', 'pop', 'metal', 'electronic', 'country', 'alternative', 'r&b'])"
            ]
          },
          "metadata": {
            "tags": []
          },
          "execution_count": 8
        }
      ]
    },
    {
      "cell_type": "markdown",
      "metadata": {
        "id": "2MWuWmzsRpy9",
        "colab_type": "text"
      },
      "source": [
        "corresponding to each key, there is a list which contain tag id of song. this dictionary does not contain whole lyrics of song but just its tag id. \n",
        "Here I have printed each genre with number of songs tagid corresponding to each genre. try prining data[\"rock\"] to check the list of tagid for rock genre\n",
        "Musixmatch dataset recognize songs with these tagids"
      ]
    },
    {
      "cell_type": "code",
      "metadata": {
        "id": "hMpuPEdJQ48X",
        "colab_type": "code",
        "outputId": "44176ef4-3bf3-4387-d1be-acccdcea0e9e",
        "colab": {
          "base_uri": "https://localhost:8080/",
          "height": 156
        }
      },
      "source": [
        "for key in data.keys():\n",
        "  print( key , len(data[key]))"
      ],
      "execution_count": 9,
      "outputs": [
        {
          "output_type": "stream",
          "text": [
            "rock 115724\n",
            "hip-hop 202581\n",
            "pop 51199\n",
            "metal 32316\n",
            "electronic 34755\n",
            "country 15603\n",
            "alternative 8551\n",
            "r&b 1356\n"
          ],
          "name": "stdout"
        }
      ]
    },
    {
      "cell_type": "markdown",
      "metadata": {
        "id": "CEIr8azQTCih",
        "colab_type": "text"
      },
      "source": [
        "Unpickle \"mxm_track_to_genre_dict.pkl\" file. \n",
        "This is dictionary with keys as song tagids and each key contain only one value i.e. its genre"
      ]
    },
    {
      "cell_type": "code",
      "metadata": {
        "id": "bpH8-aWQS1iZ",
        "colab_type": "code",
        "colab": {}
      },
      "source": [
        "import pickle\n",
        "with open('mxm_track_to_genre_dict.pkl', 'rb') as f:\n",
        "    data = pickle.load(f)"
      ],
      "execution_count": 0,
      "outputs": []
    },
    {
      "cell_type": "markdown",
      "metadata": {
        "id": "-HJ9OLyWTm03",
        "colab_type": "text"
      },
      "source": [
        "it contains 396863 song tagids."
      ]
    },
    {
      "cell_type": "code",
      "metadata": {
        "id": "IxWS4KS4S7-1",
        "colab_type": "code",
        "outputId": "f461c830-2099-49fe-9272-4c3e313e2339",
        "colab": {
          "base_uri": "https://localhost:8080/",
          "height": 34
        }
      },
      "source": [
        "len(data)"
      ],
      "execution_count": 11,
      "outputs": [
        {
          "output_type": "execute_result",
          "data": {
            "text/plain": [
              "396863"
            ]
          },
          "metadata": {
            "tags": []
          },
          "execution_count": 11
        }
      ]
    },
    {
      "cell_type": "markdown",
      "metadata": {
        "id": "R-46HdWgTxpZ",
        "colab_type": "text"
      },
      "source": [
        "check how this dictionary looks like"
      ]
    },
    {
      "cell_type": "markdown",
      "metadata": {
        "id": "a-EjIR-Ncx7h",
        "colab_type": "text"
      },
      "source": [
        "since million song database database does not contain direct genre as label but tags like \" a beautiful rock song\". below printed 500 tags to the tracks/songs"
      ]
    },
    {
      "cell_type": "markdown",
      "metadata": {
        "id": "hkLSrEZscFP0",
        "colab_type": "text"
      },
      "source": [
        "tids.csv file contain all the track ids ( track ids are ids given to each song. it is like pointer to a dataset) \n",
        "Note : these track ids are of million song database not of Musixmatch dataset."
      ]
    },
    {
      "cell_type": "code",
      "metadata": {
        "id": "_DEjWKag7ggb",
        "colab_type": "code",
        "colab": {}
      },
      "source": [
        "import csv\n",
        "with open('tids.csv','rt')as f:\n",
        "  data = csv.reader(f)\n",
        "  for i, row in enumerate(data):\n",
        "    if i==500:\n",
        "       break\n",
        "    print(row)"
      ],
      "execution_count": 0,
      "outputs": []
    },
    {
      "cell_type": "code",
      "metadata": {
        "id": "zjQQMEMm_nGk",
        "colab_type": "code",
        "outputId": "60eee281-c681-4149-d4ab-31b19285742b",
        "colab": {
          "base_uri": "https://localhost:8080/",
          "height": 52
        }
      },
      "source": [
        "!unzip 'mxm_dataset_train.txt.zip'"
      ],
      "execution_count": 13,
      "outputs": [
        {
          "output_type": "stream",
          "text": [
            "Archive:  mxm_dataset_train.txt.zip\n",
            "replace mxm_dataset_train.txt? [y]es, [n]o, [A]ll, [N]one, [r]ename: N\n"
          ],
          "name": "stdout"
        }
      ]
    },
    {
      "cell_type": "markdown",
      "metadata": {
        "id": "IJq8aDQfiHwD",
        "colab_type": "text"
      },
      "source": [
        "this is text file containing top 5000 words, Million song dataset track id, Musixmatch track id and (token:count) for each word in lyrics. Download it and paste in your working directory. Then run the given code in cell below, that will create a pickle dictionary named \"mxm_track_to_vector_dict.pkl\""
      ]
    },
    {
      "cell_type": "markdown",
      "metadata": {
        "id": "e0BEOkRBiBTR",
        "colab_type": "text"
      },
      "source": [
        "http://millionsongdataset.com/sites/default/files/AdditionalFiles/mxm_dataset_train.txt.zip "
      ]
    },
    {
      "cell_type": "code",
      "metadata": {
        "id": "y_CQQDcCi8wN",
        "colab_type": "code",
        "colab": {}
      },
      "source": [
        "import csv\n",
        "import collections\n",
        "import operator\n",
        "import pickle\n",
        "import os\n",
        "\n",
        "def convert_to_ndarray(d):\n",
        "    arr = [0] * 5000\n",
        "    for key, val in d.items():\n",
        "        key = int(key) - 1\n",
        "        arr[key] = val\n",
        "    return arr\n",
        "\n",
        "track_to_vector_dict = {}\n",
        "\n",
        "with open('mxm_dataset_train.txt', 'r') as f:\n",
        "\tout = f.readlines()\n",
        "\tfor line in out: \n",
        "\t\tline = line.strip('\\n')\n",
        "\t\tif line[0] != '#': \n",
        "\t\t\tif line[0] == '%': \n",
        "\t\t\t\tVOCAB = line.split(',')\n",
        "\t\t\telse: \n",
        "\t\t\t\td = {}\n",
        "\t\t\t\tsplitted = line.split(',')\n",
        "\t\t\t\t_ = splitted[0]\n",
        "\t\t\t\ttid = splitted[1]\n",
        "\t\t\t\tfor unsplit_dict in splitted[2:]:\n",
        "\t\t\t\t\tpair = unsplit_dict.split(':')\n",
        "\t\t\t\t\tindex = int(pair[0])\n",
        "\t\t\t\t\tcount = int(pair[1])\n",
        "\t\t\t\t\td[index] = count\n",
        "\t\t\t\ttrack_to_vector_dict[tid] = convert_to_ndarray(d)\n",
        "\n",
        "with open('mxm_track_to_vector_dict.pkl', 'wb') as f: \n",
        "  pickle.dump(track_to_vector_dict, f)"
      ],
      "execution_count": 0,
      "outputs": []
    },
    {
      "cell_type": "code",
      "metadata": {
        "id": "XlkoK4Sr3nBD",
        "colab_type": "code",
        "colab": {}
      },
      "source": [
        "VOCAB[0] = 'i'\n",
        "VOCAB"
      ],
      "execution_count": 0,
      "outputs": []
    },
    {
      "cell_type": "markdown",
      "metadata": {
        "id": "oIN8rezugsik",
        "colab_type": "text"
      },
      "source": [
        "### \"'mxm_track_to_vector_dict.pkl'\" is a dictionary whose keys are track id in Musixmatch dataset and value corresponding to each key is vector of 5000 tokens as index and with scores (count of that word in song) at each index"
      ]
    },
    {
      "cell_type": "code",
      "metadata": {
        "id": "U6ysEf-KFVGY",
        "colab_type": "code",
        "colab": {}
      },
      "source": [
        "import csv\n",
        "import collections\n",
        "import operator\n",
        "import pickle\n",
        "import os\n",
        "import numpy as np"
      ],
      "execution_count": 0,
      "outputs": []
    },
    {
      "cell_type": "markdown",
      "metadata": {
        "id": "5V5CCFH9jo3z",
        "colab_type": "text"
      },
      "source": [
        "explore data if you want to. try printing keys and value for any key for intuition of data"
      ]
    },
    {
      "cell_type": "code",
      "metadata": {
        "id": "4fFG_CEhhMEC",
        "colab_type": "code",
        "colab": {}
      },
      "source": [
        "with open('mxm_track_to_vector_dict.pkl', 'rb') as f:\n",
        "    data = pickle.load(f)"
      ],
      "execution_count": 0,
      "outputs": []
    },
    {
      "cell_type": "code",
      "metadata": {
        "id": "8q9bseORKZmF",
        "colab_type": "code",
        "outputId": "137259e4-4ef1-4de5-a75c-721a49754e1a",
        "colab": {
          "base_uri": "https://localhost:8080/",
          "height": 191
        }
      },
      "source": [
        "list(data.keys())[:10]"
      ],
      "execution_count": 18,
      "outputs": [
        {
          "output_type": "execute_result",
          "data": {
            "text/plain": [
              "['4623710',\n",
              " '6477168',\n",
              " '2516445',\n",
              " '3759847',\n",
              " '3783760',\n",
              " '6640025',\n",
              " '5493388',\n",
              " '5133845',\n",
              " '1619153',\n",
              " '8525084']"
            ]
          },
          "metadata": {
            "tags": []
          },
          "execution_count": 18
        }
      ]
    },
    {
      "cell_type": "code",
      "metadata": {
        "id": "2KkBGiJnLYUJ",
        "colab_type": "code",
        "outputId": "7fcb2c52-f15e-45a9-b86a-0137af3a5f96",
        "colab": {
          "base_uri": "https://localhost:8080/",
          "height": 34
        }
      },
      "source": [
        "len((list(data.values())[:1])[0])"
      ],
      "execution_count": 19,
      "outputs": [
        {
          "output_type": "execute_result",
          "data": {
            "text/plain": [
              "5000"
            ]
          },
          "metadata": {
            "tags": []
          },
          "execution_count": 19
        }
      ]
    },
    {
      "cell_type": "markdown",
      "metadata": {
        "id": "0fKgRESdjYin",
        "colab_type": "text"
      },
      "source": [
        "##Here we have completed our data preprocessing. \n",
        "we have three pickle file. thats our dataset."
      ]
    },
    {
      "cell_type": "markdown",
      "metadata": {
        "id": "mJvU-Cwkj5hC",
        "colab_type": "text"
      },
      "source": [
        "TASK : \n",
        "READ FEATURE SELECTION PART. \n",
        "SEARCH HOW TO CLASSIFY SEQUENCE DATA.\n",
        "Read train_test.py "
      ]
    },
    {
      "cell_type": "code",
      "metadata": {
        "id": "oYuRIBUQDYe7",
        "colab_type": "code",
        "colab": {}
      },
      "source": [
        "with open('mxm_track_to_genre_dict.pkl', 'rb') as f: \n",
        "\ttrack_to_genre_dict = pickle.load(f)\n",
        "\n",
        "with open('genre_to_mxm_track_dict.pkl', 'rb') as f: \n",
        "  genre_to_tracks_dict = pickle.load(f)"
      ],
      "execution_count": 0,
      "outputs": []
    },
    {
      "cell_type": "code",
      "metadata": {
        "id": "uUyw7Lk_BajR",
        "colab_type": "code",
        "colab": {}
      },
      "source": [
        "genre_mean_dict = {}\n",
        "\n",
        "for genre in genre_to_tracks_dict:\n",
        "\ttracks = genre_to_tracks_dict[genre]\n",
        "\tvecs = []\n",
        "\tfor track in tracks: \n",
        "\t\tif track in data.keys():\n",
        "\t\t\tvecs.append(data[track])\n",
        "\tgenre_mean_dict[genre] = np.mean(vecs, axis=0)"
      ],
      "execution_count": 0,
      "outputs": []
    },
    {
      "cell_type": "code",
      "metadata": {
        "id": "Ux5Y1oS7BcWq",
        "colab_type": "code",
        "outputId": "15deca1c-6761-4a74-f3b2-18a436ab21c6",
        "colab": {
          "base_uri": "https://localhost:8080/",
          "height": 34
        }
      },
      "source": [
        "len(track_to_genre_dict)"
      ],
      "execution_count": 22,
      "outputs": [
        {
          "output_type": "execute_result",
          "data": {
            "text/plain": [
              "396863"
            ]
          },
          "metadata": {
            "tags": []
          },
          "execution_count": 22
        }
      ]
    },
    {
      "cell_type": "code",
      "metadata": {
        "id": "yuYQDRUEEHCs",
        "colab_type": "code",
        "outputId": "06df7cdd-8dc9-42cd-86c0-da7a337c4af9",
        "colab": {
          "base_uri": "https://localhost:8080/",
          "height": 34
        }
      },
      "source": [
        "len(data)"
      ],
      "execution_count": 23,
      "outputs": [
        {
          "output_type": "execute_result",
          "data": {
            "text/plain": [
              "210519"
            ]
          },
          "metadata": {
            "tags": []
          },
          "execution_count": 23
        }
      ]
    },
    {
      "cell_type": "code",
      "metadata": {
        "id": "AHPLKeQ0EPGj",
        "colab_type": "code",
        "colab": {}
      },
      "source": [
        "overlap = []\n",
        "for key in track_to_genre_dict.keys():\n",
        "\tif key in data.keys():\n",
        "\t\toverlap.append(key)\n",
        "\n",
        "genre_list = []\n",
        "track_list = []\n",
        "for o in overlap:\n",
        "  genre_list.append(track_to_genre_dict[o])"
      ],
      "execution_count": 0,
      "outputs": []
    },
    {
      "cell_type": "code",
      "metadata": {
        "id": "MUCIf8XtSQsM",
        "colab_type": "code",
        "colab": {}
      },
      "source": [
        "track_to_genre_id_dict = {}\n",
        "for i,genre in enumerate(genre_to_tracks_dict.keys()):\n",
        "  track_to_genre_id_dict[genre] = i"
      ],
      "execution_count": 0,
      "outputs": []
    },
    {
      "cell_type": "code",
      "metadata": {
        "id": "EFfHx6qhcFk7",
        "colab_type": "code",
        "outputId": "9bf81e36-0a08-429a-e96e-f654821f2099",
        "colab": {
          "base_uri": "https://localhost:8080/",
          "height": 156
        }
      },
      "source": [
        "track_to_genre_id_dict"
      ],
      "execution_count": 26,
      "outputs": [
        {
          "output_type": "execute_result",
          "data": {
            "text/plain": [
              "{'alternative': 6,\n",
              " 'country': 5,\n",
              " 'electronic': 4,\n",
              " 'hip-hop': 1,\n",
              " 'metal': 3,\n",
              " 'pop': 2,\n",
              " 'r&b': 7,\n",
              " 'rock': 0}"
            ]
          },
          "metadata": {
            "tags": []
          },
          "execution_count": 26
        }
      ]
    },
    {
      "cell_type": "markdown",
      "metadata": {
        "id": "DjEsifPIi3X7",
        "colab_type": "text"
      },
      "source": [
        "Creating data to pass into classifier and clustering\n",
        "###x \n",
        "contain all the vector that overlap in Track to genre dictionary and mxm_track_to_vector_dict.pkl. \n",
        "Since all song's genre couldn't be extracted from tags.\n",
        "###Y\n",
        "list that contain all the genre corresponding to each song lyrics\n",
        "###label \n",
        "contain id given to genre"
      ]
    },
    {
      "cell_type": "code",
      "metadata": {
        "id": "NwIVwirfFFQO",
        "colab_type": "code",
        "colab": {}
      },
      "source": [
        "x = []\n",
        "y_ = []\n",
        "label = []\n",
        "trk=[]\n",
        "count_dict = collections.defaultdict(int)\n",
        "\n",
        "for o in overlap:\n",
        "  if track_to_genre_dict[o] != 'r&b':\n",
        "    if count_dict[track_to_genre_dict[o]] < 4216:\n",
        "      count_dict[track_to_genre_dict[o]] += 1\n",
        "      x.append(data[o])\n",
        "      trk.append(o)\n",
        "      y_.append(track_to_genre_dict[o])\n",
        "      label.append(track_to_genre_id_dict[track_to_genre_dict[o]])"
      ],
      "execution_count": 0,
      "outputs": []
    },
    {
      "cell_type": "markdown",
      "metadata": {
        "id": "FWdt6olAkM2z",
        "colab_type": "text"
      },
      "source": [
        "Here TfidfTransformer is imported from sklearn library.\n",
        "###Why converted lyrics into vectors (word embedding)\n",
        "In very simplistic terms, Word Embeddings are the texts converted into numbers and there may be different numerical representations of the same text. many Machine Learning algorithms and almost all Deep Learning Architectures are incapable of processing strings or plain text in their raw form. \n",
        "###Types of word embedding\n",
        "Frequency based word embedding\n",
        "Probabilistic based word embedding\n",
        "### count vector (current word embedding)\n",
        "Consider a Corpus C of D documents {d1,d2…..dD} and N unique tokens extracted out of the corpus C. The N tokens will form our dictionary and the size of the Count Vector matrix M will be given by D X N. Each row in the matrix M contains the frequency of tokens in document D(i).\n",
        "###why TfidfTransformer\n",
        "This is another method which is based on the frequency method but it is different to the count vectorization in the sense that it takes into account not just the occurrence of a word in a single document but in the entire corpus. So, what is the rationale behind this? Let us try to understand.\n",
        "\n",
        "Common words like ‘is’, ‘the’, ‘a’ etc. tend to appear quite frequently in comparison to the words which are important to a document. For example, a document A on Lionel Messi is going to contain more occurences of the word “Messi” in comparison to other documents. But common words like “the” etc. are also going to be present in higher frequency in almost every document.\n",
        "\n",
        "Ideally, what we would want is to down weight the common words occurring in almost all documents and give more importance to words that appear in a subset of documents.\n",
        "\n",
        "\n",
        "###Check out this amazing tutorial to better understand word embedding\n",
        "https://www.analyticsvidhya.com/blog/2017/06/word-embeddings-count-word2veec/"
      ]
    },
    {
      "cell_type": "code",
      "metadata": {
        "id": "cHQTQCG5NtZJ",
        "colab_type": "code",
        "colab": {}
      },
      "source": [
        "from sklearn.feature_extraction.text import TfidfTransformer\n",
        "vectorizer = TfidfTransformer()\n",
        "vec = vectorizer.fit_transform(x)\n",
        "vec = vec.todense()"
      ],
      "execution_count": 0,
      "outputs": []
    },
    {
      "cell_type": "code",
      "metadata": {
        "id": "rTRsAneTObDk",
        "colab_type": "code",
        "outputId": "6ab620ab-b3c8-440c-a887-5f465bedce13",
        "colab": {
          "base_uri": "https://localhost:8080/",
          "height": 34
        }
      },
      "source": [
        "type(vec)"
      ],
      "execution_count": 29,
      "outputs": [
        {
          "output_type": "execute_result",
          "data": {
            "text/plain": [
              "numpy.matrix"
            ]
          },
          "metadata": {
            "tags": []
          },
          "execution_count": 29
        }
      ]
    },
    {
      "cell_type": "code",
      "metadata": {
        "id": "GlEZBJzRNYqM",
        "colab_type": "code",
        "colab": {}
      },
      "source": [
        "import torch\n",
        "x = torch.FloatTensor(x)\n",
        "label = torch.LongTensor(label)\n",
        "vec = torch.FloatTensor(vec)"
      ],
      "execution_count": 0,
      "outputs": []
    },
    {
      "cell_type": "code",
      "metadata": {
        "id": "k9e1nY6SQidL",
        "colab_type": "code",
        "outputId": "84c2b00c-5508-4dea-b681-467dcba7d6ba",
        "colab": {
          "base_uri": "https://localhost:8080/",
          "height": 34
        }
      },
      "source": [
        "print(x.shape, vec.shape)"
      ],
      "execution_count": 31,
      "outputs": [
        {
          "output_type": "stream",
          "text": [
            "torch.Size([29512, 5000]) torch.Size([29512, 5000])\n"
          ],
          "name": "stdout"
        }
      ]
    },
    {
      "cell_type": "code",
      "metadata": {
        "id": "XHHbVOzQT5k2",
        "colab_type": "code",
        "colab": {}
      },
      "source": [
        "x=vec"
      ],
      "execution_count": 0,
      "outputs": []
    },
    {
      "cell_type": "code",
      "metadata": {
        "id": "MSJXF9CFhVbM",
        "colab_type": "code",
        "outputId": "76e42689-8bcd-4bda-ea7c-c3cbd20f116a",
        "colab": {
          "base_uri": "https://localhost:8080/",
          "height": 34
        }
      },
      "source": [
        "type(x)"
      ],
      "execution_count": 33,
      "outputs": [
        {
          "output_type": "execute_result",
          "data": {
            "text/plain": [
              "torch.Tensor"
            ]
          },
          "metadata": {
            "tags": []
          },
          "execution_count": 33
        }
      ]
    },
    {
      "cell_type": "markdown",
      "metadata": {
        "id": "eSu2np8DmDan",
        "colab_type": "text"
      },
      "source": [
        "###Split into test and train dataset"
      ]
    },
    {
      "cell_type": "code",
      "metadata": {
        "id": "NWwUakJKFJsa",
        "colab_type": "code",
        "colab": {}
      },
      "source": [
        "import random\n",
        "\n",
        "c = list(zip(x, label))\n",
        "random.shuffle(c)\n",
        "x, label = zip(*c)\n",
        "x = list(x)\n",
        "label = list(label)\n",
        "\n",
        "x_train = x[:-3000]\n",
        "y_train = label[:-3000]\n",
        "x_test = x[-3000:]\n",
        "y_test = label[-3000:]"
      ],
      "execution_count": 0,
      "outputs": []
    },
    {
      "cell_type": "code",
      "metadata": {
        "id": "XA2sJK6XGH8o",
        "colab_type": "code",
        "colab": {}
      },
      "source": [
        "train_dataset= c[:-3000]\n",
        "test_dataset= c[-3000:]"
      ],
      "execution_count": 0,
      "outputs": []
    },
    {
      "cell_type": "code",
      "metadata": {
        "id": "maQddDm-E7p3",
        "colab_type": "code",
        "outputId": "280e17da-999d-424c-992c-568c417869ba",
        "colab": {
          "base_uri": "https://localhost:8080/",
          "height": 34
        }
      },
      "source": [
        "len(test_dataset)"
      ],
      "execution_count": 37,
      "outputs": [
        {
          "output_type": "execute_result",
          "data": {
            "text/plain": [
              "3000"
            ]
          },
          "metadata": {
            "tags": []
          },
          "execution_count": 37
        }
      ]
    },
    {
      "cell_type": "markdown",
      "metadata": {
        "id": "OWz6rK3GmL_E",
        "colab_type": "text"
      },
      "source": [
        "###Creating dataloader "
      ]
    },
    {
      "cell_type": "code",
      "metadata": {
        "id": "0frDRTTLFR5H",
        "colab_type": "code",
        "colab": {}
      },
      "source": [
        "train_loader = torch.utils.data.DataLoader(train_dataset, batch_size=128, shuffle=True)\n",
        "test_loader = torch.utils.data.DataLoader(test_dataset, batch_size=128)"
      ],
      "execution_count": 0,
      "outputs": []
    },
    {
      "cell_type": "code",
      "metadata": {
        "id": "Wq2ET17zJmqP",
        "colab_type": "code",
        "outputId": "61cd7645-2710-44fb-f649-b736d1288880",
        "colab": {
          "base_uri": "https://localhost:8080/",
          "height": 52
        }
      },
      "source": [
        "print(len(train_dataset))\n",
        "print(len(next(iter(train_loader))))"
      ],
      "execution_count": 39,
      "outputs": [
        {
          "output_type": "stream",
          "text": [
            "26512\n",
            "2\n"
          ],
          "name": "stdout"
        }
      ]
    },
    {
      "cell_type": "markdown",
      "metadata": {
        "id": "y9lDMRoCmWJa",
        "colab_type": "text"
      },
      "source": [
        "###Setting hyperparameters for Classifier"
      ]
    },
    {
      "cell_type": "code",
      "metadata": {
        "id": "aga_A0Q-PQZe",
        "colab_type": "code",
        "colab": {}
      },
      "source": [
        "input_dim = 5000\n",
        "hidden_dim = 1024\n",
        "out_dim = 8\n",
        "n_embed = 128"
      ],
      "execution_count": 0,
      "outputs": []
    },
    {
      "cell_type": "markdown",
      "metadata": {
        "id": "FyySnKrlmbY9",
        "colab_type": "text"
      },
      "source": [
        "###Creating model architecture for genre classification based on lyrics\n",
        "\n",
        "We will be using neural network here, there are various other techniques but I beleive Neural network outperform them all"
      ]
    },
    {
      "cell_type": "code",
      "metadata": {
        "id": "zlOXL-4sOk0e",
        "colab_type": "code",
        "colab": {}
      },
      "source": [
        "class classifier(nn.Module):\n",
        "  def __init__(self):\n",
        "    super().__init__()\n",
        "    self.layer1 = nn.Linear(input_dim, hidden_dim)\n",
        "    self.layer2 = nn.Linear(hidden_dim, out_dim)\n",
        "    self.logsoftmax = nn.LogSoftmax(dim=1)\n",
        "  def forward(self, x):\n",
        "    x = F.dropout(self.layer1(x), p=0.5, training = True)\n",
        "    x = self.layer2(x)\n",
        "    x = self.logsoftmax(x)\n",
        "    return x"
      ],
      "execution_count": 0,
      "outputs": []
    },
    {
      "cell_type": "code",
      "metadata": {
        "id": "SG6O_SVQDCBh",
        "colab_type": "code",
        "colab": {}
      },
      "source": [
        "model = classifier()"
      ],
      "execution_count": 0,
      "outputs": []
    },
    {
      "cell_type": "markdown",
      "metadata": {
        "id": "6iyZsGmOm5Pi",
        "colab_type": "text"
      },
      "source": [
        "### choosing loss function and optimizer for training"
      ]
    },
    {
      "cell_type": "code",
      "metadata": {
        "id": "VDQa920uOy0d",
        "colab_type": "code",
        "colab": {}
      },
      "source": [
        "criterion = nn.NLLLoss()\n",
        "optimizer = optim.Adam(model.parameters(), lr = 0.0001)"
      ],
      "execution_count": 0,
      "outputs": []
    },
    {
      "cell_type": "markdown",
      "metadata": {
        "id": "4tsSVxN5nGpf",
        "colab_type": "text"
      },
      "source": [
        "###training\n",
        "i have just trained for 5 epochs , for better accuracy train for more epochs using scheduler for learning rate decay and avoid overfitting"
      ]
    },
    {
      "cell_type": "code",
      "metadata": {
        "id": "E1RkIWXVCyHd",
        "colab_type": "code",
        "outputId": "9e923a4c-5c72-4825-94d6-62c5268bd6e3",
        "colab": {
          "base_uri": "https://localhost:8080/",
          "height": 1000
        }
      },
      "source": [
        "device = torch.device(\"cuda\" if torch.cuda.is_available() else \"cpu\")\n",
        "model = model.to(device)\n",
        "epochs = 5\n",
        "steps = 0\n",
        "print_every = 5\n",
        "train_losses, val_losses = [], []\n",
        "\n",
        "for epoch in range(epochs):\n",
        "  \n",
        "  train_loss =0\n",
        "  for x, y in train_loader:\n",
        "    steps+=1\n",
        "    \n",
        "    x, y = x.to(device), y.to(device)\n",
        "    optimizer.zero_grad()\n",
        "    log_ps = model.forward(x)\n",
        "    loss = criterion(log_ps, y) \n",
        "    loss.backward()\n",
        "    optimizer.step()\n",
        "    \n",
        "    train_loss += loss.item()\n",
        "    \n",
        "    if (steps%print_every == 0):\n",
        "      test_loss =0\n",
        "      accuracy=0\n",
        "      model.eval()\n",
        "      with torch.no_grad():\n",
        "        for x, y in test_loader:\n",
        "          x, y = x.to(device), y.to(device)\n",
        "          log_ps = model.forward(x)\n",
        "          loss = criterion(log_ps, y)\n",
        "          test_loss += loss.item()\n",
        "          \n",
        "          ps = torch.exp(log_ps)\n",
        "          top_p, top_class = ps.topk(1, dim=1)\n",
        "          equals = top_class == y.view(*top_class.shape)\n",
        "          accuracy += torch.mean(equals.type(torch.FloatTensor)).item()\n",
        "          \n",
        "      print(f\"Epoch {epoch+1}/{epochs}.. \"\n",
        "                  f\"Train loss: {train_loss/print_every:.3f}.. \"\n",
        "                  f\"Test loss: {test_loss/len(test_loader):.3f}.. \"\n",
        "                  f\"Test accuracy: {accuracy/len(test_loader):.3f}\")\n",
        "      train_loss = 0\n",
        "      model.train()"
      ],
      "execution_count": 44,
      "outputs": [
        {
          "output_type": "stream",
          "text": [
            "Epoch 1/5.. Train loss: 2.080.. Test loss: 2.078.. Test accuracy: 0.183\n",
            "Epoch 1/5.. Train loss: 2.076.. Test loss: 2.073.. Test accuracy: 0.197\n",
            "Epoch 1/5.. Train loss: 2.071.. Test loss: 2.069.. Test accuracy: 0.215\n",
            "Epoch 1/5.. Train loss: 2.066.. Test loss: 2.064.. Test accuracy: 0.211\n",
            "Epoch 1/5.. Train loss: 2.062.. Test loss: 2.060.. Test accuracy: 0.215\n",
            "Epoch 1/5.. Train loss: 2.057.. Test loss: 2.055.. Test accuracy: 0.234\n",
            "Epoch 1/5.. Train loss: 2.053.. Test loss: 2.051.. Test accuracy: 0.247\n",
            "Epoch 1/5.. Train loss: 2.050.. Test loss: 2.046.. Test accuracy: 0.265\n",
            "Epoch 1/5.. Train loss: 2.045.. Test loss: 2.042.. Test accuracy: 0.271\n",
            "Epoch 1/5.. Train loss: 2.041.. Test loss: 2.038.. Test accuracy: 0.288\n",
            "Epoch 1/5.. Train loss: 2.035.. Test loss: 2.033.. Test accuracy: 0.281\n",
            "Epoch 1/5.. Train loss: 2.034.. Test loss: 2.029.. Test accuracy: 0.288\n",
            "Epoch 1/5.. Train loss: 2.028.. Test loss: 2.024.. Test accuracy: 0.289\n",
            "Epoch 1/5.. Train loss: 2.024.. Test loss: 2.020.. Test accuracy: 0.296\n",
            "Epoch 1/5.. Train loss: 2.017.. Test loss: 2.016.. Test accuracy: 0.288\n",
            "Epoch 1/5.. Train loss: 2.016.. Test loss: 2.011.. Test accuracy: 0.282\n",
            "Epoch 1/5.. Train loss: 2.008.. Test loss: 2.007.. Test accuracy: 0.276\n",
            "Epoch 1/5.. Train loss: 2.003.. Test loss: 2.002.. Test accuracy: 0.266\n",
            "Epoch 1/5.. Train loss: 1.999.. Test loss: 1.997.. Test accuracy: 0.265\n",
            "Epoch 1/5.. Train loss: 1.993.. Test loss: 1.992.. Test accuracy: 0.261\n",
            "Epoch 1/5.. Train loss: 1.990.. Test loss: 1.988.. Test accuracy: 0.265\n",
            "Epoch 1/5.. Train loss: 1.988.. Test loss: 1.984.. Test accuracy: 0.268\n",
            "Epoch 1/5.. Train loss: 1.981.. Test loss: 1.980.. Test accuracy: 0.267\n",
            "Epoch 1/5.. Train loss: 1.972.. Test loss: 1.975.. Test accuracy: 0.276\n",
            "Epoch 1/5.. Train loss: 1.975.. Test loss: 1.970.. Test accuracy: 0.267\n",
            "Epoch 1/5.. Train loss: 1.963.. Test loss: 1.966.. Test accuracy: 0.269\n",
            "Epoch 1/5.. Train loss: 1.963.. Test loss: 1.962.. Test accuracy: 0.272\n",
            "Epoch 1/5.. Train loss: 1.959.. Test loss: 1.957.. Test accuracy: 0.273\n",
            "Epoch 1/5.. Train loss: 1.950.. Test loss: 1.953.. Test accuracy: 0.277\n",
            "Epoch 1/5.. Train loss: 1.947.. Test loss: 1.948.. Test accuracy: 0.275\n",
            "Epoch 1/5.. Train loss: 1.946.. Test loss: 1.945.. Test accuracy: 0.277\n",
            "Epoch 1/5.. Train loss: 1.949.. Test loss: 1.941.. Test accuracy: 0.272\n",
            "Epoch 1/5.. Train loss: 1.935.. Test loss: 1.937.. Test accuracy: 0.275\n",
            "Epoch 1/5.. Train loss: 1.934.. Test loss: 1.933.. Test accuracy: 0.274\n",
            "Epoch 1/5.. Train loss: 1.927.. Test loss: 1.929.. Test accuracy: 0.273\n",
            "Epoch 1/5.. Train loss: 1.919.. Test loss: 1.925.. Test accuracy: 0.270\n",
            "Epoch 1/5.. Train loss: 1.917.. Test loss: 1.921.. Test accuracy: 0.270\n",
            "Epoch 1/5.. Train loss: 1.923.. Test loss: 1.918.. Test accuracy: 0.271\n",
            "Epoch 1/5.. Train loss: 1.911.. Test loss: 1.914.. Test accuracy: 0.271\n",
            "Epoch 1/5.. Train loss: 1.914.. Test loss: 1.911.. Test accuracy: 0.268\n",
            "Epoch 1/5.. Train loss: 1.905.. Test loss: 1.906.. Test accuracy: 0.276\n",
            "Epoch 2/5.. Train loss: 0.756.. Test loss: 1.902.. Test accuracy: 0.277\n",
            "Epoch 2/5.. Train loss: 1.898.. Test loss: 1.899.. Test accuracy: 0.284\n",
            "Epoch 2/5.. Train loss: 1.884.. Test loss: 1.895.. Test accuracy: 0.283\n",
            "Epoch 2/5.. Train loss: 1.891.. Test loss: 1.891.. Test accuracy: 0.288\n",
            "Epoch 2/5.. Train loss: 1.878.. Test loss: 1.888.. Test accuracy: 0.290\n",
            "Epoch 2/5.. Train loss: 1.868.. Test loss: 1.884.. Test accuracy: 0.290\n",
            "Epoch 2/5.. Train loss: 1.874.. Test loss: 1.881.. Test accuracy: 0.290\n",
            "Epoch 2/5.. Train loss: 1.863.. Test loss: 1.877.. Test accuracy: 0.288\n",
            "Epoch 2/5.. Train loss: 1.853.. Test loss: 1.874.. Test accuracy: 0.288\n",
            "Epoch 2/5.. Train loss: 1.850.. Test loss: 1.869.. Test accuracy: 0.297\n",
            "Epoch 2/5.. Train loss: 1.850.. Test loss: 1.865.. Test accuracy: 0.290\n",
            "Epoch 2/5.. Train loss: 1.854.. Test loss: 1.861.. Test accuracy: 0.295\n",
            "Epoch 2/5.. Train loss: 1.851.. Test loss: 1.858.. Test accuracy: 0.296\n",
            "Epoch 2/5.. Train loss: 1.850.. Test loss: 1.854.. Test accuracy: 0.298\n",
            "Epoch 2/5.. Train loss: 1.831.. Test loss: 1.851.. Test accuracy: 0.295\n",
            "Epoch 2/5.. Train loss: 1.848.. Test loss: 1.847.. Test accuracy: 0.300\n",
            "Epoch 2/5.. Train loss: 1.824.. Test loss: 1.844.. Test accuracy: 0.297\n",
            "Epoch 2/5.. Train loss: 1.830.. Test loss: 1.843.. Test accuracy: 0.298\n",
            "Epoch 2/5.. Train loss: 1.841.. Test loss: 1.839.. Test accuracy: 0.291\n",
            "Epoch 2/5.. Train loss: 1.828.. Test loss: 1.835.. Test accuracy: 0.288\n",
            "Epoch 2/5.. Train loss: 1.825.. Test loss: 1.831.. Test accuracy: 0.288\n",
            "Epoch 2/5.. Train loss: 1.822.. Test loss: 1.828.. Test accuracy: 0.291\n",
            "Epoch 2/5.. Train loss: 1.833.. Test loss: 1.824.. Test accuracy: 0.300\n",
            "Epoch 2/5.. Train loss: 1.810.. Test loss: 1.821.. Test accuracy: 0.298\n",
            "Epoch 2/5.. Train loss: 1.814.. Test loss: 1.819.. Test accuracy: 0.293\n",
            "Epoch 2/5.. Train loss: 1.821.. Test loss: 1.817.. Test accuracy: 0.295\n",
            "Epoch 2/5.. Train loss: 1.795.. Test loss: 1.812.. Test accuracy: 0.299\n",
            "Epoch 2/5.. Train loss: 1.824.. Test loss: 1.811.. Test accuracy: 0.298\n",
            "Epoch 2/5.. Train loss: 1.771.. Test loss: 1.808.. Test accuracy: 0.300\n",
            "Epoch 2/5.. Train loss: 1.804.. Test loss: 1.803.. Test accuracy: 0.305\n",
            "Epoch 2/5.. Train loss: 1.791.. Test loss: 1.801.. Test accuracy: 0.302\n",
            "Epoch 2/5.. Train loss: 1.782.. Test loss: 1.797.. Test accuracy: 0.301\n",
            "Epoch 2/5.. Train loss: 1.802.. Test loss: 1.795.. Test accuracy: 0.314\n",
            "Epoch 2/5.. Train loss: 1.758.. Test loss: 1.792.. Test accuracy: 0.310\n",
            "Epoch 2/5.. Train loss: 1.783.. Test loss: 1.788.. Test accuracy: 0.315\n",
            "Epoch 2/5.. Train loss: 1.795.. Test loss: 1.785.. Test accuracy: 0.320\n",
            "Epoch 2/5.. Train loss: 1.777.. Test loss: 1.783.. Test accuracy: 0.315\n",
            "Epoch 2/5.. Train loss: 1.775.. Test loss: 1.781.. Test accuracy: 0.322\n",
            "Epoch 2/5.. Train loss: 1.755.. Test loss: 1.777.. Test accuracy: 0.329\n",
            "Epoch 2/5.. Train loss: 1.768.. Test loss: 1.776.. Test accuracy: 0.321\n",
            "Epoch 2/5.. Train loss: 1.757.. Test loss: 1.772.. Test accuracy: 0.329\n",
            "Epoch 2/5.. Train loss: 1.783.. Test loss: 1.771.. Test accuracy: 0.327\n",
            "Epoch 3/5.. Train loss: 1.387.. Test loss: 1.768.. Test accuracy: 0.324\n",
            "Epoch 3/5.. Train loss: 1.751.. Test loss: 1.765.. Test accuracy: 0.329\n",
            "Epoch 3/5.. Train loss: 1.735.. Test loss: 1.763.. Test accuracy: 0.322\n",
            "Epoch 3/5.. Train loss: 1.711.. Test loss: 1.762.. Test accuracy: 0.331\n",
            "Epoch 3/5.. Train loss: 1.739.. Test loss: 1.758.. Test accuracy: 0.325\n",
            "Epoch 3/5.. Train loss: 1.757.. Test loss: 1.757.. Test accuracy: 0.326\n",
            "Epoch 3/5.. Train loss: 1.745.. Test loss: 1.754.. Test accuracy: 0.325\n",
            "Epoch 3/5.. Train loss: 1.718.. Test loss: 1.754.. Test accuracy: 0.330\n",
            "Epoch 3/5.. Train loss: 1.774.. Test loss: 1.750.. Test accuracy: 0.328\n",
            "Epoch 3/5.. Train loss: 1.751.. Test loss: 1.749.. Test accuracy: 0.330\n",
            "Epoch 3/5.. Train loss: 1.727.. Test loss: 1.747.. Test accuracy: 0.339\n",
            "Epoch 3/5.. Train loss: 1.726.. Test loss: 1.747.. Test accuracy: 0.332\n",
            "Epoch 3/5.. Train loss: 1.742.. Test loss: 1.743.. Test accuracy: 0.333\n",
            "Epoch 3/5.. Train loss: 1.705.. Test loss: 1.743.. Test accuracy: 0.333\n",
            "Epoch 3/5.. Train loss: 1.726.. Test loss: 1.741.. Test accuracy: 0.335\n",
            "Epoch 3/5.. Train loss: 1.715.. Test loss: 1.739.. Test accuracy: 0.336\n",
            "Epoch 3/5.. Train loss: 1.759.. Test loss: 1.737.. Test accuracy: 0.334\n",
            "Epoch 3/5.. Train loss: 1.710.. Test loss: 1.735.. Test accuracy: 0.338\n",
            "Epoch 3/5.. Train loss: 1.678.. Test loss: 1.732.. Test accuracy: 0.336\n",
            "Epoch 3/5.. Train loss: 1.718.. Test loss: 1.730.. Test accuracy: 0.338\n",
            "Epoch 3/5.. Train loss: 1.707.. Test loss: 1.729.. Test accuracy: 0.339\n",
            "Epoch 3/5.. Train loss: 1.712.. Test loss: 1.728.. Test accuracy: 0.341\n",
            "Epoch 3/5.. Train loss: 1.699.. Test loss: 1.725.. Test accuracy: 0.336\n",
            "Epoch 3/5.. Train loss: 1.701.. Test loss: 1.724.. Test accuracy: 0.340\n",
            "Epoch 3/5.. Train loss: 1.725.. Test loss: 1.724.. Test accuracy: 0.337\n",
            "Epoch 3/5.. Train loss: 1.707.. Test loss: 1.723.. Test accuracy: 0.340\n",
            "Epoch 3/5.. Train loss: 1.691.. Test loss: 1.719.. Test accuracy: 0.338\n",
            "Epoch 3/5.. Train loss: 1.703.. Test loss: 1.720.. Test accuracy: 0.333\n",
            "Epoch 3/5.. Train loss: 1.685.. Test loss: 1.718.. Test accuracy: 0.347\n",
            "Epoch 3/5.. Train loss: 1.699.. Test loss: 1.717.. Test accuracy: 0.338\n",
            "Epoch 3/5.. Train loss: 1.698.. Test loss: 1.716.. Test accuracy: 0.330\n",
            "Epoch 3/5.. Train loss: 1.651.. Test loss: 1.715.. Test accuracy: 0.337\n",
            "Epoch 3/5.. Train loss: 1.678.. Test loss: 1.712.. Test accuracy: 0.341\n",
            "Epoch 3/5.. Train loss: 1.654.. Test loss: 1.710.. Test accuracy: 0.342\n",
            "Epoch 3/5.. Train loss: 1.710.. Test loss: 1.708.. Test accuracy: 0.342\n",
            "Epoch 3/5.. Train loss: 1.667.. Test loss: 1.707.. Test accuracy: 0.337\n",
            "Epoch 3/5.. Train loss: 1.665.. Test loss: 1.707.. Test accuracy: 0.341\n",
            "Epoch 3/5.. Train loss: 1.637.. Test loss: 1.705.. Test accuracy: 0.346\n",
            "Epoch 3/5.. Train loss: 1.681.. Test loss: 1.702.. Test accuracy: 0.345\n",
            "Epoch 3/5.. Train loss: 1.662.. Test loss: 1.702.. Test accuracy: 0.335\n",
            "Epoch 3/5.. Train loss: 1.673.. Test loss: 1.703.. Test accuracy: 0.341\n",
            "Epoch 4/5.. Train loss: 0.331.. Test loss: 1.700.. Test accuracy: 0.338\n",
            "Epoch 4/5.. Train loss: 1.636.. Test loss: 1.698.. Test accuracy: 0.345\n",
            "Epoch 4/5.. Train loss: 1.664.. Test loss: 1.698.. Test accuracy: 0.353\n",
            "Epoch 4/5.. Train loss: 1.631.. Test loss: 1.695.. Test accuracy: 0.345\n",
            "Epoch 4/5.. Train loss: 1.674.. Test loss: 1.697.. Test accuracy: 0.344\n",
            "Epoch 4/5.. Train loss: 1.666.. Test loss: 1.695.. Test accuracy: 0.344\n",
            "Epoch 4/5.. Train loss: 1.630.. Test loss: 1.690.. Test accuracy: 0.350\n",
            "Epoch 4/5.. Train loss: 1.661.. Test loss: 1.693.. Test accuracy: 0.343\n",
            "Epoch 4/5.. Train loss: 1.614.. Test loss: 1.691.. Test accuracy: 0.348\n",
            "Epoch 4/5.. Train loss: 1.622.. Test loss: 1.690.. Test accuracy: 0.352\n",
            "Epoch 4/5.. Train loss: 1.682.. Test loss: 1.688.. Test accuracy: 0.351\n",
            "Epoch 4/5.. Train loss: 1.625.. Test loss: 1.690.. Test accuracy: 0.350\n",
            "Epoch 4/5.. Train loss: 1.691.. Test loss: 1.686.. Test accuracy: 0.354\n",
            "Epoch 4/5.. Train loss: 1.618.. Test loss: 1.686.. Test accuracy: 0.357\n",
            "Epoch 4/5.. Train loss: 1.662.. Test loss: 1.686.. Test accuracy: 0.356\n",
            "Epoch 4/5.. Train loss: 1.624.. Test loss: 1.683.. Test accuracy: 0.353\n",
            "Epoch 4/5.. Train loss: 1.643.. Test loss: 1.683.. Test accuracy: 0.355\n",
            "Epoch 4/5.. Train loss: 1.656.. Test loss: 1.681.. Test accuracy: 0.355\n",
            "Epoch 4/5.. Train loss: 1.630.. Test loss: 1.680.. Test accuracy: 0.353\n",
            "Epoch 4/5.. Train loss: 1.665.. Test loss: 1.679.. Test accuracy: 0.353\n",
            "Epoch 4/5.. Train loss: 1.670.. Test loss: 1.678.. Test accuracy: 0.349\n",
            "Epoch 4/5.. Train loss: 1.655.. Test loss: 1.677.. Test accuracy: 0.349\n",
            "Epoch 4/5.. Train loss: 1.627.. Test loss: 1.677.. Test accuracy: 0.352\n",
            "Epoch 4/5.. Train loss: 1.626.. Test loss: 1.676.. Test accuracy: 0.351\n",
            "Epoch 4/5.. Train loss: 1.660.. Test loss: 1.676.. Test accuracy: 0.352\n",
            "Epoch 4/5.. Train loss: 1.598.. Test loss: 1.672.. Test accuracy: 0.356\n",
            "Epoch 4/5.. Train loss: 1.655.. Test loss: 1.676.. Test accuracy: 0.348\n",
            "Epoch 4/5.. Train loss: 1.653.. Test loss: 1.673.. Test accuracy: 0.361\n",
            "Epoch 4/5.. Train loss: 1.654.. Test loss: 1.672.. Test accuracy: 0.348\n",
            "Epoch 4/5.. Train loss: 1.618.. Test loss: 1.671.. Test accuracy: 0.352\n",
            "Epoch 4/5.. Train loss: 1.676.. Test loss: 1.672.. Test accuracy: 0.350\n",
            "Epoch 4/5.. Train loss: 1.592.. Test loss: 1.668.. Test accuracy: 0.363\n",
            "Epoch 4/5.. Train loss: 1.610.. Test loss: 1.670.. Test accuracy: 0.354\n",
            "Epoch 4/5.. Train loss: 1.592.. Test loss: 1.668.. Test accuracy: 0.358\n",
            "Epoch 4/5.. Train loss: 1.686.. Test loss: 1.665.. Test accuracy: 0.358\n",
            "Epoch 4/5.. Train loss: 1.635.. Test loss: 1.665.. Test accuracy: 0.362\n",
            "Epoch 4/5.. Train loss: 1.628.. Test loss: 1.664.. Test accuracy: 0.358\n",
            "Epoch 4/5.. Train loss: 1.626.. Test loss: 1.664.. Test accuracy: 0.367\n",
            "Epoch 4/5.. Train loss: 1.608.. Test loss: 1.662.. Test accuracy: 0.366\n",
            "Epoch 4/5.. Train loss: 1.598.. Test loss: 1.662.. Test accuracy: 0.360\n",
            "Epoch 4/5.. Train loss: 1.608.. Test loss: 1.661.. Test accuracy: 0.359\n",
            "Epoch 4/5.. Train loss: 1.592.. Test loss: 1.661.. Test accuracy: 0.361\n",
            "Epoch 5/5.. Train loss: 0.943.. Test loss: 1.657.. Test accuracy: 0.361\n",
            "Epoch 5/5.. Train loss: 1.616.. Test loss: 1.658.. Test accuracy: 0.361\n",
            "Epoch 5/5.. Train loss: 1.582.. Test loss: 1.658.. Test accuracy: 0.358\n",
            "Epoch 5/5.. Train loss: 1.653.. Test loss: 1.658.. Test accuracy: 0.364\n",
            "Epoch 5/5.. Train loss: 1.590.. Test loss: 1.657.. Test accuracy: 0.366\n",
            "Epoch 5/5.. Train loss: 1.633.. Test loss: 1.656.. Test accuracy: 0.366\n",
            "Epoch 5/5.. Train loss: 1.568.. Test loss: 1.657.. Test accuracy: 0.363\n",
            "Epoch 5/5.. Train loss: 1.628.. Test loss: 1.655.. Test accuracy: 0.363\n",
            "Epoch 5/5.. Train loss: 1.549.. Test loss: 1.654.. Test accuracy: 0.363\n",
            "Epoch 5/5.. Train loss: 1.583.. Test loss: 1.656.. Test accuracy: 0.356\n",
            "Epoch 5/5.. Train loss: 1.589.. Test loss: 1.655.. Test accuracy: 0.360\n",
            "Epoch 5/5.. Train loss: 1.611.. Test loss: 1.653.. Test accuracy: 0.367\n",
            "Epoch 5/5.. Train loss: 1.598.. Test loss: 1.654.. Test accuracy: 0.367\n",
            "Epoch 5/5.. Train loss: 1.538.. Test loss: 1.651.. Test accuracy: 0.361\n",
            "Epoch 5/5.. Train loss: 1.595.. Test loss: 1.652.. Test accuracy: 0.361\n",
            "Epoch 5/5.. Train loss: 1.601.. Test loss: 1.648.. Test accuracy: 0.366\n",
            "Epoch 5/5.. Train loss: 1.592.. Test loss: 1.653.. Test accuracy: 0.366\n",
            "Epoch 5/5.. Train loss: 1.597.. Test loss: 1.648.. Test accuracy: 0.364\n",
            "Epoch 5/5.. Train loss: 1.598.. Test loss: 1.648.. Test accuracy: 0.364\n",
            "Epoch 5/5.. Train loss: 1.593.. Test loss: 1.648.. Test accuracy: 0.363\n",
            "Epoch 5/5.. Train loss: 1.611.. Test loss: 1.647.. Test accuracy: 0.362\n",
            "Epoch 5/5.. Train loss: 1.584.. Test loss: 1.649.. Test accuracy: 0.366\n",
            "Epoch 5/5.. Train loss: 1.583.. Test loss: 1.648.. Test accuracy: 0.361\n",
            "Epoch 5/5.. Train loss: 1.621.. Test loss: 1.645.. Test accuracy: 0.366\n",
            "Epoch 5/5.. Train loss: 1.587.. Test loss: 1.644.. Test accuracy: 0.366\n",
            "Epoch 5/5.. Train loss: 1.590.. Test loss: 1.644.. Test accuracy: 0.372\n",
            "Epoch 5/5.. Train loss: 1.540.. Test loss: 1.645.. Test accuracy: 0.361\n",
            "Epoch 5/5.. Train loss: 1.564.. Test loss: 1.644.. Test accuracy: 0.368\n",
            "Epoch 5/5.. Train loss: 1.601.. Test loss: 1.643.. Test accuracy: 0.375\n",
            "Epoch 5/5.. Train loss: 1.598.. Test loss: 1.644.. Test accuracy: 0.370\n",
            "Epoch 5/5.. Train loss: 1.589.. Test loss: 1.641.. Test accuracy: 0.370\n",
            "Epoch 5/5.. Train loss: 1.579.. Test loss: 1.641.. Test accuracy: 0.366\n",
            "Epoch 5/5.. Train loss: 1.569.. Test loss: 1.639.. Test accuracy: 0.370\n",
            "Epoch 5/5.. Train loss: 1.618.. Test loss: 1.643.. Test accuracy: 0.364\n",
            "Epoch 5/5.. Train loss: 1.581.. Test loss: 1.640.. Test accuracy: 0.372\n",
            "Epoch 5/5.. Train loss: 1.554.. Test loss: 1.640.. Test accuracy: 0.369\n",
            "Epoch 5/5.. Train loss: 1.590.. Test loss: 1.638.. Test accuracy: 0.366\n",
            "Epoch 5/5.. Train loss: 1.579.. Test loss: 1.639.. Test accuracy: 0.372\n",
            "Epoch 5/5.. Train loss: 1.584.. Test loss: 1.638.. Test accuracy: 0.368\n",
            "Epoch 5/5.. Train loss: 1.563.. Test loss: 1.637.. Test accuracy: 0.365\n",
            "Epoch 5/5.. Train loss: 1.584.. Test loss: 1.638.. Test accuracy: 0.361\n",
            "Epoch 5/5.. Train loss: 1.589.. Test loss: 1.635.. Test accuracy: 0.370\n"
          ],
          "name": "stdout"
        }
      ]
    },
    {
      "cell_type": "markdown",
      "metadata": {
        "id": "jBuSlqrwoIdC",
        "colab_type": "text"
      },
      "source": [
        "Now the idea is to cluster vectors of lyrics into clusters. I have choosen number of clusters 20. you can increase of decrease the number.\n",
        "###Why choose clustering over classification into 10 genre\n",
        "if we are classifying we will be forcing them to classify into 10 class but any song is not pure rock or blues, so clustering will allow them to cluster in more than 10 classes|"
      ]
    },
    {
      "cell_type": "code",
      "metadata": {
        "id": "e87_Z0aS8Pu7",
        "colab_type": "code",
        "colab": {}
      },
      "source": [
        "from sklearn.cluster import KMeans"
      ],
      "execution_count": 0,
      "outputs": []
    },
    {
      "cell_type": "code",
      "metadata": {
        "id": "n5NrKDeyNTt2",
        "colab_type": "code",
        "outputId": "deb1afd4-81b8-4f64-e48f-d1e7a1b44b3b",
        "colab": {
          "base_uri": "https://localhost:8080/",
          "height": 34
        }
      },
      "source": [
        "vec_num = vec.numpy()\n",
        "print(vec_num.shape)\n",
        "kmeans = KMeans(n_clusters=20, random_state=0).fit(vec)"
      ],
      "execution_count": 46,
      "outputs": [
        {
          "output_type": "stream",
          "text": [
            "(29512, 5000)\n"
          ],
          "name": "stdout"
        }
      ]
    },
    {
      "cell_type": "code",
      "metadata": {
        "id": "UG-ztQUcYFhm",
        "colab_type": "code",
        "outputId": "49f95fbf-b4cf-499c-8ae4-6ba050a6672d",
        "colab": {
          "base_uri": "https://localhost:8080/",
          "height": 34
        }
      },
      "source": [
        "len(kmeans.labels_)"
      ],
      "execution_count": 47,
      "outputs": [
        {
          "output_type": "execute_result",
          "data": {
            "text/plain": [
              "29512"
            ]
          },
          "metadata": {
            "tags": []
          },
          "execution_count": 47
        }
      ]
    },
    {
      "cell_type": "markdown",
      "metadata": {
        "id": "YBfdKHOSpp3f",
        "colab_type": "text"
      },
      "source": [
        "\n",
        "\n",
        "```\n",
        "means = kmeans.cluster_centers_\n",
        "```\n",
        "\n",
        "means will contain all the centroid of clusters formed. it will be 5000 dimension vector same as song lyrics vector length"
      ]
    },
    {
      "cell_type": "code",
      "metadata": {
        "id": "Mdm3CBRjYph9",
        "colab_type": "code",
        "outputId": "d8d8b659-31dc-4c16-f35e-0e449856286a",
        "colab": {
          "base_uri": "https://localhost:8080/",
          "height": 52
        }
      },
      "source": [
        "means = kmeans.cluster_centers_\n",
        "means[0]"
      ],
      "execution_count": 48,
      "outputs": [
        {
          "output_type": "execute_result",
          "data": {
            "text/plain": [
              "array([ 8.20609680e-03,  8.15059817e-03,  7.12476205e-03, ...,\n",
              "       -1.32814766e-18, -1.19262239e-18, -2.71050543e-19])"
            ]
          },
          "metadata": {
            "tags": []
          },
          "execution_count": 48
        }
      ]
    },
    {
      "cell_type": "code",
      "metadata": {
        "id": "Yah49dgd6K94",
        "colab_type": "code",
        "outputId": "f8a7af5a-0878-4741-d9fe-3c861399badc",
        "colab": {
          "base_uri": "https://localhost:8080/",
          "height": 72
        }
      },
      "source": [
        "print(list(track_to_genre_dict.keys())[:10]) \n",
        "print(list(track_to_genre_dict.values())[:10]) "
      ],
      "execution_count": 49,
      "outputs": [
        {
          "output_type": "stream",
          "text": [
            "['8898149', '7362052', '7833814', '2320200', '4280619', '674743', '8851472', '9855482', '610698', '721926']\n",
            "['hip-hop', 'hip-hop', 'hip-hop', 'hip-hop', 'pop', 'hip-hop', 'metal', 'rock', 'hip-hop', 'pop']\n"
          ],
          "name": "stdout"
        }
      ]
    },
    {
      "cell_type": "markdown",
      "metadata": {
        "id": "9zuJOYWcqC39",
        "colab_type": "text"
      },
      "source": [
        "###loading the user query data"
      ]
    },
    {
      "cell_type": "code",
      "metadata": {
        "id": "nQu4SlLBa6_H",
        "colab_type": "code",
        "colab": {}
      },
      "source": [
        "from scipy import sparse\n",
        "query= sparse.load_npz('querydata.npz')\n",
        "query=sparse.csr_matrix.todense(query)"
      ],
      "execution_count": 0,
      "outputs": []
    },
    {
      "cell_type": "markdown",
      "metadata": {
        "id": "bHjrkFdAqJ8b",
        "colab_type": "text"
      },
      "source": [
        "###splitting into train and test dataset"
      ]
    },
    {
      "cell_type": "code",
      "metadata": {
        "id": "AFoMT7lWCXnZ",
        "colab_type": "code",
        "colab": {}
      },
      "source": [
        "label = torch.LongTensor(kmeans.labels_)\n",
        "x = torch.FloatTensor(query)\n",
        "\n",
        "c = list(zip(x, label))\n",
        "random.shuffle(c)\n",
        "x, label = zip(*c)\n",
        "x = list(x)\n",
        "label = list(label)\n",
        "\n",
        "x_train = x[:-3000]\n",
        "y_train = label[:-3000]\n",
        "x_test = x[-3000:]\n",
        "y_test = label[-3000:]\n",
        "\n",
        "train_dataset= c[:-3000]\n",
        "test_dataset= c[-3000:]"
      ],
      "execution_count": 0,
      "outputs": []
    },
    {
      "cell_type": "markdown",
      "metadata": {
        "id": "hx6IGWJiqQMY",
        "colab_type": "text"
      },
      "source": [
        "###creating dataloaders"
      ]
    },
    {
      "cell_type": "code",
      "metadata": {
        "id": "LDIcsNBrCBbd",
        "colab_type": "code",
        "colab": {}
      },
      "source": [
        "train_loader = torch.utils.data.DataLoader(train_dataset, batch_size=128, drop_last=True ,shuffle=True)\n",
        "test_loader = torch.utils.data.DataLoader(test_dataset, batch_size=128, drop_last=True)"
      ],
      "execution_count": 0,
      "outputs": []
    },
    {
      "cell_type": "markdown",
      "metadata": {
        "id": "8i5lLxV4q34N",
        "colab_type": "text"
      },
      "source": [
        "### Recommender model architecture\n",
        "This model will learn how to map user query to most suitable cluster of song lyrics. Here input is user query converted into 5000 length vector and target is mean of cluster formed by Kmeans algorithm above"
      ]
    },
    {
      "cell_type": "code",
      "metadata": {
        "id": "6yRHcCAD_-q-",
        "colab_type": "code",
        "colab": {}
      },
      "source": [
        "class recommender(nn.Module):\n",
        "  def __init__(self):\n",
        "    super().__init__()\n",
        "    self.layer1 = nn.Linear(5000, 512)\n",
        "    self.layer2 = nn.Linear(512, 5000)\n",
        "  def forward(self, x):\n",
        "    x = F.dropout(self.layer1(x), p=0.5, training = True)\n",
        "    x = self.layer2(x)\n",
        "    return x\n",
        "\n",
        "model = recommender()"
      ],
      "execution_count": 0,
      "outputs": []
    },
    {
      "cell_type": "code",
      "metadata": {
        "id": "6uQr7zNMAzHX",
        "colab_type": "code",
        "colab": {}
      },
      "source": [
        "criterion = nn.MSELoss()\n",
        "optimizer = optim.Adam(model.parameters(), lr = 0.0001)"
      ],
      "execution_count": 0,
      "outputs": []
    },
    {
      "cell_type": "markdown",
      "metadata": {
        "id": "Zy5Jxfbnrd9a",
        "colab_type": "text"
      },
      "source": [
        "###Cosine function\n",
        "used to find similarity between prediction given by model and each cluster mean. closest cluster will be assigned to that query"
      ]
    },
    {
      "cell_type": "code",
      "metadata": {
        "id": "LD43hbMTLrnC",
        "colab_type": "code",
        "colab": {}
      },
      "source": [
        "from scipy.spatial.distance import cosine"
      ],
      "execution_count": 0,
      "outputs": []
    },
    {
      "cell_type": "code",
      "metadata": {
        "id": "3Hi1ROPhR_NW",
        "colab_type": "code",
        "outputId": "08ab0639-b778-4bc0-d2d5-ed2e30da04d9",
        "colab": {
          "base_uri": "https://localhost:8080/",
          "height": 729
        }
      },
      "source": [
        "device = torch.device(\"cuda\" if torch.cuda.is_available() else \"cpu\")\n",
        "model = model.to(device)\n",
        "epochs = 1\n",
        "steps = 0\n",
        "print_every = 5\n",
        "train_losses, val_losses = [], []\n",
        "\n",
        "for epoch in range(epochs):\n",
        "  \n",
        "  train_loss =0\n",
        "  for x, y in train_loader:\n",
        "    steps+=1\n",
        "    #print((y))\n",
        "    y = torch.FloatTensor(means[(y)])\n",
        "    x, y = x.to(device), y.to(device)\n",
        "    optimizer.zero_grad()\n",
        "    out = model.forward(x)\n",
        "    loss = criterion(out, y) \n",
        "    loss.backward()\n",
        "    optimizer.step()\n",
        "    \n",
        "    train_loss += loss.item()\n",
        "    \n",
        "    if (steps%print_every == 0):\n",
        "      test_loss =0\n",
        "      accuracy=0\n",
        "      equals=0\n",
        "      model.eval()\n",
        "      with torch.no_grad():\n",
        "        for x, y_label in test_loader:\n",
        "          equals=0\n",
        "          y = torch.FloatTensor(means[(y_label)])\n",
        "          x, y = x.to(device), y.to(device)\n",
        "          out = model.forward(x)\n",
        "          loss = criterion(out, y)\n",
        "          test_loss += loss.item()\n",
        "          out = out.cpu()\n",
        "          \n",
        "          for i, outvec in enumerate(out):\n",
        "            clr_list = []\n",
        "            mini = 100000.0\n",
        "            clr = 0\n",
        "            for cluster in range(20):\n",
        "              sim = cosine(outvec, means[cluster])\n",
        "              if sim < mini:\n",
        "                mini = sim\n",
        "                clr = cluster\n",
        "      \n",
        "            if clr == y_label[i]:\n",
        "              equals += 1\n",
        "          #print(equals)\n",
        "          accuracy += equals/128\n",
        "          \n",
        "      print(f\"Epoch {epoch+1}/{epochs}.. \"\n",
        "                  f\"Train loss: {train_loss/print_every:.8f}.. \"\n",
        "                  f\"Test loss: {test_loss/len(test_loader):.8f}.. \"\n",
        "                  f\"Test accuracy: {accuracy/len(test_loader):.3f}\")\n",
        "      train_loss = 0\n",
        "      model.train()"
      ],
      "execution_count": 56,
      "outputs": [
        {
          "output_type": "stream",
          "text": [
            "Epoch 1/1.. Train loss: 0.00071968.. Test loss: 0.00068545.. Test accuracy: 0.012\n",
            "Epoch 1/1.. Train loss: 0.00066147.. Test loss: 0.00062646.. Test accuracy: 0.012\n",
            "Epoch 1/1.. Train loss: 0.00060336.. Test loss: 0.00057006.. Test accuracy: 0.017\n",
            "Epoch 1/1.. Train loss: 0.00054788.. Test loss: 0.00051564.. Test accuracy: 0.037\n",
            "Epoch 1/1.. Train loss: 0.00049423.. Test loss: 0.00046222.. Test accuracy: 0.050\n",
            "Epoch 1/1.. Train loss: 0.00044138.. Test loss: 0.00040835.. Test accuracy: 0.077\n",
            "Epoch 1/1.. Train loss: 0.00038744.. Test loss: 0.00035550.. Test accuracy: 0.097\n",
            "Epoch 1/1.. Train loss: 0.00033470.. Test loss: 0.00030404.. Test accuracy: 0.108\n",
            "Epoch 1/1.. Train loss: 0.00028566.. Test loss: 0.00025518.. Test accuracy: 0.115\n",
            "Epoch 1/1.. Train loss: 0.00023689.. Test loss: 0.00021213.. Test accuracy: 0.120\n",
            "Epoch 1/1.. Train loss: 0.00019696.. Test loss: 0.00017641.. Test accuracy: 0.129\n",
            "Epoch 1/1.. Train loss: 0.00016478.. Test loss: 0.00014875.. Test accuracy: 0.133\n",
            "Epoch 1/1.. Train loss: 0.00013946.. Test loss: 0.00012907.. Test accuracy: 0.139\n",
            "Epoch 1/1.. Train loss: 0.00012244.. Test loss: 0.00011578.. Test accuracy: 0.143\n",
            "Epoch 1/1.. Train loss: 0.00011136.. Test loss: 0.00010676.. Test accuracy: 0.145\n",
            "Epoch 1/1.. Train loss: 0.00010431.. Test loss: 0.00009987.. Test accuracy: 0.143\n",
            "Epoch 1/1.. Train loss: 0.00009758.. Test loss: 0.00009469.. Test accuracy: 0.144\n",
            "Epoch 1/1.. Train loss: 0.00009275.. Test loss: 0.00009017.. Test accuracy: 0.147\n",
            "Epoch 1/1.. Train loss: 0.00008915.. Test loss: 0.00008655.. Test accuracy: 0.146\n",
            "Epoch 1/1.. Train loss: 0.00008612.. Test loss: 0.00008351.. Test accuracy: 0.145\n",
            "Epoch 1/1.. Train loss: 0.00008242.. Test loss: 0.00008091.. Test accuracy: 0.146\n",
            "Epoch 1/1.. Train loss: 0.00007944.. Test loss: 0.00007871.. Test accuracy: 0.146\n",
            "Epoch 1/1.. Train loss: 0.00007712.. Test loss: 0.00007664.. Test accuracy: 0.146\n",
            "Epoch 1/1.. Train loss: 0.00007531.. Test loss: 0.00007453.. Test accuracy: 0.146\n",
            "Epoch 1/1.. Train loss: 0.00007347.. Test loss: 0.00007282.. Test accuracy: 0.147\n",
            "Epoch 1/1.. Train loss: 0.00007267.. Test loss: 0.00007114.. Test accuracy: 0.147\n",
            "Epoch 1/1.. Train loss: 0.00007012.. Test loss: 0.00006951.. Test accuracy: 0.146\n",
            "Epoch 1/1.. Train loss: 0.00006790.. Test loss: 0.00006806.. Test accuracy: 0.147\n",
            "Epoch 1/1.. Train loss: 0.00006718.. Test loss: 0.00006665.. Test accuracy: 0.148\n",
            "Epoch 1/1.. Train loss: 0.00006643.. Test loss: 0.00006534.. Test accuracy: 0.146\n",
            "Epoch 1/1.. Train loss: 0.00006508.. Test loss: 0.00006415.. Test accuracy: 0.146\n",
            "Epoch 1/1.. Train loss: 0.00006434.. Test loss: 0.00006297.. Test accuracy: 0.145\n",
            "Epoch 1/1.. Train loss: 0.00006160.. Test loss: 0.00006189.. Test accuracy: 0.147\n",
            "Epoch 1/1.. Train loss: 0.00006098.. Test loss: 0.00006086.. Test accuracy: 0.144\n",
            "Epoch 1/1.. Train loss: 0.00006091.. Test loss: 0.00005976.. Test accuracy: 0.145\n",
            "Epoch 1/1.. Train loss: 0.00005827.. Test loss: 0.00005878.. Test accuracy: 0.145\n",
            "Epoch 1/1.. Train loss: 0.00005783.. Test loss: 0.00005785.. Test accuracy: 0.144\n",
            "Epoch 1/1.. Train loss: 0.00005669.. Test loss: 0.00005700.. Test accuracy: 0.149\n",
            "Epoch 1/1.. Train loss: 0.00005571.. Test loss: 0.00005620.. Test accuracy: 0.149\n",
            "Epoch 1/1.. Train loss: 0.00005502.. Test loss: 0.00005522.. Test accuracy: 0.142\n",
            "Epoch 1/1.. Train loss: 0.00005451.. Test loss: 0.00005461.. Test accuracy: 0.150\n"
          ],
          "name": "stdout"
        }
      ]
    },
    {
      "cell_type": "markdown",
      "metadata": {
        "id": "RLWbVp99r3sS",
        "colab_type": "text"
      },
      "source": [
        "##Training part completed.\n",
        "Now checking results from model. \n",
        "###query\n",
        "query provided by user\n",
        "###vector\n",
        "first dictionary was made using VOCAL. keys is token id, value is occurence of token in query. Then converted to vector of 5000 dim"
      ]
    },
    {
      "cell_type": "code",
      "metadata": {
        "id": "9o8AmZMQfOch",
        "colab_type": "code",
        "outputId": "6299e22b-ad13-4231-f3f2-dbe59e0f4ff6",
        "colab": {
          "base_uri": "https://localhost:8080/",
          "height": 89
        }
      },
      "source": [
        "from collections import defaultdict\n",
        "query = \"i want to hear some fast hard band loud music which feel like storm\"\n",
        "query = query.split(\" \")\n",
        "print(query)\n",
        "token = defaultdict(int)\n",
        "for word in query:\n",
        "  token[VOCAB.index(word)] += 1\n",
        "print(token)\n",
        "vector=convert_to_ndarray(token)\n",
        "vector = torch.Tensor(vector)\n",
        "vector = vector.view(1,-1); vector"
      ],
      "execution_count": 57,
      "outputs": [
        {
          "output_type": "stream",
          "text": [
            "['i', 'want', 'to', 'hear', 'some', 'fast', 'hard', 'band', 'loud', 'music', 'which', 'feel', 'like', 'storm']\n",
            "defaultdict(<class 'int'>, {0: 1, 61: 1, 3: 1, 164: 1, 135: 1, 552: 1, 222: 1, 968: 1, 869: 1, 379: 1, 673: 1, 60: 1, 35: 1, 775: 1})\n"
          ],
          "name": "stdout"
        },
        {
          "output_type": "execute_result",
          "data": {
            "text/plain": [
              "tensor([[0., 0., 1.,  ..., 0., 0., 1.]])"
            ]
          },
          "metadata": {
            "tags": []
          },
          "execution_count": 57
        }
      ]
    },
    {
      "cell_type": "markdown",
      "metadata": {
        "id": "DFsIJw0DskCw",
        "colab_type": "text"
      },
      "source": [
        "###conveting into Tfidfvector"
      ]
    },
    {
      "cell_type": "code",
      "metadata": {
        "id": "T7LSqWY5pPQ7",
        "colab_type": "code",
        "outputId": "c719e637-c4fa-46c6-c0be-fdad542d122e",
        "colab": {
          "base_uri": "https://localhost:8080/",
          "height": 52
        }
      },
      "source": [
        "from sklearn.feature_extraction.text import TfidfTransformer\n",
        "vectorizer = TfidfTransformer()\n",
        "vector = vectorizer.fit_transform(vector)\n",
        "vector = vector.todense()\n",
        "vector = torch.FloatTensor(vector)\n",
        "vector = vector.to(device); vector"
      ],
      "execution_count": 58,
      "outputs": [
        {
          "output_type": "execute_result",
          "data": {
            "text/plain": [
              "tensor([[0.0000, 0.0000, 0.2673,  ..., 0.0000, 0.0000, 0.2673]],\n",
              "       device='cuda:0')"
            ]
          },
          "metadata": {
            "tags": []
          },
          "execution_count": 58
        }
      ]
    },
    {
      "cell_type": "markdown",
      "metadata": {
        "id": "DKTpcmP0sq31",
        "colab_type": "text"
      },
      "source": [
        "Prediction by model"
      ]
    },
    {
      "cell_type": "code",
      "metadata": {
        "id": "j5_UfdqhnvG3",
        "colab_type": "code",
        "colab": {}
      },
      "source": [
        "outvec = model.forward(vector)"
      ],
      "execution_count": 0,
      "outputs": []
    },
    {
      "cell_type": "markdown",
      "metadata": {
        "id": "5be6eZFZs_wW",
        "colab_type": "text"
      },
      "source": [
        "choosing the closest cluster"
      ]
    },
    {
      "cell_type": "code",
      "metadata": {
        "id": "UHl-C2h4pqao",
        "colab_type": "code",
        "colab": {}
      },
      "source": [
        "mini = 10000\n",
        "clr = 0\n",
        "for cluster in range(20):\n",
        "    sim = cosine(outvec.detach().cpu().numpy(), means[cluster])\n",
        "    if sim < mini:\n",
        "        mini = sim\n",
        "        clr = cluster"
      ],
      "execution_count": 0,
      "outputs": []
    },
    {
      "cell_type": "code",
      "metadata": {
        "id": "y1ReG6hKp_Mx",
        "colab_type": "code",
        "outputId": "bcf1fa3e-db2b-4197-8845-d9bd1e5dddb9",
        "colab": {
          "base_uri": "https://localhost:8080/",
          "height": 34
        }
      },
      "source": [
        "clr"
      ],
      "execution_count": 85,
      "outputs": [
        {
          "output_type": "execute_result",
          "data": {
            "text/plain": [
              "5"
            ]
          },
          "metadata": {
            "tags": []
          },
          "execution_count": 85
        }
      ]
    },
    {
      "cell_type": "markdown",
      "metadata": {
        "id": "pmxng46It8DG",
        "colab_type": "text"
      },
      "source": [
        "selecting all the songs in that cluster"
      ]
    },
    {
      "cell_type": "code",
      "metadata": {
        "id": "1LprH--rqfxQ",
        "colab_type": "code",
        "outputId": "1ae213f4-9797-424a-fff7-2ef6bb976338",
        "colab": {
          "base_uri": "https://localhost:8080/",
          "height": 34
        }
      },
      "source": [
        "labels = np.array(kmeans.labels_)\n",
        "index= list(np.where(labels == clr)[0]); len(index)"
      ],
      "execution_count": 62,
      "outputs": [
        {
          "output_type": "execute_result",
          "data": {
            "text/plain": [
              "3363"
            ]
          },
          "metadata": {
            "tags": []
          },
          "execution_count": 62
        }
      ]
    },
    {
      "cell_type": "code",
      "metadata": {
        "id": "x6lsGZUKxUna",
        "colab_type": "code",
        "outputId": "490b8601-22aa-403c-af59-8480ae601cb8",
        "colab": {
          "base_uri": "https://localhost:8080/",
          "height": 139
        }
      },
      "source": [
        "data_vectors = torch.Tensor(vec_num); data_vectors"
      ],
      "execution_count": 63,
      "outputs": [
        {
          "output_type": "execute_result",
          "data": {
            "text/plain": [
              "tensor([[0.0000, 0.0000, 0.0000,  ..., 0.0000, 0.0000, 0.0000],\n",
              "        [0.0000, 0.3100, 0.2402,  ..., 0.0000, 0.0000, 0.0000],\n",
              "        [0.3268, 0.1217, 0.2546,  ..., 0.0000, 0.0000, 0.0000],\n",
              "        ...,\n",
              "        [0.1521, 0.1062, 0.1382,  ..., 0.0000, 0.0000, 0.0000],\n",
              "        [0.0000, 0.0872, 0.3650,  ..., 0.0000, 0.0000, 0.0000],\n",
              "        [0.1151, 0.0214, 0.0000,  ..., 0.0000, 0.0000, 0.0000]])"
            ]
          },
          "metadata": {
            "tags": []
          },
          "execution_count": 63
        }
      ]
    },
    {
      "cell_type": "markdown",
      "metadata": {
        "id": "rgEJgENKuRBr",
        "colab_type": "text"
      },
      "source": [
        "calculating cosine distance from each song of cluster"
      ]
    },
    {
      "cell_type": "code",
      "metadata": {
        "id": "E_LqsY1M0DzI",
        "colab_type": "code",
        "colab": {}
      },
      "source": [
        "difference = []\n",
        "for vec in data_vectors[index]:\n",
        "  difference.append(cosine(vector.cpu(), vec))"
      ],
      "execution_count": 0,
      "outputs": []
    },
    {
      "cell_type": "markdown",
      "metadata": {
        "id": "_1UFrfJ3uZg0",
        "colab_type": "text"
      },
      "source": [
        "extracting top 10 songs"
      ]
    },
    {
      "cell_type": "code",
      "metadata": {
        "id": "Xl7hK-V61U2o",
        "colab_type": "code",
        "outputId": "f6b3b1c8-bb41-4de9-a0c0-30adef789f30",
        "colab": {
          "base_uri": "https://localhost:8080/",
          "height": 34
        }
      },
      "source": [
        "K = sorted(difference)[10]; K"
      ],
      "execution_count": 65,
      "outputs": [
        {
          "output_type": "execute_result",
          "data": {
            "text/plain": [
              "0.8030866086483002"
            ]
          },
          "metadata": {
            "tags": []
          },
          "execution_count": 65
        }
      ]
    },
    {
      "cell_type": "code",
      "metadata": {
        "id": "a83EYslT2X4j",
        "colab_type": "code",
        "outputId": "1190c38a-45b2-4c32-f570-4a9b8d2b4a2d",
        "colab": {
          "base_uri": "https://localhost:8080/",
          "height": 34
        }
      },
      "source": [
        "mask = difference < K\n",
        "similar_index = list(np.where(mask==True)[0]); similar_index"
      ],
      "execution_count": 66,
      "outputs": [
        {
          "output_type": "execute_result",
          "data": {
            "text/plain": [
              "[177, 350, 632, 1499, 1886, 2409, 2467, 2489, 2823, 2976]"
            ]
          },
          "metadata": {
            "tags": []
          },
          "execution_count": 66
        }
      ]
    },
    {
      "cell_type": "markdown",
      "metadata": {
        "id": "2P1tvktNueQg",
        "colab_type": "text"
      },
      "source": [
        "checking genre and tag ids of those songs"
      ]
    },
    {
      "cell_type": "code",
      "metadata": {
        "id": "Ln31eMAV79qn",
        "colab_type": "code",
        "outputId": "97e35cea-37b3-4fa8-c57e-a93a81de5f96",
        "colab": {
          "base_uri": "https://localhost:8080/",
          "height": 54
        }
      },
      "source": [
        "gnr=[]\n",
        "tracks=[]\n",
        "for index in similar_index:\n",
        "  gnr.append(y_[index])\n",
        "  tracks.append(trk[index])\n",
        "print(gnr, tracks)"
      ],
      "execution_count": 67,
      "outputs": [
        {
          "output_type": "stream",
          "text": [
            "['metal', 'pop', 'country', 'rock', 'hip-hop', 'rock', 'rock', 'country', 'hip-hop', 'hip-hop'] ['6870821', '9274434', '1012073', '4488030', '1738581', '770937', '3146680', '7648691', '4390555', '630798']\n"
          ],
          "name": "stdout"
        }
      ]
    },
    {
      "cell_type": "code",
      "metadata": {
        "id": "otvVFj8M9lF7",
        "colab_type": "code",
        "outputId": "7c7f79a5-ae63-40ad-e443-605c132e365e",
        "colab": {
          "base_uri": "https://localhost:8080/",
          "height": 269
        }
      },
      "source": [
        "%matplotlib inline\n",
        "import matplotlib.pyplot as plt\n",
        "import matplotlib.image as mpimg\n",
        "img=mpimg.imread('65_0_1_20170117194017535.jpg.chip.jpg')\n",
        "imgplot = plt.imshow(img)\n",
        "plt.show()"
      ],
      "execution_count": 68,
      "outputs": [
        {
          "output_type": "display_data",
          "data": {
            "image/png": "[encoded data removed]",
            "text/plain": [
              "<Figure size 432x288 with 1 Axes>"
            ]
          },
          "metadata": {
            "tags": []
          }
        }
      ]
    },
    {
      "cell_type": "markdown",
      "metadata": {
        "id": "hS9MCSv4WzXL",
        "colab_type": "text"
      },
      "source": [
        "##Relation between Gender and Music Genres"
      ]
    },
    {
      "cell_type": "markdown",
      "metadata": {
        "id": "i2L62pRGLo9e",
        "colab_type": "text"
      },
      "source": [
        "\n",
        "![alt text](http://musicstats.org/wp-content/uploads/2016/10/capture1-1.png) "
      ]
    },
    {
      "cell_type": "markdown",
      "metadata": {
        "id": "kG--hAqFNgz-",
        "colab_type": "text"
      },
      "source": [
        "female = [47, 38, 8, 20, 20, 25]           male = [8, 20, 14, 30, 30, 27]"
      ]
    },
    {
      "cell_type": "markdown",
      "metadata": {
        "id": "c0l5TyJ3OQ_S",
        "colab_type": "text"
      },
      "source": [
        "Gender Classification Model Predicted gender = Male"
      ]
    },
    {
      "cell_type": "markdown",
      "metadata": {
        "id": "U5_8YI0-W8Ak",
        "colab_type": "text"
      },
      "source": [
        "##Relation between age and music genre"
      ]
    },
    {
      "cell_type": "code",
      "metadata": {
        "id": "qEqoSAjqVLeO",
        "colab_type": "code",
        "outputId": "372318a2-7da9-4868-ab19-38a23989deb1",
        "colab": {
          "base_uri": "https://localhost:8080/",
          "height": 269
        }
      },
      "source": [
        "img=mpimg.imread('Screenshot_2019-08-20 Favorite music genres among consumers by age group in the U S 2018 Statista.png')\n",
        "imgplot = plt.imshow(img)\n",
        "plt.show()"
      ],
      "execution_count": 69,
      "outputs": [
        {
          "output_type": "display_data",
          "data": {
            "image/png": "[encoded data removed]",
            "text/plain": [
              "<Figure size 432x288 with 1 Axes>"
            ]
          },
          "metadata": {
            "tags": []
          }
        }
      ]
    },
    {
      "cell_type": "markdown",
      "metadata": {
        "id": "hXNIekmQPVKU",
        "colab_type": "text"
      },
      "source": [
        "Age Classification model Predicted age = 36"
      ]
    },
    {
      "cell_type": "code",
      "metadata": {
        "id": "AbTqoqusKXgQ",
        "colab_type": "code",
        "colab": {}
      },
      "source": [
        "age = 36"
      ],
      "execution_count": 0,
      "outputs": []
    },
    {
      "cell_type": "code",
      "metadata": {
        "id": "jzFtCikAOcvQ",
        "colab_type": "code",
        "outputId": "b29673f5-cdbb-459e-c226-1045effa8024",
        "colab": {
          "base_uri": "https://localhost:8080/",
          "height": 34
        }
      },
      "source": [
        "a=np.array([[23,28,48,52,20,22,19,31],[22,39,54,54,19,23,26,40],[22,44,42,56,17,20,37,35],[22,42,33,46,14,13,31,28],[21,48,15,52,15,13,38,21],[15,31,5,25,16,17,38,13],[16,17,1,19,24,16,40,5]])\n",
        "print(np.sum(a,0))\n",
        "a= a/np.sum(a,0)"
      ],
      "execution_count": 71,
      "outputs": [
        {
          "output_type": "stream",
          "text": [
            "[141 249 198 304 125 124 229 173]\n"
          ],
          "name": "stdout"
        }
      ]
    },
    {
      "cell_type": "code",
      "metadata": {
        "id": "xb3LXY9xi-l7",
        "colab_type": "code",
        "outputId": "95b7fd37-4517-4a92-9865-d7649a70b1be",
        "colab": {
          "base_uri": "https://localhost:8080/",
          "height": 260
        }
      },
      "source": [
        "a"
      ],
      "execution_count": 72,
      "outputs": [
        {
          "output_type": "execute_result",
          "data": {
            "text/plain": [
              "array([[0.16312057, 0.1124498 , 0.24242424, 0.17105263, 0.16      ,\n",
              "        0.17741935, 0.08296943, 0.17919075],\n",
              "       [0.15602837, 0.15662651, 0.27272727, 0.17763158, 0.152     ,\n",
              "        0.18548387, 0.11353712, 0.23121387],\n",
              "       [0.15602837, 0.17670683, 0.21212121, 0.18421053, 0.136     ,\n",
              "        0.16129032, 0.16157205, 0.20231214],\n",
              "       [0.15602837, 0.1686747 , 0.16666667, 0.15131579, 0.112     ,\n",
              "        0.10483871, 0.13537118, 0.16184971],\n",
              "       [0.14893617, 0.19277108, 0.07575758, 0.17105263, 0.12      ,\n",
              "        0.10483871, 0.16593886, 0.12138728],\n",
              "       [0.10638298, 0.12449799, 0.02525253, 0.08223684, 0.128     ,\n",
              "        0.13709677, 0.16593886, 0.07514451],\n",
              "       [0.11347518, 0.06827309, 0.00505051, 0.0625    , 0.192     ,\n",
              "        0.12903226, 0.17467249, 0.02890173]])"
            ]
          },
          "metadata": {
            "tags": []
          },
          "execution_count": 72
        }
      ]
    },
    {
      "cell_type": "markdown",
      "metadata": {
        "id": "vwQzU5MkJVJX",
        "colab_type": "text"
      },
      "source": [
        "According to above results, top three genre are selected and arranged preference wise."
      ]
    },
    {
      "cell_type": "code",
      "metadata": {
        "id": "nifsxdC4qg7l",
        "colab_type": "code",
        "colab": {}
      },
      "source": [
        "age16_19 = ['hip-hop', 'alternative', 'electronic']\n",
        "age20_24 = ['hip-hop', 'alternative', 'electronic']\n",
        "age25_34 = ['hip-hop', 'alternative', 'pop']\n",
        "age35_44 = ['rock', 'hip-hop', 'alternative']\n",
        "age45_54 = ['rock', 'pop', 'country']\n",
        "age55_64 = ['country', 'electronic', 'metal']\n",
        "age65_80 = ['metal', 'country', 'electronic']"
      ],
      "execution_count": 0,
      "outputs": []
    },
    {
      "cell_type": "code",
      "metadata": {
        "id": "KXkNrRxpKGBw",
        "colab_type": "code",
        "colab": {}
      },
      "source": [
        "if age>16 and age<19:\n",
        "  g = age16_19\n",
        "elif age>20 and age<24:\n",
        "  g = age20_24\n",
        "elif age>25 and age<34:\n",
        "  g = age25_34\n",
        "elif age>35 and age<44:\n",
        "  g = age35_44\n",
        "elif age>45 and age<54:\n",
        "  g = age45_54\n",
        "elif age>55 and age<65:\n",
        "  g = age55_65\n",
        "else:\n",
        "  g = age65_80"
      ],
      "execution_count": 0,
      "outputs": []
    },
    {
      "cell_type": "code",
      "metadata": {
        "id": "WLAn0DQzLum7",
        "colab_type": "code",
        "colab": {
          "base_uri": "https://localhost:8080/",
          "height": 34
        },
        "outputId": "77313e72-6e51-4971-d3f1-6155da368eb0"
      },
      "source": [
        "print(age, g)"
      ],
      "execution_count": 75,
      "outputs": [
        {
          "output_type": "stream",
          "text": [
            "36 ['rock', 'hip-hop', 'alternative']\n"
          ],
          "name": "stdout"
        }
      ]
    },
    {
      "cell_type": "code",
      "metadata": {
        "id": "dNbI8ttyL15k",
        "colab_type": "code",
        "colab": {
          "base_uri": "https://localhost:8080/",
          "height": 34
        },
        "outputId": "c3ca5255-1d50-4032-cc65-b831c399940b"
      },
      "source": [
        "music_tag=[]\n",
        "for gen_cv in g:\n",
        "  count = 0\n",
        "  for gen_nlp in gnr:\n",
        "    if gen_cv == gen_nlp:\n",
        "      music_tag.append(tracks[count])\n",
        "    count += 1\n",
        "print(music_tag)"
      ],
      "execution_count": 76,
      "outputs": [
        {
          "output_type": "stream",
          "text": [
            "['4488030', '770937', '3146680', '1738581', '4390555', '630798']\n"
          ],
          "name": "stdout"
        }
      ]
    },
    {
      "cell_type": "markdown",
      "metadata": {
        "id": "UJFi5nGTM2VA",
        "colab_type": "text"
      },
      "source": [
        "Above tracks are top songs ids according to nlp and cv combined. we can take any top 5 out of them."
      ]
    },
    {
      "cell_type": "code",
      "metadata": {
        "id": "5YXZmNdpMyxI",
        "colab_type": "code",
        "colab": {
          "base_uri": "https://localhost:8080/",
          "height": 34
        },
        "outputId": "97687a5c-e234-42db-890e-feb1c335d3c3"
      },
      "source": [
        "if len(music_tag) >=5:\n",
        "  reccomended_ids = music_tag[:5]\n",
        "else:\n",
        "  reccomended_ids = music_tag\n",
        "reccomended_ids"
      ],
      "execution_count": 77,
      "outputs": [
        {
          "output_type": "execute_result",
          "data": {
            "text/plain": [
              "['4488030', '770937', '3146680', '1738581', '4390555']"
            ]
          },
          "metadata": {
            "tags": []
          },
          "execution_count": 77
        }
      ]
    },
    {
      "cell_type": "markdown",
      "metadata": {
        "id": "gDJFk7UbfF4z",
        "colab_type": "text"
      },
      "source": [
        ""
      ]
    }
  ]
}