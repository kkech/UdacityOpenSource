{
  "nbformat": 4,
  "nbformat_minor": 0,
  "metadata": {
    "colab": {
      "name": "age.ipynb",
      "version": "0.3.2",
      "provenance": [],
      "machine_shape": "hm"
    },
    "kernelspec": {
      "name": "python3",
      "display_name": "Python 3"
    },
    "accelerator": "GPU"
  },
  "cells": [
    {
      "cell_type": "markdown",
      "metadata": {
        "id": "ljsRu9UJcTvV",
        "colab_type": "text"
      },
      "source": [
        "##Install and import necessary libraries"
      ]
    },
    {
      "cell_type": "markdown",
      "metadata": {
        "id": "J92hUg9OcYVD",
        "colab_type": "text"
      },
      "source": [
        "Working on colab so installing pysyft "
      ]
    },
    {
      "cell_type": "code",
      "metadata": {
        "id": "365a10kUmwJc",
        "colab_type": "code",
        "colab": {}
      },
      "source": [
        "!pip install syft\n",
        "!pip install numpy"
      ],
      "execution_count": 0,
      "outputs": []
    },
    {
      "cell_type": "code",
      "metadata": {
        "id": "ZM6iiw56nLNI",
        "colab_type": "code",
        "colab": {}
      },
      "source": [
        "import torch\n",
        "import torch.nn as nn\n",
        "import torch.nn.functional as F\n",
        "import torch.optim as optim\n",
        "from torchvision import datasets, transforms\n",
        "\n",
        "import time"
      ],
      "execution_count": 0,
      "outputs": []
    },
    {
      "cell_type": "markdown",
      "metadata": {
        "id": "t9JA7sK8ceNc",
        "colab_type": "text"
      },
      "source": [
        "###Arguments class created to save hyperparameters"
      ]
    },
    {
      "cell_type": "code",
      "metadata": {
        "id": "g-ZL6arenN9h",
        "colab_type": "code",
        "colab": {}
      },
      "source": [
        "class Arguments():\n",
        "    def __init__(self):\n",
        "        self.batch_size = 8\n",
        "        self.test_batch_size = 1\n",
        "        self.epochs = 1\n",
        "        self.lr = 0.001\n",
        "        self.seed = 1\n",
        "        self.log_interval = 1 # Log info at each batch\n",
        "        self.precision_fractional = 3\n",
        "\n",
        "args = Arguments()\n",
        "\n",
        "_ = torch.manual_seed(args.seed)"
      ],
      "execution_count": 0,
      "outputs": []
    },
    {
      "cell_type": "markdown",
      "metadata": {
        "id": "K65izIeOcieR",
        "colab_type": "text"
      },
      "source": [
        "##Defining number of worker and crypto_provider"
      ]
    },
    {
      "cell_type": "markdown",
      "metadata": {
        "id": "Cu0-CReUck7x",
        "colab_type": "text"
      },
      "source": [
        "connect_to_workers funtion will create any number of worker you want. here n_workers = 2"
      ]
    },
    {
      "cell_type": "code",
      "metadata": {
        "id": "tK4tuvmInQd2",
        "colab_type": "code",
        "colab": {
          "base_uri": "https://localhost:8080/",
          "height": 106
        },
        "outputId": "6a2fd435-6c01-4c5a-ed8f-fed4fc412aca"
      },
      "source": [
        "import syft as sy  \n",
        "hook = sy.TorchHook(torch)  \n",
        "\n",
        "def connect_to_workers(n_workers):\n",
        "    return [\n",
        "        sy.VirtualWorker(hook, id=f\"worker{i+1}\")\n",
        "        for i in range(n_workers)\n",
        "    ]\n",
        "def connect_to_crypto_provider():\n",
        "    return sy.VirtualWorker(hook, id=\"crypto_provider\")\n",
        "\n",
        "workers = connect_to_workers(n_workers=2)\n",
        "crypto_provider = connect_to_crypto_provider()"
      ],
      "execution_count": 4,
      "outputs": [
        {
          "output_type": "stream",
          "text": [
            "WARNING: Logging before flag parsing goes to stderr.\n",
            "W0819 14:26:46.883385 140709602318208 secure_random.py:26] Falling back to insecure randomness since the required custom op could not be found for the installed version of TensorFlow. Fix this by compiling custom ops. Missing file was '/usr/local/lib/python3.6/dist-packages/tf_encrypted/operations/secure_random/secure_random_module_tf_1.14.0.so'\n",
            "W0819 14:26:46.899864 140709602318208 deprecation_wrapper.py:119] From /usr/local/lib/python3.6/dist-packages/tf_encrypted/session.py:26: The name tf.Session is deprecated. Please use tf.compat.v1.Session instead.\n",
            "\n"
          ],
          "name": "stderr"
        }
      ]
    },
    {
      "cell_type": "markdown",
      "metadata": {
        "id": "_7mBK7NldUPL",
        "colab_type": "text"
      },
      "source": [
        "##Dataset\n",
        "Dataset is UTKFace dataset for more info about dataset readme."
      ]
    },
    {
      "cell_type": "code",
      "metadata": {
        "id": "IZkbyz7BnTrM",
        "colab_type": "code",
        "colab": {}
      },
      "source": [
        "#!unzip utkfacedataset_age.zip"
      ],
      "execution_count": 0,
      "outputs": []
    },
    {
      "cell_type": "code",
      "metadata": {
        "id": "MyYzW-CfKSlZ",
        "colab_type": "code",
        "colab": {
          "base_uri": "https://localhost:8080/",
          "height": 72
        },
        "outputId": "1f470c38-4e18-4adb-f2dc-c4c849d3d860"
      },
      "source": [
        "!unzip utktest.zip"
      ],
      "execution_count": 6,
      "outputs": [
        {
          "output_type": "stream",
          "text": [
            "Archive:  utktest.zip\n",
            "replace utktest/0/44_0_3_20170119195210483.jpg.chip.jpg? [y]es, [n]o, [A]ll, [N]one, [r]ename: N\n"
          ],
          "name": "stdout"
        }
      ]
    },
    {
      "cell_type": "markdown",
      "metadata": {
        "id": "ivV1SC0UctcH",
        "colab_type": "text"
      },
      "source": [
        "###n_train_items, n_test_items\n",
        "n_train_items and n_test_items are set as a limit for number of batches. Data would not be taken by dataloader in each epoch. This is just done to save time. (here model is not trained on full dataset, full dataset would provide 2400 batches on keeping batch size =8)\n",
        "\n",
        "\n",
        "###one_hot_of \n",
        "used to convert into one hot vector\n",
        "\n",
        "###secret share\n",
        "to share encrypted data to workers\n",
        "\n"
      ]
    },
    {
      "cell_type": "code",
      "metadata": {
        "id": "Z1En3q1FnYt6",
        "colab_type": "code",
        "colab": {}
      },
      "source": [
        "n_train_items = 640\n",
        "n_test_items = 640\n",
        "\n",
        "def get_private_data_loaders(precision_fractional, workers, crypto_provider):\n",
        "    \n",
        "    def one_hot_of(index_tensor):\n",
        "        \"\"\"\n",
        "        Transform to one hot tensor\n",
        "        \n",
        "        Example:\n",
        "            [0, 3, 9]\n",
        "            =>\n",
        "            [[1., 0., 0., 0., 0., 0., 0., 0., 0., 0.],\n",
        "             [0., 0., 0., 1., 0., 0., 0., 0., 0., 0.],\n",
        "             [0., 0., 0., 0., 0., 0., 0., 0., 0., 1.]]\n",
        "            \n",
        "        \"\"\"\n",
        "        onehot_tensor = torch.zeros(*index_tensor.shape, 63) \n",
        "        onehot_tensor = onehot_tensor.scatter(1, index_tensor.view(-1, 1), 1)\n",
        "        return onehot_tensor\n",
        "        \n",
        "    def secret_share(tensor):\n",
        "        \"\"\"\n",
        "        Transform to fixed precision and secret share a tensor\n",
        "        \"\"\"\n",
        "        return (\n",
        "            tensor\n",
        "            .fix_precision(precision_fractional=precision_fractional)\n",
        "            .share(*workers, crypto_provider=crypto_provider, requires_grad=True)\n",
        "        )\n",
        "    \n",
        "    transformation = transforms.Compose([\n",
        "        transforms.Resize(128),\n",
        "        transforms.ToTensor(),\n",
        "        transforms.Normalize((0.5,0.5,0.5), (0.5,0.5,0.5))\n",
        "    ])\n",
        "    \n",
        "    train_loader = torch.utils.data.DataLoader(\n",
        "        datasets.ImageFolder('utkfacedataset_age', transform=transformation),\n",
        "        batch_size=args.batch_size\n",
        "    )\n",
        "    \n",
        "    private_train_loader = [\n",
        "        (secret_share(data), secret_share(one_hot_of(target)))\n",
        "        for i, (data, target) in enumerate(train_loader)\n",
        "        if i < n_train_items / args.batch_size\n",
        "    ]\n",
        "    \n",
        "    test_loader = torch.utils.data.DataLoader(\n",
        "        datasets.ImageFolder('utktest', transform=transformation),\n",
        "        batch_size=args.test_batch_size\n",
        "    )\n",
        "    \n",
        "    private_test_loader = [\n",
        "        (secret_share(data), secret_share(target.float()))\n",
        "        for i, (data, target) in enumerate(test_loader)\n",
        "        if i < n_test_items / args.test_batch_size\n",
        "    ]\n",
        "    \n",
        "    return private_train_loader, private_test_loader\n",
        "    \n",
        "    \n",
        "private_train_loader, private_test_loader = get_private_data_loaders(\n",
        "    precision_fractional=args.precision_fractional,\n",
        "    workers=workers,\n",
        "    crypto_provider=crypto_provider\n",
        ")"
      ],
      "execution_count": 0,
      "outputs": []
    },
    {
      "cell_type": "markdown",
      "metadata": {
        "id": "skbu00BTc0Om",
        "colab_type": "text"
      },
      "source": [
        "##Model "
      ]
    },
    {
      "cell_type": "code",
      "metadata": {
        "id": "OhvHZiKJnbiL",
        "colab_type": "code",
        "colab": {}
      },
      "source": [
        "class Net(nn.Module):\n",
        "    def __init__(self):\n",
        "        super(Net, self).__init__()\n",
        "        self.fc1 = nn.Linear(128*128*3, 64)\n",
        "        self.fc2 = nn.Linear(64, 64)\n",
        "        self.fc3 = nn.Linear(64, 63)\n",
        "\n",
        "    def forward(self, x):\n",
        "        x = x.view(-1, 128*128*3)\n",
        "        x = F.relu(self.fc1(x))\n",
        "        x = F.relu(self.fc2(x))\n",
        "        x = self.fc3(x)\n",
        "        return x"
      ],
      "execution_count": 0,
      "outputs": []
    },
    {
      "cell_type": "markdown",
      "metadata": {
        "id": "XhAsMYrec3pB",
        "colab_type": "text"
      },
      "source": [
        "###Training\n",
        "Loss is just mean square error"
      ]
    },
    {
      "cell_type": "code",
      "metadata": {
        "id": "Audr5pf1nd3I",
        "colab_type": "code",
        "colab": {}
      },
      "source": [
        "def train(args, model, private_train_loader, optimizer, epoch):\n",
        "    model.train()\n",
        "    for batch_idx, (data, target) in enumerate(private_train_loader): # <-- now it is a private dataset\n",
        "        start_time = time.time()\n",
        "        \n",
        "        optimizer.zero_grad()\n",
        "        \n",
        "        output = model(data)\n",
        "        \n",
        "        # loss = F.nll_loss(output, target)  <-- not possible here\n",
        "        batch_size = output.shape[0]\n",
        "        loss = ((output - target)**2).sum().refresh()/batch_size\n",
        "        \n",
        "        loss.backward()\n",
        "        \n",
        "        optimizer.step()\n",
        "\n",
        "        if batch_idx % args.log_interval == 0:\n",
        "            loss = loss.get().float_precision()\n",
        "            print('Train Epoch: {} [{}/{} ({:.0f}%)]\\tLoss: {:.6f}\\tTime: {:.3f}s'.format(\n",
        "                epoch, batch_idx * args.batch_size, len(private_train_loader) * args.batch_size,\n",
        "                100. * batch_idx / len(private_train_loader), loss.item(), time.time() - start_time))"
      ],
      "execution_count": 0,
      "outputs": []
    },
    {
      "cell_type": "markdown",
      "metadata": {
        "id": "xRk1dfK1c7U0",
        "colab_type": "text"
      },
      "source": [
        "###Model Encryption\n",
        "model = model.fix_precision().share(*workers,crypto_provider=crypto_provider, requires_grad=True)\n",
        "model is encrypted and send to workers\n",
        "###Optimizer is defined"
      ]
    },
    {
      "cell_type": "code",
      "metadata": {
        "id": "r8k6q71unian",
        "colab_type": "code",
        "colab": {
          "base_uri": "https://localhost:8080/",
          "height": 1000
        },
        "outputId": "c208441e-9f90-4b16-9f26-252d4e4c371f"
      },
      "source": [
        "model = Net()\n",
        "model = model.fix_precision().share(*workers, crypto_provider=crypto_provider, requires_grad=True)\n",
        "\n",
        "optimizer = optim.SGD(model.parameters(), lr=args.lr)\n",
        "optimizer = optimizer.fix_precision() \n",
        "\n",
        "for epoch in range(1, args.epochs + 1):\n",
        "    train(args, model, private_train_loader, optimizer, epoch)\n",
        "    #test(args, model, private_test_loader)"
      ],
      "execution_count": 10,
      "outputs": [
        {
          "output_type": "stream",
          "text": [
            "Train Epoch: 1 [0/640 (0%)]\tLoss: 1.867000\tTime: 4.844s\n",
            "Train Epoch: 1 [8/640 (1%)]\tLoss: 1.613000\tTime: 4.588s\n",
            "Train Epoch: 1 [16/640 (2%)]\tLoss: 1.468000\tTime: 4.551s\n",
            "Train Epoch: 1 [24/640 (4%)]\tLoss: 1.469000\tTime: 4.671s\n",
            "Train Epoch: 1 [32/640 (5%)]\tLoss: 1.462000\tTime: 4.416s\n",
            "Train Epoch: 1 [40/640 (6%)]\tLoss: 1.434000\tTime: 4.585s\n",
            "Train Epoch: 1 [48/640 (8%)]\tLoss: 1.401000\tTime: 4.647s\n",
            "Train Epoch: 1 [56/640 (9%)]\tLoss: 1.350000\tTime: 4.657s\n",
            "Train Epoch: 1 [64/640 (10%)]\tLoss: 1.333000\tTime: 4.467s\n",
            "Train Epoch: 1 [72/640 (11%)]\tLoss: 1.324000\tTime: 4.314s\n",
            "Train Epoch: 1 [80/640 (12%)]\tLoss: 1.312000\tTime: 4.454s\n",
            "Train Epoch: 1 [88/640 (14%)]\tLoss: 1.302000\tTime: 4.610s\n",
            "Train Epoch: 1 [96/640 (15%)]\tLoss: 1.283000\tTime: 4.482s\n",
            "Train Epoch: 1 [104/640 (16%)]\tLoss: 1.268000\tTime: 4.648s\n",
            "Train Epoch: 1 [112/640 (18%)]\tLoss: 1.253000\tTime: 4.527s\n",
            "Train Epoch: 1 [120/640 (19%)]\tLoss: 1.218000\tTime: 4.613s\n",
            "Train Epoch: 1 [128/640 (20%)]\tLoss: 1.200000\tTime: 4.747s\n",
            "Train Epoch: 1 [136/640 (21%)]\tLoss: 1.183000\tTime: 4.579s\n",
            "Train Epoch: 1 [144/640 (22%)]\tLoss: 1.204000\tTime: 4.673s\n",
            "Train Epoch: 1 [152/640 (24%)]\tLoss: 1.195000\tTime: 4.683s\n",
            "Train Epoch: 1 [160/640 (25%)]\tLoss: 1.159000\tTime: 4.581s\n",
            "Train Epoch: 1 [168/640 (26%)]\tLoss: 1.188000\tTime: 4.676s\n",
            "Train Epoch: 1 [176/640 (28%)]\tLoss: 1.191000\tTime: 4.701s\n",
            "Train Epoch: 1 [184/640 (29%)]\tLoss: 1.201000\tTime: 4.488s\n",
            "Train Epoch: 1 [192/640 (30%)]\tLoss: 1.174000\tTime: 4.584s\n",
            "Train Epoch: 1 [200/640 (31%)]\tLoss: 1.178000\tTime: 4.672s\n",
            "Train Epoch: 1 [208/640 (32%)]\tLoss: 1.110000\tTime: 4.683s\n",
            "Train Epoch: 1 [216/640 (34%)]\tLoss: 1.077000\tTime: 4.744s\n",
            "Train Epoch: 1 [224/640 (35%)]\tLoss: 1.043000\tTime: 4.811s\n",
            "Train Epoch: 1 [232/640 (36%)]\tLoss: 1.041000\tTime: 4.634s\n",
            "Train Epoch: 1 [240/640 (38%)]\tLoss: 0.984000\tTime: 4.522s\n",
            "Train Epoch: 1 [248/640 (39%)]\tLoss: 0.971000\tTime: 4.557s\n",
            "Train Epoch: 1 [256/640 (40%)]\tLoss: 1.052000\tTime: 4.435s\n",
            "Train Epoch: 1 [264/640 (41%)]\tLoss: 1.172000\tTime: 4.542s\n",
            "Train Epoch: 1 [272/640 (42%)]\tLoss: 1.141000\tTime: 4.738s\n",
            "Train Epoch: 1 [280/640 (44%)]\tLoss: 1.155000\tTime: 4.698s\n",
            "Train Epoch: 1 [288/640 (45%)]\tLoss: 1.021000\tTime: 4.614s\n",
            "Train Epoch: 1 [296/640 (46%)]\tLoss: 0.942000\tTime: 4.483s\n",
            "Train Epoch: 1 [304/640 (48%)]\tLoss: 0.866000\tTime: 4.709s\n",
            "Train Epoch: 1 [312/640 (49%)]\tLoss: 0.913000\tTime: 4.632s\n",
            "Train Epoch: 1 [320/640 (50%)]\tLoss: 0.841000\tTime: 4.622s\n",
            "Train Epoch: 1 [328/640 (51%)]\tLoss: 0.866000\tTime: 4.607s\n",
            "Train Epoch: 1 [336/640 (52%)]\tLoss: 0.796000\tTime: 4.888s\n",
            "Train Epoch: 1 [344/640 (54%)]\tLoss: 0.770000\tTime: 4.603s\n",
            "Train Epoch: 1 [352/640 (55%)]\tLoss: 0.730000\tTime: 4.584s\n",
            "Train Epoch: 1 [360/640 (56%)]\tLoss: 1.588000\tTime: 4.535s\n",
            "Train Epoch: 1 [368/640 (58%)]\tLoss: 1.404000\tTime: 4.648s\n",
            "Train Epoch: 1 [376/640 (59%)]\tLoss: 1.255000\tTime: 4.610s\n",
            "Train Epoch: 1 [384/640 (60%)]\tLoss: 1.277000\tTime: 4.631s\n",
            "Train Epoch: 1 [392/640 (61%)]\tLoss: 1.231000\tTime: 4.644s\n",
            "Train Epoch: 1 [400/640 (62%)]\tLoss: 1.232000\tTime: 4.806s\n",
            "Train Epoch: 1 [408/640 (64%)]\tLoss: 1.215000\tTime: 4.779s\n",
            "Train Epoch: 1 [416/640 (65%)]\tLoss: 1.166000\tTime: 4.708s\n",
            "Train Epoch: 1 [424/640 (66%)]\tLoss: 1.127000\tTime: 4.764s\n",
            "Train Epoch: 1 [432/640 (68%)]\tLoss: 1.096000\tTime: 4.444s\n",
            "Train Epoch: 1 [440/640 (69%)]\tLoss: 1.085000\tTime: 4.465s\n",
            "Train Epoch: 1 [448/640 (70%)]\tLoss: 1.072000\tTime: 4.568s\n",
            "Train Epoch: 1 [456/640 (71%)]\tLoss: 1.063000\tTime: 4.608s\n",
            "Train Epoch: 1 [464/640 (72%)]\tLoss: 1.049000\tTime: 4.727s\n",
            "Train Epoch: 1 [472/640 (74%)]\tLoss: 1.028000\tTime: 4.829s\n",
            "Train Epoch: 1 [480/640 (75%)]\tLoss: 1.030000\tTime: 4.709s\n",
            "Train Epoch: 1 [488/640 (76%)]\tLoss: 0.998000\tTime: 4.628s\n",
            "Train Epoch: 1 [496/640 (78%)]\tLoss: 1.010000\tTime: 4.614s\n",
            "Train Epoch: 1 [504/640 (79%)]\tLoss: 1.010000\tTime: 4.670s\n",
            "Train Epoch: 1 [512/640 (80%)]\tLoss: 0.998000\tTime: 4.849s\n",
            "Train Epoch: 1 [520/640 (81%)]\tLoss: 0.960000\tTime: 4.768s\n",
            "Train Epoch: 1 [528/640 (82%)]\tLoss: 0.951000\tTime: 4.640s\n",
            "Train Epoch: 1 [536/640 (84%)]\tLoss: 0.937000\tTime: 4.525s\n",
            "Train Epoch: 1 [544/640 (85%)]\tLoss: 0.966000\tTime: 4.633s\n",
            "Train Epoch: 1 [552/640 (86%)]\tLoss: 0.894000\tTime: 4.695s\n",
            "Train Epoch: 1 [560/640 (88%)]\tLoss: 0.947000\tTime: 4.542s\n",
            "Train Epoch: 1 [568/640 (89%)]\tLoss: 0.868000\tTime: 4.480s\n",
            "Train Epoch: 1 [576/640 (90%)]\tLoss: 0.858000\tTime: 4.469s\n",
            "Train Epoch: 1 [584/640 (91%)]\tLoss: 0.868000\tTime: 4.491s\n",
            "Train Epoch: 1 [592/640 (92%)]\tLoss: 0.875000\tTime: 4.691s\n",
            "Train Epoch: 1 [600/640 (94%)]\tLoss: 0.896000\tTime: 4.259s\n",
            "Train Epoch: 1 [608/640 (95%)]\tLoss: 0.869000\tTime: 4.499s\n",
            "Train Epoch: 1 [616/640 (96%)]\tLoss: 0.834000\tTime: 4.705s\n",
            "Train Epoch: 1 [624/640 (98%)]\tLoss: 0.791000\tTime: 4.593s\n",
            "Train Epoch: 1 [632/640 (99%)]\tLoss: 0.771000\tTime: 4.613s\n"
          ],
          "name": "stdout"
        }
      ]
    },
    {
      "cell_type": "markdown",
      "metadata": {
        "id": "cfO9Qb0xdAmb",
        "colab_type": "text"
      },
      "source": [
        "###Testing "
      ]
    },
    {
      "cell_type": "code",
      "metadata": {
        "id": "t6chUE3AngN_",
        "colab_type": "code",
        "colab": {}
      },
      "source": [
        "def test(args, model, private_test_loader):\n",
        "    model.eval()\n",
        "    test_loss = 0\n",
        "    correct = 0\n",
        "    pred=0\n",
        "    with torch.no_grad():\n",
        "        for data, target in private_test_loader:\n",
        "            start_time = time.time()\n",
        "            \n",
        "            output = model(data)\n",
        "            \n",
        "            output = output.get().float_precision()\n",
        "            pred = output.argmax(dim=1)\n",
        "            print(output)\n",
        "            #correct += pred.eq(target.view_as(pred)).sum()\n",
        "\n",
        "    #correct = correct.get().float_precision()\n",
        "    #print('\\nTest set: Accuracy: {}/{} ({:.0f}%)\\n'.format(\n",
        "        #correct.item(), len(private_test_loader)* args.test_batch_size,\n",
        "        #100. * correct.item() / (len(private_test_loader) * args.test_batch_size)))\n",
        "\n",
        "    return pred"
      ],
      "execution_count": 0,
      "outputs": []
    },
    {
      "cell_type": "markdown",
      "metadata": {
        "id": "2K5dkjZYdDJf",
        "colab_type": "text"
      },
      "source": [
        "###Plotting Image"
      ]
    },
    {
      "cell_type": "code",
      "metadata": {
        "id": "uDp091fmVchm",
        "colab_type": "code",
        "colab": {
          "base_uri": "https://localhost:8080/",
          "height": 269
        },
        "outputId": "eda1c177-47a7-478b-965d-f6422a9230f1"
      },
      "source": [
        "%matplotlib inline\n",
        "import matplotlib.pyplot as plt\n",
        "import matplotlib.image as mpimg\n",
        "img=mpimg.imread('utktest/0/65_0_1_20170117194017535.jpg.chip.jpg')\n",
        "imgplot = plt.imshow(img)\n",
        "plt.show()"
      ],
      "execution_count": 30,
      "outputs": [
        {
          "output_type": "display_data",
          "data": {
            "image/png": "[encoded data removed]",
            "text/plain": [
              "<Figure size 432x288 with 1 Axes>"
            ]
          },
          "metadata": {
            "tags": []
          }
        }
      ]
    },
    {
      "cell_type": "code",
      "metadata": {
        "id": "ybItIhCmtYjq",
        "colab_type": "code",
        "colab": {
          "base_uri": "https://localhost:8080/",
          "height": 156
        },
        "outputId": "5b422022-f31b-4056-8487-e06c2017236c"
      },
      "source": [
        "pred=test(args, model, private_test_loader)"
      ],
      "execution_count": 28,
      "outputs": [
        {
          "output_type": "stream",
          "text": [
            "tensor([[ 0.0130,  0.0110,  0.1530,  0.1210,  0.0320, -0.0130, -0.0550,  0.0060,\n",
            "          0.0150,  0.0150,  0.0230, -0.0260, -0.0920,  0.0530,  0.0060,  0.1190,\n",
            "          0.0240, -0.0170,  0.1530, -0.0560,  0.0470, -0.0260,  0.1100, -0.0320,\n",
            "         -0.0550, -0.1020,  0.0200,  0.0030,  0.0000,  0.0110, -0.0030,  0.1150,\n",
            "          0.0250,  0.0190, -0.0780, -0.0940, -0.0010, -0.0460,  0.0750, -0.0560,\n",
            "          0.0960, -0.0600,  0.0610, -0.0320, -0.0400,  0.0410,  0.0220,  0.0870,\n",
            "          0.0430,  0.0440, -0.0210,  0.0770, -0.0430,  0.0750, -0.1030, -0.0950,\n",
            "          0.0390, -0.0240, -0.0350, -0.0990,  0.0020, -0.0700, -0.0320]])\n"
          ],
          "name": "stdout"
        }
      ]
    },
    {
      "cell_type": "code",
      "metadata": {
        "id": "0JFpE3jMNfNF",
        "colab_type": "code",
        "colab": {
          "base_uri": "https://localhost:8080/",
          "height": 34
        },
        "outputId": "c62361a0-2113-490f-efd0-aa8d09634b6b"
      },
      "source": [
        "pred"
      ],
      "execution_count": 29,
      "outputs": [
        {
          "output_type": "execute_result",
          "data": {
            "text/plain": [
              "tensor([18])"
            ]
          },
          "metadata": {
            "tags": []
          },
          "execution_count": 29
        }
      ]
    },
    {
      "cell_type": "code",
      "metadata": {
        "id": "PF5aq3BGNhQw",
        "colab_type": "code",
        "colab": {
          "base_uri": "https://localhost:8080/",
          "height": 34
        },
        "outputId": "db457753-1155-4372-ca16-dadb668c8a2b"
      },
      "source": [
        "age = pred+18; age"
      ],
      "execution_count": 32,
      "outputs": [
        {
          "output_type": "execute_result",
          "data": {
            "text/plain": [
              "tensor([36])"
            ]
          },
          "metadata": {
            "tags": []
          },
          "execution_count": 32
        }
      ]
    },
    {
      "cell_type": "markdown",
      "metadata": {
        "id": "nuRgOXcBWw2f",
        "colab_type": "text"
      },
      "source": [
        "as the age at 0th folder is 18, so the predicted age must be pred+18"
      ]
    },
    {
      "cell_type": "code",
      "metadata": {
        "id": "3dkAF6oTW6Xl",
        "colab_type": "code",
        "colab": {}
      },
      "source": [
        ""
      ],
      "execution_count": 0,
      "outputs": []
    }
  ]
}