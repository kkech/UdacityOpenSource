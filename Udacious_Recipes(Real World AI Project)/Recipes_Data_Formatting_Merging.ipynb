{
 "cells": [
  {
   "cell_type": "code",
   "execution_count": 41,
   "metadata": {},
   "outputs": [
    {
     "name": "stdout",
     "output_type": "stream",
     "text": [
      "The autoreload extension is already loaded. To reload it, use:\n",
      "  %reload_ext autoreload\n"
     ]
    }
   ],
   "source": [
    "%load_ext autoreload\n",
    "%autoreload 2\n",
    "from preprocess import *"
   ]
  },
  {
   "cell_type": "markdown",
   "metadata": {},
   "source": [
    "# Unzip datasets"
   ]
  },
  {
   "cell_type": "code",
   "execution_count": 2,
   "metadata": {},
   "outputs": [
    {
     "name": "stdout",
     "output_type": "stream",
     "text": [
      "Unzipping recipes_raw.zip ... \n",
      "Unzipping epicurious-recipes-with-rating-and-nutrition.zip ... \n",
      "Unzipping recipes-master.zip ... \n"
     ]
    }
   ],
   "source": [
    "dir_source=\"./datasets\"\n",
    "dir_dest=\"./datasets\"\n",
    "unzip_files(dir_source,dir_dest)"
   ]
  },
  {
   "cell_type": "markdown",
   "metadata": {},
   "source": [
    "# Read & Format CSV Files Data"
   ]
  },
  {
   "cell_type": "code",
   "execution_count": 42,
   "metadata": {},
   "outputs": [
    {
     "name": "stdout",
     "output_type": "stream",
     "text": [
      "File Read : ./datasets/csv_files/recipes_steamy.csv Examples : (374, 4)\n",
      "File Read : ./datasets/csv_files/recipes_bbc.csv Examples : (674, 4)\n",
      "File Read : ./datasets/csv_files/recipes_bbcfood.csv Examples : (792, 4)\n",
      "File Read : ./datasets/csv_files/recipes_finedine.csv Examples : (1083, 4)\n",
      "File Read : ./datasets/csv_files/recipes_cb.csv Examples : (642, 4)\n",
      "File Read : ./datasets/csv_files/recipes_tasty_3.csv Examples : (4582, 4)\n",
      "File Read : ./datasets/csv_files/recipes_fn.csv Examples : (3675, 4)\n",
      "File Read : ./datasets/csv_files/recipes_jamie.csv Examples : (2312, 4)\n",
      "File Read : ./datasets/csv_files/recipes_tasty_4.csv Examples : (1591, 4)\n",
      "File Read : ./datasets/csv_files/recipes_tasty_5.csv Examples : (4964, 4)\n",
      "File Read : ./datasets/csv_files/recipes_tasty.csv Examples : (3149, 4)\n",
      "File Read : ./datasets/csv_files/recipes4.csv Examples : (1390, 4)\n",
      "File Read : ./datasets/csv_files/recipes_tasty2.csv Examples : (11062, 4)\n",
      "File Read : ./datasets/csv_files/recipes_closet.csv Examples : (1933, 4)\n"
     ]
    }
   ],
   "source": [
    "file_dfs=read_files_csv()\n",
    "titles,dirs,junks,ingrs=fmt_df(file_dfs)\n",
    "dirs=merge_lists(dirs)\n",
    "junks=merge_lists(junks)\n",
    "ingrs=merge_lists(ingrs)"
   ]
  },
  {
   "cell_type": "markdown",
   "metadata": {},
   "source": [
    "# Read Dataset datasets/epicurious-recipes-with-rating-and-nutrition/epi_r.csv for more titles"
   ]
  },
  {
   "cell_type": "code",
   "execution_count": 43,
   "metadata": {},
   "outputs": [
    {
     "data": {
      "text/html": [
       "<div>\n",
       "<style scoped>\n",
       "    .dataframe tbody tr th:only-of-type {\n",
       "        vertical-align: middle;\n",
       "    }\n",
       "\n",
       "    .dataframe tbody tr th {\n",
       "        vertical-align: top;\n",
       "    }\n",
       "\n",
       "    .dataframe thead th {\n",
       "        text-align: right;\n",
       "    }\n",
       "</style>\n",
       "<table border=\"1\" class=\"dataframe\">\n",
       "  <thead>\n",
       "    <tr style=\"text-align: right;\">\n",
       "      <th></th>\n",
       "      <th>title</th>\n",
       "    </tr>\n",
       "  </thead>\n",
       "  <tbody>\n",
       "    <tr>\n",
       "      <th>0</th>\n",
       "      <td>Lentil, Apple, and Turkey Wrap</td>\n",
       "    </tr>\n",
       "    <tr>\n",
       "      <th>1</th>\n",
       "      <td>Boudin Blanc Terrine with Red Onion Confit</td>\n",
       "    </tr>\n",
       "    <tr>\n",
       "      <th>2</th>\n",
       "      <td>Potato and Fennel Soup Hodge</td>\n",
       "    </tr>\n",
       "    <tr>\n",
       "      <th>3</th>\n",
       "      <td>Mahi-Mahi in Tomato Olive Sauce</td>\n",
       "    </tr>\n",
       "    <tr>\n",
       "      <th>4</th>\n",
       "      <td>Spinach Noodle Casserole</td>\n",
       "    </tr>\n",
       "  </tbody>\n",
       "</table>\n",
       "</div>"
      ],
      "text/plain": [
       "                                         title\n",
       "0              Lentil, Apple, and Turkey Wrap \n",
       "1  Boudin Blanc Terrine with Red Onion Confit \n",
       "2                Potato and Fennel Soup Hodge \n",
       "3             Mahi-Mahi in Tomato Olive Sauce \n",
       "4                    Spinach Noodle Casserole "
      ]
     },
     "execution_count": 43,
     "metadata": {},
     "output_type": "execute_result"
    }
   ],
   "source": [
    "dataset_epi=\"datasets/epicurious-recipes-with-rating-and-nutrition/epi_r.csv\"\n",
    "epi_titles=pd.read_csv(dataset_epi)[[\"title\"]]\n",
    "epi_titles.head()"
   ]
  },
  {
   "cell_type": "markdown",
   "metadata": {},
   "source": [
    "# Read Dataset datasets/recipes-master"
   ]
  },
  {
   "cell_type": "code",
   "execution_count": 44,
   "metadata": {},
   "outputs": [
    {
     "name": "stdout",
     "output_type": "stream",
     "text": [
      "File Reading Failure : ./datasets/recipes-master/index/s/sugarless-fruitcake.json\n",
      "File Reading Failure : ./datasets/recipes-master/index/s/sweet-potato-casserole-iii.json\n"
     ]
    }
   ],
   "source": [
    "dataset_master=\"./datasets/recipes-master/index\"\n",
    "titles_ms,dirs_ms,ingrs_ms,junks_ms=get_recipes_master(dataset_master)"
   ]
  },
  {
   "cell_type": "markdown",
   "metadata": {},
   "source": [
    "\"\"\"\n",
    "\n",
    "EMPTY FILES !!!\n",
    "\n",
    "File Reading Failure : ./datasets/recipes-master/index/s/sugarless-fruitcake.json\n",
    "File Reading Failure : ./datasets/recipes-master/index/s/sweet-potato-casserole-iii.json\n",
    "\n",
    "\"\"\""
   ]
  },
  {
   "cell_type": "markdown",
   "metadata": {},
   "source": [
    "# Read Dataset datasets/recipes_raw"
   ]
  },
  {
   "cell_type": "code",
   "execution_count": 45,
   "metadata": {},
   "outputs": [],
   "source": [
    "recipes_raw_path=\"datasets/recipes_raw\"\n",
    "titles_raw,dirs_raw,ingrs_raw,junks_raw=get_recipes_raw(recipes_raw_path)"
   ]
  },
  {
   "cell_type": "markdown",
   "metadata": {},
   "source": [
    "# Merging All"
   ]
  },
  {
   "cell_type": "code",
   "execution_count": 46,
   "metadata": {},
   "outputs": [],
   "source": [
    "all_titles=merge_lists([epi_titles,titles,titles_raw,titles_ms])\n",
    "all_dirns=merge_lists([dirs,dirs_raw,dirs_ms])\n",
    "all_ingrs=merge_lists([ingrs,ingrs_raw,ingrs_ms])\n",
    "all_junks=merge_lists([junks,junks_raw,junks_ms])"
   ]
  },
  {
   "cell_type": "markdown",
   "metadata": {},
   "source": [
    "# Titles"
   ]
  },
  {
   "cell_type": "code",
   "execution_count": 47,
   "metadata": {},
   "outputs": [
    {
     "data": {
      "text/plain": [
       "['title',\n",
       " 'Grapefruit Avocado & Arugula Salad Recipe',\n",
       " 'Cauliflower Fried \"Rice\" with Kale & Chicken Recipe',\n",
       " 'Three Cup Chicken Recipe | ä¸\\x89æ\\x9d¯é\\x9b\\x9e',\n",
       " 'Jade Shrimp Recipe',\n",
       " 'Pork Belly Lettuce Cups Recipe',\n",
       " 'Citrus Salad with Crispy Quinoa',\n",
       " 'How to Make Crispy Quinoa',\n",
       " 'Oven Roasted Grapes on the Vine Recipe',\n",
       " 'Chicken Adobo Recipe']"
      ]
     },
     "execution_count": 47,
     "metadata": {},
     "output_type": "execute_result"
    }
   ],
   "source": [
    "all_titles[:10]"
   ]
  },
  {
   "cell_type": "markdown",
   "metadata": {},
   "source": [
    "# Directions..."
   ]
  },
  {
   "cell_type": "code",
   "execution_count": 48,
   "metadata": {},
   "outputs": [
    {
     "data": {
      "text/plain": [
       "['1. Section the grapefruit without the membrane, saving the juice in a small bowl. From the leftover membrane, squeeze and reserve as much juice as possible. Set aside the grapefruit sections.',\n",
       " '2. To make the Grapefruit Shallot Vinaigrette, add all of the vinaigrette ingredients into a mason jar. Close lid tightly and shake.',\n",
       " '3. Just before serving, pit and thinly slice the avocados. Assemble the salad and toss with the vinaigrette.']"
      ]
     },
     "execution_count": 48,
     "metadata": {},
     "output_type": "execute_result"
    }
   ],
   "source": [
    "all_dirns[:3]"
   ]
  },
  {
   "cell_type": "markdown",
   "metadata": {},
   "source": [
    "# Ingredients "
   ]
  },
  {
   "cell_type": "code",
   "execution_count": 49,
   "metadata": {},
   "outputs": [
    {
     "data": {
      "text/plain": [
       "['\"2 grapefruits\"',\n",
       " '\"2 medium avocado\"',\n",
       " '\"8 ounces baby arugula or mixed greens\"',\n",
       " '\"FOR THE GRAPEFRUIT SHALLOT VINAIGRETTE\"',\n",
       " '\"3 tablespoons grapefruit juice (from the grapefruit)\"']"
      ]
     },
     "execution_count": 49,
     "metadata": {},
     "output_type": "execute_result"
    }
   ],
   "source": [
    "all_ingrs[:5]"
   ]
  },
  {
   "cell_type": "markdown",
   "metadata": {},
   "source": [
    "# Junks"
   ]
  },
  {
   "cell_type": "code",
   "execution_count": 50,
   "metadata": {},
   "outputs": [
    {
     "data": {
      "text/plain": [
       "['\"Servings:  4\"',\n",
       " '\"Prep Time:0 minutes\"',\n",
       " '\"Cook Time:15 minutes\"',\n",
       " '\"Preparation time: 1-2 hours\"',\n",
       " '\"Cooking time: 10 to 30 mins\"']"
      ]
     },
     "execution_count": 50,
     "metadata": {},
     "output_type": "execute_result"
    }
   ],
   "source": [
    "all_junks[:5]"
   ]
  },
  {
   "cell_type": "code",
   "execution_count": 51,
   "metadata": {},
   "outputs": [
    {
     "name": "stdout",
     "output_type": "stream",
     "text": [
      "Total Titles : 236193\n",
      "Total Ingredients : 2031760\n",
      "Total Junks : 407126\n",
      "Total Directions : 382375\n"
     ]
    }
   ],
   "source": [
    "print(\"Total Titles : {}\".format(len(all_titles)))\n",
    "print(\"Total Ingredients : {}\".format(len(all_ingrs)))\n",
    "print(\"Total Junks : {}\".format(len(all_junks)))\n",
    "print(\"Total Directions : {}\".format(len(all_dirns)))"
   ]
  },
  {
   "cell_type": "markdown",
   "metadata": {},
   "source": [
    "# Merge all categories and their labels "
   ]
  },
  {
   "cell_type": "code",
   "execution_count": 52,
   "metadata": {},
   "outputs": [
    {
     "name": "stdout",
     "output_type": "stream",
     "text": [
      "(3057454, 2)\n"
     ]
    }
   ],
   "source": [
    "all_cats_dict={\"titles\":all_titles,\n",
    "               \"directions\":all_dirns,\n",
    "               \"ingredients\":all_ingrs,\n",
    "               \"junks\":all_junks}\n",
    "examples_labels_df=merge_all_cats(all_cats_dict)\n",
    "print(examples_labels_df.shape)"
   ]
  },
  {
   "cell_type": "code",
   "execution_count": 53,
   "metadata": {},
   "outputs": [
    {
     "data": {
      "text/html": [
       "<div>\n",
       "<style scoped>\n",
       "    .dataframe tbody tr th:only-of-type {\n",
       "        vertical-align: middle;\n",
       "    }\n",
       "\n",
       "    .dataframe tbody tr th {\n",
       "        vertical-align: top;\n",
       "    }\n",
       "\n",
       "    .dataframe thead th {\n",
       "        text-align: right;\n",
       "    }\n",
       "</style>\n",
       "<table border=\"1\" class=\"dataframe\">\n",
       "  <thead>\n",
       "    <tr style=\"text-align: right;\">\n",
       "      <th></th>\n",
       "      <th>Examples</th>\n",
       "      <th>Labels</th>\n",
       "    </tr>\n",
       "  </thead>\n",
       "  <tbody>\n",
       "    <tr>\n",
       "      <th>0</th>\n",
       "      <td>title</td>\n",
       "      <td>title</td>\n",
       "    </tr>\n",
       "    <tr>\n",
       "      <th>1</th>\n",
       "      <td>Grapefruit Avocado &amp; Arugula Salad Recipe</td>\n",
       "      <td>title</td>\n",
       "    </tr>\n",
       "    <tr>\n",
       "      <th>2</th>\n",
       "      <td>Cauliflower Fried \"Rice\" with Kale &amp; Chicken R...</td>\n",
       "      <td>title</td>\n",
       "    </tr>\n",
       "    <tr>\n",
       "      <th>3</th>\n",
       "      <td>Three Cup Chicken Recipe | ä¸æ¯é</td>\n",
       "      <td>title</td>\n",
       "    </tr>\n",
       "    <tr>\n",
       "      <th>4</th>\n",
       "      <td>Jade Shrimp Recipe</td>\n",
       "      <td>title</td>\n",
       "    </tr>\n",
       "  </tbody>\n",
       "</table>\n",
       "</div>"
      ],
      "text/plain": [
       "                                            Examples Labels\n",
       "0                                              title  title\n",
       "1          Grapefruit Avocado & Arugula Salad Recipe  title\n",
       "2  Cauliflower Fried \"Rice\" with Kale & Chicken R...  title\n",
       "3               Three Cup Chicken Recipe | ä¸æ¯é  title\n",
       "4                                 Jade Shrimp Recipe  title"
      ]
     },
     "execution_count": 53,
     "metadata": {},
     "output_type": "execute_result"
    }
   ],
   "source": [
    "examples_labels_df.head()"
   ]
  },
  {
   "cell_type": "code",
   "execution_count": 27,
   "metadata": {},
   "outputs": [
    {
     "name": "stdout",
     "output_type": "stream",
     "text": [
      "(3057454, 2)\n"
     ]
    }
   ],
   "source": [
    "print(examples_labels_df.shape)"
   ]
  },
  {
   "cell_type": "markdown",
   "metadata": {},
   "source": [
    "# Look Out for Duplicate Values"
   ]
  },
  {
   "cell_type": "code",
   "execution_count": 54,
   "metadata": {},
   "outputs": [
    {
     "data": {
      "text/html": [
       "<div>\n",
       "<style scoped>\n",
       "    .dataframe tbody tr th:only-of-type {\n",
       "        vertical-align: middle;\n",
       "    }\n",
       "\n",
       "    .dataframe tbody tr th {\n",
       "        vertical-align: top;\n",
       "    }\n",
       "\n",
       "    .dataframe thead th {\n",
       "        text-align: right;\n",
       "    }\n",
       "</style>\n",
       "<table border=\"1\" class=\"dataframe\">\n",
       "  <thead>\n",
       "    <tr style=\"text-align: right;\">\n",
       "      <th></th>\n",
       "      <th>Examples</th>\n",
       "      <th>Labels</th>\n",
       "    </tr>\n",
       "  </thead>\n",
       "  <tbody>\n",
       "    <tr>\n",
       "      <th>31</th>\n",
       "      <td>How to Make Crispy Quinoa</td>\n",
       "      <td>title</td>\n",
       "    </tr>\n",
       "    <tr>\n",
       "      <th>35</th>\n",
       "      <td>Korean Bibimbap Recipe - Paleo and Low-Carb</td>\n",
       "      <td>title</td>\n",
       "    </tr>\n",
       "    <tr>\n",
       "      <th>66</th>\n",
       "      <td>Thai Grilled Shrimp with Black Pepper Sauce Re...</td>\n",
       "      <td>title</td>\n",
       "    </tr>\n",
       "    <tr>\n",
       "      <th>142</th>\n",
       "      <td>Spam Fried Rice</td>\n",
       "      <td>title</td>\n",
       "    </tr>\n",
       "    <tr>\n",
       "      <th>198</th>\n",
       "      <td>Thai Pork Chops with Ginger Coconut Sauce Recipe</td>\n",
       "      <td>title</td>\n",
       "    </tr>\n",
       "    <tr>\n",
       "      <th>257</th>\n",
       "      <td>Aged Sriracha Hot Sauce Recipe</td>\n",
       "      <td>title</td>\n",
       "    </tr>\n",
       "    <tr>\n",
       "      <th>299</th>\n",
       "      <td>Roasted Brussels Sprouts with Chinese Sausage ...</td>\n",
       "      <td>title</td>\n",
       "    </tr>\n",
       "    <tr>\n",
       "      <th>309</th>\n",
       "      <td>Rolo Pretzel Turtles Recipe</td>\n",
       "      <td>title</td>\n",
       "    </tr>\n",
       "    <tr>\n",
       "      <th>311</th>\n",
       "      <td>Asian Pan Seared Steak Rolls Recipe</td>\n",
       "      <td>title</td>\n",
       "    </tr>\n",
       "    <tr>\n",
       "      <th>338</th>\n",
       "      <td>1-Step, Fail Proof Prime Rib Roast Recipe on R...</td>\n",
       "      <td>title</td>\n",
       "    </tr>\n",
       "    <tr>\n",
       "      <th>343</th>\n",
       "      <td>Thai Steak Salad Recipe</td>\n",
       "      <td>title</td>\n",
       "    </tr>\n",
       "    <tr>\n",
       "      <th>344</th>\n",
       "      <td>Vietnamese BBQ Taco Recipe</td>\n",
       "      <td>title</td>\n",
       "    </tr>\n",
       "    <tr>\n",
       "      <th>357</th>\n",
       "      <td>Vietnamese Pho Pressure Cooker (Noodle Soup)</td>\n",
       "      <td>title</td>\n",
       "    </tr>\n",
       "    <tr>\n",
       "      <th>363</th>\n",
       "      <td>Thai Chicken Coconut Soup Recipe</td>\n",
       "      <td>title</td>\n",
       "    </tr>\n",
       "    <tr>\n",
       "      <th>364</th>\n",
       "      <td>Pressure Cooker Ramen Recipe</td>\n",
       "      <td>title</td>\n",
       "    </tr>\n",
       "    <tr>\n",
       "      <th>366</th>\n",
       "      <td>Citrus Salad with Crispy Quinoa</td>\n",
       "      <td>title</td>\n",
       "    </tr>\n",
       "    <tr>\n",
       "      <th>370</th>\n",
       "      <td>Grapefruit Avocado &amp; Arugula Salad Recipe</td>\n",
       "      <td>title</td>\n",
       "    </tr>\n",
       "    <tr>\n",
       "      <th>373</th>\n",
       "      <td>Cauliflower Fried \"Rice\" with Kale &amp; Chicken R...</td>\n",
       "      <td>title</td>\n",
       "    </tr>\n",
       "    <tr>\n",
       "      <th>801</th>\n",
       "      <td>Game terrine</td>\n",
       "      <td>title</td>\n",
       "    </tr>\n",
       "    <tr>\n",
       "      <th>961</th>\n",
       "      <td>Deep-fried courgette flowers</td>\n",
       "      <td>title</td>\n",
       "    </tr>\n",
       "    <tr>\n",
       "      <th>966</th>\n",
       "      <td>Lemon syllabub</td>\n",
       "      <td>title</td>\n",
       "    </tr>\n",
       "    <tr>\n",
       "      <th>1206</th>\n",
       "      <td>Aïoli</td>\n",
       "      <td>title</td>\n",
       "    </tr>\n",
       "    <tr>\n",
       "      <th>1380</th>\n",
       "      <td>Earl Grey martini</td>\n",
       "      <td>title</td>\n",
       "    </tr>\n",
       "    <tr>\n",
       "      <th>1392</th>\n",
       "      <td>Cornbread</td>\n",
       "      <td>title</td>\n",
       "    </tr>\n",
       "    <tr>\n",
       "      <th>1616</th>\n",
       "      <td>Pumpkin soup</td>\n",
       "      <td>title</td>\n",
       "    </tr>\n",
       "    <tr>\n",
       "      <th>2037</th>\n",
       "      <td>Caponata</td>\n",
       "      <td>title</td>\n",
       "    </tr>\n",
       "    <tr>\n",
       "      <th>2142</th>\n",
       "      <td>Wonton Soup</td>\n",
       "      <td>title</td>\n",
       "    </tr>\n",
       "    <tr>\n",
       "      <th>2176</th>\n",
       "      <td>Gazpacho</td>\n",
       "      <td>title</td>\n",
       "    </tr>\n",
       "    <tr>\n",
       "      <th>2638</th>\n",
       "      <td>Gingerbread Muffins</td>\n",
       "      <td>title</td>\n",
       "    </tr>\n",
       "    <tr>\n",
       "      <th>2703</th>\n",
       "      <td>Cassoulet de Toulouse</td>\n",
       "      <td>title</td>\n",
       "    </tr>\n",
       "    <tr>\n",
       "      <th>...</th>\n",
       "      <td>...</td>\n",
       "      <td>...</td>\n",
       "    </tr>\n",
       "    <tr>\n",
       "      <th>3057420</th>\n",
       "      <td>www.epicurious.com</td>\n",
       "      <td>junk</td>\n",
       "    </tr>\n",
       "    <tr>\n",
       "      <th>3057422</th>\n",
       "      <td>Salad</td>\n",
       "      <td>junk</td>\n",
       "    </tr>\n",
       "    <tr>\n",
       "      <th>3057423</th>\n",
       "      <td>Leafy Green</td>\n",
       "      <td>junk</td>\n",
       "    </tr>\n",
       "    <tr>\n",
       "      <th>3057424</th>\n",
       "      <td>Mushroom</td>\n",
       "      <td>junk</td>\n",
       "    </tr>\n",
       "    <tr>\n",
       "      <th>3057425</th>\n",
       "      <td>Appetizer</td>\n",
       "      <td>junk</td>\n",
       "    </tr>\n",
       "    <tr>\n",
       "      <th>3057426</th>\n",
       "      <td>Low Carb</td>\n",
       "      <td>junk</td>\n",
       "    </tr>\n",
       "    <tr>\n",
       "      <th>3057427</th>\n",
       "      <td>Vegetarian</td>\n",
       "      <td>junk</td>\n",
       "    </tr>\n",
       "    <tr>\n",
       "      <th>3057428</th>\n",
       "      <td>Winter</td>\n",
       "      <td>junk</td>\n",
       "    </tr>\n",
       "    <tr>\n",
       "      <th>3057429</th>\n",
       "      <td>allrecipes.com</td>\n",
       "      <td>junk</td>\n",
       "    </tr>\n",
       "    <tr>\n",
       "      <th>3057431</th>\n",
       "      <td>allrecipes.com</td>\n",
       "      <td>junk</td>\n",
       "    </tr>\n",
       "    <tr>\n",
       "      <th>3057433</th>\n",
       "      <td>www.epicurious.com</td>\n",
       "      <td>junk</td>\n",
       "    </tr>\n",
       "    <tr>\n",
       "      <th>3057435</th>\n",
       "      <td>Food Processor</td>\n",
       "      <td>junk</td>\n",
       "    </tr>\n",
       "    <tr>\n",
       "      <th>3057436</th>\n",
       "      <td>Bean</td>\n",
       "      <td>junk</td>\n",
       "    </tr>\n",
       "    <tr>\n",
       "      <th>3057437</th>\n",
       "      <td>Appetizer</td>\n",
       "      <td>junk</td>\n",
       "    </tr>\n",
       "    <tr>\n",
       "      <th>3057438</th>\n",
       "      <td>No-Cook</td>\n",
       "      <td>junk</td>\n",
       "    </tr>\n",
       "    <tr>\n",
       "      <th>3057439</th>\n",
       "      <td>Cocktail Party</td>\n",
       "      <td>junk</td>\n",
       "    </tr>\n",
       "    <tr>\n",
       "      <th>3057440</th>\n",
       "      <td>Low Fat</td>\n",
       "      <td>junk</td>\n",
       "    </tr>\n",
       "    <tr>\n",
       "      <th>3057441</th>\n",
       "      <td>Vegetarian</td>\n",
       "      <td>junk</td>\n",
       "    </tr>\n",
       "    <tr>\n",
       "      <th>3057442</th>\n",
       "      <td>Quick &amp; Easy</td>\n",
       "      <td>junk</td>\n",
       "    </tr>\n",
       "    <tr>\n",
       "      <th>3057443</th>\n",
       "      <td>Self</td>\n",
       "      <td>junk</td>\n",
       "    </tr>\n",
       "    <tr>\n",
       "      <th>3057444</th>\n",
       "      <td>Sugar Conscious</td>\n",
       "      <td>junk</td>\n",
       "    </tr>\n",
       "    <tr>\n",
       "      <th>3057445</th>\n",
       "      <td>Vegan</td>\n",
       "      <td>junk</td>\n",
       "    </tr>\n",
       "    <tr>\n",
       "      <th>3057446</th>\n",
       "      <td>Pescatarian</td>\n",
       "      <td>junk</td>\n",
       "    </tr>\n",
       "    <tr>\n",
       "      <th>3057447</th>\n",
       "      <td>Dairy Free</td>\n",
       "      <td>junk</td>\n",
       "    </tr>\n",
       "    <tr>\n",
       "      <th>3057448</th>\n",
       "      <td>Wheat/Gluten-Free</td>\n",
       "      <td>junk</td>\n",
       "    </tr>\n",
       "    <tr>\n",
       "      <th>3057449</th>\n",
       "      <td>Peanut Free</td>\n",
       "      <td>junk</td>\n",
       "    </tr>\n",
       "    <tr>\n",
       "      <th>3057450</th>\n",
       "      <td>Tree Nut Free</td>\n",
       "      <td>junk</td>\n",
       "    </tr>\n",
       "    <tr>\n",
       "      <th>3057451</th>\n",
       "      <td>Soy Free</td>\n",
       "      <td>junk</td>\n",
       "    </tr>\n",
       "    <tr>\n",
       "      <th>3057452</th>\n",
       "      <td>No Sugar Added</td>\n",
       "      <td>junk</td>\n",
       "    </tr>\n",
       "    <tr>\n",
       "      <th>3057453</th>\n",
       "      <td>Kosher</td>\n",
       "      <td>junk</td>\n",
       "    </tr>\n",
       "  </tbody>\n",
       "</table>\n",
       "<p>1871161 rows × 2 columns</p>\n",
       "</div>"
      ],
      "text/plain": [
       "                                                  Examples Labels\n",
       "31                               How to Make Crispy Quinoa  title\n",
       "35             Korean Bibimbap Recipe - Paleo and Low-Carb  title\n",
       "66       Thai Grilled Shrimp with Black Pepper Sauce Re...  title\n",
       "142                                        Spam Fried Rice  title\n",
       "198       Thai Pork Chops with Ginger Coconut Sauce Recipe  title\n",
       "257                         Aged Sriracha Hot Sauce Recipe  title\n",
       "299      Roasted Brussels Sprouts with Chinese Sausage ...  title\n",
       "309                            Rolo Pretzel Turtles Recipe  title\n",
       "311                    Asian Pan Seared Steak Rolls Recipe  title\n",
       "338      1-Step, Fail Proof Prime Rib Roast Recipe on R...  title\n",
       "343                                Thai Steak Salad Recipe  title\n",
       "344                             Vietnamese BBQ Taco Recipe  title\n",
       "357           Vietnamese Pho Pressure Cooker (Noodle Soup)  title\n",
       "363                       Thai Chicken Coconut Soup Recipe  title\n",
       "364                           Pressure Cooker Ramen Recipe  title\n",
       "366                        Citrus Salad with Crispy Quinoa  title\n",
       "370              Grapefruit Avocado & Arugula Salad Recipe  title\n",
       "373      Cauliflower Fried \"Rice\" with Kale & Chicken R...  title\n",
       "801                                           Game terrine  title\n",
       "961                           Deep-fried courgette flowers  title\n",
       "966                                         Lemon syllabub  title\n",
       "1206                                                 Aïoli  title\n",
       "1380                                     Earl Grey martini  title\n",
       "1392                                             Cornbread  title\n",
       "1616                                          Pumpkin soup  title\n",
       "2037                                              Caponata  title\n",
       "2142                                           Wonton Soup  title\n",
       "2176                                              Gazpacho  title\n",
       "2638                                   Gingerbread Muffins  title\n",
       "2703                                 Cassoulet de Toulouse  title\n",
       "...                                                    ...    ...\n",
       "3057420                                 www.epicurious.com   junk\n",
       "3057422                                              Salad   junk\n",
       "3057423                                        Leafy Green   junk\n",
       "3057424                                           Mushroom   junk\n",
       "3057425                                          Appetizer   junk\n",
       "3057426                                           Low Carb   junk\n",
       "3057427                                         Vegetarian   junk\n",
       "3057428                                             Winter   junk\n",
       "3057429                                     allrecipes.com   junk\n",
       "3057431                                     allrecipes.com   junk\n",
       "3057433                                 www.epicurious.com   junk\n",
       "3057435                                     Food Processor   junk\n",
       "3057436                                               Bean   junk\n",
       "3057437                                          Appetizer   junk\n",
       "3057438                                            No-Cook   junk\n",
       "3057439                                     Cocktail Party   junk\n",
       "3057440                                            Low Fat   junk\n",
       "3057441                                         Vegetarian   junk\n",
       "3057442                                       Quick & Easy   junk\n",
       "3057443                                               Self   junk\n",
       "3057444                                    Sugar Conscious   junk\n",
       "3057445                                              Vegan   junk\n",
       "3057446                                        Pescatarian   junk\n",
       "3057447                                         Dairy Free   junk\n",
       "3057448                                  Wheat/Gluten-Free   junk\n",
       "3057449                                        Peanut Free   junk\n",
       "3057450                                      Tree Nut Free   junk\n",
       "3057451                                           Soy Free   junk\n",
       "3057452                                     No Sugar Added   junk\n",
       "3057453                                             Kosher   junk\n",
       "\n",
       "[1871161 rows x 2 columns]"
      ]
     },
     "execution_count": 54,
     "metadata": {},
     "output_type": "execute_result"
    }
   ],
   "source": [
    "examples_labels_df[examples_labels_df.duplicated(subset=[\"Examples\",\"Labels\"])]"
   ]
  },
  {
   "cell_type": "markdown",
   "metadata": {},
   "source": [
    "# Drop Duplicate Values"
   ]
  },
  {
   "cell_type": "code",
   "execution_count": 55,
   "metadata": {},
   "outputs": [
    {
     "name": "stdout",
     "output_type": "stream",
     "text": [
      "Before Duplicate Values Dropped : (3057454, 2)\n",
      "After Duplicate Values Dropped : (1186293, 2)\n"
     ]
    }
   ],
   "source": [
    "print(\"Before Duplicate Values Dropped : {}\".format(examples_labels_df.shape))\n",
    "examples_labels_df.drop_duplicates(subset=[\"Examples\",\"Labels\"],inplace=True)\n",
    "print(\"After Duplicate Values Dropped : {}\".format(examples_labels_df.shape))"
   ]
  },
  {
   "cell_type": "markdown",
   "metadata": {},
   "source": [
    "# Drop Nan Values"
   ]
  },
  {
   "cell_type": "code",
   "execution_count": 61,
   "metadata": {},
   "outputs": [
    {
     "name": "stdout",
     "output_type": "stream",
     "text": [
      "Before Nan Values Dropped : (1186293, 2)\n",
      "After NaN Values Dropped : (1186291, 2)\n"
     ]
    }
   ],
   "source": [
    "print(\"Before Nan Values Dropped : {}\".format(examples_labels_df.shape))\n",
    "examples_labels_df.dropna(inplace=True)\n",
    "print(\"After NaN Values Dropped : {}\".format(examples_labels_df.shape))"
   ]
  },
  {
   "cell_type": "markdown",
   "metadata": {},
   "source": [
    "# Save Formatted DataFrame"
   ]
  },
  {
   "cell_type": "code",
   "execution_count": 62,
   "metadata": {},
   "outputs": [],
   "source": [
    "examples_labels_df.to_csv(\"processed_data/all_raw_dataset.csv\",index=False)"
   ]
  }
 ],
 "metadata": {
  "kernelspec": {
   "display_name": "Python 3",
   "language": "python",
   "name": "python3"
  },
  "language_info": {
   "codemirror_mode": {
    "name": "ipython",
    "version": 3
   },
   "file_extension": ".py",
   "mimetype": "text/x-python",
   "name": "python",
   "nbconvert_exporter": "python",
   "pygments_lexer": "ipython3",
   "version": "3.6.3"
  }
 },
 "nbformat": 4,
 "nbformat_minor": 2
}
