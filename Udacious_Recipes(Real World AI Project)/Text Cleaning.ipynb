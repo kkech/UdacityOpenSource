{
 "cells": [
  {
   "cell_type": "code",
   "execution_count": 1,
   "metadata": {},
   "outputs": [
    {
     "data": {
      "text/html": [
       "<div>\n",
       "<style scoped>\n",
       "    .dataframe tbody tr th:only-of-type {\n",
       "        vertical-align: middle;\n",
       "    }\n",
       "\n",
       "    .dataframe tbody tr th {\n",
       "        vertical-align: top;\n",
       "    }\n",
       "\n",
       "    .dataframe thead th {\n",
       "        text-align: right;\n",
       "    }\n",
       "</style>\n",
       "<table border=\"1\" class=\"dataframe\">\n",
       "  <thead>\n",
       "    <tr style=\"text-align: right;\">\n",
       "      <th></th>\n",
       "      <th>Examples</th>\n",
       "      <th>Labels</th>\n",
       "    </tr>\n",
       "  </thead>\n",
       "  <tbody>\n",
       "    <tr>\n",
       "      <th>0</th>\n",
       "      <td>title</td>\n",
       "      <td>title</td>\n",
       "    </tr>\n",
       "    <tr>\n",
       "      <th>1</th>\n",
       "      <td>Grapefruit Avocado &amp; Arugula Salad Recipe</td>\n",
       "      <td>title</td>\n",
       "    </tr>\n",
       "    <tr>\n",
       "      <th>2</th>\n",
       "      <td>Cauliflower Fried \"Rice\" with Kale &amp; Chicken R...</td>\n",
       "      <td>title</td>\n",
       "    </tr>\n",
       "    <tr>\n",
       "      <th>3</th>\n",
       "      <td>Three Cup Chicken Recipe | ä¸æ¯é</td>\n",
       "      <td>title</td>\n",
       "    </tr>\n",
       "    <tr>\n",
       "      <th>4</th>\n",
       "      <td>Jade Shrimp Recipe</td>\n",
       "      <td>title</td>\n",
       "    </tr>\n",
       "  </tbody>\n",
       "</table>\n",
       "</div>"
      ],
      "text/plain": [
       "                                            Examples Labels\n",
       "0                                              title  title\n",
       "1          Grapefruit Avocado & Arugula Salad Recipe  title\n",
       "2  Cauliflower Fried \"Rice\" with Kale & Chicken R...  title\n",
       "3               Three Cup Chicken Recipe | ä¸æ¯é  title\n",
       "4                                 Jade Shrimp Recipe  title"
      ]
     },
     "execution_count": 1,
     "metadata": {},
     "output_type": "execute_result"
    }
   ],
   "source": [
    "import pandas as pd\n",
    "df=pd.read_csv(\"processed_data/all_raw_dataset.csv\")\n",
    "df.head()"
   ]
  },
  {
   "cell_type": "code",
   "execution_count": 2,
   "metadata": {},
   "outputs": [],
   "source": [
    "%load_ext autoreload\n",
    "%autoreload 2\n",
    "from normalize_text import *"
   ]
  },
  {
   "cell_type": "markdown",
   "metadata": {},
   "source": [
    "# Normalize the Dataset"
   ]
  },
  {
   "cell_type": "code",
   "execution_count": 1,
   "metadata": {},
   "outputs": [
    {
     "ename": "NameError",
     "evalue": "name 'examples' is not defined",
     "output_type": "error",
     "traceback": [
      "\u001b[0;31m---------------------------------------------------------------------------\u001b[0m",
      "\u001b[0;31mNameError\u001b[0m                                 Traceback (most recent call last)",
      "\u001b[0;32m<ipython-input-1-2d6b709367bd>\u001b[0m in \u001b[0;36m<module>\u001b[0;34m()\u001b[0m\n\u001b[0;32m----> 1\u001b[0;31m \u001b[0mexamples\u001b[0m\u001b[0;34m[\u001b[0m\u001b[0;34m:\u001b[0m\u001b[0;36m10\u001b[0m\u001b[0;34m]\u001b[0m\u001b[0;34m\u001b[0m\u001b[0m\n\u001b[0m",
      "\u001b[0;31mNameError\u001b[0m: name 'examples' is not defined"
     ]
    }
   ],
   "source": [
    "examples[:10]"
   ]
  },
  {
   "cell_type": "code",
   "execution_count": 73,
   "metadata": {},
   "outputs": [],
   "source": [
    "examples=df[\"Examples\"].apply(normalize)"
   ]
  },
  {
   "cell_type": "code",
   "execution_count": 74,
   "metadata": {},
   "outputs": [
    {
     "data": {
      "text/plain": [
       "1111                                     juicy lucy pudding\n",
       "1112            red berry fruit compote (german rote grtze)\n",
       "1113                        fudgy chocolate & orange gateau\n",
       "1114                              pumpkin & ginger teabread\n",
       "1115                                       malloween ghosts\n",
       "1116                                      squeamish squares\n",
       "1117                               pumpkin passion cupcakes\n",
       "1118                             instant berry banana slush\n",
       "1119                                 haunted graveyard cake\n",
       "1120                                       spiders web cake\n",
       "1121                          freaky finger red velvet cake\n",
       "1122                                  frankenstein cupcakes\n",
       "1123                                     eerie eyeball pops\n",
       "1124                     spider web chocolate fudge muffins\n",
       "1125                                 hooting halloween owls\n",
       "1126                                    spooky spider cakes\n",
       "1127                                 halloween pumpkin cake\n",
       "1128                              halloween cupcakes recipe\n",
       "1129                                             miso steak\n",
       "1130                              soy tuna with wasabi mash\n",
       "1131                                   misomarinated salmon\n",
       "1132                                          chicken katsu\n",
       "1133                                    citrus soba noodles\n",
       "1134            grilled salmon teriyaki with cucumber salad\n",
       "1135                     teriyaki prawns & broccoli noodles\n",
       "1136          saucy japanese greens with sticky sesame rice\n",
       "1137          teriyaki chicken meatballs with rice & greens\n",
       "1138           miso chilli steak with crispy sweet potatoes\n",
       "1139                          salmon & cucumber sushi rolls\n",
       "1140                         japanese salmon & avocado rice\n",
       "                                ...                        \n",
       "222192    in a medium skillet brown hamburger over mediu...\n",
       "222193    prepare grill for indirect heat. season meat w...\n",
       "222194    in a large skillet over medium heat cook garli...\n",
       "222195    preheat oven to 350 degrees f. grease a 9x13 i...\n",
       "222196    in a slow cooker mix together the soup onion p...\n",
       "222197    preheat oven to 275 degrees f (135 degrees c)....\n",
       "222198    preheat oven to 350 degrees f (175 degrees c)....\n",
       "222199    in a large pot with boiling salted water cook ...\n",
       "222200    preheat oven to 350 degrees f (175 degrees c)....\n",
       "222201    preheat oven to 350 degrees f (175 degrees c)....\n",
       "222202    preheat oven to 450 degrees f (230 degrees c)....\n",
       "222203    place the chicken breasts into the bottom of a...\n",
       "222204    in a medium saucepan combine sugar flour and s...\n",
       "222205    preheat oven to 400 degrees f (200 degrees c)....\n",
       "222206    heat a large skillet over mediumhigh heat. add...\n",
       "222207    preheat oven to 400 degrees f (200 degrees c)....\n",
       "222208    place the shrimp in a large bowl. stir garlic ...\n",
       "222209    heat the oil in a wok over medium heat. place ...\n",
       "222210    whisk mayonnaise sugar lemon juice vinegar pep...\n",
       "222211    preheat the oven to 350 degrees f (175 degrees...\n",
       "222212    preheat the oven to 275 degrees f (135 degrees...\n",
       "222213    preheat oven to 450 degrees f (230 degrees c)....\n",
       "222214    melt butter in a large pot over medium heat. b...\n",
       "222215    in a large pot over medium heat saute the garl...\n",
       "222216    preheat oven to 350 degrees f (175 degrees c)....\n",
       "222217    heat olive oil in a skillet over medium heat c...\n",
       "222218    rinse the rice in a strainer or colander until...\n",
       "222219    preheat oven to 350 degrees f (175 degrees c)....\n",
       "222220    cut each breast into 1 inch pieces. sprinkle c...\n",
       "222221    place bread cubes in a lightly greased 9x13 in...\n",
       "Name: Examples, Length: 221111, dtype: object"
      ]
     },
     "execution_count": 74,
     "metadata": {},
     "output_type": "execute_result"
    }
   ],
   "source": [
    "examples[1111:222222]"
   ]
  },
  {
   "cell_type": "code",
   "execution_count": null,
   "metadata": {},
   "outputs": [],
   "source": []
  },
  {
   "cell_type": "code",
   "execution_count": 6,
   "metadata": {},
   "outputs": [
    {
     "name": "stdout",
     "output_type": "stream",
     "text": [
      "3                       three cup chicken recipe | 三杯雞\n"
     ]
    }
   ],
   "source": [
    "import ftfy as ft\n",
    "print(ft.fix_encoding('three cup chicken recipe | 三杯雞'))"
   ]
  },
  {
   "cell_type": "code",
   "execution_count": 35,
   "metadata": {},
   "outputs": [
    {
     "data": {
      "text/plain": [
       "'three cup chicken recipe | 三杯雞'"
      ]
     },
     "execution_count": 35,
     "metadata": {},
     "output_type": "execute_result"
    }
   ],
   "source": [
    "x=ft.fix_encoding('three cup chicken recipe | 三杯雞').encode('utf-8').decode('utf-8')\n",
    "x"
   ]
  },
  {
   "cell_type": "code",
   "execution_count": 72,
   "metadata": {},
   "outputs": [
    {
     "data": {
      "text/plain": [
       "'hello.wprld 7837853478757&& & 1/2 () [] & and 2 {} 1/4 [099878656] '"
      ]
     },
     "execution_count": 72,
     "metadata": {},
     "output_type": "execute_result"
    }
   ],
   "source": [
    "x=\"hello.wprld 7837853478757&&^%%%$#$$#%^&* 1/2 () [] & and 2\\2 {} 1/4 ;';[099878656]'\"\n",
    "import re\n",
    "s = \"string. With. Punctuation?\"\n",
    "re.sub('\\s+',' ',re.sub(r'[^\\[\\]\\w\\s.{}&()/]',' ',x))"
   ]
  },
  {
   "cell_type": "code",
   "execution_count": null,
   "metadata": {},
   "outputs": [],
   "source": []
  }
 ],
 "metadata": {
  "kernelspec": {
   "display_name": "Python 3",
   "language": "python",
   "name": "python3"
  },
  "language_info": {
   "codemirror_mode": {
    "name": "ipython",
    "version": 3
   },
   "file_extension": ".py",
   "mimetype": "text/x-python",
   "name": "python",
   "nbconvert_exporter": "python",
   "pygments_lexer": "ipython3",
   "version": "3.6.3"
  }
 },
 "nbformat": 4,
 "nbformat_minor": 2
}
