{
 "cells": [
  {
   "cell_type": "markdown",
   "metadata": {},
   "source": [
    "#### Import the libraries and modules"
   ]
  },
  {
   "cell_type": "code",
   "execution_count": 1,
   "metadata": {},
   "outputs": [],
   "source": [
    "import torch as torch"
   ]
  },
  {
   "cell_type": "code",
   "execution_count": 2,
   "metadata": {},
   "outputs": [
    {
     "name": "stderr",
     "output_type": "stream",
     "text": [
      "WARNING:tf_encrypted:Falling back to insecure randomness since the required custom op could not be found for the installed version of TensorFlow (1.12.0). Fix this by compiling custom ops.\n",
      "WARNING:syft:Keras (Tensorflow) not available.\n"
     ]
    }
   ],
   "source": [
    "import syft as sy"
   ]
  },
  {
   "cell_type": "markdown",
   "metadata": {},
   "source": [
    "#### Initializing the hook"
   ]
  },
  {
   "cell_type": "code",
   "execution_count": 3,
   "metadata": {},
   "outputs": [],
   "source": [
    "hook = sy.TorchHook(torch)"
   ]
  },
  {
   "cell_type": "markdown",
   "metadata": {},
   "source": [
    "This is done to override PyTorch’s methods to execute commands on one worker that are called on tensors controlled by the local worker. It also allows us to move tensors between workers."
   ]
  },
  {
   "cell_type": "markdown",
   "metadata": {},
   "source": [
    "#### Creating a virtual worker"
   ]
  },
  {
   "cell_type": "markdown",
   "metadata": {},
   "source": [
    "Virtual workers are entities present on our local machine. They are used to model the behavior of actual workers."
   ]
  },
  {
   "cell_type": "code",
   "execution_count": 4,
   "metadata": {},
   "outputs": [
    {
     "name": "stdout",
     "output_type": "stream",
     "text": [
      "Jake has: {}\n"
     ]
    }
   ],
   "source": [
    "jake = sy.VirtualWorker(hook, id=\"jake\")\n",
    "print(\"Jake has: \" + str(jake._objects))"
   ]
  },
  {
   "cell_type": "markdown",
   "metadata": {},
   "source": [
    "Here, Jake is our virtual worker which can be considered as a separate entity on a device."
   ]
  },
  {
   "cell_type": "markdown",
   "metadata": {},
   "source": [
    "#### Sending data to a VirtualWorker"
   ]
  },
  {
   "cell_type": "markdown",
   "metadata": {},
   "source": [
    "Let’s send Jake some data."
   ]
  },
  {
   "cell_type": "code",
   "execution_count": 5,
   "metadata": {},
   "outputs": [
    {
     "name": "stdout",
     "output_type": "stream",
     "text": [
      "x: (Wrapper)>[PointerTensor | me:27300779835 -> jake:14742621958]\n",
      "Jake has: {14742621958: tensor([1, 2, 3, 4, 5])}\n"
     ]
    }
   ],
   "source": [
    "x = torch.tensor([1, 2, 3, 4, 5])\n",
    "x = x.send(jake)\n",
    "print(\"x: \" + str(x))\n",
    "print(\"Jake has: \" + str(jake._objects))"
   ]
  },
  {
   "cell_type": "markdown",
   "metadata": {},
   "source": [
    "When we send a tensor to Jake, we are returned a pointer to that tensor. All the operations will be executed with this pointer. This pointer holds information about the data present on another machine. Now, x is a PointTensor."
   ]
  },
  {
   "cell_type": "markdown",
   "metadata": {},
   "source": [
    "#### Retrieving data from a VirtualWorker"
   ]
  },
  {
   "cell_type": "markdown",
   "metadata": {},
   "source": [
    "Use the `get()` method to get back the value of x from Jake’s device. However, by doing so, the tensor on Jake’s device gets erased."
   ]
  },
  {
   "cell_type": "code",
   "execution_count": 6,
   "metadata": {},
   "outputs": [
    {
     "name": "stdout",
     "output_type": "stream",
     "text": [
      "x: tensor([1, 2, 3, 4, 5])\n",
      "Jake has: {}\n"
     ]
    }
   ],
   "source": [
    "x = x.get()\n",
    "print(\"x: \" + str(x))\n",
    "print(\"Jake has: \" + str(jake._objects))"
   ]
  },
  {
   "cell_type": "markdown",
   "metadata": {},
   "source": [
    "#### Calling `send()` on a PointTensor"
   ]
  },
  {
   "cell_type": "markdown",
   "metadata": {},
   "source": [
    "When we send the PointTensor x (pointing to a tensor on Jake’s machine) to another worker - John, the whole chain is sent to John and a PointTensor pointing to the node on John’s device is returned. The tensor is still present on Jake’s device."
   ]
  },
  {
   "cell_type": "code",
   "execution_count": 7,
   "metadata": {},
   "outputs": [
    {
     "name": "stdout",
     "output_type": "stream",
     "text": [
      "x: (Wrapper)>[PointerTensor | me:39094863827 -> john:87420456620]\n",
      "John has: {87420456620: (Wrapper)>[PointerTensor | john:87420456620 -> jake:14742621958]}\n",
      "Jake has: {14742621958: tensor([1, 2, 3, 4, 5])}\n"
     ]
    }
   ],
   "source": [
    "john = sy.VirtualWorker(hook, id=\"john\")\n",
    "x = x.send(jake)\n",
    "x = x.send(john)\n",
    "print(\"x: \" + str(x))\n",
    "print(\"John has: \" + str(john._objects))\n",
    "print(\"Jake has: \" + str(jake._objects))"
   ]
  },
  {
   "cell_type": "markdown",
   "metadata": {},
   "source": [
    "![Figure: Using the send() method on a PointTensor [Step 2].](images/1.png \"Figure: Using the send() method on a PointTensor [Step 2].\")"
   ]
  },
  {
   "cell_type": "markdown",
   "metadata": {},
   "source": [
    "#### Clearing or removing objects from a VirtualWorker"
   ]
  },
  {
   "cell_type": "markdown",
   "metadata": {},
   "source": [
    "The `clear_objects()` method removes all the objects from a worker."
   ]
  },
  {
   "cell_type": "code",
   "execution_count": 8,
   "metadata": {},
   "outputs": [
    {
     "name": "stdout",
     "output_type": "stream",
     "text": [
      "Jake has: {}\n",
      "John has: {}\n"
     ]
    }
   ],
   "source": [
    "jake.clear_objects()\n",
    "john.clear_objects()\n",
    "print(\"Jake has: \" + str(jake._objects))\n",
    "print(\"John has: \" + str(john._objects))"
   ]
  },
  {
   "cell_type": "markdown",
   "metadata": {},
   "source": [
    "#### Moving data among VirtualWorkers"
   ]
  },
  {
   "cell_type": "markdown",
   "metadata": {},
   "source": [
    "Suppose we wanted to move a tensor from Jake’s machine to John’s machine. We could do this by using the `send()` method to send the ‘pointer to tensor’ to John and let him call the `get()` method. PySfyt provides a `remote_get()` method to do this. There’s also a convenience method - `move()`, to perform the operation."
   ]
  },
  {
   "cell_type": "code",
   "execution_count": 9,
   "metadata": {},
   "outputs": [
    {
     "name": "stdout",
     "output_type": "stream",
     "text": [
      "(Wrapper)>[PointerTensor | me:83927397290 -> john:83927397290]\n",
      "Jake has: {}\n",
      "John has: {83927397290: tensor([ 6,  7,  8,  9, 10])}\n"
     ]
    }
   ],
   "source": [
    "y = torch.tensor([6, 7, 8, 9, 10]).send(jake)\n",
    "y = y.move(john)\n",
    "print(y)\n",
    "print(\"Jake has: \" + str(jake._objects))\n",
    "print(\"John has: \" + str(john._objects))"
   ]
  },
  {
   "cell_type": "markdown",
   "metadata": {},
   "source": [
    "![Figure: Using the move() method on a PointTensor. [Step 2]](images/2.png \"Figure: Using the move() method on a PointTensor. [Step 2]\")"
   ]
  },
  {
   "cell_type": "markdown",
   "metadata": {},
   "source": [
    "## Additive Secret Sharing"
   ]
  },
  {
   "cell_type": "markdown",
   "metadata": {},
   "source": [
    "In secret sharing, we split a secret x into a multiple number of shares and distribute them among a group of secret-holders. The secret x can be constructed only when all the shares it was split into are available.   \n",
    "\n",
    "For example, say we split x into 3 shares: x1, x2, and x3. We randomly initialize the first two shares and calculate the third share as x3 = x - (x1 + x2). We then distribute these shares among 3 secret-holders. The secret remains hidden as each individual holds onto only one share and has no idea of the total value.   \n",
    "\n",
    "We can make it more secure by choosing the range for the value of the shares. Let Q, a large prime number, be the upper limit. Now the third share, x3, equals Q - (x1 + x2) % Q + x.   "
   ]
  },
  {
   "cell_type": "markdown",
   "metadata": {},
   "source": [
    "Figure: Encrypting x in three shares.\n",
    "![Figure: Encrypting x in three shares.](images/3.jpg \"Figure: Encrypting x in three shares.\")"
   ]
  },
  {
   "cell_type": "code",
   "execution_count": 10,
   "metadata": {},
   "outputs": [
    {
     "name": "stdout",
     "output_type": "stream",
     "text": [
      "Shares: (6791356994129235077585, 3864164084470410748324, 13085108765160593660817)\n"
     ]
    }
   ],
   "source": [
    "import random\n",
    "\n",
    "# setting Q to a very large prime number\n",
    "Q = 23740629843760239486723\n",
    "\n",
    "\n",
    "def encrypt(x, n_share=3):\n",
    "    r\"\"\"Returns a tuple containg n_share number of shares\n",
    "    obtained after encrypting the value x.\"\"\"\n",
    "\n",
    "    shares = list()\n",
    "    for i in range(n_share - 1):\n",
    "        shares.append(random.randint(0, Q))\n",
    "    shares.append(Q - (sum(shares) % Q) + x)\n",
    "    return tuple(shares)\n",
    "\n",
    "\n",
    "print(\"Shares: \" + str(encrypt(3)))"
   ]
  },
  {
   "cell_type": "markdown",
   "metadata": {},
   "source": [
    "The decryption process will be shares summed together modulus Q."
   ]
  },
  {
   "cell_type": "markdown",
   "metadata": {},
   "source": [
    "Figure: Decrypting x from the three shares.\n",
    "![Figure: Decrypting x from the three shares.](images/4.jpg \"Figure: Decrypting x from the three shares.\")"
   ]
  },
  {
   "cell_type": "code",
   "execution_count": 11,
   "metadata": {},
   "outputs": [
    {
     "name": "stdout",
     "output_type": "stream",
     "text": [
      "Value after decrypting: 3\n"
     ]
    }
   ],
   "source": [
    "def decrypt(shares):\n",
    "    r\"\"\"Returns a value obtained by decrypting the shares.\"\"\"\n",
    "\n",
    "    return sum(shares) % Q\n",
    "\n",
    "\n",
    "print(\"Value after decrypting: \" + str(decrypt(encrypt(3))))"
   ]
  },
  {
   "cell_type": "markdown",
   "metadata": {},
   "source": [
    "### Homomorphic Encryption"
   ]
  },
  {
   "cell_type": "markdown",
   "metadata": {},
   "source": [
    "Homomorphic encryption is a form of encryption that allows us to perform computation on encrypted operands, resulting in encrypted output. This encrypted output when decrypted matches with the result obtained by performing the same computation on the actual operands.   \n",
    "\n",
    "The additive secret sharing technique already has a homomorphic property. If we split x into x1, x2, and x3, and y into y1, y2, and y3, then, x+y will be equal to the value obtained after decrypting the summation of the three shares: (x1+y1), (x2+y2) and (x3+y3).   \n"
   ]
  },
  {
   "cell_type": "code",
   "execution_count": 12,
   "metadata": {
    "scrolled": true
   },
   "outputs": [
    {
     "name": "stdout",
     "output_type": "stream",
     "text": [
      "Shares encrypting x: (18070203895959794850018, 6970382073964779800108, 22440673717595904323326)\n",
      "Shares encrypting y: (8526073569120074630761, 161438502552287902235, 15053117772087876953735)\n",
      "Sum of shares: (2855647621319629994056, 7131820576517067702343, 13753161645923541790338)\n",
      "Sum of original values (x + y): 14\n"
     ]
    }
   ],
   "source": [
    "def add(a, b):\n",
    "    r\"\"\"Returns a value obtained by adding the shares a and b.\"\"\"\n",
    "\n",
    "    c = list()\n",
    "    for i in range(len(a)):\n",
    "        c.append((a[i] + b[i]) % Q)\n",
    "    return tuple(c)\n",
    "\n",
    "\n",
    "x, y = 6, 8\n",
    "a = encrypt(x)\n",
    "b = encrypt(y)\n",
    "c = add(a, b)\n",
    "print(\"Shares encrypting x: \" + str(a))\n",
    "print(\"Shares encrypting y: \" + str(b))\n",
    "print(\"Sum of shares: \" + str(c))\n",
    "print(\"Sum of original values (x + y): \" + str(decrypt(c)))"
   ]
  },
  {
   "cell_type": "markdown",
   "metadata": {},
   "source": [
    "We are able to calculate the value of the aggregate function - addition, without knowing the values of x and y."
   ]
  },
  {
   "cell_type": "markdown",
   "metadata": {},
   "source": [
    "### Secret Sharing using PySyft"
   ]
  },
  {
   "cell_type": "code",
   "execution_count": 13,
   "metadata": {},
   "outputs": [
    {
     "name": "stderr",
     "output_type": "stream",
     "text": [
      "WARNING:syft.workers.base:Worker john already exists. Replacing old worker which could cause                     unexpected behavior\n",
      "WARNING:syft.workers.base:Worker secure_worker already exists. Replacing old worker which could cause                     unexpected behavior\n",
      "WARNING:syft.workers.base:Worker jake already exists. Replacing old worker which could cause                     unexpected behavior\n",
      "WARNING:syft.workers.base:Worker secure_worker already exists. Replacing old worker which could cause                     unexpected behavior\n",
      "WARNING:syft.workers.base:Worker jake already exists. Replacing old worker which could cause                     unexpected behavior\n",
      "WARNING:syft.workers.base:Worker john already exists. Replacing old worker which could cause                     unexpected behavior\n"
     ]
    },
    {
     "name": "stdout",
     "output_type": "stream",
     "text": [
      "Jake has: {}\n",
      "John has: {}\n",
      "Secure_worker has: {}\n"
     ]
    }
   ],
   "source": [
    "jake.clear_objects()\n",
    "john.clear_objects()\n",
    "secure_worker = sy.VirtualWorker(hook, id=\"secure_worker\")\n",
    "\n",
    "jake.add_workers([john, secure_worker])\n",
    "john.add_workers([jake, secure_worker])\n",
    "secure_worker.add_workers([jake, john])\n",
    "\n",
    "print(\"Jake has: \" + str(jake._objects))\n",
    "print(\"John has: \" + str(john._objects))\n",
    "print(\"Secure_worker has: \" + str(secure_worker._objects))"
   ]
  },
  {
   "cell_type": "markdown",
   "metadata": {},
   "source": [
    "The `share()` method is used to distribute the shares among several workers. Each worker specified then receives a share and has no idea of the actual value."
   ]
  },
  {
   "cell_type": "code",
   "execution_count": 14,
   "metadata": {},
   "outputs": [
    {
     "name": "stdout",
     "output_type": "stream",
     "text": [
      "x: (Wrapper)>[AdditiveSharingTensor]\n",
      "\t-> (Wrapper)>[PointerTensor | me:93063934540 -> jake:44390902287]\n",
      "\t-> (Wrapper)>[PointerTensor | me:61852485002 -> john:87331675673]\n",
      "\t-> (Wrapper)>[PointerTensor | me:60812633796 -> secure_worker:89050776274]\n",
      "\t*crypto provider: me*\n"
     ]
    }
   ],
   "source": [
    "x = torch.tensor([6])\n",
    "x = x.share(jake, john, secure_worker)\n",
    "print(\"x: \" + str(x))"
   ]
  },
  {
   "cell_type": "markdown",
   "metadata": {},
   "source": [
    "Figure: Encryption of x into three shares.\n",
    "![Figure: Encryption of x into three shares.](images/5.png \"Figure: Encryption of x into three shares.\")"
   ]
  },
  {
   "cell_type": "code",
   "execution_count": 15,
   "metadata": {},
   "outputs": [
    {
     "name": "stdout",
     "output_type": "stream",
     "text": [
      "Jake has: {44390902287: tensor([4325627502095221125])}\n",
      "John has: {87331675673: tensor([151094298338526964])}\n",
      "Secure_worker has: {89050776274: tensor([-4476721800433748083])}\n"
     ]
    }
   ],
   "source": [
    "print(\"Jake has: \" + str(jake._objects))\n",
    "print(\"John has: \" + str(john._objects))\n",
    "print(\"Secure_worker has: \" + str(secure_worker._objects))"
   ]
  },
  {
   "cell_type": "markdown",
   "metadata": {},
   "source": [
    "Figure: Distributing the shares of x among 3 VirtualWorkers.\n",
    "![Figure: Distributing the shares of x among 3 VirtualWorkers.](images/6.png \"Figure: Distributing the shares of x among 3 VirtualWorkers.\")"
   ]
  },
  {
   "cell_type": "markdown",
   "metadata": {},
   "source": [
    "As you can see, x now points to the three shares present on Jake’s, John’s and Secure_worker’s machine respectively."
   ]
  },
  {
   "cell_type": "code",
   "execution_count": 16,
   "metadata": {},
   "outputs": [
    {
     "name": "stdout",
     "output_type": "stream",
     "text": [
      "(Wrapper)>[AdditiveSharingTensor]\n",
      "\t-> (Wrapper)>[PointerTensor | me:17361666436 -> jake:95012934188]\n",
      "\t-> (Wrapper)>[PointerTensor | me:65398687814 -> john:31985016021]\n",
      "\t-> (Wrapper)>[PointerTensor | me:49487553274 -> secure_worker:43315230055]\n",
      "\t*crypto provider: me*\n"
     ]
    }
   ],
   "source": [
    "y = torch.tensor([8])\n",
    "y = y.share(jake, john, secure_worker)\n",
    "print(y)"
   ]
  },
  {
   "cell_type": "markdown",
   "metadata": {},
   "source": [
    "Figure: Encryption of y into 3 shares.\n",
    "![Figure: Encryption of y into 3 shares.](images/7.png \"Figure: Encryption of y into 3 shares.\")"
   ]
  },
  {
   "cell_type": "markdown",
   "metadata": {},
   "source": [
    "Figure: Distributing the shares of y among 3 VirtualWorkers.\n",
    "![Figure: Distributing the shares of y among 3 VirtualWorkers.](images/8.png \"Figure: Distributing the shares of y among 3 VirtualWorkers.\")"
   ]
  },
  {
   "cell_type": "code",
   "execution_count": 17,
   "metadata": {},
   "outputs": [
    {
     "name": "stdout",
     "output_type": "stream",
     "text": [
      "(Wrapper)>[AdditiveSharingTensor]\n",
      "\t-> (Wrapper)>[PointerTensor | me:58133160191 -> jake:48479574508]\n",
      "\t-> (Wrapper)>[PointerTensor | me:22458431653 -> john:68882182347]\n",
      "\t-> (Wrapper)>[PointerTensor | me:31361678034 -> secure_worker:78289547406]\n",
      "\t*crypto provider: me*\n"
     ]
    }
   ],
   "source": [
    "z = x + y\n",
    "print(z)"
   ]
  },
  {
   "cell_type": "markdown",
   "metadata": {},
   "source": [
    "Notice that the value of z obtained after adding x and y is stored in the three workers’ machines. z is also encrypted."
   ]
  },
  {
   "cell_type": "markdown",
   "metadata": {},
   "source": [
    "Figure: Performing computation on encrypted inputs.\n",
    "![Figure: Performing computation on encrypted inputs.](images/9.png \"Figure: Performing computation on encrypted inputs.\")"
   ]
  },
  {
   "cell_type": "code",
   "execution_count": 18,
   "metadata": {},
   "outputs": [
    {
     "name": "stdout",
     "output_type": "stream",
     "text": [
      "tensor([14])\n"
     ]
    }
   ],
   "source": [
    "z = z.get()\n",
    "print(z)"
   ]
  },
  {
   "cell_type": "markdown",
   "metadata": {},
   "source": [
    "The value obtained after performing addition on encrypted shares is equal to that obtained by adding the actual numbers."
   ]
  },
  {
   "cell_type": "markdown",
   "metadata": {},
   "source": [
    "Figure: Decryption of result obtained after computation on encrypted inputs.\n",
    "![Figure: Decryption of result obtained after computation on encrypted inputs.](images/10.png \"Figure: Decryption of result obtained after computation on encrypted inputs.\")"
   ]
  }
 ],
 "metadata": {
  "kernelspec": {
   "display_name": "Python 3 GPU",
   "language": "python",
   "name": "tf-gpu"
  },
  "language_info": {
   "codemirror_mode": {
    "name": "ipython",
    "version": 3
   },
   "file_extension": ".py",
   "mimetype": "text/x-python",
   "name": "python",
   "nbconvert_exporter": "python",
   "pygments_lexer": "ipython3",
   "version": "3.6.7"
  }
 },
 "nbformat": 4,
 "nbformat_minor": 2
}
