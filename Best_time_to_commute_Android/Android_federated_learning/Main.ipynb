{
 "cells": [
  {
   "cell_type": "code",
   "execution_count": 1,
   "metadata": {},
   "outputs": [
    {
     "name": "stderr",
     "output_type": "stream",
     "text": [
      "WARNING: Logging before flag parsing goes to stderr.\n",
      "W0820 20:37:22.182676 140492295587136 secure_random.py:26] Falling back to insecure randomness since the required custom op could not be found for the installed version of TensorFlow. Fix this by compiling custom ops. Missing file was '/usr/local/lib/python3.6/site-packages/tf_encrypted/operations/secure_random/secure_random_module_tf_1.14.0.so'\n",
      "W0820 20:37:22.195190 140492295587136 deprecation_wrapper.py:119] From /usr/local/lib/python3.6/site-packages/tf_encrypted/session.py:26: The name tf.Session is deprecated. Please use tf.compat.v1.Session instead.\n",
      "\n"
     ]
    }
   ],
   "source": [
    "import syft as sy\n",
    "from syft.frameworks.torch.tensors.decorators import LoggingTensor\n",
    "import sys\n",
    "import torch\n",
    "hook = sy.TorchHook(torch)"
   ]
  },
  {
   "cell_type": "code",
   "execution_count": 2,
   "metadata": {},
   "outputs": [],
   "source": [
    "from grid.workers.socketio_client import WebsocketIOClientWorker\n",
    "\n",
    "# Config serialiser and compression strategies\n",
    "sy.torch_serde._serialize_tensor = sy.torch_serde.numpy_tensor_serializer\n",
    "sy.torch_serde._deserialize_tensor = sy.torch_serde.numpy_tensor_deserializer\n",
    "sy.serde.serde._apply_compress_scheme = sy.serde.apply_no_compression\n"
   ]
  },
  {
   "cell_type": "code",
   "execution_count": 3,
   "metadata": {},
   "outputs": [
    {
     "name": "stdout",
     "output_type": "stream",
     "text": [
      "Initilalize worker #1\n",
      "Initilalize worker #2\n",
      "Initilalize worker #3\n",
      "Initilalize worker #4\n"
     ]
    }
   ],
   "source": [
    "websocket_workers = {}\n",
    "for i in [1,2,3,4]:\n",
    "    print(\"Initilalize worker #\"+str(i))\n",
    "    worker = WebsocketIOClientWorker(hook, host='localhost', port=int(5000+i), id=\"worker\"+str(i))\n",
    "    websocket_workers[i] = worker"
   ]
  },
  {
   "cell_type": "code",
   "execution_count": 4,
   "metadata": {},
   "outputs": [
    {
     "name": "stdout",
     "output_type": "stream",
     "text": [
      "Connect worker #1\n",
      "Connect worker #2\n",
      "Connect worker #3\n",
      "Connect worker #4\n"
     ]
    }
   ],
   "source": [
    "for k,v in websocket_workers.items():\n",
    "    print(\"Connect worker #\"+str(k))\n",
    "    websocket_workers[k].connect()\n",
    "    \n",
    "    "
   ]
  },
  {
   "cell_type": "code",
   "execution_count": 7,
   "metadata": {},
   "outputs": [
    {
     "name": "stdout",
     "output_type": "stream",
     "text": [
      "Send tensors to worker #1\n",
      "Send tensors to worker #2\n",
      "Send tensors to worker #3\n",
      "Send tensors to worker #4\n"
     ]
    }
   ],
   "source": [
    "x = torch.tensor([45., 42, 73, 34, 51, 454, 656, 56])\n",
    "y = torch.tensor([10,20,30,40,50.,11,12,13,14,15])\n",
    "z = torch.tensor([[1, 2, 3], [4, 5, 6], [7, 8, 9], [7, 8, 9]], dtype=torch.float)\n",
    "x_ptrs={}\n",
    "y_ptrs={}\n",
    "z_ptrs={}\n",
    "for k,v in websocket_workers.items():\n",
    "    print(\"Send tensors to worker #\"+str(k))\n",
    "    x_ptrs[k] = x.send(v)\n",
    "    y_ptrs[k] = y.send(v)\n",
    "    z_ptrs[k] = z.send(v)"
   ]
  },
  {
   "cell_type": "code",
   "execution_count": 8,
   "metadata": {},
   "outputs": [
    {
     "name": "stdout",
     "output_type": "stream",
     "text": [
      "(Wrapper)>[PointerTensor | me:31829686313 -> worker1:18818291869]\n",
      "(Wrapper)>[PointerTensor | me:64710365573 -> worker2:18818291869]\n",
      "(Wrapper)>[PointerTensor | me:14995117796 -> worker3:18818291869]\n",
      "(Wrapper)>[PointerTensor | me:62467162180 -> worker4:18818291869]\n",
      "(Wrapper)>[PointerTensor | me:21468031359 -> worker1:64164938710]\n",
      "(Wrapper)>[PointerTensor | me:53368236691 -> worker2:64164938710]\n",
      "(Wrapper)>[PointerTensor | me:5282950147 -> worker3:64164938710]\n",
      "(Wrapper)>[PointerTensor | me:30764936046 -> worker4:64164938710]\n",
      "(Wrapper)>[PointerTensor | me:26038261408 -> worker1:94820936017]\n",
      "(Wrapper)>[PointerTensor | me:72182574044 -> worker2:94820936017]\n",
      "(Wrapper)>[PointerTensor | me:17342396424 -> worker3:94820936017]\n",
      "(Wrapper)>[PointerTensor | me:19040667037 -> worker4:94820936017]\n"
     ]
    }
   ],
   "source": [
    "for k,v in x_ptrs.items():\n",
    "    print(v)\n",
    "for k,v in y_ptrs.items():\n",
    "    print(v)\n",
    "for k,v in z_ptrs.items():\n",
    "    print(v)"
   ]
  },
  {
   "cell_type": "code",
   "execution_count": null,
   "metadata": {},
   "outputs": [],
   "source": [
    "#z_ptr = x_ptr + y_ptr"
   ]
  },
  {
   "cell_type": "code",
   "execution_count": null,
   "metadata": {},
   "outputs": [],
   "source": [
    "#z = z_ptr.get()"
   ]
  },
  {
   "cell_type": "code",
   "execution_count": null,
   "metadata": {},
   "outputs": [],
   "source": [
    "z"
   ]
  },
  {
   "cell_type": "code",
   "execution_count": null,
   "metadata": {},
   "outputs": [],
   "source": []
  }
 ],
 "metadata": {
  "kernelspec": {
   "display_name": "Python 3",
   "language": "python",
   "name": "python3"
  },
  "language_info": {
   "codemirror_mode": {
    "name": "ipython",
    "version": 3
   },
   "file_extension": ".py",
   "mimetype": "text/x-python",
   "name": "python",
   "nbconvert_exporter": "python",
   "pygments_lexer": "ipython3",
   "version": "3.6.8"
  }
 },
 "nbformat": 4,
 "nbformat_minor": 2
}
