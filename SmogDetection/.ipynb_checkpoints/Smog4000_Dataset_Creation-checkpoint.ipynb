{
 "cells": [
  {
   "cell_type": "markdown",
   "metadata": {},
   "source": [
    "### Dataset Contributors List\n",
    "https://github.com/Berenice2018/BC_SmogDetection  slack: @Berenice  <br/>\n",
    "https://github.com/SayedMaheen/PlanetEarth        slack: @Sayed Maheen Basheer <br/>\n",
    "https://github.com/ingus-t/PlanetEarth/           slack: @Ingus Terbets <br/>\n",
    "https://github.com/kshntn/SmogDetection           slack: @Akash Antony <br/>\n",
    "https://github.com/Iamsdt/Smoke_datasets          slack: @Shudipto Trafder  <br/>\n",
    "https://github.com/AshwinRam2000/Smoke_datasets   slack: @Ashwin Ram  <br/>\n",
    "https://github.com/poojavinod100/SmogDetection    slack: @Pooja Vinod <br/>\n",
    "https://github.com/ArseniusNott/SmogDetection     slack: @Alexander Villasoto  <br/>\n",
    "https://github.com/souravs17031999/SmogDetection  slack: @sourav kumar <br/>\n",
    "https://github.com/carlodavid012/SmogDetection    slack: @Carlo David <br/>\n",
    "https://github.com/AniTho/SmogDetection           slack: @Aniket Thomas <br/>\n",
    "https://github.com/agatagruza/SmogDetection       slack: @Agata [OR, USA] <br/>\n",
    "https://github.com/lalwaniabhi/SmogDetection      slack: @Abhishek Lalwani <br/>\n",
    "https://github.com/tuanhung94/SmogDetection       slack: @Hung <br/>"
   ]
  },
  {
   "cell_type": "markdown",
   "metadata": {},
   "source": [
    "### Steps included in Smog4000 dataset creation\n",
    "\n",
    "Step 1: We collected images from different repos of #sg_planetearth members.\n",
    "\n",
    "Step 2: Then using https://www.duplicatecleaner.com/ Duplicate Cleaner Pro software, we deleted all duplicates in the combined image set.\n",
    "\n",
    "Step 3: Then manually checked all 2980 images for apt images for our dataset and removed more than 1000 images first and then manually added more to keep number of 2000 images. Because of misunderstanding some uploaded images of buildings, bird-eye view images, and some other images. We were intended to include images similar to traffic cam captured images and those with highways, vehicles, pedestrians, smog, without-smog(clear) etc.\n",
    "\n",
    "Step 4: Produced Mirror images of these 2000 ( 1000 in each label- Smog, Clear) Using code below \n"
   ]
  },
  {
   "cell_type": "code",
   "execution_count": null,
   "metadata": {},
   "outputs": [],
   "source": [
    "import os\n",
    "from PIL import Image"
   ]
  },
  {
   "cell_type": "code",
   "execution_count": null,
   "metadata": {},
   "outputs": [],
   "source": [
    "i= 0 \n",
    "jstp=0\n",
    "path = 'D:\\\\Smog_Dataset\\\\Clear\\\\'\n",
    "files = []\n",
    "# r=root, d=directories, f = files\n",
    "for r, d, f in os.walk(path):\n",
    "    for file in f:\n",
    "        if '' in file:\n",
    "            files.append(os.path.join(r, file))\n",
    "for f in files:\n",
    "    print(f)\n",
    "jstp = len(files)\n",
    "    \n",
    "def image_mirror(image_path, saved_location):\n",
    "    newpath='D:\\\\Smog_Dataset\\\\clearmirror\\\\'\n",
    "    for i in range(0,jstp): \n",
    "        image_obj = Image.open(files[i])\n",
    "        mirror_image = image_obj.transpose(Image.FLIP_LEFT_RIGHT)\n",
    "        if files[i].endswith('.jpg'):\n",
    "            mirror_image.save(newpath+ str(i)+'.jpg')\n",
    "        elif files[i].endswith('.PNG'):  \n",
    "            mirror_image.save(newpath+ str(i)+'.PNG')\n",
    "        elif files[i].endswith('.jpeg'):  \n",
    "            mirror_image.save(newpath+ str(i)+'.jpeg')\n",
    "        elif files[i].endswith('.png'):  \n",
    "            mirror_image.save(newpath+ str(i)+'.png')\n",
    "        elif files[i].endswith('.jfif'):  \n",
    "            mirror_image.save(newpath+ str(i)+'.jfif')\n",
    "        elif files[i].endswith('.JPG'):  \n",
    "            mirror_image.save(newpath+ str(i)+'.JPG')\n",
    "        elif files[i].endswith('.JPEG'):  \n",
    "            mirror_image.save(newpath+ str(i)+'.JPEG')\n",
    "        elif files[i].endswith('.JFIF'):  \n",
    "            mirror_image.save(newpath+ str(i)+'.JFIF')\n",
    "        else: \n",
    "            mirror_image.save(newpath+ str(i)+'.jpg')"
   ]
  },
  {
   "cell_type": "code",
   "execution_count": null,
   "metadata": {},
   "outputs": [],
   "source": [
    "\n",
    "for i in range(0,jstp): \n",
    "    if __name__ == '__main__':\n",
    "        image = files[i]\n",
    "        if files[i].endswith('.jpg'):\n",
    "            #Image.open(files[i]).convert('RGB').save(newpath+ str(i)+'.jpg')\n",
    "            image_mirror(image ,str(i)+'.jpg') \n",
    "        elif files[i].endswith('.PNG'):  \n",
    "            image_mirror(image ,str(i)+'.PNG') \n",
    "        elif files[i].endswith('.jpeg'):  \n",
    "            image_mirror(image ,str(i)+'.jpeg') \n",
    "        elif files[i].endswith('.png'):  \n",
    "            image_mirror(image ,str(i)+'.png') \n",
    "        elif files[i].endswith('.JPG'):  \n",
    "            image_mirror(image ,str(i)+'.JPG')\n",
    "        elif files[i].endswith('.jfif'):  \n",
    "            image_mirror(image ,str(i)+'.jfif')\n",
    "        elif files[i].endswith('.JPEG'):  \n",
    "            image_mirror(image ,str(i)+'.JPEG')\n",
    "        elif files[i].endswith('.JFIF'):  \n",
    "            image_mirror(image ,str(i)+'.JFIF')\n",
    "        else:\n",
    "            image_mirror(image ,str(i)+'.jpg')"
   ]
  },
  {
   "cell_type": "code",
   "execution_count": null,
   "metadata": {},
   "outputs": [],
   "source": [
    "i= 0 \n",
    "jstp=0\n",
    "path = 'D:\\\\Smog_Dataset\\\\Smog\\\\'\n",
    "files = []\n",
    "# r=root, d=directories, f = files\n",
    "for r, d, f in os.walk(path):\n",
    "    for file in f:\n",
    "        if '' in file:\n",
    "            files.append(os.path.join(r, file))\n",
    "for f in files:\n",
    "    print(f)\n",
    "jstp = len(files)\n",
    "    \n",
    "def image_mirror(image_path, saved_location):\n",
    "    newpath='D:\\\\Smog_Dataset\\\\smogmirror\\\\'\n",
    "    for i in range(0,jstp): \n",
    "        image_obj = Image.open(files[i])\n",
    "        mirror_image = image_obj.transpose(Image.FLIP_LEFT_RIGHT)\n",
    "        if files[i].endswith('.jpg'):\n",
    "            mirror_image.save(newpath+ str(i)+'.jpg')\n",
    "        elif files[i].endswith('.PNG'):  \n",
    "            mirror_image.save(newpath+ str(i)+'.PNG')\n",
    "        elif files[i].endswith('.jpeg'):  \n",
    "            mirror_image.save(newpath+ str(i)+'.jpeg')\n",
    "        elif files[i].endswith('.png'):  \n",
    "            mirror_image.save(newpath+ str(i)+'.png')\n",
    "        elif files[i].endswith('.jfif'):  \n",
    "            mirror_image.save(newpath+ str(i)+'.jfif')\n",
    "        elif files[i].endswith('.JPG'):  \n",
    "            mirror_image.save(newpath+ str(i)+'.JPG')\n",
    "        elif files[i].endswith('.JPEG'):  \n",
    "            mirror_image.save(newpath+ str(i)+'.JPEG')\n",
    "        elif files[i].endswith('.JFIF'):  \n",
    "            mirror_image.save(newpath+ str(i)+'.JFIF')\n",
    "        else: \n",
    "            mirror_image.save(newpath+ str(i)+'.jpg')"
   ]
  },
  {
   "cell_type": "code",
   "execution_count": null,
   "metadata": {},
   "outputs": [],
   "source": [
    "\n",
    "for i in range(0,jstp): \n",
    "    if __name__ == '__main__':\n",
    "        image = files[i]\n",
    "        if files[i].endswith('.jpg'):\n",
    "            #Image.open(files[i]).convert('RGB').save(newpath+ str(i)+'.jpg')\n",
    "            image_mirror(image ,str(i)+'.jpg') \n",
    "        elif files[i].endswith('.PNG'):  \n",
    "            image_mirror(image ,str(i)+'.PNG') \n",
    "        elif files[i].endswith('.jpeg'):  \n",
    "            image_mirror(image ,str(i)+'.jpeg') \n",
    "        elif files[i].endswith('.png'):  \n",
    "            image_mirror(image ,str(i)+'.png') \n",
    "        elif files[i].endswith('.JPG'):  \n",
    "            image_mirror(image ,str(i)+'.JPG')\n",
    "        elif files[i].endswith('.jfif'):  \n",
    "            image_mirror(image ,str(i)+'.jfif')\n",
    "        elif files[i].endswith('.JPEG'):  \n",
    "            image_mirror(image ,str(i)+'.JPEG')\n",
    "        elif files[i].endswith('.JFIF'):  \n",
    "            image_mirror(image ,str(i)+'.JFIF')\n",
    "        else:\n",
    "            image_mirror(image ,str(i)+'.jpg')"
   ]
  },
  {
   "cell_type": "markdown",
   "metadata": {},
   "source": [
    "### Then\n",
    "\n",
    "Step 5: Combine both mirror and original images for each label and keep it in respective folders\n",
    "\n",
    "Step 6: Rename images into labels (Smog, Clear) using code below"
   ]
  },
  {
   "cell_type": "code",
   "execution_count": null,
   "metadata": {},
   "outputs": [],
   "source": [
    "import os"
   ]
  },
  {
   "cell_type": "code",
   "execution_count": null,
   "metadata": {},
   "outputs": [],
   "source": [
    "path = 'D:\\\\Smog_Dataset\\\\smogcombined\\\\'\n",
    "\n",
    "files1 = []\n",
    "# r=root, d=directories, f = files\n",
    "for r, d, f in os.walk(path):\n",
    "    for file in f:\n",
    "        if '' in file:\n",
    "            files1.append(os.path.join(r, file))\n",
    "for f in files1:\n",
    "    print(f)\n",
    "\n",
    "jstp = len(files1)\n",
    "print(jstp)"
   ]
  },
  {
   "cell_type": "code",
   "execution_count": null,
   "metadata": {},
   "outputs": [],
   "source": [
    "for i in range(0,jstp):\n",
    "    os.rename(files1[i] , path + \"smog\"  +\".\" +str(i)+\".jpg\")"
   ]
  },
  {
   "cell_type": "code",
   "execution_count": null,
   "metadata": {},
   "outputs": [],
   "source": [
    "path = 'D:\\\\Smog_Dataset\\\\clearcombined\\\\'\n",
    "\n",
    "files1 = []\n",
    "# r=root, d=directories, f = files\n",
    "for r, d, f in os.walk(path):\n",
    "    for file in f:\n",
    "        if '' in file:\n",
    "            files1.append(os.path.join(r, file))\n",
    "for f in files1:\n",
    "    print(f)\n",
    "\n",
    "jstp = len(files1)\n",
    "print(jstp)"
   ]
  },
  {
   "cell_type": "code",
   "execution_count": null,
   "metadata": {},
   "outputs": [],
   "source": [
    "for i in range(0,jstp):\n",
    "    os.rename(files1[i] , path + \"clear\"  +\".\" +str(i)+\".jpg\")"
   ]
  },
  {
   "cell_type": "markdown",
   "metadata": {},
   "source": [
    "Step 7: Now we have 4000 images (2000 in each label). Now we are going to split the dataset into test, valid and train dataset"
   ]
  },
  {
   "cell_type": "markdown",
   "metadata": {},
   "source": [
    "### Test set"
   ]
  },
  {
   "cell_type": "code",
   "execution_count": null,
   "metadata": {},
   "outputs": [],
   "source": [
    "import shutil, os\n",
    "#from PIL import Image\n",
    "i= 0 \n",
    "jstp=0\n",
    "path = 'D:\\\\Smog_Dataset\\\\smog4000\\\\smog\\\\'\n",
    "files = []\n",
    "# r=root, d=directories, f = files\n",
    "for r, d, f in os.walk(path):\n",
    "    for file in f:\n",
    "        if '' in file:\n",
    "            files.append(os.path.join(r, file))\n",
    "#for f in files:\n",
    "    #print(f)\n",
    "jstp = len(files)\n",
    "print(jstp)"
   ]
  },
  {
   "cell_type": "code",
   "execution_count": null,
   "metadata": {},
   "outputs": [],
   "source": [
    "import random\n",
    "selection1 = []\n",
    "test_data = jstp * 0.2\n",
    "print(test_data)\n",
    "#for i in jstp:\n",
    "selection1 = random.sample(files, k=int(test_data))\n",
    "print(len(selection1))"
   ]
  },
  {
   "cell_type": "code",
   "execution_count": null,
   "metadata": {},
   "outputs": [],
   "source": [
    "for g in selection1:\n",
    "    shutil.move(g, 'D:\\\\Smog_Dataset\\\\smog4000\\\\test\\\\smog\\\\')"
   ]
  },
  {
   "cell_type": "code",
   "execution_count": null,
   "metadata": {},
   "outputs": [],
   "source": [
    "import os\n",
    "#from PIL import Image\n",
    "i= 0 \n",
    "jstp=0\n",
    "path = 'D:\\\\Smog_Dataset\\\\smog4000\\\\clear\\\\'\n",
    "files = []\n",
    "# r=root, d=directories, f = files\n",
    "for r, d, f in os.walk(path):\n",
    "    for file in f:\n",
    "        if '' in file:\n",
    "            files.append(os.path.join(r, file))\n",
    "#for f in files:\n",
    "    #print(f)\n",
    "jstp = len(files)\n",
    "print(jstp)"
   ]
  },
  {
   "cell_type": "code",
   "execution_count": null,
   "metadata": {},
   "outputs": [],
   "source": [
    "import random\n",
    "selection1 = []\n",
    "test_data = jstp * 0.2\n",
    "print(test_data)\n",
    "#for i in jstp:\n",
    "selection1 = random.sample(files, k=int(test_data))\n",
    "print(len(selection1))"
   ]
  },
  {
   "cell_type": "code",
   "execution_count": null,
   "metadata": {},
   "outputs": [],
   "source": [
    "for g in selection1:\n",
    "    shutil.move(g, 'D:\\\\Smog_Dataset\\\\smog4000\\\\test\\\\clear\\\\')"
   ]
  },
  {
   "cell_type": "markdown",
   "metadata": {},
   "source": [
    "### Valid set"
   ]
  },
  {
   "cell_type": "code",
   "execution_count": null,
   "metadata": {},
   "outputs": [],
   "source": [
    "import os\n",
    "#from PIL import Image\n",
    "i= 0 \n",
    "jstp=0\n",
    "path = 'D:\\\\Smog_Dataset\\\\smog4000\\\\smog\\\\'\n",
    "files = []\n",
    "# r=root, d=directories, f = files\n",
    "for r, d, f in os.walk(path):\n",
    "    for file in f:\n",
    "        if '' in file:\n",
    "            files.append(os.path.join(r, file))\n",
    "#for f in files:\n",
    "    #print(f)\n",
    "jstp = len(files)\n",
    "print(jstp)"
   ]
  },
  {
   "cell_type": "code",
   "execution_count": null,
   "metadata": {},
   "outputs": [],
   "source": [
    "import random\n",
    "selection1 = []\n",
    "test_data = jstp * 0.2\n",
    "print(test_data)\n",
    "#for i in jstp:\n",
    "selection1 = random.sample(files, k=int(test_data))\n",
    "print(len(selection1))"
   ]
  },
  {
   "cell_type": "code",
   "execution_count": null,
   "metadata": {},
   "outputs": [],
   "source": [
    "import shutil, os\n",
    "\n",
    "for g in selection1:\n",
    "    shutil.move(g, 'D:\\\\Smog_Dataset\\\\smog4000\\\\valid\\\\smog\\\\')"
   ]
  },
  {
   "cell_type": "code",
   "execution_count": null,
   "metadata": {},
   "outputs": [],
   "source": [
    "import os\n",
    "#from PIL import Image\n",
    "i= 0 \n",
    "jstp=0\n",
    "path = 'D:\\\\Smog_Dataset\\\\smog4000\\\\clear\\\\'\n",
    "files = []\n",
    "# r=root, d=directories, f = files\n",
    "for r, d, f in os.walk(path):\n",
    "    for file in f:\n",
    "        if '' in file:\n",
    "            files.append(os.path.join(r, file))\n",
    "#for f in files:\n",
    "    #print(f)\n",
    "jstp = len(files)\n",
    "print(jstp)"
   ]
  },
  {
   "cell_type": "code",
   "execution_count": null,
   "metadata": {},
   "outputs": [],
   "source": [
    "import random\n",
    "selection1 = []\n",
    "test_data = jstp * 0.2\n",
    "print(test_data)\n",
    "#for i in jstp:\n",
    "selection1 = random.sample(files, k=int(test_data))\n",
    "print(len(selection1))"
   ]
  },
  {
   "cell_type": "code",
   "execution_count": null,
   "metadata": {},
   "outputs": [],
   "source": [
    "import shutil, os\n",
    "\n",
    "for g in selection1:\n",
    "    shutil.move(g, 'D:\\\\Smog_Dataset\\\\smog4000\\\\valid\\\\clear\\\\')"
   ]
  },
  {
   "cell_type": "markdown",
   "metadata": {},
   "source": [
    "### Train set\n",
    "\n",
    "Move rest of the images to /Train/clear and /Train/smog"
   ]
  },
  {
   "cell_type": "code",
   "execution_count": null,
   "metadata": {},
   "outputs": [],
   "source": []
  }
 ],
 "metadata": {
  "kernelspec": {
   "display_name": "Python 3",
   "language": "python",
   "name": "python3"
  },
  "language_info": {
   "codemirror_mode": {
    "name": "ipython",
    "version": 3
   },
   "file_extension": ".py",
   "mimetype": "text/x-python",
   "name": "python",
   "nbconvert_exporter": "python",
   "pygments_lexer": "ipython3",
   "version": "3.7.3"
  }
 },
 "nbformat": 4,
 "nbformat_minor": 2
}
