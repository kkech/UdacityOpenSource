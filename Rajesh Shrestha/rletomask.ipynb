{
 "cells": [
  {
   "cell_type": "code",
   "execution_count": 1,
   "metadata": {},
   "outputs": [],
   "source": [
    "'''\n",
    "This function is an rle to mask converter.\n",
    "You supply the rle string for one mask, along with it's height and width\n",
    "from the solutions for stage1 and it will return the mask.\n",
    "'''\n",
    "\n",
    "import numpy as np # linear algebra\n",
    "\n",
    "def rleToMask(rleString,height,width):\n",
    "  rows,cols = height,width\n",
    "  rleNumbers = [int(numstring) for numstring in rleString.split(' ')]\n",
    "  rlePairs = np.array(rleNumbers).reshape(-1,2)\n",
    "  img = np.zeros(rows*cols,dtype=np.uint8)\n",
    "  for index,length in rlePairs:\n",
    "    index -= 1\n",
    "    img[index:index+length] = 255\n",
    "  img = img.reshape(cols,rows)\n",
    "  img = img.T\n",
    "  return img"
   ]
  },
  {
   "cell_type": "code",
   "execution_count": null,
   "metadata": {},
   "outputs": [],
   "source": []
  }
 ],
 "metadata": {
  "kernelspec": {
   "display_name": "TM",
   "language": "python",
   "name": "tm"
  },
  "language_info": {
   "codemirror_mode": {
    "name": "ipython",
    "version": 3
   },
   "file_extension": ".py",
   "mimetype": "text/x-python",
   "name": "python",
   "nbconvert_exporter": "python",
   "pygments_lexer": "ipython3",
   "version": "3.6.8"
  }
 },
 "nbformat": 4,
 "nbformat_minor": 2
}
