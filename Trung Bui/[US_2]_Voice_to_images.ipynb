{
  "nbformat": 4,
  "nbformat_minor": 0,
  "metadata": {
    "colab": {
      "name": "[US_2] Voice to images.ipynb",
      "version": "0.3.2",
      "provenance": [],
      "collapsed_sections": [],
      "include_colab_link": true
    },
    "kernelspec": {
      "name": "python3",
      "display_name": "Python 3"
    }
  },
  "cells": [
    {
      "cell_type": "markdown",
      "metadata": {
        "id": "view-in-github",
        "colab_type": "text"
      },
      "source": [
        "<a href=\"https://colab.research.google.com/github/bttrung/robot-english-assistant/blob/master/%5BUS_2%5D_Voice_to_images.ipynb\" target=\"_parent\"><img src=\"https://colab.research.google.com/assets/colab-badge.svg\" alt=\"Open In Colab\"/></a>"
      ]
    },
    {
      "cell_type": "code",
      "metadata": {
        "id": "divNcI0jkK8K",
        "colab_type": "code",
        "colab": {}
      },
      "source": [
        "pip install SpeechRecognition"
      ],
      "execution_count": 0,
      "outputs": []
    },
    {
      "cell_type": "code",
      "metadata": {
        "id": "wQQgBM8ykp8V",
        "colab_type": "code",
        "colab": {}
      },
      "source": [
        "pip install google_images_download"
      ],
      "execution_count": 0,
      "outputs": []
    },
    {
      "cell_type": "code",
      "metadata": {
        "id": "nVzIUppvksWW",
        "colab_type": "code",
        "colab": {}
      },
      "source": [
        "import speech_recognition as sr\n",
        "from google_images_download import google_images_download   #importing the library\n",
        "from PIL import Image\n",
        "\n",
        "# obtain audio from the microphone\n",
        "r = sr.Recognizer()\n",
        "with sr.Microphone() as source:\n",
        "    print(\"Listening...\")\n",
        "    audio = r.listen(source)\n",
        "\n",
        "# recognize speech using Google Speech Recognition\n",
        "try:\n",
        "    # for testing purposes, we're just using the default API key\n",
        "    # to use another API key, use `r.recognize_google(audio, key=\"GOOGLE_SPEECH_RECOGNITION_API_KEY\")`\n",
        "    # instead of `r.recognize_google(audio)`\n",
        "    inputText = r.recognize_google(audio)\n",
        "    print('You said: ' + inputText)\n",
        "    \n",
        "    response = google_images_download.googleimagesdownload()   #class instantiation\n",
        "    arguments = {\"keywords\":inputText,\"limit\":5,\"format\":\"jpg\"}   #creating list of arguments\n",
        "    paths = response.download(arguments)   #passing the arguments to the function\n",
        "    for key, value in paths[0].items():\n",
        "        for imageUrl in value:\n",
        "            %pylab inline\n",
        "            import matplotlib.pyplot as plt\n",
        "            import matplotlib.image as mpimg\n",
        "        \n",
        "            img=mpimg.imread(imageUrl)\n",
        "            imgplot = plt.imshow(img)\n",
        "            plt.show()\n",
        "        \n",
        "    \n",
        "except sr.UnknownValueError:\n",
        "    print(\"Google Speech Recognition could not understand audio\")\n",
        "except sr.RequestError as e:\n",
        "    print(\"Could not request results from Google Speech Recognition service; {0}\".format(e))"
      ],
      "execution_count": 0,
      "outputs": []
    }
  ]
}