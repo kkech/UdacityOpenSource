{
  "nbformat": 4,
  "nbformat_minor": 0,
  "metadata": {
    "kernelspec": {
      "name": "python3",
      "display_name": "Python 3"
    },
    "language_info": {
      "codemirror_mode": {
        "name": "ipython",
        "version": 3
      },
      "file_extension": ".py",
      "mimetype": "text/x-python",
      "name": "python",
      "nbconvert_exporter": "python",
      "pygments_lexer": "ipython3",
      "version": "3.6.1"
    },
    "colab": {
      "name": "ocr.ipynb",
      "version": "0.3.2",
      "provenance": [],
      "collapsed_sections": []
    },
    "accelerator": "GPU"
  },
  "cells": [
    {
      "cell_type": "code",
      "metadata": {
        "id": "KFj6w_MIHk1w",
        "colab_type": "code",
        "colab": {},
        "outputId": "40b5a10c-5c9c-4aea-8b8e-47271b96c946"
      },
      "source": [
        "import numpy as np\n",
        "import pandas as pd\n",
        "import matplotlib.pyplot as plt\n",
        "import math\n",
        "import os\n",
        "import sys\n",
        "import PIL\n",
        "pip install opencv-python\n",
        "import cv2\n",
        "pip install wand"
      ],
      "execution_count": 0,
      "outputs": [
        {
          "output_type": "stream",
          "text": [
            "Requirement already satisfied: wand in c:\\users\\admin\\anaconda3\\lib\\site-packages (0.5.4)\n"
          ],
          "name": "stdout"
        }
      ]
    },
    {
      "cell_type": "code",
      "metadata": {
        "id": "KIRtPFUTHk1-",
        "colab_type": "code",
        "colab": {},
        "outputId": "5854282a-6eb0-45ec-bfe3-96e584aa1914"
      },
      "source": [
        "pwd"
      ],
      "execution_count": 0,
      "outputs": [
        {
          "output_type": "execute_result",
          "data": {
            "text/plain": [
              "'C:\\\\Users\\\\Admin\\\\Downloads\\\\NACH'"
            ]
          },
          "metadata": {
            "tags": []
          },
          "execution_count": 256
        }
      ]
    },
    {
      "cell_type": "code",
      "metadata": {
        "id": "Psr7iTD6Hk2n",
        "colab_type": "code",
        "colab": {}
      },
      "source": [
        "from __future__ import print_function\n",
        "from wand.image import Image as Img\n"
      ],
      "execution_count": 0,
      "outputs": []
    },
    {
      "cell_type": "code",
      "metadata": {
        "id": "1F1977EbHk2u",
        "colab_type": "code",
        "colab": {}
      },
      "source": [
        "with Img(filename='NACHFORMTB001.pdf', resolution=300) as img:\n",
        "    img.compression_quality = 99\n",
        "    img.save(filename='na1.jpg')"
      ],
      "execution_count": 0,
      "outputs": []
    },
    {
      "cell_type": "code",
      "metadata": {
        "id": "Rm6_8wraHk21",
        "colab_type": "code",
        "colab": {}
      },
      "source": [
        "from PIL import Image\n",
        "img = Image.open('na1.jpg')\n",
        "crop_img = img.crop((10,20,30,20))\n",
        "crop_img = img.save('rec.jpg')"
      ],
      "execution_count": 0,
      "outputs": []
    },
    {
      "cell_type": "code",
      "metadata": {
        "id": "AiHQ7AVOHk29",
        "colab_type": "code",
        "colab": {}
      },
      "source": [
        "pip install pytesseract"
      ],
      "execution_count": 0,
      "outputs": []
    },
    {
      "cell_type": "code",
      "metadata": {
        "id": "BfPKPgbGHk3H",
        "colab_type": "code",
        "colab": {}
      },
      "source": [
        "pip install --upgrade setuptools"
      ],
      "execution_count": 0,
      "outputs": []
    },
    {
      "cell_type": "code",
      "metadata": {
        "id": "COzp9Ef-Hk3R",
        "colab_type": "code",
        "colab": {}
      },
      "source": [
        "pip install pyocr"
      ],
      "execution_count": 0,
      "outputs": []
    },
    {
      "cell_type": "code",
      "metadata": {
        "id": "SAl2q7BfHk3b",
        "colab_type": "code",
        "colab": {}
      },
      "source": [
        "from PIL import Image\n",
        "img = Image.open('rec.jpg')\n",
        "img = img.convert('L')\n",
        "img.save('bacc.jpg')"
      ],
      "execution_count": 0,
      "outputs": []
    },
    {
      "cell_type": "code",
      "metadata": {
        "id": "MTU-6scsHk3i",
        "colab_type": "code",
        "colab": {}
      },
      "source": [
        "img = cv2.imread(\"bacc.jpg\")\n",
        "img = cv2.resize(img,(0,0), fx = 2.0, fy = 2.0)\n",
        "ret,img = cv2.threshold(img,215,255,cv2.THRESH_BINARY)"
      ],
      "execution_count": 0,
      "outputs": []
    },
    {
      "cell_type": "code",
      "metadata": {
        "id": "wsOQb4UmHk3p",
        "colab_type": "code",
        "colab": {}
      },
      "source": [
        "img = cv2.cvtColor(img, cv2.COLOR_BGR2GRAY)\n",
        "\n",
        "# Apply dilation and erosion to remove some noise\n",
        "kernel = np.ones((1, 1), np.uint8)\n",
        "img = cv2.dilate(img, kernel, iterations=1)\n",
        "img = cv2.erode(img, kernel, iterations=1)\n",
        "# Apply blur to smooth out the edges\n",
        "img = cv2.GaussianBlur(img, (5, 5), 0)\n",
        "#img = cv2.medianBlur(img, 3)\n",
        "#img = cv2.bilateralFilter(img,9,75,75)"
      ],
      "execution_count": 0,
      "outputs": []
    },
    {
      "cell_type": "code",
      "metadata": {
        "id": "hgBKiawqHk3u",
        "colab_type": "code",
        "colab": {}
      },
      "source": [
        "img = cv2.threshold(img, 100, 255, cv2.THRESH_BINARY + cv2.THRESH_OTSU)[1]"
      ],
      "execution_count": 0,
      "outputs": []
    },
    {
      "cell_type": "code",
      "metadata": {
        "id": "mf94uWLoHk30",
        "colab_type": "code",
        "colab": {},
        "outputId": "72e694e7-3fd9-453c-f0bc-c2a03c274fe4"
      },
      "source": [
        "save_path = os.path.join(r'C:\\Users\\Admin\\Downloads\\NACH', \"ocr1\" + \"_filter_\"  + \".jpg\")\n",
        "cv2.imwrite(save_path, img)"
      ],
      "execution_count": 0,
      "outputs": [
        {
          "output_type": "execute_result",
          "data": {
            "text/plain": [
              "True"
            ]
          },
          "metadata": {
            "tags": []
          },
          "execution_count": 432
        }
      ]
    },
    {
      "cell_type": "code",
      "metadata": {
        "id": "5F_CK3WwHk35",
        "colab_type": "code",
        "colab": {},
        "outputId": "4bd6e971-1e25-40ed-9be5-8418f77f535f"
      },
      "source": [
        "try:\n",
        "    import Image\n",
        "except ImportError:\n",
        "    from PIL import Image\n",
        "import pytesseract\n",
        "\n",
        "pytesseract.pytesseract.tesseract_cmd = r\"C:\\Program Files (x86)\\Tesseract-OCR\\tesseract.exe\"\n",
        "# Include the above line, if you don't have tesseract executable in your PATH\n",
        "# Example tesseract_cmd: 'C:\\\\Program Files (x86)\\\\Tesseract-OCR\\\\tesseract'\n",
        "im = Image.open('ocr1_filter_.jpg')\n",
        "\n",
        "print(pytesseract.image_to_string(im,lang = 'eng'))\n"
      ],
      "execution_count": 0,
      "outputs": [
        {
          "output_type": "stream",
          "text": [
            "Debit Mandate Form NACH/ECS/DIRECT DEBIT (Standing Instructions)\n",
            "\n",
            "ap a ~ FE oate 1841 Z0H18)\n",
            "——\n",
            "\n",
            "TATA\n",
            "Tick (v) Sponsor Bank col  — s—is«Y Utility Code\n",
            "\n",
            "CREAT We hereby authorize | __TATA CAPITAL FINANCIAL SERVICES LIMITED _ CAPITAL FINANCIAL | __TATA CAPITAL FINANCIAL SERVICES LIMITED _ LIMITED to debit (tickw) | SB/CA/CC/SB-NRE/SB-NRO/Other|\n",
            "\n",
            "sank ae number [OL4 1 O [Glololo a SB lol 1\n",
            "\n",
            "with nes DBL Ap x_____we BINA ciclal 25x mcr 3) Fol zs Foleo?\n",
            "enamountotRupees| MVE THOVGAWD MVE HY NDREDSAM - THREE Clit [25,9632 |\n",
            "\n",
            "FREQUENCY [_]Bi-Mthly CyMitnty [J Qtly (J H- “ L] Yry [J As & when presented DEBIT TYPE [X] Fixed Amount [@ Maximum Amount\n",
            "reterence | _=*idhome No GO BS GAG AHL\n",
            "\n",
            "Reference 2 4 H fH Email ID\n",
            "\n",
            "  \n",
            "  \n",
            "\n",
            "  \n",
            "  \n",
            "   \n",
            " \n",
            "\n",
            "    \n",
            "\n",
            " \n",
            "\n",
            "   \n",
            "   \n",
            "\n",
            "PERIOD r | agree fer the debit of mandate processing charges by the bank whom | am authorzing te debit my account a5 per latest schedule of charges of the bank.\n",
            "From LOLS 16/7 [4131\n",
            "oMIRbH)| At\n",
            "in eS\n",
            "Or [] Until Cancelled 1. 3.\n",
            "- This is to confirm that the declaration has been carefully reac. smerameatheg us | am autnonsing the user entity! corporate to. Cebit my account.- | nave urderstocd that | am authorised to cancel’amend\n",
            "this mandate by appropriately communicating the cancellatory: smorament eg {soe user entity/corporate or the bank wnere j have authorized tne debit. \"We herek y Seclare that the above information is true and\n",
            "\n",
            "correct and that the mobile number listed above is reg:stered ir my-ourname(syanderis the number that lwe use in the ordinary course. | We heredy declare that irrespecuve of my. our registration of the above motile\n",
            "in the provicer customer preference register, arin any similar register maintained onder app:icadle laws, now or subsequent tc the date nereof. [We consent to she Bank communicating lo meus about the transactions\n",
            "\n",
            "carmed out in my/our aforesaid account{s)\n",
            "\n",
            "/\n",
            "Debit Mandate Form NACH/ECS/DIRECT DEBIT (Standing Instructions)\n",
            "\n",
            "ap a 6 ETT pate\n",
            "——aa\n",
            "\n",
            "Tick (+) Sponsor Bank ce[  t—~—sSY Utility Code\n",
            "\n",
            "UWe hereby authorize TATA CAPITAL | __TATA CAPITAL FINANCIAL SERVICES LIMITED —_ | __TATA CAPITAL FINANCIAL SERVICES LIMITED —_ LIMITED to debit (tick) |SB/CA/CCISE-NRE/SB-NRO/Other\n",
            "\n",
            "Bank a/e number EERO aol TT TTTTITT ttt\n",
            "\n",
            "win eat (DB) BANK ___ se IPIR[L[olololololy Li mon 31910 25 Iclol?\n",
            "anamountot rupees| IVE THOUSAND MVE HUNDRED S)T14 TAREE ovist |e 4,463). 1\n",
            "\n",
            "FREQUENCY []Bi-Mthly [Mthly [J Otly (.] H-Yrly (J Yrly [] As & when presented DEBIT TYPE [X] Fixed Amount [9% Maximum Amount\n",
            "\n",
            "Reterence1{ SCC=*dihme No] 34 GAQBAL\n",
            "\n",
            "PERIOD\n",
            "\n",
            "rom Tog\n",
            "ZOO) _ A WA)\n",
            "\n",
            "Or [J Until Cancelled 1. 3.\n",
            "\n",
            "$a\n",
            "\n",
            "- This is lo confirm that the ceclaration has oeen carefully read. understooc and made oy thorsing the user entty corporate to debit my account.» | nave understood that 1am authonsed to cance:‘amend\n",
            "\n",
            "this mandate by approonately communicating the cancellation'amendment request to th Fee dipcoepersic of the bark where have authorized the debit. We hereby ceclare that the above information :s true and\n",
            "\n",
            "correct and that the mobile number sted above is registered in my/our name‘s) and/or is the number Bi Lwe use in the ordinary course. I/We neraby declare that respective of my/cur registration of the aba. e mahi‘e\n",
            "\n",
            "n the provider customer preference ragisiar, or in ary simar register maintained uncer apphcable laws now cr subsequent to Ihe date hereof, \"We consent to.the Bank communicating io me/us about tne transactions\n",
            "camed out in myour aforesaid account(s;\n",
            "\n",
            "   \n",
            "      \n",
            "\n",
            "   \n",
            "\n",
            "| agree for the debit of mandate processing charges by the nank whom | am aulhonzing to deot my accounl as ger latest schedule of charges cf the bank\n",
            "\n",
            "   \n",
            " \n",
            "\n",
            " \n",
            "\n",
            "       \n",
            "\n",
            "v\n",
            "Debit Mandate Form NACH/ECS/DIRECT DEBIT (Standing Instructions)\n",
            "\n",
            "ap UMRN 6 LET pate [Ig llolF Yo 9)\n",
            "ee\n",
            "\n",
            "Tick (0) Sponsor Bank col = ts—~—SCSY Utility Code\n",
            "\n",
            "We hereby authorize TATA | _TATACAPITAL FINANCIAL SERVICES LIMITED _| FINANCIAL | _TATACAPITAL FINANCIAL SERVICES LIMITED _| LIMITED to debit (tick) [SB/CAICC/SB-NRE/SB-NRO/Other [SB/CA/CC/SB-NRE/SB-NRO/Other|\n",
            "\n",
            "Bank alc number Oololseaesl TTT Loti\n",
            "\n",
            "withBank| /9)P) BAWVK hese Bin soerolcclts J Jor ~oGSCGa GET\n",
            "an amount ot Rupees| VINE THOVSAND witvE Hy nADRED.S1Y74 -THREL OWL] (% F,9¢3/-\n",
            "\n",
            "FREQUENCY [_]Bi-Mthiy Cy Mthly [_] Qty [] b- se [\"] Yny [] As rv when Se DEBIT TYPE [X] Fixed Amount [@ Maximum Amount\n",
            "\n",
            "Reference tf SSSC«*diP one Wo | OD YH MSHS\n",
            "roterence 2 SSARODASSS*d mm [SS\n",
            "\n",
            "PERIOD | agree tor the cebit of mandate processing charges by the bark whom | am authonzing to debit my account as der latest schedule ot charges of tre bank\n",
            "ee ,\n",
            "\n",
            "From | OF 11016 ILflo [418\n",
            "3.\n",
            ": This is to confirm that the deciaraton has been carefully 3 sadarstead and made by Pare pupovet ing the user entity/corporale ta debit my accounL - | have unders‘ood that ! am authorised lo cance! amend\n",
            "Menu\n",
            "\n",
            "Cr ___[_] Until Cancelled\n",
            "this mandate by appropriately communicating the cancellation‘amendment request to rate or the bank where ' have authonzed the debit. We hereby declare that tne above information is true and\n",
            "correct and that the mobite number listed above is. registered in myour nameis) and/ar:s t that we use in the ordinary course. (We hereby deciare that, espective cf my/our registratian of the above mobile\n",
            "in the provider customer preference register cr in any similar feg'stér maintained under applicabie laws, now or subsequent to the cate hereat I/We consent to the Bank communicating to me/us aboul the transactions\n",
            "carred out in my/our aforesaid account{s)\n"
          ],
          "name": "stdout"
        }
      ]
    },
    {
      "cell_type": "code",
      "metadata": {
        "id": "qEm9SOvpHk4B",
        "colab_type": "code",
        "colab": {}
      },
      "source": [
        "digits = cv2.imread(\"ocr2_filter_.jpg\", cv2.IMREAD_GRAYSCALE)"
      ],
      "execution_count": 0,
      "outputs": []
    },
    {
      "cell_type": "code",
      "metadata": {
        "id": "TWfh-xGyHk4H",
        "colab_type": "code",
        "colab": {}
      },
      "source": [
        ""
      ],
      "execution_count": 0,
      "outputs": []
    },
    {
      "cell_type": "code",
      "metadata": {
        "id": "IP9AUWCYHk4O",
        "colab_type": "code",
        "colab": {}
      },
      "source": [
        ""
      ],
      "execution_count": 0,
      "outputs": []
    },
    {
      "cell_type": "code",
      "metadata": {
        "id": "rpIa2a0BHk4S",
        "colab_type": "code",
        "colab": {}
      },
      "source": [
        ""
      ],
      "execution_count": 0,
      "outputs": []
    }
  ]
}