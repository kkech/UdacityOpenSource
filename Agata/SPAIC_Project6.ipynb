{
  "nbformat": 4,
  "nbformat_minor": 0,
  "metadata": {
    "colab": {
      "name": "SPAIC_Project6.ipynb",
      "version": "0.3.2",
      "provenance": [],
      "include_colab_link": true
    },
    "kernelspec": {
      "name": "python3",
      "display_name": "Python 3"
    }
  },
  "cells": [
    {
      "cell_type": "markdown",
      "metadata": {
        "id": "view-in-github",
        "colab_type": "text"
      },
      "source": [
        "<a href=\"https://colab.research.google.com/github/agatagruza/private-ai/blob/master/SPAIC_Project6.ipynb\" target=\"_parent\"><img src=\"https://colab.research.google.com/assets/colab-badge.svg\" alt=\"Open In Colab\"/></a>"
      ]
    },
    {
      "cell_type": "markdown",
      "metadata": {
        "id": "K2QSA5Z3rczK",
        "colab_type": "text"
      },
      "source": [
        "#Project 6: Create a Differentially Private Query\n",
        "Use Laplacian noise to create a query function which sums over the database and adds the right amount of noise to the query output (Global Differential Privacy) such that it satisfies an epsilon constraint. Write a query for both \"sum\" and for \"mean\". Ensure that you use the correct sensitivity measures for both.\n",
        "### GLOSSARY\n",
        "**Randomized machanizm** is a function with random noise added to its inouts, outputs, and/or inner workings.\n",
        "\n",
        "**Privacy budget** will tell you how much epsilon/delta leakage we allow for our analysis.\n",
        "\n",
        "**Types of noise**\n",
        "- Gaussian\n",
        "- Laplacian (workls better)   __***b = sensitivity(query)/epsilon***__ (delta == 0 therefore it's omitted)\n",
        "\n",
        "**How much noise should we add**?\n",
        "- Type of noise (Gaussian / Laplacian) (type of noise we are adding)\n",
        "- Sensitivity of query (kind of function that we are adding noise to)\n",
        "- Desired Epsilon (how much privacy leakage we want to allow. We have a ceratin budget of epsilon that we want to stay underneath). \n",
        "- Desired Delta (how much privacy leakage we want to allow) <br></br>\n",
        "\n",
        "**Laplacian mechanizm** is a function that is being augmented with Laplacian noise in this way, forming the mechanizm  **\"M\"** If we query the database multiple times - we can simply add the epsilons (Even if we change the amount of noise and their epsilons are not the same).<br></br>\n",
        "**TO DO** Search for different private randomized mechanisms that can be apprpriate for different use cases."
      ]
    },
    {
      "cell_type": "code",
      "metadata": {
        "id": "ZmWye-lo0wDZ",
        "colab_type": "code",
        "colab": {}
      },
      "source": [
        "#import torch\n",
        "import torch\n",
        "import numpy as np\n",
        "\n",
        "epsilon = 0.0001    # epsilon we are spending per query"
      ],
      "execution_count": 0,
      "outputs": []
    },
    {
      "cell_type": "code",
      "metadata": {
        "id": "jqfO-ykT08Q7",
        "colab_type": "code",
        "colab": {}
      },
      "source": [
        "def create_parallel_db(db, index):\n",
        "\n",
        "    return torch.cat((db[0:index], \n",
        "                      db[index+1:]))"
      ],
      "execution_count": 0,
      "outputs": []
    },
    {
      "cell_type": "code",
      "metadata": {
        "id": "FcNPi5mc0-8O",
        "colab_type": "code",
        "colab": {}
      },
      "source": [
        "def create_parallel_dbs(db):\n",
        "\n",
        "    parallel_dbs = list()\n",
        "\n",
        "    for i in range(len(db)):\n",
        "        pdb = create_parallel_db(db, i)\n",
        "        parallel_dbs.append(pdb)\n",
        "    \n",
        "    return parallel_dbs"
      ],
      "execution_count": 0,
      "outputs": []
    },
    {
      "cell_type": "code",
      "metadata": {
        "id": "dse0_yXQ1CAE",
        "colab_type": "code",
        "colab": {}
      },
      "source": [
        "def create_db_and_parallels(num_els):\n",
        "    \n",
        "    db = torch.rand(num_els) > 0.5\n",
        "    pdbs = create_parallel_dbs(db)\n",
        "    \n",
        "    return db, pdbs"
      ],
      "execution_count": 0,
      "outputs": []
    },
    {
      "cell_type": "code",
      "metadata": {
        "id": "SdjmtApv0q36",
        "colab_type": "code",
        "colab": {}
      },
      "source": [
        "db, pdbs = create_db_and_parallels(100)"
      ],
      "execution_count": 0,
      "outputs": []
    },
    {
      "cell_type": "code",
      "metadata": {
        "id": "0KSf7uFE1Ltz",
        "colab_type": "code",
        "colab": {}
      },
      "source": [
        "# If db consists of 0-2, the sensitivity would double to 2. !!!!!!!!!!!!!!!!\n",
        "# because the output would change and if we remove entry, it coul dbe as high as 2\n",
        "# sum(db * 2)\n",
        "def sum_query(db):\n",
        "  return db.sum()"
      ],
      "execution_count": 0,
      "outputs": []
    },
    {
      "cell_type": "code",
      "metadata": {
        "id": "G6g7ILY-1Ow-",
        "colab_type": "code",
        "colab": {}
      },
      "source": [
        "def laplacian_mechanism(db, query, sensitivity):\n",
        "  \n",
        "  beta = sensitivity / epsilon\n",
        "  # 0 here is mean centered at 0, beta is controlling teh amount of spread. \n",
        "  # it's NOT range [0,1]\n",
        "  noise = torch.tensor(np.random.laplace(0, beta, 1))\n",
        "  \n",
        "  return query(db) + noise"
      ],
      "execution_count": 0,
      "outputs": []
    },
    {
      "cell_type": "code",
      "metadata": {
        "id": "KiTzqMpQ4uvp",
        "colab_type": "code",
        "colab": {}
      },
      "source": [
        "def mean_query(db):\n",
        "  return torch.mean(db.float())"
      ],
      "execution_count": 0,
      "outputs": []
    },
    {
      "cell_type": "code",
      "metadata": {
        "id": "gkia7Upd46cc",
        "colab_type": "code",
        "colab": {
          "base_uri": "https://localhost:8080/",
          "height": 34
        },
        "outputId": "7c22728c-e361-417a-f6e5-d027159182b5"
      },
      "source": [
        "mean_query(db)"
      ],
      "execution_count": 70,
      "outputs": [
        {
          "output_type": "execute_result",
          "data": {
            "text/plain": [
              "tensor(0.6100)"
            ]
          },
          "metadata": {
            "tags": []
          },
          "execution_count": 70
        }
      ]
    },
    {
      "cell_type": "code",
      "metadata": {
        "id": "-idl7yw81HGr",
        "colab_type": "code",
        "colab": {
          "base_uri": "https://localhost:8080/",
          "height": 34
        },
        "outputId": "4a3116bd-a5e9-4f3b-8f2f-b74c6e65c89a"
      },
      "source": [
        "# laplacian_mechanism(db, sum_query, 1) is right below and above sum_query(db)\n",
        "laplacian_mechanism(db, sum_query, 1)"
      ],
      "execution_count": 72,
      "outputs": [
        {
          "output_type": "execute_result",
          "data": {
            "text/plain": [
              "tensor([9872.8785], dtype=torch.float64)"
            ]
          },
          "metadata": {
            "tags": []
          },
          "execution_count": 72
        }
      ]
    },
    {
      "cell_type": "code",
      "metadata": {
        "id": "TH3scUxs3mkp",
        "colab_type": "code",
        "colab": {
          "base_uri": "https://localhost:8080/",
          "height": 34
        },
        "outputId": "513a0787-6fc7-43a0-8de1-a556dffc00c7"
      },
      "source": [
        "laplacian_mechanism(db, mean_query, 1/100)    # noise is smaller here"
      ],
      "execution_count": 77,
      "outputs": [
        {
          "output_type": "execute_result",
          "data": {
            "text/plain": [
              "tensor([69.2208], dtype=torch.float64)"
            ]
          },
          "metadata": {
            "tags": []
          },
          "execution_count": 77
        }
      ]
    },
    {
      "cell_type": "markdown",
      "metadata": {
        "id": "QcFc5V9n6ZLU",
        "colab_type": "text"
      },
      "source": [
        "###Observation\n",
        "For epsilon = 0.5 laplacian_mechanism(db, mean_query, 1/100) was dancing around  sum_query(db) range. \n",
        "\n",
        "For epsilon = 0.0001 laplacian_mechanism(db, mean_query, 1/100) is all over the place. It's very random because we're not leaking hardly any information. \n",
        "\n",
        "**1. The lower the epsilon, we are increasing teh amount of noise that we have to add in order to be able to get really constraining level of privacy protection.**\n",
        "\n",
        "**2. The more noise we add, the more protection, the more plausible deniability that we gave each participant in our survey, the more randomize our results we're looking.**"
      ]
    },
    {
      "cell_type": "code",
      "metadata": {
        "id": "yHIz2Tta3jEc",
        "colab_type": "code",
        "colab": {}
      },
      "source": [
        ""
      ],
      "execution_count": 0,
      "outputs": []
    }
  ]
}