{
  "nbformat": 4,
  "nbformat_minor": 0,
  "metadata": {
    "colab": {
      "name": "SPAIC_Project7.ipynb",
      "version": "0.3.2",
      "provenance": [],
      "include_colab_link": true
    },
    "kernelspec": {
      "name": "python3",
      "display_name": "Python 3"
    },
    "accelerator": "GPU"
  },
  "cells": [
    {
      "cell_type": "markdown",
      "metadata": {
        "id": "view-in-github",
        "colab_type": "text"
      },
      "source": [
        "<a href=\"https://colab.research.google.com/github/agatagruza/private-ai/blob/master/SPAIC_Project7.ipynb\" target=\"_parent\"><img src=\"https://colab.research.google.com/assets/colab-badge.svg\" alt=\"Open In Colab\"/></a>"
      ]
    },
    {
      "cell_type": "markdown",
      "metadata": {
        "id": "KT_MmhK2xoFo",
        "colab_type": "text"
      },
      "source": [
        ""
      ]
    },
    {
      "cell_type": "markdown",
      "metadata": {
        "id": "PJ1nIldAxpYl",
        "colab_type": "text"
      },
      "source": [
        "#Project 7: Annotation for unknown labels of images\n",
        "First we're going to consider a scenario - you work for a hospital and you have a large collection of images about your patients. However, you don't know what's in them. You would like to use these images to develop a neural network which can automatically classify them, however since your images aren't labeled, they aren't sufficient to train a classifier. </br></br>\n",
        "However, being a cunning strategist, you realize that you can reach out to 10 partner hospitals which DO have annotated data. It is your hope to train your new classifier on their datasets so that you can automatically label your own. While these hospitals are interested in helping, they have privacy concerns regarding information about their patients. Thus, you will use the following technique to train a classifier which protects the privacy of patients in the other hospitals. </br>\n",
        "1.   You'll ask each of the 10 hospitals to train a model on their own datasets (All of which have the same kinds of labels) </br>\n",
        "2.   You'll then use each of the 10 partner models to predict on your local dataset, generating 10 labels for each of your datapoints</br>\n",
        "3.   Then, for each local data point (now with 10 labels), you will perform a DP query to generate the final true label. This query is a \"max\" function, where \"max\" is the most frequent label across the 10 labels. We will need to add laplacian noise to make this Differentially Private to a certain epsilon/delta constraint. </br>\n",
        "4.   Finally, we will retrain a new model on our local dataset which now has labels. This will be our final \"DP\" model.</br>\n",
        " \n",
        "So, let's say we have 10,000 training examples, and we've got 10 labels for each example (from our 10 \"teacher models\" which were trained directly on private data). Each label is chosen from a set of 10 possible labels (categories) for each image."
      ]
    },
    {
      "cell_type": "code",
      "metadata": {
        "id": "lIPnLE3Qxf8r",
        "colab_type": "code",
        "colab": {}
      },
      "source": [
        "import numpy as np"
      ],
      "execution_count": 0,
      "outputs": []
    },
    {
      "cell_type": "code",
      "metadata": {
        "id": "Vj8BkQT11Z4s",
        "colab_type": "code",
        "colab": {}
      },
      "source": [
        "teachers_num = 10 # total # of hospitals that we are workign with\n",
        "examples_num = 10000 # the size of OUR dataset\n",
        "labels_num = 10 # number of lablels for our classifier\n",
        "# For now we are assuming that those parameters are mutually exzclisive"
      ],
      "execution_count": 0,
      "outputs": []
    },
    {
      "cell_type": "code",
      "metadata": {
        "id": "oVKhcL6A1dRT",
        "colab_type": "code",
        "colab": {}
      },
      "source": [
        "prediction = (np.random.rand(teachers_num, examples_num) * labels_num).astype(int) # fake predictions"
      ],
      "execution_count": 0,
      "outputs": []
    },
    {
      "cell_type": "code",
      "metadata": {
        "id": "zJhQpKd84Yk2",
        "colab_type": "code",
        "colab": {
          "base_uri": "https://localhost:8080/",
          "height": 34
        },
        "outputId": "2717ef59-c606-4074-f7ac-cd4b72a1568d"
      },
      "source": [
        "prediction[0].shape # predictions from one teacher"
      ],
      "execution_count": 14,
      "outputs": [
        {
          "output_type": "execute_result",
          "data": {
            "text/plain": [
              "(10000,)"
            ]
          },
          "metadata": {
            "tags": []
          },
          "execution_count": 14
        }
      ]
    },
    {
      "cell_type": "code",
      "metadata": {
        "id": "G5HYtTKGJ_OT",
        "colab_type": "code",
        "colab": {
          "base_uri": "https://localhost:8080/",
          "height": 34
        },
        "outputId": "063974fa-f2ed-42d1-bc4a-92c30d7d04de"
      },
      "source": [
        "prediction[:,0] # All examples for let's say first image. Index correcpond to teacher # "
      ],
      "execution_count": 15,
      "outputs": [
        {
          "output_type": "execute_result",
          "data": {
            "text/plain": [
              "array([7, 4, 7, 6, 8, 6, 5, 9, 1, 8])"
            ]
          },
          "metadata": {
            "tags": []
          },
          "execution_count": 15
        }
      ]
    },
    {
      "cell_type": "code",
      "metadata": {
        "id": "gm04GcUw2E5U",
        "colab_type": "code",
        "colab": {
          "base_uri": "https://localhost:8080/",
          "height": 136
        },
        "outputId": "12055a9d-cfbc-4815-804b-c6f9fc0125fd"
      },
      "source": [
        "prediction"
      ],
      "execution_count": 16,
      "outputs": [
        {
          "output_type": "execute_result",
          "data": {
            "text/plain": [
              "array([[7, 7, 5, ..., 9, 8, 7],\n",
              "       [4, 4, 7, ..., 1, 5, 0],\n",
              "       [7, 1, 7, ..., 7, 2, 5],\n",
              "       ...,\n",
              "       [9, 8, 0, ..., 5, 7, 1],\n",
              "       [1, 4, 6, ..., 7, 6, 3],\n",
              "       [8, 8, 6, ..., 6, 3, 2]])"
            ]
          },
          "metadata": {
            "tags": []
          },
          "execution_count": 16
        }
      ]
    },
    {
      "cell_type": "code",
      "metadata": {
        "id": "Mt7DxGhf1e-x",
        "colab_type": "code",
        "colab": {}
      },
      "source": [
        "# We are assuming hospitals doesn't have overlapping patients\n",
        "new_labels = list()\n",
        "for an_image in prediction:\n",
        "\n",
        "    # Adding noise to each of the counts\n",
        "    label_counts = np.bincount(an_image, minlength=labels_num)\n",
        "\n",
        "    epsilon = 0.1\n",
        "    beta = 1 / epsilon\n",
        "\n",
        "    for i in range(len(label_counts)):\n",
        "        label_counts[i] += np.random.laplace(0, beta, 1)\n",
        "\n",
        "    new_label = np.argmax(label_counts)\n",
        "    \n",
        "    new_labels.append(new_label)"
      ],
      "execution_count": 0,
      "outputs": []
    },
    {
      "cell_type": "code",
      "metadata": {
        "id": "ACZw1FB21leh",
        "colab_type": "code",
        "colab": {
          "base_uri": "https://localhost:8080/",
          "height": 34
        },
        "outputId": "32f5b4cd-5222-4dd9-cf76-a7adbaae4de1"
      },
      "source": [
        "len(new_labels)"
      ],
      "execution_count": 18,
      "outputs": [
        {
          "output_type": "execute_result",
          "data": {
            "text/plain": [
              "10"
            ]
          },
          "metadata": {
            "tags": []
          },
          "execution_count": 18
        }
      ]
    },
    {
      "cell_type": "markdown",
      "metadata": {
        "id": "p3bwaYWzK41z",
        "colab_type": "text"
      },
      "source": [
        "***As a result we have generated a synthetic dataset of new labels based on the predictions from all of our partner hospitals.***\n"
      ]
    }
  ]
}