{
  "nbformat": 4,
  "nbformat_minor": 0,
  "metadata": {
    "colab": {
      "name": "SPAIC_Project8.ipynb",
      "version": "0.3.2",
      "provenance": [],
      "collapsed_sections": [],
      "include_colab_link": true
    },
    "kernelspec": {
      "name": "python3",
      "display_name": "Python 3"
    },
    "accelerator": "GPU"
  },
  "cells": [
    {
      "cell_type": "markdown",
      "metadata": {
        "id": "view-in-github",
        "colab_type": "text"
      },
      "source": [
        "<a href=\"https://colab.research.google.com/github/agatagruza/private-ai/blob/master/SPAIC_Project8.ipynb\" target=\"_parent\"><img src=\"https://colab.research.google.com/assets/colab-badge.svg\" alt=\"Open In Colab\"/></a>"
      ]
    },
    {
      "cell_type": "markdown",
      "metadata": {
        "id": "KT_MmhK2xoFo",
        "colab_type": "text"
      },
      "source": [
        ""
      ]
    },
    {
      "cell_type": "markdown",
      "metadata": {
        "id": "PJ1nIldAxpYl",
        "colab_type": "text"
      },
      "source": [
        "#Project 8: PATE Analysis + DP model training using PATE\n",
        "\n",
        "## Part A: PATE Analysis\n",
        "We are asking the question: how much information would leak through these labels if we were to publish them? ***How much epsilon is actually present inside these labsel? ***The reason we care about this is because this is really important property of differential privacy, which is - ***it is immune to -post-processing***. That means if a dataset contains a certain amount of private information, no amount of post-processing could divulge more information than was in the dataset. \n",
        "\n"
      ]
    },
    {
      "cell_type": "code",
      "metadata": {
        "id": "lIPnLE3Qxf8r",
        "colab_type": "code",
        "colab": {}
      },
      "source": [
        "import numpy as np\n",
        "import torch"
      ],
      "execution_count": 0,
      "outputs": []
    },
    {
      "cell_type": "code",
      "metadata": {
        "id": "wkKBIXCqMoi3",
        "colab_type": "code",
        "colab": {
          "base_uri": "https://localhost:8080/",
          "height": 34
        },
        "outputId": "efe6ed10-bcb3-4cfe-8990-45f35db0e7d4"
      },
      "source": [
        "labels = np.array([9, 9, 3, 6, 9, 9, 9, 9, 8, 2])\n",
        "counts = np.bincount(labels, minlength=10)\n",
        "query_result = np.argmax(counts)\n",
        "query_result"
      ],
      "execution_count": 19,
      "outputs": [
        {
          "output_type": "execute_result",
          "data": {
            "text/plain": [
              "9"
            ]
          },
          "metadata": {
            "tags": []
          },
          "execution_count": 19
        }
      ]
    },
    {
      "cell_type": "code",
      "metadata": {
        "id": "uvDnvQysNHs_",
        "colab_type": "code",
        "colab": {}
      },
      "source": [
        "# installing pysyft\n",
        "!pip install syft"
      ],
      "execution_count": 0,
      "outputs": []
    },
    {
      "cell_type": "code",
      "metadata": {
        "id": "-RHM4JbUNVDv",
        "colab_type": "code",
        "colab": {}
      },
      "source": [
        "# importing pate so that we can apply pate algorithm\n",
        "from syft.frameworks.torch.differential_privacy import pate"
      ],
      "execution_count": 0,
      "outputs": []
    },
    {
      "cell_type": "code",
      "metadata": {
        "id": "Vj8BkQT11Z4s",
        "colab_type": "code",
        "colab": {}
      },
      "source": [
        "teachers_num, examples_num, labels_num = (100, 100, 10) # From prevoius project\n",
        "prediction = (np.random.rand(teachers_num, examples_num) * labels_num).astype(int) # fake predictions\n",
        "indices = (np.random.rand(examples_num) * labels_num).astype(int) "
      ],
      "execution_count": 0,
      "outputs": []
    },
    {
      "cell_type": "code",
      "metadata": {
        "id": "dh4HraL1MuVf",
        "colab_type": "code",
        "colab": {
          "base_uri": "https://localhost:8080/",
          "height": 51
        },
        "outputId": "a67c8166-4f04-4c3d-cd6f-0598fc092def"
      },
      "source": [
        "# data_dependent_epsilon looks inside and says: \"Hey, how much agreement is here?\" \n",
        "# ddata_independent_epsilon is looser. It's a simpler epsilon.  \n",
        "# It doesn't look at the data to be able to tell.\n",
        "\n",
        "data_dependent_epsilon, data_independent_epsilon = pate.perform_analysis(teacher_preds=prediction, indices=indices, noise_eps=0.1, delta=1e-5)\n",
        "print(\"Data Independent Epsilon:\", data_independent_epsilon)\n",
        "print(\"Data Dependent Epsilon:\", data_dependent_epsilon)"
      ],
      "execution_count": 33,
      "outputs": [
        {
          "output_type": "stream",
          "text": [
            "Data Independent Epsilon: 11.756462732485115\n",
            "Data Dependent Epsilon: 11.756462732485105\n"
          ],
          "name": "stdout"
        }
      ]
    },
    {
      "cell_type": "code",
      "metadata": {
        "id": "tfK7lsWmRVe0",
        "colab_type": "code",
        "colab": {}
      },
      "source": [
        "# Agreement, here first 5 examples all 10 hospitals agreed it was labeled 0\n",
        "# We are forcing first 5 examples to have perfect consensus at zero. \n",
        "prediction[:,0:5] *= 0"
      ],
      "execution_count": 0,
      "outputs": []
    },
    {
      "cell_type": "code",
      "metadata": {
        "id": "fnBpNnKvRXYS",
        "colab_type": "code",
        "colab": {
          "base_uri": "https://localhost:8080/",
          "height": 68
        },
        "outputId": "6dbe6f92-c0ad-4033-a500-afa2ec111532"
      },
      "source": [
        "data_dependent_epsilon, data_independent_epsilon = pate.perform_analysis(teacher_preds=prediction, indices=indices, noise_eps=0.1, delta=1e-5)\n",
        "print(\"Data Independent Epsilon:\", data_independent_epsilon)\n",
        "print(\"Data Dependent Epsilon:\", data_dependent_epsilon)"
      ],
      "execution_count": 37,
      "outputs": [
        {
          "output_type": "stream",
          "text": [
            "Warning: May not have used enough values of l. Increase 'moments' variable and run again.\n",
            "Data Independent Epsilon: 11.756462732485115\n",
            "Data Dependent Epsilon: 1.52655213289881\n"
          ],
          "name": "stdout"
        }
      ]
    },
    {
      "cell_type": "code",
      "metadata": {
        "id": "FOirm52cUB8B",
        "colab_type": "code",
        "colab": {}
      },
      "source": [
        "# Agreement, here first 50 examples all 10 hospitals agreed it was labeled 0\n",
        "# We are forcing first 50 examples to have perfect consensus at zero. \n",
        "prediction[:,0:50] *= 0"
      ],
      "execution_count": 0,
      "outputs": []
    },
    {
      "cell_type": "code",
      "metadata": {
        "id": "VUvLlHE-UCE4",
        "colab_type": "code",
        "colab": {
          "base_uri": "https://localhost:8080/",
          "height": 68
        },
        "outputId": "63cee380-5663-47d7-fd28-19d8e5251a56"
      },
      "source": [
        "data_dependent_epsilon, data_independent_epsilon = pate.perform_analysis(teacher_preds=prediction, indices=indices, noise_eps=0.1, delta=1e-5)\n",
        "print(\"Data Independent Epsilon:\", data_independent_epsilon)\n",
        "print(\"Data Dependent Epsilon:\", data_dependent_epsilon)"
      ],
      "execution_count": 38,
      "outputs": [
        {
          "output_type": "stream",
          "text": [
            "Warning: May not have used enough values of l. Increase 'moments' variable and run again.\n",
            "Data Independent Epsilon: 11.756462732485115\n",
            "Data Dependent Epsilon: 1.52655213289881\n"
          ],
          "name": "stdout"
        }
      ]
    },
    {
      "cell_type": "markdown",
      "metadata": {
        "id": "YRwfIUMYUW4X",
        "colab_type": "text"
      },
      "source": [
        "The smaller Data Dependent Epsilon, then significantly better privacy leak. \n",
        "\n",
        "***Warning: May not have used enough values of l. Increase 'moments' variable and run again.***\n",
        "By default 'moments' = 8. We should follow Warning and increase 'moments' to ~20.\n",
        "\n",
        "**In summary: the greater the agreemet, the more prediction agree with each other, and the tighter Data Dependent Epsilon value we can get. \n",
        "Weh Using PATE, if you can do things with your algorrithm, to encourage models at different locations to agree with each other, to find true signal, \n",
        "to NOT overfit to the data, the you have less provacy leakage. That happens beacuse each model was better at only memorizing and learnign generic information.\n",
        "PATE rewards you for creating good generalized models that don't memorize the data by giving you a better Epsilon levels at the end. ***"
      ]
    },
    {
      "cell_type": "markdown",
      "metadata": {
        "id": "LowsNYLaXolR",
        "colab_type": "text"
      },
      "source": [
        "\n",
        "\n",
        "\n",
        "\n",
        "## Part B: DP model training using PATE\n",
        "For the final project for this section, you need to train a DP model using this PATE method on the MNIST dataset. You are given:\n",
        "1.   Labelled private dataset which you must keep differentially private\n",
        "2.   A public unlabeled dataset (MNIST) which doesn't need to be differentially private </br>\n",
        "\n",
        "Goal: Automatically lael the 2nd dataset. Then you should be able to train a model on this 2nd public dataset and get reasonable level of accuracy on the task given a certain epsilon delta constraint. \n",
        "\n"
      ]
    },
    {
      "cell_type": "code",
      "metadata": {
        "id": "V6TkPEqYX3dk",
        "colab_type": "code",
        "colab": {
          "base_uri": "https://localhost:8080/",
          "height": 255
        },
        "outputId": "6d6a7981-9635-4b38-ff84-a912451403fb"
      },
      "source": [
        "import torchvision.datasets as datasets\n",
        "mnist_trainset = datasets.MNIST(root='./data', train=True, download=True, transform=None)"
      ],
      "execution_count": 39,
      "outputs": [
        {
          "output_type": "stream",
          "text": [
            "\r0it [00:00, ?it/s]"
          ],
          "name": "stderr"
        },
        {
          "output_type": "stream",
          "text": [
            "Downloading http://yann.lecun.com/exdb/mnist/train-images-idx3-ubyte.gz to ./data/MNIST/raw/train-images-idx3-ubyte.gz\n"
          ],
          "name": "stdout"
        },
        {
          "output_type": "stream",
          "text": [
            "9920512it [00:01, 9577114.89it/s]                            \n"
          ],
          "name": "stderr"
        },
        {
          "output_type": "stream",
          "text": [
            "Extracting ./data/MNIST/raw/train-images-idx3-ubyte.gz\n"
          ],
          "name": "stdout"
        },
        {
          "output_type": "stream",
          "text": [
            "  0%|          | 0/28881 [00:00<?, ?it/s]"
          ],
          "name": "stderr"
        },
        {
          "output_type": "stream",
          "text": [
            "Downloading http://yann.lecun.com/exdb/mnist/train-labels-idx1-ubyte.gz to ./data/MNIST/raw/train-labels-idx1-ubyte.gz\n"
          ],
          "name": "stdout"
        },
        {
          "output_type": "stream",
          "text": [
            "32768it [00:00, 142404.01it/s]           \n",
            "  0%|          | 0/1648877 [00:00<?, ?it/s]"
          ],
          "name": "stderr"
        },
        {
          "output_type": "stream",
          "text": [
            "Extracting ./data/MNIST/raw/train-labels-idx1-ubyte.gz\n",
            "Downloading http://yann.lecun.com/exdb/mnist/t10k-images-idx3-ubyte.gz to ./data/MNIST/raw/t10k-images-idx3-ubyte.gz\n"
          ],
          "name": "stdout"
        },
        {
          "output_type": "stream",
          "text": [
            "1654784it [00:00, 2136541.80it/s]                           \n",
            "0it [00:00, ?it/s]"
          ],
          "name": "stderr"
        },
        {
          "output_type": "stream",
          "text": [
            "Extracting ./data/MNIST/raw/t10k-images-idx3-ubyte.gz\n",
            "Downloading http://yann.lecun.com/exdb/mnist/t10k-labels-idx1-ubyte.gz to ./data/MNIST/raw/t10k-labels-idx1-ubyte.gz\n"
          ],
          "name": "stdout"
        },
        {
          "output_type": "stream",
          "text": [
            "8192it [00:00, 52092.97it/s]            "
          ],
          "name": "stderr"
        },
        {
          "output_type": "stream",
          "text": [
            "Extracting ./data/MNIST/raw/t10k-labels-idx1-ubyte.gz\n",
            "Processing...\n",
            "Done!\n"
          ],
          "name": "stdout"
        },
        {
          "output_type": "stream",
          "text": [
            "\n"
          ],
          "name": "stderr"
        }
      ]
    },
    {
      "cell_type": "code",
      "metadata": {
        "id": "JmbhxujyZTCo",
        "colab_type": "code",
        "colab": {
          "base_uri": "https://localhost:8080/",
          "height": 85
        },
        "outputId": "e58d8e4f-1ff6-4a71-e5da-cc80b5316706"
      },
      "source": [
        "train_data = mnist_trainset.train_data\n",
        "train_targets = mnist_trainset.train_labels"
      ],
      "execution_count": 40,
      "outputs": [
        {
          "output_type": "stream",
          "text": [
            "/usr/local/lib/python3.6/dist-packages/torchvision/datasets/mnist.py:53: UserWarning: train_data has been renamed data\n",
            "  warnings.warn(\"train_data has been renamed data\")\n",
            "/usr/local/lib/python3.6/dist-packages/torchvision/datasets/mnist.py:43: UserWarning: train_labels has been renamed targets\n",
            "  warnings.warn(\"train_labels has been renamed targets\")\n"
          ],
          "name": "stderr"
        }
      ]
    },
    {
      "cell_type": "code",
      "metadata": {
        "id": "ATbZ5_CdZayv",
        "colab_type": "code",
        "colab": {
          "base_uri": "https://localhost:8080/",
          "height": 85
        },
        "outputId": "b7417e27-4e66-4e64-a18d-85dec199c1ee"
      },
      "source": [
        "test_data = mnist_trainset.test_data\n",
        "test_targets = mnist_trainset.test_labels"
      ],
      "execution_count": 41,
      "outputs": [
        {
          "output_type": "stream",
          "text": [
            "/usr/local/lib/python3.6/dist-packages/torchvision/datasets/mnist.py:58: UserWarning: test_data has been renamed data\n",
            "  warnings.warn(\"test_data has been renamed data\")\n",
            "/usr/local/lib/python3.6/dist-packages/torchvision/datasets/mnist.py:48: UserWarning: test_labels has been renamed targets\n",
            "  warnings.warn(\"test_labels has been renamed targets\")\n"
          ],
          "name": "stderr"
        }
      ]
    },
    {
      "cell_type": "code",
      "metadata": {
        "id": "n_y3Z2ZfZgAQ",
        "colab_type": "code",
        "colab": {}
      },
      "source": [
        ""
      ],
      "execution_count": 0,
      "outputs": []
    }
  ]
}