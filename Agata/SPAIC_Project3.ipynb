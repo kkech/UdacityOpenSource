{
  "nbformat": 4,
  "nbformat_minor": 0,
  "metadata": {
    "colab": {
      "name": "SPAIC_Project3.ipynb",
      "version": "0.3.2",
      "provenance": [],
      "include_colab_link": true
    },
    "kernelspec": {
      "name": "python3",
      "display_name": "Python 3"
    }
  },
  "cells": [
    {
      "cell_type": "markdown",
      "metadata": {
        "id": "view-in-github",
        "colab_type": "text"
      },
      "source": [
        "<a href=\"https://colab.research.google.com/github/agatagruza/private-ai/blob/master/SPAIC_Project3.ipynb\" target=\"_parent\"><img src=\"https://colab.research.google.com/assets/colab-badge.svg\" alt=\"Open In Colab\"/></a>"
      ]
    },
    {
      "cell_type": "markdown",
      "metadata": {
        "id": "bb7uSyQG0r2n",
        "colab_type": "text"
      },
      "source": [
        "# Project 3: Evaluating the Privacy of a Function\n",
        "Write a  function that calculates the **\"sensitivity\"of the mean() function** we use in Project 2 (for the query when measuring the difference between each parallel db's query result and the query result for the entire database (max value)).\n",
        "\n",
        "##GLOSSARY:\n",
        "\n",
        "**L1 Sensitivity** (or in short sensitivity) is the maximum amount that the query changes when removing an individual from the database. "
      ]
    },
    {
      "cell_type": "code",
      "metadata": {
        "id": "dhe9_Pbc2Uak",
        "colab_type": "code",
        "colab": {}
      },
      "source": [
        "# importing torch\n",
        "import torch"
      ],
      "execution_count": 0,
      "outputs": []
    },
    {
      "cell_type": "code",
      "metadata": {
        "id": "hP0D4Noi3fpf",
        "colab_type": "code",
        "colab": {}
      },
      "source": [
        "def get_paraller_db(db, remove_index):\n",
        "  \n",
        "\n",
        "  return torch.cat((db[0:remove_index], \n",
        "                    db[remove_index+1:]))"
      ],
      "execution_count": 0,
      "outputs": []
    },
    {
      "cell_type": "code",
      "metadata": {
        "id": "wE3jo_DN3REH",
        "colab_type": "code",
        "outputId": "4ca6d801-6caa-4b56-f4d0-c329068809be",
        "colab": {
          "base_uri": "https://localhost:8080/",
          "height": 34
        }
      },
      "source": [
        "# the number of entries in database\n",
        "num_entries = 5000\n",
        "\n",
        "# will cretae a random tensor with 0's and 1's \n",
        "db = torch.rand(num_entries) > 0.5\n",
        "db"
      ],
      "execution_count": 58,
      "outputs": [
        {
          "output_type": "execute_result",
          "data": {
            "text/plain": [
              "tensor([1, 0, 0,  ..., 0, 1, 1], dtype=torch.uint8)"
            ]
          },
          "metadata": {
            "tags": []
          },
          "execution_count": 58
        }
      ]
    },
    {
      "cell_type": "code",
      "metadata": {
        "id": "gdvo3VWF3WXD",
        "colab_type": "code",
        "colab": {}
      },
      "source": [
        "remove_index = 2"
      ],
      "execution_count": 0,
      "outputs": []
    },
    {
      "cell_type": "code",
      "metadata": {
        "id": "l4kC0ITI3icX",
        "colab_type": "code",
        "outputId": "0b7471dd-b10c-41eb-ac73-da3520047d33",
        "colab": {
          "base_uri": "https://localhost:8080/",
          "height": 34
        }
      },
      "source": [
        "get_paraller_db(db,50).shape"
      ],
      "execution_count": 59,
      "outputs": [
        {
          "output_type": "execute_result",
          "data": {
            "text/plain": [
              "torch.Size([4999])"
            ]
          },
          "metadata": {
            "tags": []
          },
          "execution_count": 59
        }
      ]
    },
    {
      "cell_type": "code",
      "metadata": {
        "id": "XV3t9hSF3otI",
        "colab_type": "code",
        "colab": {}
      },
      "source": [
        "def get_parallel_dbs(db):\n",
        "  \n",
        "  parallel_dbs = list()\n",
        "\n",
        "  for i in range(len(db)):\n",
        "     pdb = get_paraller_db(db, i)\n",
        "     parallel_dbs.append(pdb)\n",
        "    \n",
        "  return parallel_dbs"
      ],
      "execution_count": 0,
      "outputs": []
    },
    {
      "cell_type": "code",
      "metadata": {
        "id": "3P2n2yuF3ruI",
        "colab_type": "code",
        "colab": {}
      },
      "source": [
        "pdbs = get_parallel_dbs(db)"
      ],
      "execution_count": 0,
      "outputs": []
    },
    {
      "cell_type": "code",
      "metadata": {
        "id": "ydF_lFKs3vTq",
        "colab_type": "code",
        "colab": {}
      },
      "source": [
        "def create_db_and_parallels(um_entries):\n",
        "  \n",
        "  db = torch.rand(num_entries) > 0.5\n",
        "  pdbs = get_parallel_dbs(db)\n",
        "  \n",
        "  return db, pdbs"
      ],
      "execution_count": 0,
      "outputs": []
    },
    {
      "cell_type": "code",
      "metadata": {
        "id": "7jpqTKx14TnF",
        "colab_type": "code",
        "colab": {}
      },
      "source": [
        "def sensitivity(query, n_entires=1000):\n",
        "\n",
        "  db, pdbs = create_db_and_parallels(20)\n",
        "  \n",
        "  full_db_result = query(db)\n",
        "  \n",
        "  max_distance = 0\n",
        "  for pdb in pdbs:\n",
        "    pdb_result = query(pdb)\n",
        "  \n",
        "    db_distance = torch.abs(pdb_result - full_db_result)\n",
        "  \n",
        "    if(db_distance > max_distance):\n",
        "      max_distance = db_distance\n",
        "  return max_distance"
      ],
      "execution_count": 0,
      "outputs": []
    },
    {
      "cell_type": "code",
      "metadata": {
        "id": "zZVSZrn44iv8",
        "colab_type": "code",
        "colab": {}
      },
      "source": [
        "def query (db):\n",
        "   return db.sum()\n",
        "   #return db.float().mean() # mean = sum/number of entries"
      ],
      "execution_count": 0,
      "outputs": []
    },
    {
      "cell_type": "code",
      "metadata": {
        "id": "Hj9_xcpAQQxw",
        "colab_type": "code",
        "colab": {
          "base_uri": "https://localhost:8080/",
          "height": 34
        },
        "outputId": "546e11d0-ab42-4b04-f56a-fed16dd831ff"
      },
      "source": [
        "sensitivity(query)"
      ],
      "execution_count": 24,
      "outputs": [
        {
          "output_type": "execute_result",
          "data": {
            "text/plain": [
              "tensor(1)"
            ]
          },
          "metadata": {
            "tags": []
          },
          "execution_count": 24
        }
      ]
    },
    {
      "cell_type": "markdown",
      "metadata": {
        "id": "Q9wP1U3zR8-E",
        "colab_type": "text"
      },
      "source": [
        "# Task: \n",
        "- Create the quesry() function\n",
        "- Create 10 dtaabases of size 10\n",
        "- Query each database with a threashols of 5 (calculate sensitivity)\n",
        "- Print out the sensitivity of each database"
      ]
    },
    {
      "cell_type": "code",
      "metadata": {
        "id": "Rp6IzAHQSVor",
        "colab_type": "code",
        "colab": {}
      },
      "source": [
        "def query_treshold(db, treshold=5):\n",
        "  return (db.sum() > treshold).float()"
      ],
      "execution_count": 0,
      "outputs": []
    },
    {
      "cell_type": "code",
      "metadata": {
        "id": "7C7Ky0CRUaGE",
        "colab_type": "code",
        "colab": {
          "base_uri": "https://localhost:8080/",
          "height": 187
        },
        "outputId": "9e7e6d25-aa21-4867-cd37-41cb2734b43f"
      },
      "source": [
        "for i in range(10):\n",
        "  sens_f = sensitivity(query_treshold, n_entires=10)\n",
        "  print(sens_f)"
      ],
      "execution_count": 55,
      "outputs": [
        {
          "output_type": "stream",
          "text": [
            "0\n",
            "0\n",
            "0\n",
            "0\n",
            "0\n",
            "0\n",
            "0\n",
            "0\n",
            "0\n",
            "0\n"
          ],
          "name": "stdout"
        }
      ]
    },
    {
      "cell_type": "markdown",
      "metadata": {
        "id": "f7u4JaLzXC8K",
        "colab_type": "text"
      },
      "source": [
        "# Task: Performan a Differencing Attack on Row 10\n",
        "Construct a database and then demonstrate how how by using two different queries expose the value of teh person represented by row 10 in teh database (note, a database with at least 10 rows is needed)"
      ]
    },
    {
      "cell_type": "code",
      "metadata": {
        "id": "YDNYWq5wYJzc",
        "colab_type": "code",
        "colab": {}
      },
      "source": [
        "# Initilization of db with 10 entries\n",
        "db, pdbs = create_db_and_parallels(30)"
      ],
      "execution_count": 0,
      "outputs": []
    },
    {
      "cell_type": "code",
      "metadata": {
        "id": "K6fwiZDGYRUT",
        "colab_type": "code",
        "colab": {
          "base_uri": "https://localhost:8080/",
          "height": 34
        },
        "outputId": "22e5fcf7-8ff4-4db9-845a-1d39facfdc41"
      },
      "source": [
        "sum(db)"
      ],
      "execution_count": 74,
      "outputs": [
        {
          "output_type": "execute_result",
          "data": {
            "text/plain": [
              "tensor(178, dtype=torch.uint8)"
            ]
          },
          "metadata": {
            "tags": []
          },
          "execution_count": 74
        }
      ]
    },
    {
      "cell_type": "code",
      "metadata": {
        "id": "z41yaJ9OY25X",
        "colab_type": "code",
        "colab": {
          "base_uri": "https://localhost:8080/",
          "height": 34
        },
        "outputId": "e5aac116-0137-4683-fa8c-6a7f4781e6b7"
      },
      "source": [
        "pdbs[10]"
      ],
      "execution_count": 70,
      "outputs": [
        {
          "output_type": "execute_result",
          "data": {
            "text/plain": [
              "tensor([0, 0, 1,  ..., 0, 1, 0], dtype=torch.uint8)"
            ]
          },
          "metadata": {
            "tags": []
          },
          "execution_count": 70
        }
      ]
    },
    {
      "cell_type": "code",
      "metadata": {
        "id": "4yV6SkBNY4uK",
        "colab_type": "code",
        "colab": {
          "base_uri": "https://localhost:8080/",
          "height": 34
        },
        "outputId": "de3266e4-d943-4e0a-be97-cefec783daaa"
      },
      "source": [
        "# differencing attack using sum query\n",
        "sum(db) - sum(pdb)"
      ],
      "execution_count": 71,
      "outputs": [
        {
          "output_type": "execute_result",
          "data": {
            "text/plain": [
              "tensor(224, dtype=torch.uint8)"
            ]
          },
          "metadata": {
            "tags": []
          },
          "execution_count": 71
        }
      ]
    },
    {
      "cell_type": "code",
      "metadata": {
        "id": "I1mS_OstZHQy",
        "colab_type": "code",
        "colab": {
          "base_uri": "https://localhost:8080/",
          "height": 34
        },
        "outputId": "8ef804bb-3c19-484f-a70f-e8a37eb9254e"
      },
      "source": [
        "# differencing attack using mean query\n",
        "(sum(db).float() / len(db)) - (sum(pdb).float() / len(pdb))"
      ],
      "execution_count": 73,
      "outputs": [
        {
          "output_type": "execute_result",
          "data": {
            "text/plain": [
              "tensor(-0.0064)"
            ]
          },
          "metadata": {
            "tags": []
          },
          "execution_count": 73
        }
      ]
    },
    {
      "cell_type": "code",
      "metadata": {
        "id": "xa5WO2bqZq4D",
        "colab_type": "code",
        "colab": {
          "base_uri": "https://localhost:8080/",
          "height": 34
        },
        "outputId": "79efc56e-87f7-4212-a090-06f36e475e60"
      },
      "source": [
        "# differencig atack using treshold\n",
        "(sum(db).float() > 177) - (sum(pdb).float() > 177)"
      ],
      "execution_count": 75,
      "outputs": [
        {
          "output_type": "execute_result",
          "data": {
            "text/plain": [
              "tensor(0, dtype=torch.uint8)"
            ]
          },
          "metadata": {
            "tags": []
          },
          "execution_count": 75
        }
      ]
    },
    {
      "cell_type": "code",
      "metadata": {
        "id": "kEbl75XoaYhS",
        "colab_type": "code",
        "colab": {}
      },
      "source": [
        ""
      ],
      "execution_count": 0,
      "outputs": []
    }
  ]
}