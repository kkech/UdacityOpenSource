{
  "nbformat": 4,
  "nbformat_minor": 0,
  "metadata": {
    "colab": {
      "name": "SPAIC_Project11.ipynb",
      "version": "0.3.2",
      "provenance": [],
      "collapsed_sections": [],
      "include_colab_link": true
    },
    "kernelspec": {
      "name": "python3",
      "display_name": "Python 3"
    },
    "accelerator": "GPU"
  },
  "cells": [
    {
      "cell_type": "markdown",
      "metadata": {
        "id": "view-in-github",
        "colab_type": "text"
      },
      "source": [
        "<a href=\"https://colab.research.google.com/github/agatagruza/private-ai/blob/master/SPAIC_Project11.ipynb\" target=\"_parent\"><img src=\"https://colab.research.google.com/assets/colab-badge.svg\" alt=\"Open In Colab\"/></a>"
      ]
    },
    {
      "cell_type": "markdown",
      "metadata": {
        "id": "JEPlC2pMc9Nr",
        "colab_type": "text"
      },
      "source": [
        "#Project 11: Toy Federated Learning\n",
        "Train a toy model the centralized way. To do that, you need:\n",
        "*   a toy dataset\n",
        "*   a model\n",
        "*   some basic training logic for training a model to fit the data"
      ]
    },
    {
      "cell_type": "code",
      "metadata": {
        "id": "cvr611orc4xS",
        "colab_type": "code",
        "colab": {}
      },
      "source": [
        "pip install syft"
      ],
      "execution_count": 0,
      "outputs": []
    },
    {
      "cell_type": "code",
      "metadata": {
        "id": "SwjWiy1CpGvz",
        "colab_type": "code",
        "colab": {
          "base_uri": "https://localhost:8080/",
          "height": 105
        },
        "outputId": "22ffab99-4825-4b28-a01e-50a1a573cadf"
      },
      "source": [
        "import torch as th\n",
        "import numpy as np\n",
        "import syft as sy\n",
        "from torch import nn, optim #optim=optimizer"
      ],
      "execution_count": 2,
      "outputs": [
        {
          "output_type": "stream",
          "text": [
            "WARNING: Logging before flag parsing goes to stderr.\n",
            "W0725 03:45:41.055709 140434793203584 secure_random.py:26] Falling back to insecure randomness since the required custom op could not be found for the installed version of TensorFlow. Fix this by compiling custom ops. Missing file was '/usr/local/lib/python3.6/dist-packages/tf_encrypted/operations/secure_random/secure_random_module_tf_1.14.0.so'\n",
            "W0725 03:45:41.079141 140434793203584 deprecation_wrapper.py:119] From /usr/local/lib/python3.6/dist-packages/tf_encrypted/session.py:26: The name tf.Session is deprecated. Please use tf.compat.v1.Session instead.\n",
            "\n"
          ],
          "name": "stderr"
        }
      ]
    },
    {
      "cell_type": "code",
      "metadata": {
        "id": "O8dHuyAEpGy6",
        "colab_type": "code",
        "colab": {}
      },
      "source": [
        "hook = sy.TorchHook(th)"
      ],
      "execution_count": 0,
      "outputs": []
    },
    {
      "cell_type": "code",
      "metadata": {
        "id": "oII5BDFFpG4F",
        "colab_type": "code",
        "colab": {}
      },
      "source": [
        "# Our Toy Dataset. Two inputs and one output\n",
        "# All data are with us, on CENTRALIZE SERVER in the cloud\n",
        "# We have access to this data internally\n",
        "data = th.tensor([[1.,1],[0,1],[1,0],[0,0]], requires_grad=True)\n",
        "target = th.tensor([[1.],[1], [0], [0]], requires_grad=True)"
      ],
      "execution_count": 0,
      "outputs": []
    },
    {
      "cell_type": "code",
      "metadata": {
        "id": "U90w7ca6pG6j",
        "colab_type": "code",
        "outputId": "1f7eb4a0-8787-40c7-b9a1-cc89e312edc8",
        "colab": {
          "base_uri": "https://localhost:8080/",
          "height": 51
        }
      },
      "source": [
        "print(data.dtype)\n",
        "print(target.dtype)"
      ],
      "execution_count": 12,
      "outputs": [
        {
          "output_type": "stream",
          "text": [
            "torch.float32\n",
            "torch.float32\n"
          ],
          "name": "stdout"
        }
      ]
    },
    {
      "cell_type": "code",
      "metadata": {
        "id": "d1FBRKCvpG99",
        "colab_type": "code",
        "colab": {}
      },
      "source": [
        "# Our Toy Model (linear model)\n",
        "model = nn.Linear(2, 1)"
      ],
      "execution_count": 0,
      "outputs": []
    },
    {
      "cell_type": "code",
      "metadata": {
        "id": "oHmK1SzupG_s",
        "colab_type": "code",
        "colab": {}
      },
      "source": [
        "# Our optimizer\n",
        "# SGD = Stochastic Gradient Descent\n",
        "optimizer = optim.SGD(params=model.parameters(), lr=0.1)"
      ],
      "execution_count": 0,
      "outputs": []
    },
    {
      "cell_type": "code",
      "metadata": {
        "id": "CyAW3G_5pHCs",
        "colab_type": "code",
        "colab": {}
      },
      "source": [
        "#train function is a linear model that can learn on some toy data\n",
        "def train(epochs):\n",
        "  mean_loss = []\n",
        "  for i in range(epochs): \n",
        "    optimizer.zero_grad()   \n",
        "    pred = model(data)   \n",
        "    #loss function = mean square error loss\n",
        "    loss = ((pred - target)**2).sum()  \n",
        "    loss.backward() # propagation \n",
        "    optimizer.step()  \n",
        "    print(loss.data)  \n",
        "    mean_loss.append(loss.data)\n",
        "  print(f\"Average loss : {sum(mean_loss)/len(mean_loss)}\")"
      ],
      "execution_count": 0,
      "outputs": []
    },
    {
      "cell_type": "code",
      "metadata": {
        "id": "yGg4A3_cpHEu",
        "colab_type": "code",
        "outputId": "f3f8becc-29ec-4fa8-eddd-eae04b6f6238",
        "colab": {
          "base_uri": "https://localhost:8080/",
          "height": 374
        }
      },
      "source": [
        "train(20)"
      ],
      "execution_count": 16,
      "outputs": [
        {
          "output_type": "stream",
          "text": [
            "tensor(1.3647)\n",
            "tensor(0.4921)\n",
            "tensor(0.3347)\n",
            "tensor(0.2528)\n",
            "tensor(0.1931)\n",
            "tensor(0.1476)\n",
            "tensor(0.1129)\n",
            "tensor(0.0863)\n",
            "tensor(0.0660)\n",
            "tensor(0.0505)\n",
            "tensor(0.0386)\n",
            "tensor(0.0295)\n",
            "tensor(0.0226)\n",
            "tensor(0.0173)\n",
            "tensor(0.0132)\n",
            "tensor(0.0101)\n",
            "tensor(0.0077)\n",
            "tensor(0.0059)\n",
            "tensor(0.0045)\n",
            "tensor(0.0035)\n",
            "Average loss : 0.16267895698547363\n"
          ],
          "name": "stdout"
        }
      ]
    },
    {
      "cell_type": "markdown",
      "metadata": {
        "id": "zFeVe0aVPjo3",
        "colab_type": "text"
      },
      "source": [
        "##How do we make our model a Federated Model?\n",
        "**VirtualWorker is a  Python object. </br>\n",
        "Here Linear model has two tensors: a weights and a bias.**"
      ]
    },
    {
      "cell_type": "code",
      "metadata": {
        "id": "Z_X4z1D3pHHH",
        "colab_type": "code",
        "colab": {}
      },
      "source": [
        "# We wan to move our data to individual machines somewhere else that \n",
        "# is owned by other people. We can try to traina model that is doing \n",
        "# trainin on those remote machines.  \n",
        "data = th.tensor([[1.,1],[0,1],[1,0],[0,0]], requires_grad=True)\n",
        "target = th.tensor([[1.],[1], [0], [0]], requires_grad=True)"
      ],
      "execution_count": 0,
      "outputs": []
    },
    {
      "cell_type": "code",
      "metadata": {
        "id": "SJFnuorKpHJf",
        "colab_type": "code",
        "colab": {}
      },
      "source": [
        "bob = sy.VirtualWorker(hook, id = \"bob\")\n",
        "alice = sy.VirtualWorker(hook, id = \"alice\")\n",
        "\n",
        "# Distributing data remotely. First set of data are sent to bob,\n",
        "# Second set of data is sent to alice. \n",
        "data_bob = data[0:2].send(bob) # 1st two rows of data are sent to bob\n",
        "target_bob = target[0:2].send(bob)\n",
        "data_alice = data[2:4].send(alice)\n",
        "target_alice = target[2:4].send(alice)\n",
        "datasets = [(data_bob, target_bob), (data_alice, target_alice)] #tuples"
      ],
      "execution_count": 0,
      "outputs": []
    },
    {
      "cell_type": "code",
      "metadata": {
        "id": "oVrI0X35ThMY",
        "colab_type": "code",
        "colab": {}
      },
      "source": [
        "list(model.parameters)"
      ],
      "execution_count": 0,
      "outputs": []
    },
    {
      "cell_type": "code",
      "metadata": {
        "id": "2Lx9PNI3SXQj",
        "colab_type": "code",
        "colab": {
          "base_uri": "https://localhost:8080/",
          "height": 34
        },
        "outputId": "294e6428-7859-4899-985d-15f6672d5127"
      },
      "source": [
        "_data.location # each pounter has a reference to the virtual worker\n",
        "# that exsists on other machine"
      ],
      "execution_count": 25,
      "outputs": [
        {
          "output_type": "execute_result",
          "data": {
            "text/plain": [
              "<VirtualWorker id:bob #objects:2>"
            ]
          },
          "metadata": {
            "tags": []
          },
          "execution_count": 25
        }
      ]
    },
    {
      "cell_type": "code",
      "metadata": {
        "id": "Sml_q9ZTpHL4",
        "colab_type": "code",
        "colab": {}
      },
      "source": [
        "def train_model(epochs=20):\n",
        "  model = nn.Linear(2,1)\n",
        "  optimizer = optim.SGD(params=model.parameters(), lr=0.1)\n",
        "  \n",
        "  for e in range(epochs):\n",
        "    for inputs, labels in datasets:\n",
        "      \n",
        "      model = model.send(inputs.location) # <-- FEDERATED PART\n",
        "      # sending model to the location where \n",
        "      #tensors are located. This line iterates through every tensor inside this model.\n",
        "      \n",
        "      # do regular training\n",
        "      optimizer.zero_grad()\n",
        "      pred = model(inputs)    \n",
        "      loss = ((pred - labels)**2).sum()  \n",
        "      loss.backward()   \n",
        "      optimizer.step()  \n",
        "      \n",
        "      model =  model.get() # Bringing model back to us\n",
        "      \n",
        "      print(loss.get())"
      ],
      "execution_count": 0,
      "outputs": []
    },
    {
      "cell_type": "code",
      "metadata": {
        "id": "L1zV6cndVDlh",
        "colab_type": "code",
        "colab": {
          "base_uri": "https://localhost:8080/",
          "height": 697
        },
        "outputId": "3f4e65c2-fdd7-4192-db5c-d76363ce9ad9"
      },
      "source": [
        "train_model()"
      ],
      "execution_count": 31,
      "outputs": [
        {
          "output_type": "stream",
          "text": [
            "tensor(1.3982, requires_grad=True)\n",
            "tensor(0.8651, requires_grad=True)\n",
            "tensor(0.4284, requires_grad=True)\n",
            "tensor(0.5273, requires_grad=True)\n",
            "tensor(0.2354, requires_grad=True)\n",
            "tensor(0.3073, requires_grad=True)\n",
            "tensor(0.1356, requires_grad=True)\n",
            "tensor(0.1786, requires_grad=True)\n",
            "tensor(0.0784, requires_grad=True)\n",
            "tensor(0.1038, requires_grad=True)\n",
            "tensor(0.0453, requires_grad=True)\n",
            "tensor(0.0604, requires_grad=True)\n",
            "tensor(0.0262, requires_grad=True)\n",
            "tensor(0.0352, requires_grad=True)\n",
            "tensor(0.0151, requires_grad=True)\n",
            "tensor(0.0205, requires_grad=True)\n",
            "tensor(0.0088, requires_grad=True)\n",
            "tensor(0.0120, requires_grad=True)\n",
            "tensor(0.0051, requires_grad=True)\n",
            "tensor(0.0070, requires_grad=True)\n",
            "tensor(0.0029, requires_grad=True)\n",
            "tensor(0.0041, requires_grad=True)\n",
            "tensor(0.0017, requires_grad=True)\n",
            "tensor(0.0024, requires_grad=True)\n",
            "tensor(0.0010, requires_grad=True)\n",
            "tensor(0.0014, requires_grad=True)\n",
            "tensor(0.0006, requires_grad=True)\n",
            "tensor(0.0008, requires_grad=True)\n",
            "tensor(0.0003, requires_grad=True)\n",
            "tensor(0.0005, requires_grad=True)\n",
            "tensor(0.0002, requires_grad=True)\n",
            "tensor(0.0003, requires_grad=True)\n",
            "tensor(0.0001, requires_grad=True)\n",
            "tensor(0.0002, requires_grad=True)\n",
            "tensor(6.4413e-05, requires_grad=True)\n",
            "tensor(0.0001, requires_grad=True)\n",
            "tensor(3.7632e-05, requires_grad=True)\n",
            "tensor(6.1149e-05, requires_grad=True)\n",
            "tensor(2.2079e-05, requires_grad=True)\n",
            "tensor(3.6866e-05, requires_grad=True)\n"
          ],
          "name": "stdout"
        }
      ]
    },
    {
      "cell_type": "markdown",
      "metadata": {
        "id": "KaTG47n_VgA6",
        "colab_type": "text"
      },
      "source": [
        "##How can you further alleviate and further preserve the privacy of the individuals who are involved?\n",
        "By revrese engineering we still are able to look at the diff between the model that we sent and the model that get back. \n",
        "Two ways to mitigate it:\n",
        "1.   Train more than one iteration as it become more dificult to reverse engineer what the gradients were. \n",
        "2.   Insteaed of bringing model directly back to us and then sending to alice, we instead train multiple different models in parallel on different workers,\n",
        "and on different people's datasets. Then average those models together (avg of multiple people models).  </br>\n",
        "**When we take sums of information across multiople different people, we begin to be able to create plausible deniability as to who actually modified each weight.**\n"
      ]
    },
    {
      "cell_type": "markdown",
      "metadata": {
        "id": "_FRm8ZdzX3KD",
        "colab_type": "text"
      },
      "source": [
        "##Advanced Remote Execution Tools\n",
        "In the last section we trained a toy model using Federated Learning. We did this by calling **.send()** and** .get()** on our model, sending it to the location of training data, updating it, and then bringing it back. However, at the end of the example we realized that we needed to go a bit further to protect people privacy. Namely, we want to average the gradients BEFORE calling .get(). That way, we won't ever see anyone's exact gradient (thus better protecting their privacy!!!)\n",
        "\n",
        "But, in order to do this, we need a few more pieces:\n",
        "*   use a pointer to send a Tensor directly to another worker</br>\n",
        "\n",
        "Your job is to figure out:\n",
        "1.   How to train a model on multple different worklers at the same time. \n",
        "2.   How can we properly perform the great aggregations."
      ]
    },
    {
      "cell_type": "code",
      "metadata": {
        "id": "zlhrZ_bIpHRR",
        "colab_type": "code",
        "colab": {
          "base_uri": "https://localhost:8080/",
          "height": 34
        },
        "outputId": "6169706e-9cae-450b-8af2-d19a0b364ee5"
      },
      "source": [
        "# Clearing objects (deleting all tensors from bob and alice that might be around from a previous exercise)\n",
        "bob.clear_objects()"
      ],
      "execution_count": 33,
      "outputs": [
        {
          "output_type": "execute_result",
          "data": {
            "text/plain": [
              "<VirtualWorker id:bob #objects:0>"
            ]
          },
          "metadata": {
            "tags": []
          },
          "execution_count": 33
        }
      ]
    },
    {
      "cell_type": "code",
      "metadata": {
        "id": "RpFdM8CZaC55",
        "colab_type": "code",
        "colab": {
          "base_uri": "https://localhost:8080/",
          "height": 34
        },
        "outputId": "94d6a9bd-5bd1-4116-d6cd-36ff89919a7e"
      },
      "source": [
        "alice.clear_objects()"
      ],
      "execution_count": 34,
      "outputs": [
        {
          "output_type": "execute_result",
          "data": {
            "text/plain": [
              "<VirtualWorker id:alice #objects:0>"
            ]
          },
          "metadata": {
            "tags": []
          },
          "execution_count": 34
        }
      ]
    },
    {
      "cell_type": "code",
      "metadata": {
        "id": "AXSj9vhgpHTQ",
        "colab_type": "code",
        "colab": {
          "base_uri": "https://localhost:8080/",
          "height": 34
        },
        "outputId": "e8666182-7fa3-41ae-f7ce-9bb03c1950b3"
      },
      "source": [
        "x =  th.tensor([1, 2, 3, 4, 5]).send(bob)\n",
        "x # We can see in next line that we have pointer to bob"
      ],
      "execution_count": 35,
      "outputs": [
        {
          "output_type": "execute_result",
          "data": {
            "text/plain": [
              "(Wrapper)>[PointerTensor | me:97528710837 -> bob:30637848633]"
            ]
          },
          "metadata": {
            "tags": []
          },
          "execution_count": 35
        }
      ]
    },
    {
      "cell_type": "code",
      "metadata": {
        "id": "uaEpTXYQpHWh",
        "colab_type": "code",
        "colab": {
          "base_uri": "https://localhost:8080/",
          "height": 34
        },
        "outputId": "1c2602a2-c0d2-4247-cf19-e5517c430fec"
      },
      "source": [
        "bob._objects"
      ],
      "execution_count": 36,
      "outputs": [
        {
          "output_type": "execute_result",
          "data": {
            "text/plain": [
              "{30637848633: tensor([1, 2, 3, 4, 5])}"
            ]
          },
          "metadata": {
            "tags": []
          },
          "execution_count": 36
        }
      ]
    },
    {
      "cell_type": "code",
      "metadata": {
        "id": "SA6gFCMHpHYu",
        "colab_type": "code",
        "colab": {
          "base_uri": "https://localhost:8080/",
          "height": 34
        },
        "outputId": "562813b5-62fe-4ea6-e65c-169f4bca74b4"
      },
      "source": [
        "x = x.send(alice) # sending pointer to alice and replace x with on our machine with a pointer tothat pointer. \n",
        "x"
      ],
      "execution_count": 37,
      "outputs": [
        {
          "output_type": "execute_result",
          "data": {
            "text/plain": [
              "(Wrapper)>[PointerTensor | me:96386067524 -> alice:97528710837]"
            ]
          },
          "metadata": {
            "tags": []
          },
          "execution_count": 37
        }
      ]
    },
    {
      "cell_type": "code",
      "metadata": {
        "id": "yJHlzkf4amzF",
        "colab_type": "code",
        "colab": {
          "base_uri": "https://localhost:8080/",
          "height": 34
        },
        "outputId": "9ac7ac1b-2654-4be3-c3fb-48f3930be376"
      },
      "source": [
        "bob._objects # data didn't move"
      ],
      "execution_count": 38,
      "outputs": [
        {
          "output_type": "execute_result",
          "data": {
            "text/plain": [
              "{30637848633: tensor([1, 2, 3, 4, 5])}"
            ]
          },
          "metadata": {
            "tags": []
          },
          "execution_count": 38
        }
      ]
    },
    {
      "cell_type": "code",
      "metadata": {
        "id": "S_VZ5JVmpHbQ",
        "colab_type": "code",
        "colab": {
          "base_uri": "https://localhost:8080/",
          "height": 34
        },
        "outputId": "30339374-df17-427b-c463-9cc874dbd25e"
      },
      "source": [
        "alice._objects # alice has a pointer form alice to bob"
      ],
      "execution_count": 39,
      "outputs": [
        {
          "output_type": "execute_result",
          "data": {
            "text/plain": [
              "{97528710837: (Wrapper)>[PointerTensor | alice:97528710837 -> bob:30637848633]}"
            ]
          },
          "metadata": {
            "tags": []
          },
          "execution_count": 39
        }
      ]
    },
    {
      "cell_type": "code",
      "metadata": {
        "id": "3XaYkt9Ya1u8",
        "colab_type": "code",
        "colab": {
          "base_uri": "https://localhost:8080/",
          "height": 34
        },
        "outputId": "5e35708d-eb18-46be-e165-426db77b3e6b"
      },
      "source": [
        "x # our pointer no longer points to bob. Instead it points to alice\n",
        "# message 1st will go to alice machine, will be processed there.\n",
        "# Will call alice pointer. Alice pointer will forward message to bob's machine.\n",
        "# And it will be executed on bob's machine"
      ],
      "execution_count": 40,
      "outputs": [
        {
          "output_type": "execute_result",
          "data": {
            "text/plain": [
              "(Wrapper)>[PointerTensor | me:96386067524 -> alice:97528710837]"
            ]
          },
          "metadata": {
            "tags": []
          },
          "execution_count": 40
        }
      ]
    },
    {
      "cell_type": "code",
      "metadata": {
        "id": "R10WW4FbpHdo",
        "colab_type": "code",
        "colab": {
          "base_uri": "https://localhost:8080/",
          "height": 34
        },
        "outputId": "05a2c300-d4d9-42e5-e398-fa0e86327adb"
      },
      "source": [
        "# x is owned by bob and alice. We as a central server cannot contact that tensor. \n",
        "# We cannot do anything with that tensor unless BOTH bob and alice aloow us to.\n",
        "y = x + x\n",
        "y"
      ],
      "execution_count": 41,
      "outputs": [
        {
          "output_type": "execute_result",
          "data": {
            "text/plain": [
              "(Wrapper)>[PointerTensor | me:24380254960 -> alice:57556849586]"
            ]
          },
          "metadata": {
            "tags": []
          },
          "execution_count": 41
        }
      ]
    },
    {
      "cell_type": "code",
      "metadata": {
        "id": "YZ-EgAHApHgx",
        "colab_type": "code",
        "colab": {}
      },
      "source": [
        "bob._objects"
      ],
      "execution_count": 0,
      "outputs": []
    },
    {
      "cell_type": "code",
      "metadata": {
        "id": "Y3oM5q0vpHjH",
        "colab_type": "code",
        "colab": {}
      },
      "source": [
        "alice._objects"
      ],
      "execution_count": 0,
      "outputs": []
    },
    {
      "cell_type": "code",
      "metadata": {
        "id": "dX8jJMUNpHn1",
        "colab_type": "code",
        "colab": {}
      },
      "source": [
        "jon = sy.VirtualWorker(hook, id=\"jon\")\n",
        "bob.clear_objects()\n",
        "alice.clear_objects()\n",
        "\n",
        "x = th.tensor([1,2,3,4,5]).send(bob).send(alice)"
      ],
      "execution_count": 0,
      "outputs": []
    },
    {
      "cell_type": "code",
      "metadata": {
        "id": "jXgDhrOOpHqZ",
        "colab_type": "code",
        "colab": {
          "base_uri": "https://localhost:8080/",
          "height": 51
        },
        "outputId": "8d8f9971-454c-44d4-d634-aeb030d21e04"
      },
      "source": [
        "bob._objects # 2 tensors on bob's machine"
      ],
      "execution_count": 42,
      "outputs": [
        {
          "output_type": "execute_result",
          "data": {
            "text/plain": [
              "{30637848633: tensor([1, 2, 3, 4, 5]),\n",
              " 66687343704: tensor([ 2,  4,  6,  8, 10])}"
            ]
          },
          "metadata": {
            "tags": []
          },
          "execution_count": 42
        }
      ]
    },
    {
      "cell_type": "code",
      "metadata": {
        "id": "fDpsoT3CpHsr",
        "colab_type": "code",
        "colab": {
          "base_uri": "https://localhost:8080/",
          "height": 51
        },
        "outputId": "e718c330-9095-43a6-82e9-47278af7f588"
      },
      "source": [
        "alice._objects # 2 TENSORS on alice's machine, but both of them are POINTERS"
      ],
      "execution_count": 43,
      "outputs": [
        {
          "output_type": "execute_result",
          "data": {
            "text/plain": [
              "{57556849586: (Wrapper)>[PointerTensor | alice:57556849586 -> bob:66687343704],\n",
              " 97528710837: (Wrapper)>[PointerTensor | alice:97528710837 -> bob:30637848633]}"
            ]
          },
          "metadata": {
            "tags": []
          },
          "execution_count": 43
        }
      ]
    },
    {
      "cell_type": "markdown",
      "metadata": {
        "id": "oR4-So2AdoJu",
        "colab_type": "text"
      },
      "source": [
        "**The new pointer (tensor) that was created has the same pointer chain, same dependency chain, same ownership chain as the original tensor that was used to create it.**"
      ]
    },
    {
      "cell_type": "code",
      "metadata": {
        "id": "k3OcjuTtfH7e",
        "colab_type": "code",
        "colab": {}
      },
      "source": [
        "jon = sy.VirtualWorker(hook, id=\"jon\")"
      ],
      "execution_count": 0,
      "outputs": []
    },
    {
      "cell_type": "code",
      "metadata": {
        "id": "HOBrwLbRqTrY",
        "colab_type": "code",
        "colab": {}
      },
      "source": [
        "bob.clear_objects()\n",
        "alice.clear_objects()\n",
        "\n",
        "x = th.tensor([1,2,3,4,5]).send(bob).send(alice)"
      ],
      "execution_count": 0,
      "outputs": []
    },
    {
      "cell_type": "code",
      "metadata": {
        "id": "LuwkeTIwqTiI",
        "colab_type": "code",
        "colab": {
          "base_uri": "https://localhost:8080/",
          "height": 34
        },
        "outputId": "5bbee74f-b7c7-4506-de12-b07f5226ff28"
      },
      "source": [
        "bob._objects"
      ],
      "execution_count": 50,
      "outputs": [
        {
          "output_type": "execute_result",
          "data": {
            "text/plain": [
              "{89150023507: tensor([1, 2, 3, 4, 5])}"
            ]
          },
          "metadata": {
            "tags": []
          },
          "execution_count": 50
        }
      ]
    },
    {
      "cell_type": "code",
      "metadata": {
        "id": "fzFzB5q8pG1i",
        "colab_type": "code",
        "colab": {
          "base_uri": "https://localhost:8080/",
          "height": 34
        },
        "outputId": "57da1069-4388-4cc1-cb65-894b698ee773"
      },
      "source": [
        "y"
      ],
      "execution_count": 51,
      "outputs": [
        {
          "output_type": "execute_result",
          "data": {
            "text/plain": [
              "(Wrapper)>[PointerTensor | me:77489359810 -> jon:41337769945]"
            ]
          },
          "metadata": {
            "tags": []
          },
          "execution_count": 51
        }
      ]
    },
    {
      "cell_type": "code",
      "metadata": {
        "id": "Apqgq7cpqTkh",
        "colab_type": "code",
        "colab": {
          "base_uri": "https://localhost:8080/",
          "height": 34
        },
        "outputId": "5b5ab2aa-0568-420a-8773-a6d6e7ca7094"
      },
      "source": [
        "jon._objects"
      ],
      "execution_count": 52,
      "outputs": [
        {
          "output_type": "execute_result",
          "data": {
            "text/plain": [
              "{41337769945: (Wrapper)>[PointerTensor | jon:41337769945 -> bob:30928689799]}"
            ]
          },
          "metadata": {
            "tags": []
          },
          "execution_count": 52
        }
      ]
    },
    {
      "cell_type": "code",
      "metadata": {
        "id": "EH4nEg_IqTw9",
        "colab_type": "code",
        "colab": {
          "base_uri": "https://localhost:8080/",
          "height": 34
        },
        "outputId": "8415f8be-6fd0-42a4-dd9c-e3c41bae6079"
      },
      "source": [
        "alice._objects"
      ],
      "execution_count": 53,
      "outputs": [
        {
          "output_type": "execute_result",
          "data": {
            "text/plain": [
              "{65423884866: (Wrapper)>[PointerTensor | alice:65423884866 -> bob:89150023507]}"
            ]
          },
          "metadata": {
            "tags": []
          },
          "execution_count": 53
        }
      ]
    },
    {
      "cell_type": "code",
      "metadata": {
        "id": "RQKOGLlcqTp1",
        "colab_type": "code",
        "colab": {
          "base_uri": "https://localhost:8080/",
          "height": 34
        },
        "outputId": "be4d7102-4c9e-4f43-e805-43f640be8153"
      },
      "source": [
        "x = x.get()\n",
        "x"
      ],
      "execution_count": 54,
      "outputs": [
        {
          "output_type": "execute_result",
          "data": {
            "text/plain": [
              "(Wrapper)>[PointerTensor | me:65423884866 -> bob:89150023507]"
            ]
          },
          "metadata": {
            "tags": []
          },
          "execution_count": 54
        }
      ]
    },
    {
      "cell_type": "code",
      "metadata": {
        "id": "2Lhu9QCbqn5L",
        "colab_type": "code",
        "colab": {}
      },
      "source": [
        "alice._objects"
      ],
      "execution_count": 0,
      "outputs": []
    },
    {
      "cell_type": "code",
      "metadata": {
        "id": "rsQm5JzAqn7z",
        "colab_type": "code",
        "colab": {
          "base_uri": "https://localhost:8080/",
          "height": 34
        },
        "outputId": "3f2e8673-236f-4f1e-b068-c8dafb90c9d5"
      },
      "source": [
        "bob._objects"
      ],
      "execution_count": 55,
      "outputs": [
        {
          "output_type": "execute_result",
          "data": {
            "text/plain": [
              "{89150023507: tensor([1, 2, 3, 4, 5])}"
            ]
          },
          "metadata": {
            "tags": []
          },
          "execution_count": 55
        }
      ]
    },
    {
      "cell_type": "code",
      "metadata": {
        "id": "tyncIzrJq6I2",
        "colab_type": "code",
        "colab": {
          "base_uri": "https://localhost:8080/",
          "height": 34
        },
        "outputId": "a116185b-74ce-421a-e9ec-c20afd29f9e3"
      },
      "source": [
        "alice._objects"
      ],
      "execution_count": 56,
      "outputs": [
        {
          "output_type": "execute_result",
          "data": {
            "text/plain": [
              "{}"
            ]
          },
          "metadata": {
            "tags": []
          },
          "execution_count": 56
        }
      ]
    },
    {
      "cell_type": "code",
      "metadata": {
        "id": "QMFescmVgVnj",
        "colab_type": "code",
        "colab": {
          "base_uri": "https://localhost:8080/",
          "height": 34
        },
        "outputId": "18fcb675-6d70-4036-e397-6d95dffa1412"
      },
      "source": [
        "x = x.get()\n",
        "x"
      ],
      "execution_count": 57,
      "outputs": [
        {
          "output_type": "execute_result",
          "data": {
            "text/plain": [
              "tensor([1, 2, 3, 4, 5])"
            ]
          },
          "metadata": {
            "tags": []
          },
          "execution_count": 57
        }
      ]
    },
    {
      "cell_type": "code",
      "metadata": {
        "id": "U_6atVPLgY-m",
        "colab_type": "code",
        "colab": {
          "base_uri": "https://localhost:8080/",
          "height": 34
        },
        "outputId": "79a9882a-9a46-4575-a574-9f6cb21fcecc"
      },
      "source": [
        "bob._objects"
      ],
      "execution_count": 58,
      "outputs": [
        {
          "output_type": "execute_result",
          "data": {
            "text/plain": [
              "{}"
            ]
          },
          "metadata": {
            "tags": []
          },
          "execution_count": 58
        }
      ]
    },
    {
      "cell_type": "markdown",
      "metadata": {
        "id": "mhzIHd64hP4K",
        "colab_type": "text"
      },
      "source": [
        "##Pointer Chain Operations"
      ]
    },
    {
      "cell_type": "code",
      "metadata": {
        "id": "0KRZjfJKq6Lj",
        "colab_type": "code",
        "colab": {
          "base_uri": "https://localhost:8080/",
          "height": 34
        },
        "outputId": "e75e4df0-f06b-4b52-ea22-4b7e12a97153"
      },
      "source": [
        "bob.clear_objects()\n",
        "alice.clear_objects()"
      ],
      "execution_count": 75,
      "outputs": [
        {
          "output_type": "execute_result",
          "data": {
            "text/plain": [
              "<VirtualWorker id:alice #objects:0>"
            ]
          },
          "metadata": {
            "tags": []
          },
          "execution_count": 75
        }
      ]
    },
    {
      "cell_type": "code",
      "metadata": {
        "id": "ofjCU-RBhhm7",
        "colab_type": "code",
        "colab": {}
      },
      "source": [
        "# Data are sent to bob, pointer is sent to alice.\n",
        "x = th.tensor([1, 2, 3, 4, 5]).send(bob).send(alice)"
      ],
      "execution_count": 0,
      "outputs": []
    },
    {
      "cell_type": "code",
      "metadata": {
        "id": "OOe4yuQihhtF",
        "colab_type": "code",
        "colab": {
          "base_uri": "https://localhost:8080/",
          "height": 34
        },
        "outputId": "f00a29d1-0a24-4c92-fb9a-f4586185c76a"
      },
      "source": [
        "bob._objects"
      ],
      "execution_count": 77,
      "outputs": [
        {
          "output_type": "execute_result",
          "data": {
            "text/plain": [
              "{41751440282: tensor([1, 2, 3, 4, 5])}"
            ]
          },
          "metadata": {
            "tags": []
          },
          "execution_count": 77
        }
      ]
    },
    {
      "cell_type": "code",
      "metadata": {
        "id": "ak_p2kl-hhxm",
        "colab_type": "code",
        "colab": {
          "base_uri": "https://localhost:8080/",
          "height": 34
        },
        "outputId": "71019e7e-200a-4657-974b-1e7f48a47341"
      },
      "source": [
        "alice._objects"
      ],
      "execution_count": 78,
      "outputs": [
        {
          "output_type": "execute_result",
          "data": {
            "text/plain": [
              "{42009744974: (Wrapper)>[PointerTensor | alice:42009744974 -> bob:41751440282]}"
            ]
          },
          "metadata": {
            "tags": []
          },
          "execution_count": 78
        }
      ]
    },
    {
      "cell_type": "code",
      "metadata": {
        "id": "v3gWF0ILhh2G",
        "colab_type": "code",
        "colab": {
          "base_uri": "https://localhost:8080/",
          "height": 34
        },
        "outputId": "ca6d60cd-cde1-4daf-f528-0498b45cfad6"
      },
      "source": [
        "x"
      ],
      "execution_count": 79,
      "outputs": [
        {
          "output_type": "execute_result",
          "data": {
            "text/plain": [
              "(Wrapper)>[PointerTensor | me:13663893969 -> alice:42009744974]"
            ]
          },
          "metadata": {
            "tags": []
          },
          "execution_count": 79
        }
      ]
    },
    {
      "cell_type": "code",
      "metadata": {
        "id": "3hWth-i_q6QV",
        "colab_type": "code",
        "colab": {
          "base_uri": "https://localhost:8080/",
          "height": 34
        },
        "outputId": "4de03ab9-443d-46ae-9643-2020c169926b"
      },
      "source": [
        "# Pulling data from bob to alice\n",
        "# It's like telling alice \"call .get() on your pointer and pull data that bob has to alice's machine\"\n",
        "x.remote_get() #!!!!!!!!!!!!!!!!!!!!!!!!!!!!!!!!!!!!!"
      ],
      "execution_count": 80,
      "outputs": [
        {
          "output_type": "execute_result",
          "data": {
            "text/plain": [
              "(Wrapper)>[PointerTensor | me:13663893969 -> alice:42009744974]"
            ]
          },
          "metadata": {
            "tags": []
          },
          "execution_count": 80
        }
      ]
    },
    {
      "cell_type": "markdown",
      "metadata": {
        "id": "sPNvt6V0i4Iv",
        "colab_type": "text"
      },
      "source": [
        "**We were able to orechestrate a move data from bob's machine to alice's machine without ever touching our machine.**"
      ]
    },
    {
      "cell_type": "code",
      "metadata": {
        "id": "_cvHRdObq6Te",
        "colab_type": "code",
        "colab": {
          "base_uri": "https://localhost:8080/",
          "height": 34
        },
        "outputId": "8d90bc5f-28a9-4136-fa86-7e6474c76862"
      },
      "source": [
        "bob._objects"
      ],
      "execution_count": 81,
      "outputs": [
        {
          "output_type": "execute_result",
          "data": {
            "text/plain": [
              "{}"
            ]
          },
          "metadata": {
            "tags": []
          },
          "execution_count": 81
        }
      ]
    },
    {
      "cell_type": "code",
      "metadata": {
        "id": "vxGA00Zlq6Wa",
        "colab_type": "code",
        "colab": {
          "base_uri": "https://localhost:8080/",
          "height": 34
        },
        "outputId": "f7ea95a9-1ef8-468d-f1ad-d311ff9bf5b6"
      },
      "source": [
        "alice._objects # data moved to alice"
      ],
      "execution_count": 82,
      "outputs": [
        {
          "output_type": "execute_result",
          "data": {
            "text/plain": [
              "{42009744974: tensor([1, 2, 3, 4, 5])}"
            ]
          },
          "metadata": {
            "tags": []
          },
          "execution_count": 82
        }
      ]
    },
    {
      "cell_type": "code",
      "metadata": {
        "id": "Hkka4_HorIYu",
        "colab_type": "code",
        "colab": {}
      },
      "source": [
        "# our pointer cecomes appointed to bob, instead of being appointed to alice\n",
        "x.move(bob) #!!!!!!!!!!!!!!!!!!!!!!!!!!!!!!!!!!!!!!!!!!!!!!!!!!!!!!!!!!!!!!"
      ],
      "execution_count": 0,
      "outputs": []
    },
    {
      "cell_type": "code",
      "metadata": {
        "id": "WkLz4DkkjWm5",
        "colab_type": "code",
        "colab": {
          "base_uri": "https://localhost:8080/",
          "height": 34
        },
        "outputId": "645e0c9d-9eb8-42dc-8e0a-5b917a3b5c19"
      },
      "source": [
        "x"
      ],
      "execution_count": 70,
      "outputs": [
        {
          "output_type": "execute_result",
          "data": {
            "text/plain": [
              "(Wrapper)>[PointerTensor | me:67090780786 -> bob:67090780786]"
            ]
          },
          "metadata": {
            "tags": []
          },
          "execution_count": 70
        }
      ]
    },
    {
      "cell_type": "code",
      "metadata": {
        "id": "IR49MexfrIa0",
        "colab_type": "code",
        "colab": {
          "base_uri": "https://localhost:8080/",
          "height": 34
        },
        "outputId": "7a1bb38d-a3fc-4db5-c16f-301b155a27e5"
      },
      "source": [
        "bob._objects"
      ],
      "execution_count": 71,
      "outputs": [
        {
          "output_type": "execute_result",
          "data": {
            "text/plain": [
              "{67090780786: tensor([1, 2, 3, 4, 5])}"
            ]
          },
          "metadata": {
            "tags": []
          },
          "execution_count": 71
        }
      ]
    },
    {
      "cell_type": "code",
      "metadata": {
        "id": "oQ5AonWjrIff",
        "colab_type": "code",
        "colab": {
          "base_uri": "https://localhost:8080/",
          "height": 34
        },
        "outputId": "36a3b3b8-6138-4adf-988a-7c8e2b23e6b5"
      },
      "source": [
        "alice._objects"
      ],
      "execution_count": 72,
      "outputs": [
        {
          "output_type": "execute_result",
          "data": {
            "text/plain": [
              "{}"
            ]
          },
          "metadata": {
            "tags": []
          },
          "execution_count": 72
        }
      ]
    },
    {
      "cell_type": "code",
      "metadata": {
        "id": "IYXcu1LrrIiA",
        "colab_type": "code",
        "colab": {}
      },
      "source": [
        "x.move(alice)"
      ],
      "execution_count": 0,
      "outputs": []
    },
    {
      "cell_type": "code",
      "metadata": {
        "id": "hLSf_7IErIdi",
        "colab_type": "code",
        "colab": {
          "base_uri": "https://localhost:8080/",
          "height": 34
        },
        "outputId": "cf8ed08f-fb2e-4448-c3cd-c95c22dac2e6"
      },
      "source": [
        "bob._objects"
      ],
      "execution_count": 85,
      "outputs": [
        {
          "output_type": "execute_result",
          "data": {
            "text/plain": [
              "{13663893969: tensor([1, 2, 3, 4, 5])}"
            ]
          },
          "metadata": {
            "tags": []
          },
          "execution_count": 85
        }
      ]
    },
    {
      "cell_type": "code",
      "metadata": {
        "id": "s9AR-TQNrIVq",
        "colab_type": "code",
        "colab": {
          "base_uri": "https://localhost:8080/",
          "height": 34
        },
        "outputId": "2895a0f0-5d47-4c29-9e5e-4653458d7912"
      },
      "source": [
        "alice._objects"
      ],
      "execution_count": 86,
      "outputs": [
        {
          "output_type": "execute_result",
          "data": {
            "text/plain": [
              "{}"
            ]
          },
          "metadata": {
            "tags": []
          },
          "execution_count": 86
        }
      ]
    }
  ]
}