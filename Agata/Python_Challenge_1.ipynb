{
  "nbformat": 4,
  "nbformat_minor": 0,
  "metadata": {
    "colab": {
      "name": "Python Challenge #1",
      "version": "0.3.2",
      "provenance": [],
      "include_colab_link": true
    },
    "kernelspec": {
      "name": "python3",
      "display_name": "Python 3"
    }
  },
  "cells": [
    {
      "cell_type": "markdown",
      "metadata": {
        "id": "view-in-github",
        "colab_type": "text"
      },
      "source": [
        "<a href=\"https://colab.research.google.com/github/agatagruza/private-ai/blob/master/Python_Challenge_1.ipynb\" target=\"_parent\"><img src=\"https://colab.research.google.com/assets/colab-badge.svg\" alt=\"Open In Colab\"/></a>"
      ]
    },
    {
      "cell_type": "code",
      "metadata": {
        "id": "RxiZvMoGGner",
        "colab_type": "code",
        "outputId": "1b19ab97-5930-4df4-872b-471ec3dbb447",
        "colab": {
          "base_uri": "https://localhost:8080/",
          "height": 34
        }
      },
      "source": [
        "# Will print every other elemnt\n",
        "# a[START:END:STEP]\n",
        "# START defaults to 0; END defaults to len(a); STEP is a loop stepping\n",
        "a=[1,2,3,4,5,6,7,8,9]\n",
        "print(a[::2])"
      ],
      "execution_count": 0,
      "outputs": [
        {
          "output_type": "stream",
          "text": [
            "[1, 3, 5, 7, 9]\n"
          ],
          "name": "stdout"
        }
      ]
    },
    {
      "cell_type": "code",
      "metadata": {
        "id": "wdvnzQHIGxvZ",
        "colab_type": "code",
        "outputId": "0cbe9412-fbb4-4ab3-ee6f-7570593549e1",
        "colab": {
          "base_uri": "https://localhost:8080/",
          "height": 197
        }
      },
      "source": [
        "a=[1,2,3,4,5,6,7,8,9]\n",
        "a[::2]=10,20,30,40,50,60\n",
        "print(a)"
      ],
      "execution_count": 0,
      "outputs": [
        {
          "output_type": "error",
          "ename": "ValueError",
          "evalue": "ignored",
          "traceback": [
            "\u001b[0;31m---------------------------------------------------------------------------\u001b[0m",
            "\u001b[0;31mValueError\u001b[0m                                Traceback (most recent call last)",
            "\u001b[0;32m<ipython-input-2-e25a0547818a>\u001b[0m in \u001b[0;36m<module>\u001b[0;34m()\u001b[0m\n\u001b[1;32m      1\u001b[0m \u001b[0ma\u001b[0m\u001b[0;34m=\u001b[0m\u001b[0;34m[\u001b[0m\u001b[0;36m1\u001b[0m\u001b[0;34m,\u001b[0m\u001b[0;36m2\u001b[0m\u001b[0;34m,\u001b[0m\u001b[0;36m3\u001b[0m\u001b[0;34m,\u001b[0m\u001b[0;36m4\u001b[0m\u001b[0;34m,\u001b[0m\u001b[0;36m5\u001b[0m\u001b[0;34m,\u001b[0m\u001b[0;36m6\u001b[0m\u001b[0;34m,\u001b[0m\u001b[0;36m7\u001b[0m\u001b[0;34m,\u001b[0m\u001b[0;36m8\u001b[0m\u001b[0;34m,\u001b[0m\u001b[0;36m9\u001b[0m\u001b[0;34m]\u001b[0m\u001b[0;34m\u001b[0m\u001b[0;34m\u001b[0m\u001b[0m\n\u001b[0;32m----> 2\u001b[0;31m \u001b[0ma\u001b[0m\u001b[0;34m[\u001b[0m\u001b[0;34m:\u001b[0m\u001b[0;34m:\u001b[0m\u001b[0;36m2\u001b[0m\u001b[0;34m]\u001b[0m\u001b[0;34m=\u001b[0m\u001b[0;36m10\u001b[0m\u001b[0;34m,\u001b[0m\u001b[0;36m20\u001b[0m\u001b[0;34m,\u001b[0m\u001b[0;36m30\u001b[0m\u001b[0;34m,\u001b[0m\u001b[0;36m40\u001b[0m\u001b[0;34m,\u001b[0m\u001b[0;36m50\u001b[0m\u001b[0;34m,\u001b[0m\u001b[0;36m60\u001b[0m\u001b[0;34m\u001b[0m\u001b[0;34m\u001b[0m\u001b[0m\n\u001b[0m\u001b[1;32m      3\u001b[0m \u001b[0mprint\u001b[0m\u001b[0;34m(\u001b[0m\u001b[0ma\u001b[0m\u001b[0;34m)\u001b[0m\u001b[0;34m\u001b[0m\u001b[0;34m\u001b[0m\u001b[0m\n",
            "\u001b[0;31mValueError\u001b[0m: attempt to assign sequence of size 6 to extended slice of size 5"
          ]
        }
      ]
    },
    {
      "cell_type": "code",
      "metadata": {
        "id": "2P-SQBhzIG5k",
        "colab_type": "code",
        "outputId": "0c27a58f-181d-42bc-8a62-a3921e4b3228",
        "colab": {
          "base_uri": "https://localhost:8080/",
          "height": 34
        }
      },
      "source": [
        "# [::-1] will reverse the list. It doesn't change array. It reates a shallow copy\n",
        "a=[1,2,3,4,5]\n",
        "print(a[3:0:-1])"
      ],
      "execution_count": 0,
      "outputs": [
        {
          "output_type": "stream",
          "text": [
            "[4, 3, 2]\n"
          ],
          "name": "stdout"
        }
      ]
    },
    {
      "cell_type": "code",
      "metadata": {
        "id": "PuoYfiDCIbDl",
        "colab_type": "code",
        "outputId": "14614f89-6932-4168-c1e9-d33873ea65ed",
        "colab": {
          "base_uri": "https://localhost:8080/",
          "height": 34
        }
      },
      "source": [
        "# Self explanatory\n",
        "def f(value, values):\n",
        "  v = 1\n",
        "  values[0] = 44\n",
        "t = 3\n",
        "v = [1, 2 , 3]\n",
        "f(t, v)\n",
        "print(t, v[0])"
      ],
      "execution_count": 0,
      "outputs": [
        {
          "output_type": "stream",
          "text": [
            "3 44\n"
          ],
          "name": "stdout"
        }
      ]
    },
    {
      "cell_type": "code",
      "metadata": {
        "id": "RPiN2jRuJ2AV",
        "colab_type": "code",
        "outputId": "e979b468-6e43-4e82-9177-672f5b2eb7c3",
        "colab": {
          "base_uri": "https://localhost:8080/",
          "height": 34
        }
      },
      "source": [
        "data = [[[1, 2], [3, 4]], [[5, 6], [7, 8]]]\n",
        "def fun(m):\n",
        "  v = m[0][0]\n",
        "  \n",
        "  for row in m:\n",
        "    for element in row:\n",
        "      if v < element: v = element\n",
        "        \n",
        "  return v\n",
        "print(fun(data[0]))"
      ],
      "execution_count": 0,
      "outputs": [
        {
          "output_type": "stream",
          "text": [
            "4\n"
          ],
          "name": "stdout"
        }
      ]
    },
    {
      "cell_type": "code",
      "metadata": {
        "id": "8oveEw5MLX9H",
        "colab_type": "code",
        "outputId": "8e8d6cce-d788-4020-fff4-03906c63c03b",
        "colab": {
          "base_uri": "https://localhost:8080/",
          "height": 85
        }
      },
      "source": [
        "# The pop() method removes the item at the given index from the list.\n",
        "# If no parameter is passed, index -1 will return the last item.\n",
        "arr = [[1,2,3,4],\n",
        "       [4,5,6,7],\n",
        "       [8,9,10,11],\n",
        "       [12,13,14,15]]\n",
        "for i in range(0, 4):\n",
        "  print(arr[i].pop())"
      ],
      "execution_count": 0,
      "outputs": [
        {
          "output_type": "stream",
          "text": [
            "4\n",
            "7\n",
            "11\n",
            "15\n"
          ],
          "name": "stdout"
        }
      ]
    },
    {
      "cell_type": "code",
      "metadata": {
        "id": "5ut17CEIM3-T",
        "colab_type": "code",
        "outputId": "c34621f6-917c-4c36-ecc6-d44415ff1e7e",
        "colab": {
          "base_uri": "https://localhost:8080/",
          "height": 85
        }
      },
      "source": [
        "def f(i, values = []):\n",
        "  values.append(i)\n",
        "  print (values)\n",
        "  return values\n",
        "f(1)\n",
        "f(2)\n",
        "f(3)"
      ],
      "execution_count": 0,
      "outputs": [
        {
          "output_type": "stream",
          "text": [
            "[1]\n",
            "[1, 2]\n",
            "[1, 2, 3]\n"
          ],
          "name": "stdout"
        },
        {
          "output_type": "execute_result",
          "data": {
            "text/plain": [
              "[1, 2, 3]"
            ]
          },
          "metadata": {
            "tags": []
          },
          "execution_count": 9
        }
      ]
    },
    {
      "cell_type": "code",
      "metadata": {
        "id": "Gpxt91FYNWNl",
        "colab_type": "code",
        "outputId": "69b9897e-e793-4a2c-befa-0e8d5a155123",
        "colab": {
          "base_uri": "https://localhost:8080/",
          "height": 34
        }
      },
      "source": [
        "arr = [1, 2, 3, 4, 5, 6]\n",
        "for i in range(1, 6):\n",
        "  arr[i - 1] = arr[i]\n",
        "for i in range(0, 6):\n",
        "  print(arr[i], end = \" \")"
      ],
      "execution_count": 0,
      "outputs": [
        {
          "output_type": "stream",
          "text": [
            "2 3 4 5 6 6 "
          ],
          "name": "stdout"
        }
      ]
    },
    {
      "cell_type": "code",
      "metadata": {
        "id": "AtAI8xUxLOT1",
        "colab_type": "code",
        "outputId": "a2a0bbfb-70bf-4a89-a5d6-a490ba23dd12",
        "colab": {
          "base_uri": "https://localhost:8080/",
          "height": 136
        }
      },
      "source": [
        "fruit_list1 = ['Apple', 'Berry', 'Cherry', 'Papaya']\n",
        "fruit_list2 = fruit_list1\n",
        "fruit_list3 = fruit_list1[:]\n",
        "\n",
        "fruit_list2[0] = 'Guava'\n",
        "fruit_list3[1] = 'Kiwi'\n",
        "print (\"list1\") \n",
        "print(fruit_list1)\n",
        "print (\"list2\") \n",
        "print(fruit_list2)\n",
        "print (\"lis3\") \n",
        "print(fruit_list3)\n",
        "\n",
        "sum = 0\n",
        "for ls in (fruit_list1, fruit_list2, fruit_list3):\n",
        "  if ls[0] == 'Guava':\n",
        "    sum += 1\n",
        "  if ls[1] =='Kiwi':\n",
        "    sum += 20\n",
        "    \n",
        "print (sum)"
      ],
      "execution_count": 0,
      "outputs": [
        {
          "output_type": "stream",
          "text": [
            "list1\n",
            "['Guava', 'Berry', 'Cherry', 'Papaya']\n",
            "list2\n",
            "['Guava', 'Berry', 'Cherry', 'Papaya']\n",
            "lis3\n",
            "['Apple', 'Kiwi', 'Cherry', 'Papaya']\n",
            "22\n"
          ],
          "name": "stdout"
        }
      ]
    }
  ]
}