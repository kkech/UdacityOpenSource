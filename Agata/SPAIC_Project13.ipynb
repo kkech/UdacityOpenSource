{
  "nbformat": 4,
  "nbformat_minor": 0,
  "metadata": {
    "colab": {
      "name": "SPAIC_Project13.ipynb",
      "version": "0.3.2",
      "provenance": [],
      "include_colab_link": true
    },
    "kernelspec": {
      "name": "python3",
      "display_name": "Python 3"
    },
    "accelerator": "GPU"
  },
  "cells": [
    {
      "cell_type": "markdown",
      "metadata": {
        "id": "view-in-github",
        "colab_type": "text"
      },
      "source": [
        "<a href=\"https://colab.research.google.com/github/agatagruza/private-ai/blob/master/SPAIC_Project13.ipynb\" target=\"_parent\"><img src=\"https://colab.research.google.com/assets/colab-badge.svg\" alt=\"Open In Colab\"/></a>"
      ]
    },
    {
      "cell_type": "markdown",
      "metadata": {
        "id": "6luHOwjAs1z8",
        "colab_type": "text"
      },
      "source": [
        "# Project 13: Securing Federated Learning"
      ]
    },
    {
      "cell_type": "markdown",
      "metadata": {
        "id": "5izsEv0RuJKk",
        "colab_type": "text"
      },
      "source": [
        "##Trusted Aggregator"
      ]
    },
    {
      "cell_type": "code",
      "metadata": {
        "id": "7Ren37jmsatU",
        "colab_type": "code",
        "colab": {}
      },
      "source": [
        "pip install syft"
      ],
      "execution_count": 0,
      "outputs": []
    },
    {
      "cell_type": "code",
      "metadata": {
        "id": "KWMIpGJIueQD",
        "colab_type": "code",
        "colab": {
          "base_uri": "https://localhost:8080/",
          "height": 108
        },
        "outputId": "1e0b2a52-c078-4989-c441-74210db52937"
      },
      "source": [
        "import torch as th\n",
        "import syft as sy\n",
        "hook = sy.TorchHook(th)\n",
        "from torch import nn, optim"
      ],
      "execution_count": 28,
      "outputs": [
        {
          "output_type": "stream",
          "text": [
            "WARNING: Logging before flag parsing goes to stderr.\n",
            "W0728 05:34:43.783387 140672446506880 secure_random.py:26] Falling back to insecure randomness since the required custom op could not be found for the installed version of TensorFlow. Fix this by compiling custom ops. Missing file was '/usr/local/lib/python3.6/dist-packages/tf_encrypted/operations/secure_random/secure_random_module_tf_1.14.0.so'\n",
            "W0728 05:34:43.800626 140672446506880 deprecation_wrapper.py:119] From /usr/local/lib/python3.6/dist-packages/tf_encrypted/session.py:26: The name tf.Session is deprecated. Please use tf.compat.v1.Session instead.\n",
            "\n"
          ],
          "name": "stderr"
        }
      ]
    },
    {
      "cell_type": "code",
      "metadata": {
        "id": "cg-fXow2ueWZ",
        "colab_type": "code",
        "colab": {}
      },
      "source": [
        "# creatring virtual workers\n",
        "bob = sy.VirtualWorker(hook, id = \"bob\") # data owner\n",
        "alice = sy.VirtualWorker(hook, id = \"alice\") # data owner\n",
        "# secure worker is a trusted 3rd party that is able to perform good aggregation\n",
        "secure_worker = sy.VirtualWorker(hook, id = \"secure_worker\")"
      ],
      "execution_count": 0,
      "outputs": []
    },
    {
      "cell_type": "code",
      "metadata": {
        "id": "foPqP7qIueZ5",
        "colab_type": "code",
        "colab": {}
      },
      "source": [
        "# Inrom worker, that other workers exsist. \n",
        "# Those are references to the other workers. \n",
        "bob.add_workers([alice, secure_worker])\n",
        "alice.add_workers([bob, secure_worker])\n",
        "secure_worker.add_workers([bob, alice])"
      ],
      "execution_count": 0,
      "outputs": []
    },
    {
      "cell_type": "code",
      "metadata": {
        "id": "H3URnpyny6LC",
        "colab_type": "code",
        "colab": {}
      },
      "source": [
        "# A Toy Dataset\n",
        "data = th.tensor([[0,0],[0,1],[1,0],[1,1.]], requires_grad=True) \n",
        "target = th.tensor([[0],[0],[1],[1.]], requires_grad=True) "
      ],
      "execution_count": 0,
      "outputs": []
    },
    {
      "cell_type": "code",
      "metadata": {
        "id": "zdKp5GmizRdM",
        "colab_type": "code",
        "colab": {}
      },
      "source": [
        "# get pointers to training data on each worker by\n",
        "# sending some trainig data to bob and alice\n",
        "bobs_data = data[0:2].send(bob)\n",
        "bobs_target = target[0:2].send(bob)"
      ],
      "execution_count": 0,
      "outputs": []
    },
    {
      "cell_type": "code",
      "metadata": {
        "id": "KEtysZkruegP",
        "colab_type": "code",
        "colab": {}
      },
      "source": [
        "alices_data = data[2:].send(alice)\n",
        "alices_target = target[2:].send(alice)"
      ],
      "execution_count": 0,
      "outputs": []
    },
    {
      "cell_type": "code",
      "metadata": {
        "id": "0wDUCumkuejE",
        "colab_type": "code",
        "colab": {
          "base_uri": "https://localhost:8080/",
          "height": 88
        },
        "outputId": "bd32b4ec-dbbd-441e-9d81-6e1227c5e5ed"
      },
      "source": [
        "print(bobs_data)\n",
        "print(bobs_target)\n",
        "print(alices_data)\n",
        "print(alices_target)"
      ],
      "execution_count": 38,
      "outputs": [
        {
          "output_type": "stream",
          "text": [
            "(Wrapper)>[PointerTensor | me:42471278022 -> bob:83437141932]\n",
            "(Wrapper)>[PointerTensor | me:91637266804 -> bob:41690757274]\n",
            "(Wrapper)>[PointerTensor | me:38554808975 -> alice:32962655949]\n",
            "(Wrapper)>[PointerTensor | me:53281778580 -> alice:97519204886]\n"
          ],
          "name": "stdout"
        }
      ]
    },
    {
      "cell_type": "code",
      "metadata": {
        "id": "zj_CpjdQuelM",
        "colab_type": "code",
        "colab": {
          "base_uri": "https://localhost:8080/",
          "height": 35
        },
        "outputId": "f360e7c8-f676-4374-ccaf-f58cadd0e381"
      },
      "source": [
        "# Initialize a Toy Model\n",
        "model = nn.Linear(2, 1)\n",
        "print(model)"
      ],
      "execution_count": 39,
      "outputs": [
        {
          "output_type": "stream",
          "text": [
            "Linear(in_features=2, out_features=1, bias=True)\n"
          ],
          "name": "stdout"
        }
      ]
    },
    {
      "cell_type": "code",
      "metadata": {
        "id": "TYpxujuJueoE",
        "colab_type": "code",
        "colab": {}
      },
      "source": [
        "bobs_model = model.copy().send(bob)\n",
        "alices_model = model.copy().send(alice)"
      ],
      "execution_count": 0,
      "outputs": []
    },
    {
      "cell_type": "code",
      "metadata": {
        "id": "LXqOA4GsueqD",
        "colab_type": "code",
        "colab": {
          "base_uri": "https://localhost:8080/",
          "height": 52
        },
        "outputId": "34579f28-15c6-459d-c486-64cbb579a298"
      },
      "source": [
        "print(bobs_model)\n",
        "print(alices_model)"
      ],
      "execution_count": 41,
      "outputs": [
        {
          "output_type": "stream",
          "text": [
            "Linear(in_features=2, out_features=1, bias=True)\n",
            "Linear(in_features=2, out_features=1, bias=True)\n"
          ],
          "name": "stdout"
        }
      ]
    },
    {
      "cell_type": "code",
      "metadata": {
        "id": "56hQaeEEues0",
        "colab_type": "code",
        "colab": {}
      },
      "source": [
        "# Two optimizers. One for the parameters Bob's model and one for the parametrs of alice's\n",
        "bobs_optimizer = optim.SGD(params=bobs_model.parameters(), lr = 0.1)\n",
        "alices_optimizer = optim.SGD(params=alices_model.parameters(), lr = 0.1)"
      ],
      "execution_count": 0,
      "outputs": []
    },
    {
      "cell_type": "code",
      "metadata": {
        "id": "FfBwuri9uewG",
        "colab_type": "code",
        "colab": {
          "base_uri": "https://localhost:8080/",
          "height": 301
        },
        "outputId": "fa8fda5c-5adf-410f-a3b0-af633e6ed03c"
      },
      "source": [
        "print(bobs_optimizer)\n",
        "print(alices_optimizer)"
      ],
      "execution_count": 43,
      "outputs": [
        {
          "output_type": "stream",
          "text": [
            "SGD (\n",
            "Parameter Group 0\n",
            "    dampening: 0\n",
            "    lr: 0.1\n",
            "    momentum: 0\n",
            "    nesterov: False\n",
            "    weight_decay: 0\n",
            ")\n",
            "SGD (\n",
            "Parameter Group 0\n",
            "    dampening: 0\n",
            "    lr: 0.1\n",
            "    momentum: 0\n",
            "    nesterov: False\n",
            "    weight_decay: 0\n",
            ")\n"
          ],
          "name": "stdout"
        }
      ]
    },
    {
      "cell_type": "code",
      "metadata": {
        "id": "nodQcL4Tueyf",
        "colab_type": "code",
        "colab": {
          "base_uri": "https://localhost:8080/",
          "height": 195
        },
        "outputId": "77877f06-37e3-4426-b266-c1fc0629f48e"
      },
      "source": [
        "for round in range(10):\n",
        "\n",
        "    bobs_model = model.copy().send(bob)\n",
        "    alices_model = model.copy().send(alice)\n",
        "\n",
        "    bobs_optim = optim.SGD(params=bobs_model.parameters(), lr=0.1)\n",
        "    alices_optim = optim.SGD(params=alices_model.parameters(), lr=0.1)\n",
        "\n",
        "    for i in range(10):\n",
        "        # Bobs model in train\n",
        "        bobs_optim.zero_grad()\n",
        "        bobs_pred = bobs_model(bobs_data)\n",
        "        bobs_loss = ((bobs_pred - bobs_target) ** 2).sum()\n",
        "        bobs_loss.backward()\n",
        "\n",
        "        bobs_optim.step()\n",
        "        bobs_loss = bobs_loss.get().data\n",
        "        bobs_loss\n",
        "\n",
        "        # Alices model in train\n",
        "        alices_optim.zero_grad()\n",
        "        alices_pred = alices_model(alices_data)\n",
        "        alices_loss = ((alices_pred - alices_target) ** 2).sum()\n",
        "        alices_loss.backward()\n",
        "\n",
        "        alices_optim.step()\n",
        "        alices_loss = alices_loss.get().data  \n",
        "        alices_loss\n",
        "        \n",
        "    # It iterates through every parameter in alices model and calls .move() \n",
        "    # on that parameter inline.\n",
        "    alices_model.move(secure_worker)\n",
        "    bobs_model.move(secure_worker)\n",
        "\n",
        "    # AVERAGING ALICE AND BOB TOGETEHR !!!!!!!!!!!!!!!!!!!!!!!!!!!!!!!!!! \n",
        "    with th.no_grad():\n",
        "      model.weight.set_(((alices_model.weight.data + bobs_model.weight.data) / 2).get())\n",
        "      model.bias.set_(((alices_model.bias.data + bobs_model.bias.data) / 2).get())\n",
        "  \n",
        "    print(\"Bob:\" + str(bobs_loss) + \" Alice:\" + str(alices_loss))"
      ],
      "execution_count": 44,
      "outputs": [
        {
          "output_type": "stream",
          "text": [
            "Bob:tensor(0.0222) Alice:tensor(0.0054)\n",
            "Bob:tensor(0.0077) Alice:tensor(0.0005)\n",
            "Bob:tensor(0.0034) Alice:tensor(5.9335e-06)\n",
            "Bob:tensor(0.0018) Alice:tensor(3.1658e-05)\n",
            "Bob:tensor(0.0011) Alice:tensor(6.9191e-05)\n",
            "Bob:tensor(0.0007) Alice:tensor(7.6473e-05)\n",
            "Bob:tensor(0.0005) Alice:tensor(6.8336e-05)\n",
            "Bob:tensor(0.0004) Alice:tensor(5.5857e-05)\n",
            "Bob:tensor(0.0003) Alice:tensor(4.3798e-05)\n",
            "Bob:tensor(0.0002) Alice:tensor(3.3649e-05)\n"
          ],
          "name": "stdout"
        }
      ]
    },
    {
      "cell_type": "code",
      "metadata": {
        "id": "tgsiCpPI3oG9",
        "colab_type": "code",
        "colab": {
          "base_uri": "https://localhost:8080/",
          "height": 746
        },
        "outputId": "db128925-5481-48dd-9527-ee5990e05b57"
      },
      "source": [
        "secure_worker._objects"
      ],
      "execution_count": 45,
      "outputs": [
        {
          "output_type": "execute_result",
          "data": {
            "text/plain": [
              "{941576072: Parameter containing:\n",
              " tensor([0.0131], requires_grad=True), 15671365667: Parameter containing:\n",
              " tensor([0.1700], requires_grad=True), 25516009287: Parameter containing:\n",
              " tensor([0.1278], requires_grad=True), 26027544051: Parameter containing:\n",
              " tensor([[0.8246, 0.0096]], requires_grad=True), 29318993004: Parameter containing:\n",
              " tensor([[0.7310, 0.0107]], requires_grad=True), 29990513963: Parameter containing:\n",
              " tensor([0.0690], requires_grad=True), 31296840173: Parameter containing:\n",
              " tensor([[ 0.7617, -0.0246]], requires_grad=True), 34657443041: Parameter containing:\n",
              " tensor([[0.7668, 0.0112]], requires_grad=True), 36149662432: Parameter containing:\n",
              " tensor([[ 0.8205, -0.0183]], requires_grad=True), 41678540588: Parameter containing:\n",
              " tensor([[0.6895, 0.0072]], requires_grad=True), 42923573251: Parameter containing:\n",
              " tensor([[0.8681, 0.0074]], requires_grad=True), 44050883456: Parameter containing:\n",
              " tensor([0.1172], requires_grad=True), 44229204257: Parameter containing:\n",
              " tensor([[0.7978, 0.0106]], requires_grad=True), 45793876906: Parameter containing:\n",
              " tensor([[ 0.4285, -0.1894]], requires_grad=True), 53870687363: Parameter containing:\n",
              " tensor([[ 0.4766, -0.1115]], requires_grad=True), 54993442620: Parameter containing:\n",
              " tensor([0.0259], requires_grad=True), 56415414773: Parameter containing:\n",
              " tensor([0.2630], requires_grad=True), 59534592855: Parameter containing:\n",
              " tensor([[ 0.5861, -0.0535]], requires_grad=True), 62234109767: Parameter containing:\n",
              " tensor([[ 0.6378, -0.0418]], requires_grad=True), 62373791855: Parameter containing:\n",
              " tensor([[0.8479, 0.0085]], requires_grad=True), 62981227369: Parameter containing:\n",
              " tensor([0.0332], requires_grad=True), 65411034421: Parameter containing:\n",
              " tensor([0.0179], requires_grad=True), 66506943237: Parameter containing:\n",
              " tensor([0.1473], requires_grad=True), 66673832258: Parameter containing:\n",
              " tensor([0.0212], requires_grad=True), 70003856429: Parameter containing:\n",
              " tensor([[ 0.7932, -0.0211]], requires_grad=True), 73896060485: Parameter containing:\n",
              " tensor([[ 0.5853, -0.0295]], requires_grad=True), 76261749291: Parameter containing:\n",
              " tensor([[ 0.7256, -0.0288]], requires_grad=True), 76323916276: Parameter containing:\n",
              " tensor([0.4313], requires_grad=True), 76593244920: Parameter containing:\n",
              " tensor([[ 0.6413, -0.0031]], requires_grad=True), 77345081685: Parameter containing:\n",
              " tensor([[ 0.5248, -0.0943]], requires_grad=True), 82678227152: Parameter containing:\n",
              " tensor([[ 0.5310, -0.0735]], requires_grad=True), 84634351741: Parameter containing:\n",
              " tensor([0.0113], requires_grad=True), 84688786979: Parameter containing:\n",
              " tensor([0.0456], requires_grad=True), 86047488436: Parameter containing:\n",
              " tensor([0.3064], requires_grad=True), 86595745242: Parameter containing:\n",
              " tensor([0.3605], requires_grad=True), 92291060015: Parameter containing:\n",
              " tensor([0.5281], requires_grad=True), 94396083726: Parameter containing:\n",
              " tensor([[ 0.6844, -0.0342]], requires_grad=True), 95416948141: Parameter containing:\n",
              " tensor([0.2269], requires_grad=True), 97180901799: Parameter containing:\n",
              " tensor([0.0153], requires_grad=True), 97351669210: Parameter containing:\n",
              " tensor([0.1962], requires_grad=True)}"
            ]
          },
          "metadata": {
            "tags": []
          },
          "execution_count": 45
        }
      ]
    },
    {
      "cell_type": "code",
      "metadata": {
        "id": "wXvaEh0Vue4B",
        "colab_type": "code",
        "colab": {
          "base_uri": "https://localhost:8080/",
          "height": 35
        },
        "outputId": "2c0f3ed6-31b9-4e65-919b-24099db571dd"
      },
      "source": [
        "secure_worker.clear_objects()"
      ],
      "execution_count": 46,
      "outputs": [
        {
          "output_type": "execute_result",
          "data": {
            "text/plain": [
              "<VirtualWorker id:secure_worker #objects:0>"
            ]
          },
          "metadata": {
            "tags": []
          },
          "execution_count": 46
        }
      ]
    },
    {
      "cell_type": "markdown",
      "metadata": {
        "id": "UQ25n3h9ChWM",
        "colab_type": "text"
      },
      "source": [
        "**And voila.We have Federated Learnign  where the gradient aggregation happens on a neutral third party.**"
      ]
    },
    {
      "cell_type": "markdown",
      "metadata": {
        "id": "Vk8d2Sn2w0W9",
        "colab_type": "text"
      },
      "source": [
        "#Intro to Additive Secret Sharing"
      ]
    },
    {
      "cell_type": "markdown",
      "metadata": {
        "id": "jhpiXlzovQAA",
        "colab_type": "text"
      },
      "source": [
        "##Build Methods for Encrypted, Decrypted, and Add\n",
        "Write a general method for enryption, decryption, andd add. Store shres for a variable in a tuple.</br>\n",
        "**Encryption** is a bout henerating three shares such that when we sum then together and take a modulus of that sum,\n",
        "it will decrypt to the correct value. "
      ]
    },
    {
      "cell_type": "code",
      "metadata": {
        "id": "01u2cgt-ufH9",
        "colab_type": "code",
        "colab": {}
      },
      "source": [
        "import random\n",
        "\n",
        "Q = 23740629843760239486723\n",
        "\n",
        "def encrypt(x, n_share=3):\n",
        "    \n",
        "    shares = list()\n",
        "    for i in range(n_share-1):\n",
        "        shares.append(random.randint(0,Q))  \n",
        "    shares.append(Q - (sum(shares) % Q) + x)\n",
        "    return tuple(shares)"
      ],
      "execution_count": 0,
      "outputs": []
    },
    {
      "cell_type": "code",
      "metadata": {
        "id": "e_VCXbV5_XQh",
        "colab_type": "code",
        "colab": {}
      },
      "source": [
        "print(encrypt(x, n_share=5))"
      ],
      "execution_count": 0,
      "outputs": []
    },
    {
      "cell_type": "code",
      "metadata": {
        "id": "-Bw493POufK4",
        "colab_type": "code",
        "colab": {}
      },
      "source": [
        "def decrypt(shares):\n",
        "    return sum(shares) % Q # make sure It will not overflow !!!!!!!!!!!"
      ],
      "execution_count": 0,
      "outputs": []
    },
    {
      "cell_type": "code",
      "metadata": {
        "id": "zRYR7S9LAG8V",
        "colab_type": "code",
        "colab": {
          "base_uri": "https://localhost:8080/",
          "height": 35
        },
        "outputId": "954cb944-e7ed-464b-b3ee-7583132d5220"
      },
      "source": [
        "decrypt(encrypt(5))"
      ],
      "execution_count": 6,
      "outputs": [
        {
          "output_type": "execute_result",
          "data": {
            "text/plain": [
              "5"
            ]
          },
          "metadata": {
            "tags": []
          },
          "execution_count": 6
        }
      ]
    },
    {
      "cell_type": "code",
      "metadata": {
        "id": "upFYPSvEufOB",
        "colab_type": "code",
        "colab": {}
      },
      "source": [
        "def add(a, b):\n",
        "    c = list()\n",
        "    assert(len(a) == len(b))\n",
        "    for i in range(len(a)):\n",
        "        c.append((a[i] + b[i]) % Q) \n",
        "    return tuple(c)"
      ],
      "execution_count": 0,
      "outputs": []
    },
    {
      "cell_type": "code",
      "metadata": {
        "id": "-tQ0whpQufPy",
        "colab_type": "code",
        "colab": {
          "base_uri": "https://localhost:8080/",
          "height": 35
        },
        "outputId": "a5134809-f456-4ac2-92ea-372ee68dff0f"
      },
      "source": [
        "decrypt(add(encrypt(5), encrypt(10)))"
      ],
      "execution_count": 10,
      "outputs": [
        {
          "output_type": "execute_result",
          "data": {
            "text/plain": [
              "15"
            ]
          },
          "metadata": {
            "tags": []
          },
          "execution_count": 10
        }
      ]
    },
    {
      "cell_type": "code",
      "metadata": {
        "id": "viWU4JScA5GG",
        "colab_type": "code",
        "colab": {
          "base_uri": "https://localhost:8080/",
          "height": 35
        },
        "outputId": "db89da5e-f66e-48ab-eeff-3744b893bd08"
      },
      "source": [
        "x = encrypt(5)\n",
        "x"
      ],
      "execution_count": 11,
      "outputs": [
        {
          "output_type": "execute_result",
          "data": {
            "text/plain": [
              "(22344166337189812055967, 2252949701173554910847, 22884143649157112006637)"
            ]
          },
          "metadata": {
            "tags": []
          },
          "execution_count": 11
        }
      ]
    },
    {
      "cell_type": "code",
      "metadata": {
        "id": "GXJzDNZRBAxq",
        "colab_type": "code",
        "colab": {
          "base_uri": "https://localhost:8080/",
          "height": 35
        },
        "outputId": "7119ce18-99ac-4f90-9a32-488fdb4f4e9b"
      },
      "source": [
        "y = encrypt(10)\n",
        "y"
      ],
      "execution_count": 12,
      "outputs": [
        {
          "output_type": "execute_result",
          "data": {
            "text/plain": [
              "(2043202692803159314981, 19195557481184925635575, 2501869669772154536177)"
            ]
          },
          "metadata": {
            "tags": []
          },
          "execution_count": 12
        }
      ]
    },
    {
      "cell_type": "code",
      "metadata": {
        "id": "qX-mFIHlBES5",
        "colab_type": "code",
        "colab": {
          "base_uri": "https://localhost:8080/",
          "height": 35
        },
        "outputId": "149caac5-3455-4ac5-8d26-9ee0f22578bc"
      },
      "source": [
        "z = add(x,y)\n",
        "z"
      ],
      "execution_count": 13,
      "outputs": [
        {
          "output_type": "execute_result",
          "data": {
            "text/plain": [
              "(646739186232731884225, 21448507182358480546422, 1645383475169027056091)"
            ]
          },
          "metadata": {
            "tags": []
          },
          "execution_count": 13
        }
      ]
    },
    {
      "cell_type": "markdown",
      "metadata": {
        "id": "3AnPpAHLvk3g",
        "colab_type": "text"
      },
      "source": [
        "##Intro to Fixed Precision Encoding\n",
        "Aggregate gradient using Secret Sharing Technique. Because weights are decimal (floating points numbers), use **fixing presission encoding**. "
      ]
    },
    {
      "cell_type": "code",
      "metadata": {
        "id": "rGAOxuQ4ufS7",
        "colab_type": "code",
        "colab": {}
      },
      "source": [
        "BASE=10 # we are gonna use notrmal decoding. BASE 2 is another popular one\n",
        "PRECISION=4 # 4 decimal places for storage\n",
        "Q = 23740629843760239486723 # allow is to handle negative numbers"
      ],
      "execution_count": 0,
      "outputs": []
    },
    {
      "cell_type": "code",
      "metadata": {
        "id": "EYz3JJb8ufU3",
        "colab_type": "code",
        "colab": {}
      },
      "source": [
        "def encode(num):\n",
        "    return int((num * (BASE ** PRECISION)) % Q)\n",
        "\n",
        "def decode(num_fixed_prec):\n",
        "    # It will take into account negative numbers\n",
        "    return (num_fixed_prec if num_fixed_prec <= Q/2 else num_fixed_prec - Q) / BASE**PRECISION"
      ],
      "execution_count": 0,
      "outputs": []
    },
    {
      "cell_type": "code",
      "metadata": {
        "id": "zzpso5T6ufYe",
        "colab_type": "code",
        "colab": {
          "base_uri": "https://localhost:8080/",
          "height": 35
        },
        "outputId": "8c082348-8f6f-4ee5-ba16-6104da48a9c9"
      },
      "source": [
        "encode(0.5)"
      ],
      "execution_count": 18,
      "outputs": [
        {
          "output_type": "execute_result",
          "data": {
            "text/plain": [
              "5000"
            ]
          },
          "metadata": {
            "tags": []
          },
          "execution_count": 18
        }
      ]
    },
    {
      "cell_type": "code",
      "metadata": {
        "id": "IQtyN7CtufaJ",
        "colab_type": "code",
        "colab": {
          "base_uri": "https://localhost:8080/",
          "height": 35
        },
        "outputId": "4702c3a8-b847-4ef0-9059-218692c0c048"
      },
      "source": [
        "decode(5000)"
      ],
      "execution_count": 21,
      "outputs": [
        {
          "output_type": "execute_result",
          "data": {
            "text/plain": [
              "0.5"
            ]
          },
          "metadata": {
            "tags": []
          },
          "execution_count": 21
        }
      ]
    },
    {
      "cell_type": "code",
      "metadata": {
        "id": "xOOwnRxtD4GE",
        "colab_type": "code",
        "colab": {
          "base_uri": "https://localhost:8080/",
          "height": 35
        },
        "outputId": "5f458ba5-c622-443a-abcf-9cad4106fe54"
      },
      "source": [
        "encode(-0.5) # It will wrapped around other side of the queue"
      ],
      "execution_count": 23,
      "outputs": [
        {
          "output_type": "execute_result",
          "data": {
            "text/plain": [
              "23740629843760239345664"
            ]
          },
          "metadata": {
            "tags": []
          },
          "execution_count": 23
        }
      ]
    },
    {
      "cell_type": "markdown",
      "metadata": {
        "id": "-JT4a60RvyFA",
        "colab_type": "text"
      },
      "source": [
        "##Secret Sharing Using PySyft"
      ]
    },
    {
      "cell_type": "code",
      "metadata": {
        "id": "9qDD9UVZvtAS",
        "colab_type": "code",
        "colab": {}
      },
      "source": [
        "bob = bob.clear_objects()\n",
        "alice = alice.clear_objects()\n",
        "secure_worker = secure_worker.clear_objects()"
      ],
      "execution_count": 0,
      "outputs": []
    },
    {
      "cell_type": "code",
      "metadata": {
        "id": "LkZ6awlfvtE-",
        "colab_type": "code",
        "colab": {}
      },
      "source": [
        "x = th.tensor([1,2,3,4,5])"
      ],
      "execution_count": 0,
      "outputs": []
    },
    {
      "cell_type": "code",
      "metadata": {
        "id": "5OKIGKEWLdSJ",
        "colab_type": "code",
        "colab": {
          "base_uri": "https://localhost:8080/",
          "height": 35
        },
        "outputId": "b10d4c2c-9cd0-4a89-d921-ac1bd3b1912e"
      },
      "source": [
        "x"
      ],
      "execution_count": 57,
      "outputs": [
        {
          "output_type": "execute_result",
          "data": {
            "text/plain": [
              "tensor([1, 2, 3, 4, 5])"
            ]
          },
          "metadata": {
            "tags": []
          },
          "execution_count": 57
        }
      ]
    },
    {
      "cell_type": "code",
      "metadata": {
        "id": "t25TQRaEvtH0",
        "colab_type": "code",
        "colab": {}
      },
      "source": [
        "# Pointers to three different shares\n",
        "x = x.share(bob, alice, secure_worker)"
      ],
      "execution_count": 0,
      "outputs": []
    },
    {
      "cell_type": "code",
      "metadata": {
        "id": "8esvGEjYLlZO",
        "colab_type": "code",
        "colab": {
          "base_uri": "https://localhost:8080/",
          "height": 106
        },
        "outputId": "404a1060-6b77-4b49-8fc3-7abbd9cf0417"
      },
      "source": [
        "x"
      ],
      "execution_count": 60,
      "outputs": [
        {
          "output_type": "execute_result",
          "data": {
            "text/plain": [
              "(Wrapper)>[AdditiveSharingTensor]\n",
              "\t-> (Wrapper)>[PointerTensor | me:34868780781 -> bob:56026770914]\n",
              "\t-> (Wrapper)>[PointerTensor | me:78276092707 -> alice:76987362942]\n",
              "\t-> (Wrapper)>[PointerTensor | me:47576807611 -> secure_worker:64647945349]\n",
              "\t*crypto provider: me*"
            ]
          },
          "metadata": {
            "tags": []
          },
          "execution_count": 60
        }
      ]
    },
    {
      "cell_type": "code",
      "metadata": {
        "id": "iFMNaGchvte2",
        "colab_type": "code",
        "colab": {
          "base_uri": "https://localhost:8080/",
          "height": 52
        },
        "outputId": "71ff3dc2-ca09-4016-d702-891a4786a912"
      },
      "source": [
        "bob._objects"
      ],
      "execution_count": 61,
      "outputs": [
        {
          "output_type": "execute_result",
          "data": {
            "text/plain": [
              "{56026770914: tensor([3872608970256795412, 3874236013703513915, 4588073900419218553,\n",
              "          369704292436714266,  399986568358771403])}"
            ]
          },
          "metadata": {
            "tags": []
          },
          "execution_count": 61
        }
      ]
    },
    {
      "cell_type": "code",
      "metadata": {
        "id": "ZSHIO0Gavthq",
        "colab_type": "code",
        "colab": {
          "base_uri": "https://localhost:8080/",
          "height": 52
        },
        "outputId": "fc0a0e21-5789-4aac-8544-21321da4813a"
      },
      "source": [
        "alice._objects"
      ],
      "execution_count": 62,
      "outputs": [
        {
          "output_type": "execute_result",
          "data": {
            "text/plain": [
              "{76987362942: tensor([-1604052243092631836, -2707457908598827083,  -552573919869168871,\n",
              "          1289559945729362148,   249962563086881744])}"
            ]
          },
          "metadata": {
            "tags": []
          },
          "execution_count": 62
        }
      ]
    },
    {
      "cell_type": "code",
      "metadata": {
        "id": "gqfe8bPFvtkd",
        "colab_type": "code",
        "colab": {
          "base_uri": "https://localhost:8080/",
          "height": 106
        },
        "outputId": "dfb634eb-abe0-4534-c1d1-1ec6535c2cf8"
      },
      "source": [
        "y = x + x\n",
        "y"
      ],
      "execution_count": 63,
      "outputs": [
        {
          "output_type": "execute_result",
          "data": {
            "text/plain": [
              "(Wrapper)>[AdditiveSharingTensor]\n",
              "\t-> (Wrapper)>[PointerTensor | me:65965424924 -> bob:47045607957]\n",
              "\t-> (Wrapper)>[PointerTensor | me:14643852280 -> alice:11868830632]\n",
              "\t-> (Wrapper)>[PointerTensor | me:21628621268 -> secure_worker:82960399997]\n",
              "\t*crypto provider: me*"
            ]
          },
          "metadata": {
            "tags": []
          },
          "execution_count": 63
        }
      ]
    },
    {
      "cell_type": "code",
      "metadata": {
        "id": "XzIw1VoUvtpK",
        "colab_type": "code",
        "colab": {
          "base_uri": "https://localhost:8080/",
          "height": 35
        },
        "outputId": "a3ab20c7-5a74-41c0-ec88-28c955ee586e"
      },
      "source": [
        "y.get()"
      ],
      "execution_count": 64,
      "outputs": [
        {
          "output_type": "execute_result",
          "data": {
            "text/plain": [
              "tensor([ 2,  4,  6,  8, 10])"
            ]
          },
          "metadata": {
            "tags": []
          },
          "execution_count": 64
        }
      ]
    },
    {
      "cell_type": "markdown",
      "metadata": {
        "id": "KS7Rsjy2wEae",
        "colab_type": "text"
      },
      "source": [
        "##Fixed Precision using PySyft"
      ]
    },
    {
      "cell_type": "code",
      "metadata": {
        "id": "U5ajTAAVvtsJ",
        "colab_type": "code",
        "colab": {
          "base_uri": "https://localhost:8080/",
          "height": 35
        },
        "outputId": "aedc4a23-573d-4d54-d88f-baee4da3168f"
      },
      "source": [
        "x = th.tensor([0.1,0.2,0.3])\n",
        "x"
      ],
      "execution_count": 65,
      "outputs": [
        {
          "output_type": "execute_result",
          "data": {
            "text/plain": [
              "tensor([0.1000, 0.2000, 0.3000])"
            ]
          },
          "metadata": {
            "tags": []
          },
          "execution_count": 65
        }
      ]
    },
    {
      "cell_type": "code",
      "metadata": {
        "id": "-d21EUQDvt7c",
        "colab_type": "code",
        "colab": {}
      },
      "source": [
        "x = x.fix_prec()"
      ],
      "execution_count": 0,
      "outputs": []
    },
    {
      "cell_type": "code",
      "metadata": {
        "id": "J-AYyO4uvt-5",
        "colab_type": "code",
        "colab": {
          "base_uri": "https://localhost:8080/",
          "height": 35
        },
        "outputId": "995d3ad4-02c6-4659-94f9-cc415cd3548c"
      },
      "source": [
        "x"
      ],
      "execution_count": 67,
      "outputs": [
        {
          "output_type": "execute_result",
          "data": {
            "text/plain": [
              "(Wrapper)>FixedPrecisionTensor>tensor([100, 200, 300])"
            ]
          },
          "metadata": {
            "tags": []
          },
          "execution_count": 67
        }
      ]
    },
    {
      "cell_type": "code",
      "metadata": {
        "id": "JiOsSkYsvuBX",
        "colab_type": "code",
        "colab": {
          "base_uri": "https://localhost:8080/",
          "height": 35
        },
        "outputId": "d685674f-9f02-4e3a-b08a-387649986c56"
      },
      "source": [
        "y = x + x\n",
        "y"
      ],
      "execution_count": 69,
      "outputs": [
        {
          "output_type": "execute_result",
          "data": {
            "text/plain": [
              "(Wrapper)>FixedPrecisionTensor>tensor([200, 400, 600])"
            ]
          },
          "metadata": {
            "tags": []
          },
          "execution_count": 69
        }
      ]
    },
    {
      "cell_type": "code",
      "metadata": {
        "id": "EaOa-AytMQEu",
        "colab_type": "code",
        "colab": {
          "base_uri": "https://localhost:8080/",
          "height": 35
        },
        "outputId": "9375b820-f73c-4443-8a6b-e6e6a87d146e"
      },
      "source": [
        "type(x)"
      ],
      "execution_count": 68,
      "outputs": [
        {
          "output_type": "execute_result",
          "data": {
            "text/plain": [
              "syft.frameworks.torch.tensors.interpreters.native.Tensor"
            ]
          },
          "metadata": {
            "tags": []
          },
          "execution_count": 68
        }
      ]
    },
    {
      "cell_type": "code",
      "metadata": {
        "id": "pyGFLa44vuDT",
        "colab_type": "code",
        "colab": {
          "base_uri": "https://localhost:8080/",
          "height": 35
        },
        "outputId": "d5f15a27-2ef0-46bd-dee5-d725bdea6142"
      },
      "source": [
        "y = y.float_prec()\n",
        "y"
      ],
      "execution_count": 70,
      "outputs": [
        {
          "output_type": "execute_result",
          "data": {
            "text/plain": [
              "tensor([0.2000, 0.4000, 0.6000])"
            ]
          },
          "metadata": {
            "tags": []
          },
          "execution_count": 70
        }
      ]
    },
    {
      "cell_type": "markdown",
      "metadata": {
        "id": "1Wchrra5wPD1",
        "colab_type": "text"
      },
      "source": [
        "##Shared Fixed Precision"
      ]
    },
    {
      "cell_type": "code",
      "metadata": {
        "id": "nIbV94_KvtnM",
        "colab_type": "code",
        "colab": {}
      },
      "source": [
        "x = th.tensor([0.1, 0.2, 0.3])\n",
        "x = x.fix_prec().share(bob, alice, secure_worker)"
      ],
      "execution_count": 0,
      "outputs": []
    },
    {
      "cell_type": "code",
      "metadata": {
        "id": "cPV7ErYpMu86",
        "colab_type": "code",
        "colab": {
          "base_uri": "https://localhost:8080/",
          "height": 106
        },
        "outputId": "c0ccec02-4966-4c92-cf70-e632051df7a3"
      },
      "source": [
        "x"
      ],
      "execution_count": 72,
      "outputs": [
        {
          "output_type": "execute_result",
          "data": {
            "text/plain": [
              "(Wrapper)>FixedPrecisionTensor>(Wrapper)>[AdditiveSharingTensor]\n",
              "\t-> (Wrapper)>[PointerTensor | me:1056585884 -> bob:29027314579]\n",
              "\t-> (Wrapper)>[PointerTensor | me:43592471694 -> alice:88290247163]\n",
              "\t-> (Wrapper)>[PointerTensor | me:192075606 -> secure_worker:52409415714]\n",
              "\t*crypto provider: me*"
            ]
          },
          "metadata": {
            "tags": []
          },
          "execution_count": 72
        }
      ]
    },
    {
      "cell_type": "code",
      "metadata": {
        "id": "pis5HHcpvtEF",
        "colab_type": "code",
        "colab": {
          "base_uri": "https://localhost:8080/",
          "height": 106
        },
        "outputId": "7e1d0279-743a-448d-f674-dd7f66ebcb99"
      },
      "source": [
        "y = x + x\n",
        "y"
      ],
      "execution_count": 73,
      "outputs": [
        {
          "output_type": "execute_result",
          "data": {
            "text/plain": [
              "(Wrapper)>FixedPrecisionTensor>(Wrapper)>[AdditiveSharingTensor]\n",
              "\t-> (Wrapper)>[PointerTensor | me:60370084891 -> bob:63252406961]\n",
              "\t-> (Wrapper)>[PointerTensor | me:71037938492 -> alice:29960196020]\n",
              "\t-> (Wrapper)>[PointerTensor | me:63308745653 -> secure_worker:73163716851]\n",
              "\t*crypto provider: me*"
            ]
          },
          "metadata": {
            "tags": []
          },
          "execution_count": 73
        }
      ]
    },
    {
      "cell_type": "code",
      "metadata": {
        "id": "mdrYeSdzvs6s",
        "colab_type": "code",
        "colab": {
          "base_uri": "https://localhost:8080/",
          "height": 35
        },
        "outputId": "da1deef7-577c-4db9-8221-46e8151d9297"
      },
      "source": [
        "y.get().float_prec()"
      ],
      "execution_count": 74,
      "outputs": [
        {
          "output_type": "execute_result",
          "data": {
            "text/plain": [
              "tensor([0.2000, 0.4000, 0.6000])"
            ]
          },
          "metadata": {
            "tags": []
          },
          "execution_count": 74
        }
      ]
    }
  ]
}