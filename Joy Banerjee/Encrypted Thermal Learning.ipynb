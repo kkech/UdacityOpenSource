{
 "cells": [
  {
   "cell_type": "code",
   "execution_count": null,
   "metadata": {
    "colab": {
     "base_uri": "https://localhost:8080/",
     "height": 1000
    },
    "colab_type": "code",
    "executionInfo": {
     "elapsed": 43476,
     "status": "ok",
     "timestamp": 1566298023844,
     "user": {
      "displayName": "Joy Banerjee",
      "photoUrl": "https://lh6.googleusercontent.com/-Hae4gfXjtWM/AAAAAAAAAAI/AAAAAAAAAD8/IB1NnqcLaqk/s64/photo.jpg",
      "userId": "10135007801727712330"
     },
     "user_tz": -330
    },
    "id": "TdXZrW8bfAGI",
    "outputId": "ceb4706e-a485-4bc5-a61c-21f197caef25",
    "scrolled": true
   },
   "outputs": [
    {
     "name": "stdout",
     "output_type": "stream",
     "text": [
      "Collecting syft\n",
      "\u001b[?25l  Downloading https://files.pythonhosted.org/packages/5b/25/633ddb891b3c4927bd03311a04ece038387faecb46120b8429ed28c72c13/syft-0.1.23a1-py3-none-any.whl (251kB)\n",
      "\u001b[K     |████████████████████████████████| 256kB 2.8MB/s \n",
      "\u001b[?25hCollecting websocket-client>=0.56.0 (from syft)\n",
      "\u001b[?25l  Downloading https://files.pythonhosted.org/packages/29/19/44753eab1fdb50770ac69605527e8859468f3c0fd7dc5a76dd9c4dbd7906/websocket_client-0.56.0-py2.py3-none-any.whl (200kB)\n",
      "\u001b[K     |████████████████████████████████| 204kB 43.3MB/s \n",
      "\u001b[?25hCollecting flask-socketio>=3.3.2 (from syft)\n",
      "  Downloading https://files.pythonhosted.org/packages/66/44/edc4715af85671b943c18ac8345d0207972284a0cd630126ff5251faa08b/Flask_SocketIO-4.2.1-py2.py3-none-any.whl\n",
      "Requirement already satisfied: numpy>=1.14.0 in /usr/local/lib/python3.6/dist-packages (from syft) (1.16.4)\n",
      "Requirement already satisfied: tblib>=1.4.0 in /usr/local/lib/python3.6/dist-packages (from syft) (1.4.0)\n",
      "Collecting tf-encrypted!=0.5.7,>=0.5.4 (from syft)\n",
      "\u001b[?25l  Downloading https://files.pythonhosted.org/packages/1f/82/cf15aeac92525da2f794956712e7ebf418819390dec783430ee242b52d0b/tf_encrypted-0.5.8-py3-none-manylinux1_x86_64.whl (2.1MB)\n",
      "\u001b[K     |████████████████████████████████| 2.1MB 38.6MB/s \n",
      "\u001b[?25hRequirement already satisfied: torchvision==0.3.0 in /usr/local/lib/python3.6/dist-packages (from syft) (0.3.0)\n",
      "Collecting msgpack>=0.6.1 (from syft)\n",
      "\u001b[?25l  Downloading https://files.pythonhosted.org/packages/92/7e/ae9e91c1bb8d846efafd1f353476e3fd7309778b582d2fb4cea4cc15b9a2/msgpack-0.6.1-cp36-cp36m-manylinux1_x86_64.whl (248kB)\n",
      "\u001b[K     |████████████████████████████████| 256kB 45.6MB/s \n",
      "\u001b[?25hCollecting lz4>=2.1.6 (from syft)\n",
      "\u001b[?25l  Downloading https://files.pythonhosted.org/packages/0a/c6/96bbb3525a63ebc53ea700cc7d37ab9045542d33b4d262d0f0408ad9bbf2/lz4-2.1.10-cp36-cp36m-manylinux1_x86_64.whl (385kB)\n",
      "\u001b[K     |████████████████████████████████| 389kB 40.0MB/s \n",
      "\u001b[?25hCollecting websockets>=7.0 (from syft)\n",
      "\u001b[?25l  Downloading https://files.pythonhosted.org/packages/f0/4b/ad228451b1c071c5c52616b7d4298ebcfcac5ae8515ede959db19e4cd56d/websockets-8.0.2-cp36-cp36m-manylinux1_x86_64.whl (72kB)\n",
      "\u001b[K     |████████████████████████████████| 81kB 26.4MB/s \n",
      "\u001b[?25hRequirement already satisfied: scikit-learn>=0.21.0 in /usr/local/lib/python3.6/dist-packages (from syft) (0.21.3)\n",
      "Requirement already satisfied: torch==1.1 in /usr/local/lib/python3.6/dist-packages (from syft) (1.1.0)\n",
      "Requirement already satisfied: Flask>=1.0.2 in /usr/local/lib/python3.6/dist-packages (from syft) (1.1.1)\n",
      "Collecting zstd>=1.4.0.0 (from syft)\n",
      "\u001b[?25l  Downloading https://files.pythonhosted.org/packages/22/37/6a7ba746ebddbd6cd06de84367515d6bc239acd94fb3e0b1c85788176ca2/zstd-1.4.1.0.tar.gz (454kB)\n",
      "\u001b[K     |████████████████████████████████| 460kB 40.3MB/s \n",
      "\u001b[?25hRequirement already satisfied: six in /usr/local/lib/python3.6/dist-packages (from websocket-client>=0.56.0->syft) (1.12.0)\n",
      "Collecting python-socketio>=4.3.0 (from flask-socketio>=3.3.2->syft)\n",
      "\u001b[?25l  Downloading https://files.pythonhosted.org/packages/35/b0/22c3f785f23fec5c7a815f47c55d7e7946a67ae2129ff604148e939d3bdb/python_socketio-4.3.1-py2.py3-none-any.whl (49kB)\n",
      "\u001b[K     |████████████████████████████████| 51kB 17.3MB/s \n",
      "\u001b[?25hRequirement already satisfied: tensorflow<2,>=1.12.0 in /usr/local/lib/python3.6/dist-packages (from tf-encrypted!=0.5.7,>=0.5.4->syft) (1.14.0)\n",
      "Collecting pyyaml>=5.1 (from tf-encrypted!=0.5.7,>=0.5.4->syft)\n",
      "\u001b[?25l  Downloading https://files.pythonhosted.org/packages/e3/e8/b3212641ee2718d556df0f23f78de8303f068fe29cdaa7a91018849582fe/PyYAML-5.1.2.tar.gz (265kB)\n",
      "\u001b[K     |████████████████████████████████| 266kB 42.7MB/s \n",
      "\u001b[?25hRequirement already satisfied: pillow>=4.1.1 in /usr/local/lib/python3.6/dist-packages (from torchvision==0.3.0->syft) (4.3.0)\n",
      "Requirement already satisfied: joblib>=0.11 in /usr/local/lib/python3.6/dist-packages (from scikit-learn>=0.21.0->syft) (0.13.2)\n",
      "Requirement already satisfied: scipy>=0.17.0 in /usr/local/lib/python3.6/dist-packages (from scikit-learn>=0.21.0->syft) (1.3.1)\n",
      "Requirement already satisfied: Jinja2>=2.10.1 in /usr/local/lib/python3.6/dist-packages (from Flask>=1.0.2->syft) (2.10.1)\n",
      "Requirement already satisfied: Werkzeug>=0.15 in /usr/local/lib/python3.6/dist-packages (from Flask>=1.0.2->syft) (0.15.5)\n",
      "Requirement already satisfied: click>=5.1 in /usr/local/lib/python3.6/dist-packages (from Flask>=1.0.2->syft) (7.0)\n",
      "Requirement already satisfied: itsdangerous>=0.24 in /usr/local/lib/python3.6/dist-packages (from Flask>=1.0.2->syft) (1.1.0)\n",
      "Collecting python-engineio>=3.9.0 (from python-socketio>=4.3.0->flask-socketio>=3.3.2->syft)\n",
      "\u001b[?25l  Downloading https://files.pythonhosted.org/packages/2b/20/8e3ba16102ae2e245d70d9cb9fa48b076253fdb036dc43eea142294c2897/python_engineio-3.9.3-py2.py3-none-any.whl (119kB)\n",
      "\u001b[K     |████████████████████████████████| 122kB 42.9MB/s \n",
      "\u001b[?25hRequirement already satisfied: tensorboard<1.15.0,>=1.14.0 in /usr/local/lib/python3.6/dist-packages (from tensorflow<2,>=1.12.0->tf-encrypted!=0.5.7,>=0.5.4->syft) (1.14.0)\n",
      "Requirement already satisfied: wrapt>=1.11.1 in /usr/local/lib/python3.6/dist-packages (from tensorflow<2,>=1.12.0->tf-encrypted!=0.5.7,>=0.5.4->syft) (1.11.2)\n",
      "Requirement already satisfied: grpcio>=1.8.6 in /usr/local/lib/python3.6/dist-packages (from tensorflow<2,>=1.12.0->tf-encrypted!=0.5.7,>=0.5.4->syft) (1.15.0)\n",
      "Requirement already satisfied: termcolor>=1.1.0 in /usr/local/lib/python3.6/dist-packages (from tensorflow<2,>=1.12.0->tf-encrypted!=0.5.7,>=0.5.4->syft) (1.1.0)\n",
      "Requirement already satisfied: keras-applications>=1.0.6 in /usr/local/lib/python3.6/dist-packages (from tensorflow<2,>=1.12.0->tf-encrypted!=0.5.7,>=0.5.4->syft) (1.0.8)\n",
      "Requirement already satisfied: tensorflow-estimator<1.15.0rc0,>=1.14.0rc0 in /usr/local/lib/python3.6/dist-packages (from tensorflow<2,>=1.12.0->tf-encrypted!=0.5.7,>=0.5.4->syft) (1.14.0)\n",
      "Requirement already satisfied: astor>=0.6.0 in /usr/local/lib/python3.6/dist-packages (from tensorflow<2,>=1.12.0->tf-encrypted!=0.5.7,>=0.5.4->syft) (0.8.0)\n",
      "Requirement already satisfied: absl-py>=0.7.0 in /usr/local/lib/python3.6/dist-packages (from tensorflow<2,>=1.12.0->tf-encrypted!=0.5.7,>=0.5.4->syft) (0.7.1)\n",
      "Requirement already satisfied: keras-preprocessing>=1.0.5 in /usr/local/lib/python3.6/dist-packages (from tensorflow<2,>=1.12.0->tf-encrypted!=0.5.7,>=0.5.4->syft) (1.1.0)\n",
      "Requirement already satisfied: wheel>=0.26 in /usr/local/lib/python3.6/dist-packages (from tensorflow<2,>=1.12.0->tf-encrypted!=0.5.7,>=0.5.4->syft) (0.33.4)\n",
      "Requirement already satisfied: protobuf>=3.6.1 in /usr/local/lib/python3.6/dist-packages (from tensorflow<2,>=1.12.0->tf-encrypted!=0.5.7,>=0.5.4->syft) (3.7.1)\n",
      "Requirement already satisfied: google-pasta>=0.1.6 in /usr/local/lib/python3.6/dist-packages (from tensorflow<2,>=1.12.0->tf-encrypted!=0.5.7,>=0.5.4->syft) (0.1.7)\n",
      "Requirement already satisfied: gast>=0.2.0 in /usr/local/lib/python3.6/dist-packages (from tensorflow<2,>=1.12.0->tf-encrypted!=0.5.7,>=0.5.4->syft) (0.2.2)\n",
      "Requirement already satisfied: olefile in /usr/local/lib/python3.6/dist-packages (from pillow>=4.1.1->torchvision==0.3.0->syft) (0.46)\n",
      "Requirement already satisfied: MarkupSafe>=0.23 in /usr/local/lib/python3.6/dist-packages (from Jinja2>=2.10.1->Flask>=1.0.2->syft) (1.1.1)\n",
      "Requirement already satisfied: setuptools>=41.0.0 in /usr/local/lib/python3.6/dist-packages (from tensorboard<1.15.0,>=1.14.0->tensorflow<2,>=1.12.0->tf-encrypted!=0.5.7,>=0.5.4->syft) (41.0.1)\n",
      "Requirement already satisfied: markdown>=2.6.8 in /usr/local/lib/python3.6/dist-packages (from tensorboard<1.15.0,>=1.14.0->tensorflow<2,>=1.12.0->tf-encrypted!=0.5.7,>=0.5.4->syft) (3.1.1)\n",
      "Requirement already satisfied: h5py in /usr/local/lib/python3.6/dist-packages (from keras-applications>=1.0.6->tensorflow<2,>=1.12.0->tf-encrypted!=0.5.7,>=0.5.4->syft) (2.8.0)\n",
      "Building wheels for collected packages: zstd, pyyaml\n",
      "  Building wheel for zstd (setup.py) ... \u001b[?25l\u001b[?25hdone\n",
      "  Created wheel for zstd: filename=zstd-1.4.1.0-cp36-cp36m-linux_x86_64.whl size=1067070 sha256=fadab7e9e6ad7be2af36c2f369655804149e928de13cab092093501931e20ee9\n",
      "  Stored in directory: /root/.cache/pip/wheels/66/3f/ee/ac08c81af7c1b24a80c746df669ea3cb37542d27877d66ccf4\n",
      "  Building wheel for pyyaml (setup.py) ... \u001b[?25l\u001b[?25hdone\n",
      "  Created wheel for pyyaml: filename=PyYAML-5.1.2-cp36-cp36m-linux_x86_64.whl size=44105 sha256=64227058e2465565e5633680319e9fb83ec88e5a2a561a1c9af28d5981e4241c\n",
      "  Stored in directory: /root/.cache/pip/wheels/d9/45/dd/65f0b38450c47cf7e5312883deb97d065e030c5cca0a365030\n",
      "Successfully built zstd pyyaml\n",
      "Installing collected packages: websocket-client, python-engineio, python-socketio, flask-socketio, pyyaml, tf-encrypted, msgpack, lz4, websockets, zstd, syft\n",
      "  Found existing installation: PyYAML 3.13\n",
      "    Uninstalling PyYAML-3.13:\n",
      "      Successfully uninstalled PyYAML-3.13\n",
      "  Found existing installation: msgpack 0.5.6\n",
      "    Uninstalling msgpack-0.5.6:\n",
      "      Successfully uninstalled msgpack-0.5.6\n",
      "Successfully installed flask-socketio-4.2.1 lz4-2.1.10 msgpack-0.6.1 python-engineio-3.9.3 python-socketio-4.3.1 pyyaml-5.1.2 syft-0.1.23a1 tf-encrypted-0.5.8 websocket-client-0.56.0 websockets-8.0.2 zstd-1.4.1.0\n"
     ]
    }
   ],
   "source": [
    "!pip install syft  #If running this notebook on Google Colab"
   ]
  },
  {
   "cell_type": "code",
   "execution_count": null,
   "metadata": {},
   "outputs": [],
   "source": [
    "!unzip thermalTrain.zip"
   ]
  },
  {
   "cell_type": "code",
   "execution_count": 1,
   "metadata": {
    "colab": {},
    "colab_type": "code",
    "id": "9eclQ_LdfJ-u"
   },
   "outputs": [],
   "source": [
    "import torch\n",
    "import torch.nn as nn\n",
    "import torch.nn.functional as F\n",
    "import torch.optim as optim\n",
    "from torchvision import datasets, transforms\n",
    "\n",
    "import time"
   ]
  },
  {
   "cell_type": "code",
   "execution_count": 2,
   "metadata": {
    "colab": {},
    "colab_type": "code",
    "id": "o1FxPqq6fQS3"
   },
   "outputs": [],
   "source": [
    "class Arguments():\n",
    "    def __init__(self):\n",
    "        self.batch_size = 12\n",
    "        self.test_batch_size = 12\n",
    "        self.epochs = 10\n",
    "        self.lr = 0.02\n",
    "        self.seed = 1\n",
    "        self.log_interval = 1 # Log info at each batch\n",
    "        self.precision_fractional = 3\n",
    "\n",
    "args = Arguments()\n",
    "\n",
    "_ = torch.manual_seed(args.seed)"
   ]
  },
  {
   "cell_type": "code",
   "execution_count": 3,
   "metadata": {
    "colab": {
     "base_uri": "https://localhost:8080/",
     "height": 104
    },
    "colab_type": "code",
    "executionInfo": {
     "elapsed": 3715,
     "status": "ok",
     "timestamp": 1566298094406,
     "user": {
      "displayName": "Joy Banerjee",
      "photoUrl": "https://lh6.googleusercontent.com/-Hae4gfXjtWM/AAAAAAAAAAI/AAAAAAAAAD8/IB1NnqcLaqk/s64/photo.jpg",
      "userId": "10135007801727712330"
     },
     "user_tz": -330
    },
    "id": "uCetbW-gfSuF",
    "outputId": "e84f5291-0b11-4cd7-e7cf-4541ac229777"
   },
   "outputs": [
    {
     "name": "stderr",
     "output_type": "stream",
     "text": [
      "/home/joybanerjee/.local/lib/python3.6/site-packages/tensorflow/python/framework/dtypes.py:516: FutureWarning: Passing (type, 1) or '1type' as a synonym of type is deprecated; in a future version of numpy, it will be understood as (type, (1,)) / '(1,)type'.\n",
      "  _np_qint8 = np.dtype([(\"qint8\", np.int8, 1)])\n",
      "/home/joybanerjee/.local/lib/python3.6/site-packages/tensorflow/python/framework/dtypes.py:517: FutureWarning: Passing (type, 1) or '1type' as a synonym of type is deprecated; in a future version of numpy, it will be understood as (type, (1,)) / '(1,)type'.\n",
      "  _np_quint8 = np.dtype([(\"quint8\", np.uint8, 1)])\n",
      "/home/joybanerjee/.local/lib/python3.6/site-packages/tensorflow/python/framework/dtypes.py:518: FutureWarning: Passing (type, 1) or '1type' as a synonym of type is deprecated; in a future version of numpy, it will be understood as (type, (1,)) / '(1,)type'.\n",
      "  _np_qint16 = np.dtype([(\"qint16\", np.int16, 1)])\n",
      "/home/joybanerjee/.local/lib/python3.6/site-packages/tensorflow/python/framework/dtypes.py:519: FutureWarning: Passing (type, 1) or '1type' as a synonym of type is deprecated; in a future version of numpy, it will be understood as (type, (1,)) / '(1,)type'.\n",
      "  _np_quint16 = np.dtype([(\"quint16\", np.uint16, 1)])\n",
      "/home/joybanerjee/.local/lib/python3.6/site-packages/tensorflow/python/framework/dtypes.py:520: FutureWarning: Passing (type, 1) or '1type' as a synonym of type is deprecated; in a future version of numpy, it will be understood as (type, (1,)) / '(1,)type'.\n",
      "  _np_qint32 = np.dtype([(\"qint32\", np.int32, 1)])\n",
      "/home/joybanerjee/.local/lib/python3.6/site-packages/tensorflow/python/framework/dtypes.py:525: FutureWarning: Passing (type, 1) or '1type' as a synonym of type is deprecated; in a future version of numpy, it will be understood as (type, (1,)) / '(1,)type'.\n",
      "  np_resource = np.dtype([(\"resource\", np.ubyte, 1)])\n",
      "/home/joybanerjee/.local/lib/python3.6/site-packages/tensorboard/compat/tensorflow_stub/dtypes.py:541: FutureWarning: Passing (type, 1) or '1type' as a synonym of type is deprecated; in a future version of numpy, it will be understood as (type, (1,)) / '(1,)type'.\n",
      "  _np_qint8 = np.dtype([(\"qint8\", np.int8, 1)])\n",
      "/home/joybanerjee/.local/lib/python3.6/site-packages/tensorboard/compat/tensorflow_stub/dtypes.py:542: FutureWarning: Passing (type, 1) or '1type' as a synonym of type is deprecated; in a future version of numpy, it will be understood as (type, (1,)) / '(1,)type'.\n",
      "  _np_quint8 = np.dtype([(\"quint8\", np.uint8, 1)])\n",
      "/home/joybanerjee/.local/lib/python3.6/site-packages/tensorboard/compat/tensorflow_stub/dtypes.py:543: FutureWarning: Passing (type, 1) or '1type' as a synonym of type is deprecated; in a future version of numpy, it will be understood as (type, (1,)) / '(1,)type'.\n",
      "  _np_qint16 = np.dtype([(\"qint16\", np.int16, 1)])\n",
      "/home/joybanerjee/.local/lib/python3.6/site-packages/tensorboard/compat/tensorflow_stub/dtypes.py:544: FutureWarning: Passing (type, 1) or '1type' as a synonym of type is deprecated; in a future version of numpy, it will be understood as (type, (1,)) / '(1,)type'.\n",
      "  _np_quint16 = np.dtype([(\"quint16\", np.uint16, 1)])\n",
      "/home/joybanerjee/.local/lib/python3.6/site-packages/tensorboard/compat/tensorflow_stub/dtypes.py:545: FutureWarning: Passing (type, 1) or '1type' as a synonym of type is deprecated; in a future version of numpy, it will be understood as (type, (1,)) / '(1,)type'.\n",
      "  _np_qint32 = np.dtype([(\"qint32\", np.int32, 1)])\n",
      "/home/joybanerjee/.local/lib/python3.6/site-packages/tensorboard/compat/tensorflow_stub/dtypes.py:550: FutureWarning: Passing (type, 1) or '1type' as a synonym of type is deprecated; in a future version of numpy, it will be understood as (type, (1,)) / '(1,)type'.\n",
      "  np_resource = np.dtype([(\"resource\", np.ubyte, 1)])\n",
      "WARNING: Logging before flag parsing goes to stderr.\n",
      "W0821 00:01:31.007230 140704838477632 secure_random.py:26] Falling back to insecure randomness since the required custom op could not be found for the installed version of TensorFlow. Fix this by compiling custom ops. Missing file was '/home/joybanerjee/.local/lib/python3.6/site-packages/tf_encrypted/operations/secure_random/secure_random_module_tf_1.14.0.so'\n",
      "W0821 00:01:31.019000 140704838477632 deprecation_wrapper.py:119] From /home/joybanerjee/.local/lib/python3.6/site-packages/tf_encrypted/session.py:26: The name tf.Session is deprecated. Please use tf.compat.v1.Session instead.\n",
      "\n"
     ]
    }
   ],
   "source": [
    "import syft as sy  # import the Pysyft library\n",
    "hook = sy.TorchHook(torch)  # hook PyTorch to add extra functionalities like Federated and Encrypted Learning\n",
    "\n",
    "# simulation functions\n",
    "def connect_to_workers(n_workers):\n",
    "    return [\n",
    "        sy.VirtualWorker(hook, id=f\"worker{i+1}\")\n",
    "        for i in range(n_workers)\n",
    "    ]\n",
    "def connect_to_crypto_provider():\n",
    "    return sy.VirtualWorker(hook, id=\"crypto_provider\")\n",
    "\n",
    "workers = connect_to_workers(n_workers=2)\n",
    "crypto_provider = connect_to_crypto_provider()"
   ]
  },
  {
   "cell_type": "code",
   "execution_count": 4,
   "metadata": {
    "colab": {},
    "colab_type": "code",
    "id": "8bA1_6kGfVAd"
   },
   "outputs": [],
   "source": [
    "# We don't use the whole dataset for efficiency purpose, but feel free to increase these numbers\n",
    "def get_private_data_loaders(precision_fractional, workers, crypto_provider):\n",
    "    \n",
    "    def one_hot_of(index_tensor):\n",
    "        \"\"\"\n",
    "        Transform to one hot tensor\n",
    "        \n",
    "        Example:\n",
    "            [0, 3, 9]\n",
    "            =>\n",
    "            [[1., 0., 0., 0., 0., 0., 0., 0., 0., 0.],\n",
    "             [0., 0., 0., 1., 0., 0., 0., 0., 0., 0.],\n",
    "             [0., 0., 0., 0., 0., 0., 0., 0., 0., 1.]]\n",
    "            \n",
    "        \"\"\"\n",
    "        onehot_tensor = torch.zeros(*index_tensor.shape, 8) # 10 classes for MNIST\n",
    "        onehot_tensor = onehot_tensor.scatter(1, index_tensor.view(-1, 1), 1)\n",
    "        return onehot_tensor\n",
    "        \n",
    "    def secret_share(tensor):\n",
    "        \"\"\"\n",
    "        Transform to fixed precision and secret share a tensor\n",
    "        \"\"\"\n",
    "        return (\n",
    "            tensor\n",
    "            .fix_precision(precision_fractional=precision_fractional)\n",
    "            .share(*workers, crypto_provider=crypto_provider, requires_grad=True)\n",
    "        )\n",
    "    \n",
    "    transformationTrain = transforms.Compose([\n",
    "        transforms.Grayscale(),\n",
    "        transforms.Resize(size=(28,28)),\n",
    "        transforms.ToTensor(),\n",
    "        transforms.Normalize((0.1307,), (0.3081,))\n",
    "    ])\n",
    "\n",
    "    transformationTest = transforms.Compose([\n",
    "        transforms.Grayscale(),\n",
    "        transforms.Resize(size=(28,28)),\n",
    "        transforms.ToTensor(),\n",
    "        transforms.Normalize((0.1307,), (0.3081,))\n",
    "    ])\n",
    "    \n",
    "    train_loader = torch.utils.data.DataLoader(\n",
    "        datasets.ImageFolder('./dataset/train/',transform=transformationTrain),\n",
    "        batch_size=args.batch_size\n",
    "    )\n",
    "    \n",
    "\n",
    "    private_train_loader = [\n",
    "        (secret_share(data), \n",
    "         secret_share(one_hot_of(target)))\n",
    "        for i, (data, target) in enumerate(train_loader)\n",
    "    ]\n",
    "    \n",
    "    test_loader = torch.utils.data.DataLoader(\n",
    "        datasets.ImageFolder('./dataset/test/',transform=transformationTest),\n",
    "        batch_size=args.test_batch_size\n",
    "    )\n",
    "    \n",
    "    private_test_loader = [\n",
    "        (secret_share(data), \n",
    "         secret_share(target.float()))\n",
    "        for i, (data, target) in enumerate(test_loader)\n",
    "    ]\n",
    "    \n",
    "    return private_train_loader, private_test_loader\n",
    "    \n",
    "    \n",
    "private_train_loader, private_test_loader = get_private_data_loaders(\n",
    "    precision_fractional=args.precision_fractional,\n",
    "    workers=workers,\n",
    "    crypto_provider=crypto_provider\n",
    ")"
   ]
  },
  {
   "cell_type": "code",
   "execution_count": 5,
   "metadata": {
    "colab": {},
    "colab_type": "code",
    "id": "A-F0-6FvfYOx"
   },
   "outputs": [],
   "source": [
    "class Net(nn.Module):\n",
    "    def __init__(self):\n",
    "        super(Net, self).__init__()\n",
    "        self.fc1 = nn.Linear(28 * 28, 128)\n",
    "        self.fc2 = nn.Linear(128, 64)\n",
    "        self.fc3 = nn.Linear(64, 8)\n",
    "\n",
    "    def forward(self, x):\n",
    "        x = x.view(-1, 28 * 28)\n",
    "        x = F.relu(self.fc1(x))\n",
    "        x = F.relu(self.fc2(x))\n",
    "        x = self.fc3(x)\n",
    "        return x"
   ]
  },
  {
   "cell_type": "code",
   "execution_count": 6,
   "metadata": {
    "colab": {},
    "colab_type": "code",
    "id": "yX99Gnd7feWN"
   },
   "outputs": [],
   "source": [
    "def train(args, model, private_train_loader, optimizer, epoch):\n",
    "    model.train()\n",
    "    for batch_idx, (data, target) in enumerate(private_train_loader): # <-- now it is a private dataset\n",
    "        start_time = time.time()\n",
    "        \n",
    "        optimizer.zero_grad()\n",
    "        \n",
    "        output = model(data)\n",
    "        \n",
    "        # loss = F.nll_loss(output, target)  <-- not possible here\n",
    "        batch_size = output.shape[0]\n",
    "        loss = ((output - target)**2).sum().refresh()/batch_size\n",
    "        \n",
    "        loss.backward()\n",
    "\n",
    "        optimizer.step()\n",
    "\n",
    "        if batch_idx % args.log_interval == 0:\n",
    "            loss = loss.get().float_precision()\n",
    "            print('Train Epoch: {} [{}/{} ({:.0f}%)]\\tLoss: {:.6f}\\tTime: {:.3f}s'.format(\n",
    "                epoch, batch_idx * args.batch_size, len(private_train_loader) * args.batch_size,\n",
    "                100. * batch_idx / len(private_train_loader), loss.item(), time.time() - start_time))"
   ]
  },
  {
   "cell_type": "code",
   "execution_count": 7,
   "metadata": {
    "colab": {},
    "colab_type": "code",
    "id": "1ojvAiZOfhg2"
   },
   "outputs": [],
   "source": [
    "def test(args, model, private_test_loader):\n",
    "    model.eval()\n",
    "    test_loss = 0\n",
    "    correct = 0\n",
    "    with torch.no_grad():\n",
    "        for data, target in private_test_loader:\n",
    "            start_time = time.time()\n",
    "            \n",
    "            output = model(data)\n",
    "            pred = output.argmax(dim=1)\n",
    "            correct += pred.eq(target.view_as(pred)).sum()\n",
    "\n",
    "    correct = correct.get().float_precision()\n",
    "    print('\\nTest set: Accuracy: {}/{} ({:.0f}%)\\n'.format(\n",
    "        correct.item(), len(private_test_loader)* args.test_batch_size,\n",
    "        100. * correct.item() / (len(private_test_loader) * args.test_batch_size)))\n",
    "    return 100. * correct.item() / (len(private_test_loader) * args.test_batch_size)"
   ]
  },
  {
   "cell_type": "code",
   "execution_count": 8,
   "metadata": {},
   "outputs": [
    {
     "name": "stdout",
     "output_type": "stream",
     "text": [
      "Model found and loaded\n"
     ]
    }
   ],
   "source": [
    "model = Net()\n",
    "try:\n",
    "  model.load_state_dict(torch.load('littleThermalNet.pt'))\n",
    "  print('Model found and loaded')\n",
    "except Exception as e:\n",
    "  print(e)\n",
    "\n",
    "model = model.fix_precision().share(*workers, crypto_provider=crypto_provider, requires_grad=True)"
   ]
  },
  {
   "cell_type": "markdown",
   "metadata": {},
   "source": [
    "<h2>Run Training</h2>"
   ]
  },
  {
   "cell_type": "code",
   "execution_count": 8,
   "metadata": {
    "colab": {
     "base_uri": "https://localhost:8080/",
     "height": 1000
    },
    "colab_type": "code",
    "executionInfo": {
     "elapsed": 968581,
     "status": "ok",
     "timestamp": 1566303384585,
     "user": {
      "displayName": "Joy Banerjee",
      "photoUrl": "https://lh6.googleusercontent.com/-Hae4gfXjtWM/AAAAAAAAAAI/AAAAAAAAAD8/IB1NnqcLaqk/s64/photo.jpg",
      "userId": "10135007801727712330"
     },
     "user_tz": -330
    },
    "id": "PxM2KGS1fke1",
    "outputId": "ceaf8730-b83f-44c8-a6fc-fe55bf17c1ab",
    "scrolled": true
   },
   "outputs": [
    {
     "name": "stdout",
     "output_type": "stream",
     "text": [
      "Model found and loaded\n",
      "Train Epoch: 1 [0/240 (0%)]\tLoss: 0.004000\tTime: 1.030s\n",
      "Train Epoch: 1 [12/240 (5%)]\tLoss: 0.041000\tTime: 1.037s\n",
      "Train Epoch: 1 [24/240 (10%)]\tLoss: 0.045000\tTime: 1.086s\n",
      "Train Epoch: 1 [36/240 (15%)]\tLoss: 0.106000\tTime: 1.052s\n",
      "Train Epoch: 1 [48/240 (20%)]\tLoss: 0.077000\tTime: 1.050s\n",
      "Train Epoch: 1 [60/240 (25%)]\tLoss: 0.070000\tTime: 1.089s\n",
      "Train Epoch: 1 [72/240 (30%)]\tLoss: 0.035000\tTime: 1.047s\n",
      "Train Epoch: 1 [84/240 (35%)]\tLoss: 0.007000\tTime: 1.052s\n",
      "Train Epoch: 1 [96/240 (40%)]\tLoss: 0.009000\tTime: 1.055s\n",
      "Train Epoch: 1 [108/240 (45%)]\tLoss: 0.039000\tTime: 1.045s\n",
      "Train Epoch: 1 [120/240 (50%)]\tLoss: 0.041000\tTime: 1.040s\n",
      "Train Epoch: 1 [132/240 (55%)]\tLoss: 0.096000\tTime: 1.034s\n",
      "Train Epoch: 1 [144/240 (60%)]\tLoss: 0.082000\tTime: 1.052s\n",
      "Train Epoch: 1 [156/240 (65%)]\tLoss: 0.019000\tTime: 1.049s\n",
      "Train Epoch: 1 [168/240 (70%)]\tLoss: 0.094000\tTime: 1.059s\n",
      "Train Epoch: 1 [180/240 (75%)]\tLoss: 0.134000\tTime: 1.054s\n",
      "Train Epoch: 1 [192/240 (80%)]\tLoss: 0.118000\tTime: 1.061s\n",
      "Train Epoch: 1 [204/240 (85%)]\tLoss: 0.064000\tTime: 1.096s\n",
      "Train Epoch: 1 [216/240 (90%)]\tLoss: 0.021000\tTime: 1.051s\n",
      "Train Epoch: 1 [228/240 (95%)]\tLoss: 0.009000\tTime: 0.815s\n",
      "\n",
      "Test set: Accuracy: 165.0/180 (92%)\n",
      "\n",
      "Model Saved\n",
      "Train Epoch: 2 [0/240 (0%)]\tLoss: 0.008000\tTime: 1.029s\n",
      "Train Epoch: 2 [12/240 (5%)]\tLoss: 0.043000\tTime: 1.036s\n",
      "Train Epoch: 2 [24/240 (10%)]\tLoss: 0.027000\tTime: 1.031s\n",
      "Train Epoch: 2 [36/240 (15%)]\tLoss: 0.080000\tTime: 1.030s\n",
      "Train Epoch: 2 [48/240 (20%)]\tLoss: 0.028000\tTime: 1.033s\n",
      "Train Epoch: 2 [60/240 (25%)]\tLoss: 0.095000\tTime: 1.026s\n",
      "Train Epoch: 2 [72/240 (30%)]\tLoss: 0.059000\tTime: 1.023s\n",
      "Train Epoch: 2 [84/240 (35%)]\tLoss: 0.008000\tTime: 1.024s\n",
      "Train Epoch: 2 [96/240 (40%)]\tLoss: 0.008000\tTime: 1.036s\n",
      "Train Epoch: 2 [108/240 (45%)]\tLoss: 0.020000\tTime: 1.026s\n",
      "Train Epoch: 2 [120/240 (50%)]\tLoss: 0.028000\tTime: 1.025s\n",
      "Train Epoch: 2 [132/240 (55%)]\tLoss: 0.077000\tTime: 1.028s\n",
      "Train Epoch: 2 [144/240 (60%)]\tLoss: 0.074000\tTime: 1.143s\n",
      "Train Epoch: 2 [156/240 (65%)]\tLoss: 0.015000\tTime: 1.058s\n",
      "Train Epoch: 2 [168/240 (70%)]\tLoss: 0.074000\tTime: 1.161s\n",
      "Train Epoch: 2 [180/240 (75%)]\tLoss: 0.098000\tTime: 1.075s\n",
      "Train Epoch: 2 [192/240 (80%)]\tLoss: 0.100000\tTime: 1.070s\n",
      "Train Epoch: 2 [204/240 (85%)]\tLoss: 0.074000\tTime: 1.048s\n",
      "Train Epoch: 2 [216/240 (90%)]\tLoss: 0.021000\tTime: 1.165s\n",
      "Train Epoch: 2 [228/240 (95%)]\tLoss: 0.014000\tTime: 0.787s\n",
      "\n",
      "Test set: Accuracy: 165.0/180 (92%)\n",
      "\n",
      "Train Epoch: 3 [0/240 (0%)]\tLoss: 0.016000\tTime: 1.032s\n",
      "Train Epoch: 3 [12/240 (5%)]\tLoss: 0.079000\tTime: 1.029s\n",
      "Train Epoch: 3 [24/240 (10%)]\tLoss: 0.021000\tTime: 1.038s\n",
      "Train Epoch: 3 [36/240 (15%)]\tLoss: 0.062000\tTime: 1.031s\n",
      "Train Epoch: 3 [48/240 (20%)]\tLoss: 0.022000\tTime: 1.037s\n",
      "Train Epoch: 3 [60/240 (25%)]\tLoss: 0.044000\tTime: 1.033s\n",
      "Train Epoch: 3 [72/240 (30%)]\tLoss: 0.037000\tTime: 1.027s\n",
      "Train Epoch: 3 [84/240 (35%)]\tLoss: 0.009000\tTime: 1.032s\n",
      "Train Epoch: 3 [96/240 (40%)]\tLoss: 0.007000\tTime: 1.034s\n",
      "Train Epoch: 3 [108/240 (45%)]\tLoss: 0.016000\tTime: 1.046s\n",
      "Train Epoch: 3 [120/240 (50%)]\tLoss: 0.022000\tTime: 1.027s\n",
      "Train Epoch: 3 [132/240 (55%)]\tLoss: 0.067000\tTime: 1.030s\n",
      "Train Epoch: 3 [144/240 (60%)]\tLoss: 0.065000\tTime: 1.059s\n",
      "Train Epoch: 3 [156/240 (65%)]\tLoss: 0.009000\tTime: 1.139s\n",
      "Train Epoch: 3 [168/240 (70%)]\tLoss: 0.059000\tTime: 1.037s\n",
      "Train Epoch: 3 [180/240 (75%)]\tLoss: 0.061000\tTime: 1.031s\n",
      "Train Epoch: 3 [192/240 (80%)]\tLoss: 0.092000\tTime: 1.041s\n",
      "Train Epoch: 3 [204/240 (85%)]\tLoss: 0.070000\tTime: 1.034s\n",
      "Train Epoch: 3 [216/240 (90%)]\tLoss: 0.036000\tTime: 1.032s\n",
      "Train Epoch: 3 [228/240 (95%)]\tLoss: 0.036000\tTime: 0.793s\n",
      "\n",
      "Test set: Accuracy: 166.0/180 (92%)\n",
      "\n",
      "Model Saved\n",
      "Train Epoch: 4 [0/240 (0%)]\tLoss: 0.048000\tTime: 1.027s\n",
      "Train Epoch: 4 [12/240 (5%)]\tLoss: 0.120000\tTime: 1.041s\n",
      "Train Epoch: 4 [24/240 (10%)]\tLoss: 0.019000\tTime: 1.029s\n",
      "Train Epoch: 4 [36/240 (15%)]\tLoss: 0.056000\tTime: 1.028s\n",
      "Train Epoch: 4 [48/240 (20%)]\tLoss: 0.031000\tTime: 1.041s\n",
      "Train Epoch: 4 [60/240 (25%)]\tLoss: 0.068000\tTime: 1.039s\n",
      "Train Epoch: 4 [72/240 (30%)]\tLoss: 0.028000\tTime: 1.035s\n",
      "Train Epoch: 4 [84/240 (35%)]\tLoss: 0.005000\tTime: 1.037s\n",
      "Train Epoch: 4 [96/240 (40%)]\tLoss: 0.007000\tTime: 1.033s\n",
      "Train Epoch: 4 [108/240 (45%)]\tLoss: 0.013000\tTime: 1.102s\n",
      "Train Epoch: 4 [120/240 (50%)]\tLoss: 0.020000\tTime: 1.122s\n",
      "Train Epoch: 4 [132/240 (55%)]\tLoss: 0.054000\tTime: 1.060s\n",
      "Train Epoch: 4 [144/240 (60%)]\tLoss: 0.076000\tTime: 1.036s\n",
      "Train Epoch: 4 [156/240 (65%)]\tLoss: 0.031000\tTime: 1.049s\n",
      "Train Epoch: 4 [168/240 (70%)]\tLoss: 0.104000\tTime: 1.041s\n",
      "Train Epoch: 4 [180/240 (75%)]\tLoss: 0.082000\tTime: 1.037s\n",
      "Train Epoch: 4 [192/240 (80%)]\tLoss: 0.088000\tTime: 1.060s\n",
      "Train Epoch: 4 [204/240 (85%)]\tLoss: 0.074000\tTime: 1.039s\n",
      "Train Epoch: 4 [216/240 (90%)]\tLoss: 0.049000\tTime: 1.089s\n",
      "Train Epoch: 4 [228/240 (95%)]\tLoss: 0.095000\tTime: 0.791s\n",
      "\n",
      "Test set: Accuracy: 165.0/180 (92%)\n",
      "\n",
      "Train Epoch: 5 [0/240 (0%)]\tLoss: 0.298000\tTime: 1.061s\n",
      "Train Epoch: 5 [12/240 (5%)]\tLoss: 0.531000\tTime: 1.048s\n",
      "Train Epoch: 5 [24/240 (10%)]\tLoss: 0.034000\tTime: 1.046s\n",
      "Train Epoch: 5 [36/240 (15%)]\tLoss: 0.049000\tTime: 1.042s\n",
      "Train Epoch: 5 [48/240 (20%)]\tLoss: 0.037000\tTime: 1.036s\n",
      "Train Epoch: 5 [60/240 (25%)]\tLoss: 0.043000\tTime: 1.047s\n",
      "Train Epoch: 5 [72/240 (30%)]\tLoss: 0.029000\tTime: 1.038s\n",
      "Train Epoch: 5 [84/240 (35%)]\tLoss: 0.008000\tTime: 1.046s\n",
      "Train Epoch: 5 [96/240 (40%)]\tLoss: 0.007000\tTime: 1.041s\n",
      "Train Epoch: 5 [108/240 (45%)]\tLoss: 0.013000\tTime: 1.047s\n",
      "Train Epoch: 5 [120/240 (50%)]\tLoss: 0.024000\tTime: 1.042s\n",
      "Train Epoch: 5 [132/240 (55%)]\tLoss: 0.044000\tTime: 1.052s\n",
      "Train Epoch: 5 [144/240 (60%)]\tLoss: 0.098000\tTime: 1.045s\n",
      "Train Epoch: 5 [156/240 (65%)]\tLoss: 0.022000\tTime: 1.052s\n",
      "Train Epoch: 5 [168/240 (70%)]\tLoss: 0.080000\tTime: 1.161s\n",
      "Train Epoch: 5 [180/240 (75%)]\tLoss: 0.045000\tTime: 1.074s\n",
      "Train Epoch: 5 [192/240 (80%)]\tLoss: 0.075000\tTime: 1.124s\n",
      "Train Epoch: 5 [204/240 (85%)]\tLoss: 0.091000\tTime: 1.055s\n",
      "Train Epoch: 5 [216/240 (90%)]\tLoss: 0.027000\tTime: 1.055s\n",
      "Train Epoch: 5 [228/240 (95%)]\tLoss: 0.020000\tTime: 0.806s\n",
      "\n",
      "Test set: Accuracy: 166.0/180 (92%)\n",
      "\n",
      "Train Epoch: 6 [0/240 (0%)]\tLoss: 0.189000\tTime: 1.040s\n",
      "Train Epoch: 6 [12/240 (5%)]\tLoss: 0.052000\tTime: 1.038s\n",
      "Train Epoch: 6 [24/240 (10%)]\tLoss: 0.024000\tTime: 1.042s\n",
      "Train Epoch: 6 [36/240 (15%)]\tLoss: 0.052000\tTime: 1.042s\n",
      "Train Epoch: 6 [48/240 (20%)]\tLoss: 0.042000\tTime: 1.039s\n",
      "Train Epoch: 6 [60/240 (25%)]\tLoss: 0.049000\tTime: 1.036s\n",
      "Train Epoch: 6 [72/240 (30%)]\tLoss: 0.025000\tTime: 1.039s\n",
      "Train Epoch: 6 [84/240 (35%)]\tLoss: 0.006000\tTime: 1.043s\n",
      "Train Epoch: 6 [96/240 (40%)]\tLoss: 0.005000\tTime: 1.043s\n",
      "Train Epoch: 6 [108/240 (45%)]\tLoss: 0.011000\tTime: 1.032s\n",
      "Train Epoch: 6 [120/240 (50%)]\tLoss: 0.017000\tTime: 1.041s\n",
      "Train Epoch: 6 [132/240 (55%)]\tLoss: 0.048000\tTime: 1.036s\n",
      "Train Epoch: 6 [144/240 (60%)]\tLoss: 0.062000\tTime: 1.046s\n",
      "Train Epoch: 6 [156/240 (65%)]\tLoss: 0.017000\tTime: 1.037s\n",
      "Train Epoch: 6 [168/240 (70%)]\tLoss: 0.052000\tTime: 1.041s\n",
      "Train Epoch: 6 [180/240 (75%)]\tLoss: 0.049000\tTime: 1.040s\n",
      "Train Epoch: 6 [192/240 (80%)]\tLoss: 0.073000\tTime: 1.037s\n",
      "Train Epoch: 6 [204/240 (85%)]\tLoss: 0.065000\tTime: 1.039s\n",
      "Train Epoch: 6 [216/240 (90%)]\tLoss: 0.026000\tTime: 1.049s\n",
      "Train Epoch: 6 [228/240 (95%)]\tLoss: 0.033000\tTime: 0.795s\n",
      "\n",
      "Test set: Accuracy: 165.0/180 (92%)\n",
      "\n",
      "Train Epoch: 7 [0/240 (0%)]\tLoss: 0.029000\tTime: 1.055s\n",
      "Train Epoch: 7 [12/240 (5%)]\tLoss: 0.032000\tTime: 1.053s\n",
      "Train Epoch: 7 [24/240 (10%)]\tLoss: 0.015000\tTime: 1.041s\n",
      "Train Epoch: 7 [36/240 (15%)]\tLoss: 0.037000\tTime: 1.036s\n",
      "Train Epoch: 7 [48/240 (20%)]\tLoss: 0.018000\tTime: 1.045s\n",
      "Train Epoch: 7 [60/240 (25%)]\tLoss: 0.036000\tTime: 1.041s\n",
      "Train Epoch: 7 [72/240 (30%)]\tLoss: 0.021000\tTime: 1.040s\n",
      "Train Epoch: 7 [84/240 (35%)]\tLoss: 0.006000\tTime: 1.037s\n",
      "Train Epoch: 7 [96/240 (40%)]\tLoss: 0.005000\tTime: 1.037s\n",
      "Train Epoch: 7 [108/240 (45%)]\tLoss: 0.010000\tTime: 1.038s\n",
      "Train Epoch: 7 [120/240 (50%)]\tLoss: 0.015000\tTime: 1.045s\n",
      "Train Epoch: 7 [132/240 (55%)]\tLoss: 0.039000\tTime: 1.042s\n",
      "Train Epoch: 7 [144/240 (60%)]\tLoss: 0.037000\tTime: 1.042s\n",
      "Train Epoch: 7 [156/240 (65%)]\tLoss: 0.007000\tTime: 1.051s\n",
      "Train Epoch: 7 [168/240 (70%)]\tLoss: 0.031000\tTime: 1.049s\n",
      "Train Epoch: 7 [180/240 (75%)]\tLoss: 0.028000\tTime: 1.094s\n",
      "Train Epoch: 7 [192/240 (80%)]\tLoss: 0.060000\tTime: 1.100s\n",
      "Train Epoch: 7 [204/240 (85%)]\tLoss: 0.056000\tTime: 1.097s\n",
      "Train Epoch: 7 [216/240 (90%)]\tLoss: 0.017000\tTime: 1.105s\n",
      "Train Epoch: 7 [228/240 (95%)]\tLoss: 0.009000\tTime: 0.868s\n",
      "\n",
      "Test set: Accuracy: 166.0/180 (92%)\n",
      "\n",
      "Train Epoch: 8 [0/240 (0%)]\tLoss: 0.007000\tTime: 1.084s\n",
      "Train Epoch: 8 [12/240 (5%)]\tLoss: 0.026000\tTime: 1.090s\n",
      "Train Epoch: 8 [24/240 (10%)]\tLoss: 0.014000\tTime: 1.091s\n",
      "Train Epoch: 8 [36/240 (15%)]\tLoss: 0.033000\tTime: 1.100s\n",
      "Train Epoch: 8 [48/240 (20%)]\tLoss: 0.024000\tTime: 1.110s\n",
      "Train Epoch: 8 [60/240 (25%)]\tLoss: 0.024000\tTime: 1.099s\n",
      "Train Epoch: 8 [72/240 (30%)]\tLoss: 0.027000\tTime: 1.094s\n",
      "Train Epoch: 8 [84/240 (35%)]\tLoss: 0.005000\tTime: 1.101s\n",
      "Train Epoch: 8 [96/240 (40%)]\tLoss: 0.004000\tTime: 1.097s\n",
      "Train Epoch: 8 [108/240 (45%)]\tLoss: 0.011000\tTime: 1.107s\n",
      "Train Epoch: 8 [120/240 (50%)]\tLoss: 0.014000\tTime: 1.103s\n",
      "Train Epoch: 8 [132/240 (55%)]\tLoss: 0.035000\tTime: 1.105s\n",
      "Train Epoch: 8 [144/240 (60%)]\tLoss: 0.031000\tTime: 1.102s\n",
      "Train Epoch: 8 [156/240 (65%)]\tLoss: 0.006000\tTime: 1.107s\n",
      "Train Epoch: 8 [168/240 (70%)]\tLoss: 0.028000\tTime: 1.105s\n",
      "Train Epoch: 8 [180/240 (75%)]\tLoss: 0.026000\tTime: 1.110s\n",
      "Train Epoch: 8 [192/240 (80%)]\tLoss: 0.058000\tTime: 1.106s\n",
      "Train Epoch: 8 [204/240 (85%)]\tLoss: 0.038000\tTime: 1.235s\n",
      "Train Epoch: 8 [216/240 (90%)]\tLoss: 0.016000\tTime: 1.165s\n",
      "Train Epoch: 8 [228/240 (95%)]\tLoss: 0.018000\tTime: 0.862s\n",
      "\n",
      "Test set: Accuracy: 166.0/180 (92%)\n",
      "\n",
      "Train Epoch: 9 [0/240 (0%)]\tLoss: 0.005000\tTime: 1.249s\n",
      "Train Epoch: 9 [12/240 (5%)]\tLoss: 0.026000\tTime: 1.153s\n",
      "Train Epoch: 9 [24/240 (10%)]\tLoss: 0.013000\tTime: 1.139s\n",
      "Train Epoch: 9 [36/240 (15%)]\tLoss: 0.027000\tTime: 1.139s\n",
      "Train Epoch: 9 [48/240 (20%)]\tLoss: 0.021000\tTime: 1.118s\n",
      "Train Epoch: 9 [60/240 (25%)]\tLoss: 0.032000\tTime: 1.106s\n",
      "Train Epoch: 9 [72/240 (30%)]\tLoss: 0.020000\tTime: 1.127s\n",
      "Train Epoch: 9 [84/240 (35%)]\tLoss: 0.007000\tTime: 1.263s\n",
      "Train Epoch: 9 [96/240 (40%)]\tLoss: 0.003000\tTime: 1.262s\n",
      "Train Epoch: 9 [108/240 (45%)]\tLoss: 0.008000\tTime: 1.146s\n",
      "Train Epoch: 9 [120/240 (50%)]\tLoss: 0.014000\tTime: 1.202s\n",
      "Train Epoch: 9 [132/240 (55%)]\tLoss: 0.028000\tTime: 1.196s\n",
      "Train Epoch: 9 [144/240 (60%)]\tLoss: 0.036000\tTime: 1.117s\n",
      "Train Epoch: 9 [156/240 (65%)]\tLoss: 0.015000\tTime: 1.047s\n",
      "Train Epoch: 9 [168/240 (70%)]\tLoss: 0.032000\tTime: 1.044s\n",
      "Train Epoch: 9 [180/240 (75%)]\tLoss: 0.025000\tTime: 1.039s\n",
      "Train Epoch: 9 [192/240 (80%)]\tLoss: 0.050000\tTime: 1.313s\n",
      "Train Epoch: 9 [204/240 (85%)]\tLoss: 0.042000\tTime: 1.096s\n",
      "Train Epoch: 9 [216/240 (90%)]\tLoss: 0.013000\tTime: 1.043s\n",
      "Train Epoch: 9 [228/240 (95%)]\tLoss: 0.006000\tTime: 0.863s\n",
      "\n",
      "Test set: Accuracy: 166.0/180 (92%)\n",
      "\n",
      "Train Epoch: 10 [0/240 (0%)]\tLoss: 0.004000\tTime: 1.052s\n",
      "Train Epoch: 10 [12/240 (5%)]\tLoss: 0.024000\tTime: 1.051s\n",
      "Train Epoch: 10 [24/240 (10%)]\tLoss: 0.012000\tTime: 1.046s\n",
      "Train Epoch: 10 [36/240 (15%)]\tLoss: 0.025000\tTime: 1.050s\n",
      "Train Epoch: 10 [48/240 (20%)]\tLoss: 0.019000\tTime: 1.066s\n",
      "Train Epoch: 10 [60/240 (25%)]\tLoss: 0.019000\tTime: 1.052s\n",
      "Train Epoch: 10 [72/240 (30%)]\tLoss: 0.031000\tTime: 1.052s\n",
      "Train Epoch: 10 [84/240 (35%)]\tLoss: 0.004000\tTime: 1.054s\n",
      "Train Epoch: 10 [96/240 (40%)]\tLoss: 0.004000\tTime: 1.062s\n",
      "Train Epoch: 10 [108/240 (45%)]\tLoss: 0.008000\tTime: 1.052s\n",
      "Train Epoch: 10 [120/240 (50%)]\tLoss: 0.013000\tTime: 1.057s\n",
      "Train Epoch: 10 [132/240 (55%)]\tLoss: 0.030000\tTime: 1.061s\n",
      "Train Epoch: 10 [144/240 (60%)]\tLoss: 0.028000\tTime: 1.108s\n",
      "Train Epoch: 10 [156/240 (65%)]\tLoss: 0.006000\tTime: 1.047s\n",
      "Train Epoch: 10 [168/240 (70%)]\tLoss: 0.037000\tTime: 1.049s\n",
      "Train Epoch: 10 [180/240 (75%)]\tLoss: 0.019000\tTime: 1.047s\n",
      "Train Epoch: 10 [192/240 (80%)]\tLoss: 0.047000\tTime: 1.072s\n",
      "Train Epoch: 10 [204/240 (85%)]\tLoss: 0.031000\tTime: 1.124s\n",
      "Train Epoch: 10 [216/240 (90%)]\tLoss: 0.012000\tTime: 1.185s\n",
      "Train Epoch: 10 [228/240 (95%)]\tLoss: 0.010000\tTime: 0.947s\n",
      "\n",
      "Test set: Accuracy: 166.0/180 (92%)\n",
      "\n"
     ]
    }
   ],
   "source": [
    "optimizer = optim.SGD(model.parameters(), lr=args.lr)\n",
    "optimizer = optimizer.fix_precision() \n",
    "maxPercent = 0\n",
    "\n",
    "for epoch in range(1, args.epochs + 1):\n",
    "    train(args, model, private_train_loader, optimizer, epoch)\n",
    "    currentPercent = test(args, model, private_test_loader)\n",
    "    if currentPercent > maxPercent:\n",
    "      print('Model Saved')\n",
    "      torch.save(model.get().float_precision().state_dict(), 'littleThermalNet.pt')\n",
    "      model = model.fix_precision().share(*workers, crypto_provider=crypto_provider, requires_grad=True)\n",
    "      maxPercent = currentPercent"
   ]
  },
  {
   "cell_type": "code",
   "execution_count": 9,
   "metadata": {
    "colab": {},
    "colab_type": "code",
    "id": "BfJDHwTzfnCF"
   },
   "outputs": [],
   "source": [
    "import cv2\n",
    "import numpy as np\n",
    "from PIL import Image"
   ]
  },
  {
   "cell_type": "code",
   "execution_count": 10,
   "metadata": {
    "colab": {
     "base_uri": "https://localhost:8080/",
     "height": 101
    },
    "colab_type": "code",
    "executionInfo": {
     "elapsed": 704,
     "status": "ok",
     "timestamp": 1566300307199,
     "user": {
      "displayName": "Joy Banerjee",
      "photoUrl": "https://lh6.googleusercontent.com/-Hae4gfXjtWM/AAAAAAAAAAI/AAAAAAAAAD8/IB1NnqcLaqk/s64/photo.jpg",
      "userId": "10135007801727712330"
     },
     "user_tz": -330
    },
    "id": "Dr6HB_WIHdMC",
    "outputId": "1eea5465-6e4b-4e14-b8b4-df06d0def417"
   },
   "outputs": [
    {
     "data": {
      "text/plain": [
       "Net(\n",
       "  (fc1): Linear(in_features=784, out_features=128, bias=True)\n",
       "  (fc2): Linear(in_features=128, out_features=64, bias=True)\n",
       "  (fc3): Linear(in_features=64, out_features=8, bias=True)\n",
       ")"
      ]
     },
     "execution_count": 10,
     "metadata": {},
     "output_type": "execute_result"
    }
   ],
   "source": [
    "model.eval()"
   ]
  },
  {
   "cell_type": "code",
   "execution_count": 11,
   "metadata": {
    "colab": {},
    "colab_type": "code",
    "id": "IXb2vIq1JORd"
   },
   "outputs": [],
   "source": [
    "def secret_share(tensor,precision_fractional,workers,crypto_provider):\n",
    "    \"\"\"\n",
    "    Transform to fixed precision and secret share a tensor\n",
    "    \"\"\"\n",
    "    return (\n",
    "        tensor\n",
    "        .fix_precision(precision_fractional=precision_fractional)\n",
    "        .share(*workers, crypto_provider=crypto_provider, requires_grad=True)\n",
    "    )\n",
    "def image_loader(image_name):\n",
    "    loader = transforms.Compose([transforms.Grayscale(),                                 \n",
    "                                transforms.Resize((28,28)),\n",
    "                                transforms.ToTensor(),\n",
    "                                transforms.Normalize((0.1307,), (0.3081,))   \n",
    "                                ])\n",
    "    image = loader(image_name)\n",
    "    image = image.cpu()\n",
    "    image = torch.autograd.Variable(image)\n",
    "    image = secret_share(image,args.precision_fractional,workers,crypto_provider)\n",
    "    return image"
   ]
  },
  {
   "cell_type": "code",
   "execution_count": 12,
   "metadata": {},
   "outputs": [],
   "source": [
    "labels = ['Nothing','Human','Coffee','Noodles','Phone','Laptop','Pi','Hand']"
   ]
  },
  {
   "cell_type": "markdown",
   "metadata": {},
   "source": [
    "<h2>Test Model</h2>"
   ]
  },
  {
   "cell_type": "code",
   "execution_count": 13,
   "metadata": {
    "colab": {
     "base_uri": "https://localhost:8080/",
     "height": 34
    },
    "colab_type": "code",
    "executionInfo": {
     "elapsed": 1409,
     "status": "ok",
     "timestamp": 1566300432961,
     "user": {
      "displayName": "Joy Banerjee",
      "photoUrl": "https://lh6.googleusercontent.com/-Hae4gfXjtWM/AAAAAAAAAAI/AAAAAAAAAD8/IB1NnqcLaqk/s64/photo.jpg",
      "userId": "10135007801727712330"
     },
     "user_tz": -330
    },
    "id": "M7v26dcGxmfG",
    "outputId": "f4709e64-40e3-47bf-870f-e750410d4e29"
   },
   "outputs": [
    {
     "data": {
      "text/plain": [
       "'Human'"
      ]
     },
     "execution_count": 13,
     "metadata": {},
     "output_type": "execute_result"
    }
   ],
   "source": [
    "img = cv2.imread('52.png', 0)\n",
    "img = Image.fromarray(img)\n",
    "out = model(image_loader(img))\n",
    "labels[out.get().float_precision().data.numpy().argmax()]"
   ]
  },
  {
   "cell_type": "code",
   "execution_count": 24,
   "metadata": {
    "colab": {},
    "colab_type": "code",
    "id": "_ciubx90gKiK"
   },
   "outputs": [
    {
     "name": "stdout",
     "output_type": "stream",
     "text": [
      "If you are running this on Google Colab, then copy and paste the following IP to your Pi 127.0.1.1\n"
     ]
    }
   ],
   "source": [
    "import socket\n",
    "import threading\n",
    "print('If you are running this on Google Colab, then copy and paste the following IP to your Pi : ',socket.gethostbyname(socket.getfqdn(socket.gethostname())))\n",
    "\n",
    "from flask import Flask, request, Response,jsonify\n",
    "import io\n",
    "import base64\n"
   ]
  },
  {
   "cell_type": "markdown",
   "metadata": {},
   "source": [
    "<h3>Disable Logging from Flask</h3>"
   ]
  },
  {
   "cell_type": "code",
   "execution_count": 15,
   "metadata": {},
   "outputs": [],
   "source": [
    "import logging\n",
    "log = logging.getLogger('werkzeug')\n",
    "log.setLevel(logging.ERROR)"
   ]
  },
  {
   "cell_type": "markdown",
   "metadata": {},
   "source": [
    "<h3>Algorithm for Image Scrambling and Unscrambling</h3>\n",
    "\n",
    "source : https://github.com/AtheMathmo/ImageEncryptor"
   ]
  },
  {
   "cell_type": "code",
   "execution_count": 16,
   "metadata": {},
   "outputs": [],
   "source": [
    "def basic_decrypt_unscramble(im):\n",
    "    y_size,x_size = im.shape\n",
    "    im = cv2.cvtColor(im,cv2.COLOR_GRAY2RGB)\n",
    "    for x in range(x_size):\n",
    "        for y in range(y_size):\n",
    "            pixel = im[y, x]\n",
    "            im[y, x] = tuple(int(c**3 % 256) for c in pixel)\n",
    "    im = cv2.cvtColor(im,cv2.COLOR_RGB2GRAY)\n",
    "    return im\n",
    "def basic_encrypt_scramble(im):\n",
    "    y_size,x_size = im.shape\n",
    "    im = cv2.cvtColor(im,cv2.COLOR_GRAY2RGB)\n",
    "    for x in range(x_size):\n",
    "        for y in range(y_size):\n",
    "            pixel = im[y, x]\n",
    "            coprime_pixel = ((c+1 if c % 2 == 0 else c) for c in pixel)\n",
    "            im[y, x] = tuple(int(c**43 % 256) for c in coprime_pixel)\n",
    "    im = cv2.cvtColor(im,cv2.COLOR_RGB2GRAY)\n",
    "    return im"
   ]
  },
  {
   "cell_type": "markdown",
   "metadata": {},
   "source": [
    "<h3>Running the Webserver</h3>"
   ]
  },
  {
   "cell_type": "code",
   "execution_count": 17,
   "metadata": {
    "scrolled": true
   },
   "outputs": [
    {
     "name": "stdout",
     "output_type": "stream",
     "text": [
      " * Serving Flask app \"__main__\" (lazy loading)\n",
      " * Environment: production\n",
      "   WARNING: This is a development server. Do not use it in a production deployment.\n",
      "   Use a production WSGI server instead.\n",
      " * Debug mode: off\n"
     ]
    }
   ],
   "source": [
    "app = Flask(__name__)\n",
    "@app.route('/savepic',methods=['POST'])  ##POST : image, name\n",
    "def savereq():\n",
    "    try:\n",
    "        image_stream = io.BytesIO()\n",
    "        image_stream.write(base64.b64decode(request.form['image']))\n",
    "        image_stream.seek(0)\n",
    "        img = Image.open(image_stream)\n",
    "        img = Image.fromarray(basic_decrypt_unscramble(np.array(img)))\n",
    "        if not os.path.exists('./dataset/'+request.form['name']):\n",
    "            os.makedirs('./dataset/'+request.form['name'])\n",
    "            no_of_files = '0'\n",
    "        else:\n",
    "            no_of_files = str(len(os.listdir('./dataset/'+request.form['name'])))\n",
    "        img.save('./dataset/'+request.form['name']+'/'+no_of_files+'.png')\n",
    "        return 'OK'\n",
    "    except:\n",
    "        return 'NOK'\n",
    "\n",
    "@app.route('/train',methods=['POST'])\n",
    "def train():\n",
    "    model = Net()\n",
    "    try:\n",
    "      model.load_state_dict(torch.load('littleThermalNet.pt'))\n",
    "      print('Model found and loaded')\n",
    "    except Exception as e:\n",
    "      print(e)\n",
    "\n",
    "    model = model.fix_precision().share(*workers, crypto_provider=crypto_provider, requires_grad=True)\n",
    "    optimizer = optim.SGD(model.parameters(), lr=args.lr)\n",
    "    optimizer = optimizer.fix_precision() \n",
    "    maxPercent = 0\n",
    "    \n",
    "    for epoch in range(1, args.epochs + 1):\n",
    "        train(args, model, private_train_loader, optimizer, epoch)\n",
    "        currentPercent = test(args, model, private_test_loader)\n",
    "        if currentPercent > maxPercent:\n",
    "          print('Model Saved')\n",
    "          torch.save(model.get().float_precision().state_dict(), 'littleThermalNet.pt')\n",
    "          model = model.fix_precision().share(*workers, crypto_provider=crypto_provider, requires_grad=True)\n",
    "          maxPercent = currentPercent\n",
    "            \n",
    "    return 'OK'\n",
    "            \n",
    "@app.route('/freshtrain',methods=['POST'])\n",
    "def fresh():\n",
    "    model = Net()\n",
    "    try:\n",
    "      model.load_state_dict(torch.load('littleThermalNet.pt'))\n",
    "      print('Model found and loaded')\n",
    "    except Exception as e:\n",
    "      print(e)\n",
    "\n",
    "    model = model.fix_precision().share(*workers, crypto_provider=crypto_provider, requires_grad=True)\n",
    "    \n",
    "    optimizer = optim.SGD(model.parameters(), lr=args.lr)\n",
    "    optimizer = optimizer.fix_precision() \n",
    "    maxPercent = 0\n",
    "\n",
    "    \n",
    "    for epoch in range(1, args.epochs + 1):\n",
    "        train(args, model, private_train_loader, optimizer, epoch)\n",
    "        currentPercent = test(args, model, private_test_loader)\n",
    "        if currentPercent > maxPercent:\n",
    "          print('Model Saved')\n",
    "          torch.save(model.get().float_precision().state_dict(), 'littleThermalNet.pt')\n",
    "          model = model.fix_precision().share(*workers, crypto_provider=crypto_provider, requires_grad=True)\n",
    "          maxPercent = currentPercent\n",
    "            \n",
    "    return 'OK'\n",
    "            \n",
    "@app.route('/infer',methods=['POST'])\n",
    "def inferreq():\n",
    "    image_stream = io.BytesIO()\n",
    "    image_stream.write(base64.b64decode(request.form['image']))\n",
    "    image_stream.seek(0)\n",
    "    img = Image.open(image_stream)\n",
    "    img = basic_decrypt_unscramble(np.array(img))\n",
    "    out = model(image_loader(Image.fromarray(img)))\n",
    "    result = out.get().float_precision().data.numpy().argmax()\n",
    "    return labels[result]\n",
    "\n",
    "threading.Thread(target=app.run, kwargs={'host':'0.0.0.0','port':5000}).start() "
   ]
  },
  {
   "cell_type": "markdown",
   "metadata": {},
   "source": [
    "<h2>Test Image Scrambling</h2>"
   ]
  },
  {
   "cell_type": "code",
   "execution_count": 19,
   "metadata": {},
   "outputs": [],
   "source": [
    "import matplotlib.pyplot as plt"
   ]
  },
  {
   "cell_type": "code",
   "execution_count": 20,
   "metadata": {},
   "outputs": [
    {
     "data": {
      "text/plain": [
       "<matplotlib.image.AxesImage at 0x7ff7a3515940>"
      ]
     },
     "execution_count": 20,
     "metadata": {},
     "output_type": "execute_result"
    },
    {
     "data": {
      "image/png": "[encoded data removed]",
      "text/plain": [
       "<Figure size 432x288 with 1 Axes>"
      ]
     },
     "metadata": {
      "needs_background": "light"
     },
     "output_type": "display_data"
    }
   ],
   "source": [
    "im = cv2.imread('human.png',0)\n",
    "plt.imshow(im)"
   ]
  },
  {
   "cell_type": "code",
   "execution_count": 21,
   "metadata": {},
   "outputs": [
    {
     "data": {
      "text/plain": [
       "<matplotlib.image.AxesImage at 0x7ff7a316d160>"
      ]
     },
     "execution_count": 21,
     "metadata": {},
     "output_type": "execute_result"
    },
    {
     "data": {
      "image/png": "[encoded data removed]",
      "text/plain": [
       "<Figure size 432x288 with 1 Axes>"
      ]
     },
     "metadata": {
      "needs_background": "light"
     },
     "output_type": "display_data"
    }
   ],
   "source": [
    "out = basic_encrypt_scramble(im)\n",
    "plt.imshow(out)"
   ]
  },
  {
   "cell_type": "code",
   "execution_count": 23,
   "metadata": {},
   "outputs": [
    {
     "data": {
      "text/plain": [
       "<matplotlib.image.AxesImage at 0x7ff7a30f92b0>"
      ]
     },
     "execution_count": 23,
     "metadata": {},
     "output_type": "execute_result"
    },
    {
     "data": {
      "image/png": "[encoded data removed]",
      "text/plain": [
       "<Figure size 432x288 with 1 Axes>"
      ]
     },
     "metadata": {
      "needs_background": "light"
     },
     "output_type": "display_data"
    }
   ],
   "source": [
    "out = basic_decrypt_unscramble(out)\n",
    "plt.imshow(out)"
   ]
  },
  {
   "cell_type": "code",
   "execution_count": null,
   "metadata": {},
   "outputs": [],
   "source": []
  }
 ],
 "metadata": {
  "colab": {
   "collapsed_sections": [],
   "name": "Secure Training and Evaluation on MNIST.ipynb",
   "provenance": [],
   "version": "0.3.2"
  },
  "kernelspec": {
   "display_name": "Python 3",
   "language": "python",
   "name": "python3"
  },
  "language_info": {
   "codemirror_mode": {
    "name": "ipython",
    "version": 3
   },
   "file_extension": ".py",
   "mimetype": "text/x-python",
   "name": "python",
   "nbconvert_exporter": "python",
   "pygments_lexer": "ipython3",
   "version": "3.6.8"
  }
 },
 "nbformat": 4,
 "nbformat_minor": 4
}
