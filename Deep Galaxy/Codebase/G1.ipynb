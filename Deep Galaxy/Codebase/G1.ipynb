{
 "cells": [
  {
   "cell_type": "code",
   "execution_count": 0,
   "metadata": {
    "colab": {},
    "colab_type": "code",
    "id": "O4dMeO0LJubh"
   },
   "outputs": [],
   "source": [
    "## Import Necessary packages\n",
    "#https://drive.google.com/open?id=1gemHaPfX3oPXyY0O14sjZXc0nKnQ7RWo\n",
    "#!pip install -U -q PyDrive\n",
    "from pydrive.auth import GoogleAuth\n",
    "from pydrive.drive import GoogleDrive\n",
    "from google.colab import auth\n",
    "from oauth2client.client import GoogleCredentials\n",
    "import matplotlib.pyplot as plt\n",
    "from astropy.visualization import astropy_mpl_style\n",
    "plt.style.use(astropy_mpl_style)\n",
    "# Authenticate and create the PyDrive client.\n",
    "auth.authenticate_user()\n",
    "gauth = GoogleAuth()\n",
    "gauth.credentials = GoogleCredentials.get_application_default()\n",
    "drive = GoogleDrive(gauth)\n",
    "from astropy.utils.data import get_pkg_data_filename\n",
    "import io\n",
    "from astropy.io import fits\n",
    "#import zipfile\n",
    "#efigi_ima_g-1.6\n",
    "import tarfile\n",
    "file_id=\"1gemHaPfX3oPXyY0O14sjZXc0nKnQ7RWo\"\n",
    "downloaded=drive.CreateFile({'id':file_id})\n",
    "downloaded.GetContentFile('efigi_ima_g-1.6.tgz')\n",
    "tf = tarfile.open(\"efigi_ima_g-1.6.tgz\")\n",
    "tf.extractall()\n",
    "#!unzip efigi_ima_g-1.6.zip"
   ]
  },
  {
   "cell_type": "code",
   "execution_count": 0,
   "metadata": {
    "colab": {},
    "colab_type": "code",
    "id": "o6ssX1MPNDHd"
   },
   "outputs": [],
   "source": [
    "hdulist = fits.open('efigi-1.6/ima_g/PGC0000212_g.fits')"
   ]
  },
  {
   "cell_type": "code",
   "execution_count": 0,
   "metadata": {
    "colab": {
     "base_uri": "https://localhost:8080/",
     "height": 70
    },
    "colab_type": "code",
    "id": "JAPArfeDNleN",
    "outputId": "28f6533e-9b0a-468c-b0bc-80342ff1e812"
   },
   "outputs": [
    {
     "name": "stdout",
     "output_type": "stream",
     "text": [
      "Filename: efigi-1.6/ima_g/PGC0000212_g.fits\n",
      "No.    Name      Ver    Type      Cards   Dimensions   Format\n",
      "  0  PRIMARY       1 PrimaryHDU      42   (255, 255)   float32   \n"
     ]
    }
   ],
   "source": [
    "hdulist.info()"
   ]
  },
  {
   "cell_type": "code",
   "execution_count": 0,
   "metadata": {
    "colab": {
     "base_uri": "https://localhost:8080/",
     "height": 34
    },
    "colab_type": "code",
    "id": "ujfz4voLNlaq",
    "outputId": "b4f9324b-17d7-430d-b443-0e32c60f778b"
   },
   "outputs": [
    {
     "data": {
      "text/plain": [
       "<astropy.io.fits.hdu.image.PrimaryHDU at 0x7fc7f8bc4e80>"
      ]
     },
     "execution_count": 12,
     "metadata": {
      "tags": []
     },
     "output_type": "execute_result"
    }
   ],
   "source": [
    "hdu=hdulist[0]\n",
    "hdu"
   ]
  },
  {
   "cell_type": "code",
   "execution_count": 0,
   "metadata": {
    "colab": {
     "base_uri": "https://localhost:8080/",
     "height": 34
    },
    "colab_type": "code",
    "id": "co91XfH6KS8s",
    "outputId": "49d4d912-86e8-4378-d1b2-122c166da033"
   },
   "outputs": [
    {
     "data": {
      "text/plain": [
       "(255, 255)"
      ]
     },
     "execution_count": 14,
     "metadata": {
      "tags": []
     },
     "output_type": "execute_result"
    }
   ],
   "source": [
    "hdu.data.shape"
   ]
  },
  {
   "cell_type": "code",
   "execution_count": 0,
   "metadata": {
    "colab": {
     "base_uri": "https://localhost:8080/",
     "height": 756
    },
    "colab_type": "code",
    "id": "uIexJMUjSnUa",
    "outputId": "2b974e83-7eda-463a-e92e-bbf08d754e56"
   },
   "outputs": [
    {
     "data": {
      "text/plain": [
       "SIMPLE  =                    T / This is a FITS file                            \n",
       "BITPIX  =                  -32 /                                                \n",
       "NAXIS   =                    2 /                                                \n",
       "NAXIS1  =                  255 / NUMBER OF ELEMENTS ALONG THIS AXIS             \n",
       "NAXIS2  =                  255 / NUMBER OF ELEMENTS ALONG THIS AXIS             \n",
       "EXTEND  =                    T / This file may contain FITS extensions          \n",
       "EQUINOX =            2000.0000 / Mean equinox                                   \n",
       "RADECSYS= 'ICRS    '           / Astrometric system                             \n",
       "CTYPE1  = 'RA---TAN'           / WCS projection type for this axis              \n",
       "CUNIT1  = 'deg     '           / Axis unit                                      \n",
       "CRVAL1  =      7.970833333E-01 / World coordinate on this axis                  \n",
       "CRPIX1  =      1.280000000E+02 / Reference pixel on this axis                   \n",
       "CD1_1   =     -1.882083383E-04 / Linear projection matrix                       \n",
       "CD1_2   =      0.000000000E+00 / Linear projection matrix                       \n",
       "CTYPE2  = 'DEC--TAN'           / WCS projection type for this axis              \n",
       "CUNIT2  = 'deg     '           / Axis unit                                      \n",
       "CRVAL2  =      1.596505556E+01 / World coordinate on this axis                  \n",
       "CRPIX2  =      1.280000000E+02 / Reference pixel on this axis                   \n",
       "CD2_1   =      0.000000000E+00 / Linear projection matrix                       \n",
       "CD2_2   =      1.882083383E-04 / Linear projection matrix                       \n",
       "COMMENT                                                                         \n",
       "SOFTNAME= 'SWarp   '           / The software that processed those data         \n",
       "SOFTVERS= '2.15.7  '           / Version of the software                        \n",
       "SOFTDATE= '2006-03-12'         / Release date of the software                   \n",
       "SOFTAUTH= 'Emmanuel BERTIN <bertin@iap.fr>' / Maintainer of the software        \n",
       "SOFTINST= 'TERAPIX team at IAP  http://terapix.iap.fr' / Institute              \n",
       "COMMENT                                                                         \n",
       "AUTHOR  = 'bertin  '           / Who ran the software                           \n",
       "ORIGIN  = 'mix7.iap.fr'        / Where it was done                              \n",
       "DATE    = '2006-04-21T23:35:10' / When it was started (GMT)                     \n",
       "COMBINET= 'MEDIAN  '           / COMBINE_TYPE config parameter for SWarp        \n",
       "COMMENT                                                                         \n",
       "COMMENT  Propagated FITS keywords                                               \n",
       "OBJECT  = '76 N    '           / e.g., 'stripe 50.6 degrees, north strip'       \n",
       "COMMENT                                                                         \n",
       "COMMENT  Axis-dependent config parameters                                       \n",
       "RESAMPT1= 'LANCZOS3'           / RESAMPLING_TYPE config parameter               \n",
       "CENTERT1= 'MANUAL  '           / CENTER_TYPE config parameter                   \n",
       "PSCALET1= 'MANUAL  '           / PIXELSCALE_TYPE config parameter               \n",
       "RESAMPT2= 'LANCZOS3'           / RESAMPLING_TYPE config parameter               \n",
       "CENTERT2= 'MANUAL  '           / CENTER_TYPE config parameter                   \n",
       "PSCALET2= 'MANUAL  '           / PIXELSCALE_TYPE config parameter               "
      ]
     },
     "execution_count": 15,
     "metadata": {
      "tags": []
     },
     "output_type": "execute_result"
    }
   ],
   "source": [
    "hdu.header"
   ]
  },
  {
   "cell_type": "code",
   "execution_count": 0,
   "metadata": {
    "colab": {
     "base_uri": "https://localhost:8080/",
     "height": 34
    },
    "colab_type": "code",
    "id": "FX3o4InxSsl3",
    "outputId": "5e381581-7d0a-41f4-8af6-64726e22d06e"
   },
   "outputs": [
    {
     "data": {
      "text/plain": [
       "'76 N'"
      ]
     },
     "execution_count": 18,
     "metadata": {
      "tags": []
     },
     "output_type": "execute_result"
    }
   ],
   "source": [
    "hdu.header['OBJECT']"
   ]
  },
  {
   "cell_type": "code",
   "execution_count": 0,
   "metadata": {
    "colab": {},
    "colab_type": "code",
    "id": "NtEY2L-TS6_z"
   },
   "outputs": [],
   "source": [
    "image_file = get_pkg_data_filename('efigi-1.6/ima_g/PGC0022205_g.fits')"
   ]
  },
  {
   "cell_type": "code",
   "execution_count": 0,
   "metadata": {
    "colab": {
     "base_uri": "https://localhost:8080/",
     "height": 70
    },
    "colab_type": "code",
    "id": "oIbEOygDTSXf",
    "outputId": "2b3d6d8c-ac2a-4f2c-fac6-3df76b58a59b"
   },
   "outputs": [
    {
     "name": "stdout",
     "output_type": "stream",
     "text": [
      "Filename: efigi-1.6/ima_g/PGC0022205_g.fits\n",
      "No.    Name      Ver    Type      Cards   Dimensions   Format\n",
      "  0  PRIMARY       1 PrimaryHDU      42   (255, 255)   float32   \n"
     ]
    }
   ],
   "source": [
    "fits.info(image_file)"
   ]
  },
  {
   "cell_type": "code",
   "execution_count": 0,
   "metadata": {
    "colab": {},
    "colab_type": "code",
    "id": "h2hqSPaST32x"
   },
   "outputs": [],
   "source": [
    "image_data = fits.getdata(image_file, ext=0)"
   ]
  },
  {
   "cell_type": "code",
   "execution_count": 0,
   "metadata": {
    "colab": {
     "base_uri": "https://localhost:8080/",
     "height": 34
    },
    "colab_type": "code",
    "id": "Yfi0JFROT-FE",
    "outputId": "1de0ccea-a046-4a99-f07d-d111d15b089d"
   },
   "outputs": [
    {
     "name": "stdout",
     "output_type": "stream",
     "text": [
      "(255, 255)\n"
     ]
    }
   ],
   "source": [
    "print(image_data.shape)"
   ]
  },
  {
   "cell_type": "code",
   "execution_count": 0,
   "metadata": {
    "colab": {
     "base_uri": "https://localhost:8080/",
     "height": 398
    },
    "colab_type": "code",
    "id": "3S0S3F2QT_9K",
    "outputId": "bc1f82d1-be93-4dc0-9f7c-e3c7d265081a"
   },
   "outputs": [
    {
     "data": {
      "text/plain": [
       "<matplotlib.colorbar.Colorbar at 0x7fc7f5b0c0b8>"
      ]
     },
     "execution_count": 47,
     "metadata": {
      "tags": []
     },
     "output_type": "execute_result"
    },
    {
     "data": {
      "image/png": "[encoded data removed]",
      "text/plain": [
       "<Figure size 576x432 with 2 Axes>"
      ]
     },
     "metadata": {
      "tags": []
     },
     "output_type": "display_data"
    }
   ],
   "source": [
    "plt.figure()\n",
    "plt.imshow(image_data, cmap='gray')\n",
    "plt.colorbar()"
   ]
  }
 ],
 "metadata": {
  "accelerator": "GPU",
  "colab": {
   "collapsed_sections": [],
   "name": "G1.ipynb",
   "provenance": [],
   "version": "0.3.2"
  },
  "kernelspec": {
   "display_name": "Python 3",
   "language": "python",
   "name": "python3"
  },
  "language_info": {
   "codemirror_mode": {
    "name": "ipython",
    "version": 3
   },
   "file_extension": ".py",
   "mimetype": "text/x-python",
   "name": "python",
   "nbconvert_exporter": "python",
   "pygments_lexer": "ipython3",
   "version": "3.6.8"
  }
 },
 "nbformat": 4,
 "nbformat_minor": 1
}
