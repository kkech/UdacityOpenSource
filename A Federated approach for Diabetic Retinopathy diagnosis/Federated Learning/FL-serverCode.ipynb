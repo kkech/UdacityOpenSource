{
 "cells": [
  {
   "cell_type": "code",
   "execution_count": 6,
   "metadata": {},
   "outputs": [],
   "source": [
    "# Resources and tutorials:\n",
    "# OpenMined Advanced tutorials: https://github.com/OpenMined/PySyft/tree/master/examples/tutorials/advanced/websockets-example-MNIST\n",
    "# Andrew Task youtube lessons: https://www.youtube.com/watch?v=TWa6wFarCeI\n",
    "# OpenMined Blog about FL: https://blog.openmined.org/upgrade-to-federated-learning-in-10-lines/\n",
    "# OpenMined blog about setting FL and RNN with RPi: https://blog.openmined.org/federated-learning-of-a-rnn-on-raspberry-pis/\n",
    "# Udacity and Facebook \"Secure and Private AI challenge\""
   ]
  },
  {
   "cell_type": "code",
   "execution_count": 1,
   "metadata": {},
   "outputs": [
    {
     "name": "stderr",
     "output_type": "stream",
     "text": [
      "WARNING: Logging before flag parsing goes to stderr.\n",
      "W0820 20:21:19.138794 4511266240 secure_random.py:26] Falling back to insecure randomness since the required custom op could not be found for the installed version of TensorFlow. Fix this by compiling custom ops. Missing file was '/Users/jluissamper/.virtualenvs/pytorch/lib/python3.6/site-packages/tf_encrypted/operations/secure_random/secure_random_module_tf_1.14.0.so'\n",
      "W0820 20:21:19.155421 4511266240 deprecation_wrapper.py:119] From /Users/jluissamper/.virtualenvs/pytorch/lib/python3.6/site-packages/tf_encrypted/session.py:26: The name tf.Session is deprecated. Please use tf.compat.v1.Session instead.\n",
      "\n"
     ]
    }
   ],
   "source": [
    "# %load_ext autoreload\n",
    "\n",
    "# %autoreload 2\n",
    "\n",
    "# load libraries\n",
    "\n",
    "import sys\n",
    "import syft as sy\n",
    "from syft.workers.virtual import VirtualWorker\n",
    "from syft.workers import WebsocketClientWorker\n",
    "from syft import FederatedDataset, FederatedDataLoader, BaseDataset\n",
    "import torch\n",
    "from torch import nn\n",
    "from torch import optim\n",
    "from torchvision import datasets, transforms, models, utils\n",
    "from syft.frameworks.torch.federated import utils"
   ]
  },
  {
   "cell_type": "code",
   "execution_count": 2,
   "metadata": {},
   "outputs": [],
   "source": [
    "# import model to share and other client nn-related functionalities such as: next batch, train, get params...\n",
    "import run_websocket_client as rwc"
   ]
  },
  {
   "cell_type": "code",
   "execution_count": 3,
   "metadata": {},
   "outputs": [
    {
     "name": "stdout",
     "output_type": "stream",
     "text": [
      "Namespace(batch_size=64, cuda=False, epochs=2, federate_after_n_batches=50, lr=0.01, save_model=False, seed=1, test_batch_size=1000, use_virtual=False, verbose=False)\n"
     ]
    }
   ],
   "source": [
    "args = rwc.define_and_get_arguments(args=[])\n",
    "use_cuda = args.cuda and torch.cuda.is_available()\n",
    "torch.manual_seed(args.seed)\n",
    "device = torch.device(\"cuda\" if use_cuda else \"cpu\")\n",
    "print(args)"
   ]
  },
  {
   "cell_type": "code",
   "execution_count": 4,
   "metadata": {},
   "outputs": [],
   "source": [
    "hook = sy.TorchHook(torch)"
   ]
  },
  {
   "cell_type": "code",
   "execution_count": 5,
   "metadata": {},
   "outputs": [
    {
     "name": "stdout",
     "output_type": "stream",
     "text": [
      "[<WebsocketClientWorker id:alice #objects local:0 #objects remote: 4>, <WebsocketClientWorker id:bob #objects local:0 #objects remote: 4>, <WebsocketClientWorker id:charlie #objects local:0 #objects remote: 4>]\n"
     ]
    }
   ],
   "source": [
    "# websocket clients and workers instantiation. This step will fall if the websocket server workers are not running\n",
    "\n",
    "kwargs_websocket = {\"host\": \"127.0.0.1\", \"hook\": hook, \"verbose\": args.verbose}\n",
    "alice = WebsocketClientWorker(id=\"alice\", port=8777, **kwargs_websocket)\n",
    "bob = WebsocketClientWorker(id=\"bob\", port=8778, **kwargs_websocket)\n",
    "charlie = WebsocketClientWorker(id=\"charlie\", port=8779, **kwargs_websocket)\n",
    "\n",
    "workers = [alice, bob, charlie]\n",
    "print(workers)"
   ]
  },
  {
   "cell_type": "markdown",
   "metadata": {},
   "source": [
    "# Prepare and distribute the training data"
   ]
  },
  {
   "cell_type": "code",
   "execution_count": null,
   "metadata": {},
   "outputs": [],
   "source": []
  },
  {
   "cell_type": "code",
   "execution_count": null,
   "metadata": {},
   "outputs": [],
   "source": [
    "# number of subprocesses to use for data loading\n",
    "num_workers = 4\n",
    "# how many samples per batch to load\n",
    "batch_size = 1\n",
    "# Images size to rescale\n",
    "img_size = (512,512)\n",
    "# percentage of training set to use as validation\n",
    "valid_size = 0.2\n",
    "\n",
    "data_dir = '~/Documents/SecureAndPrivateChallenge/sg-intro-ai-challenge/CNN - Eye Diseases/Data 15/'\n",
    "transform = transforms.Compose([\n",
    "    transforms.ToPILImage(),\n",
    "    transforms.Resize(img_size),\n",
    "    transforms.ToTensor(),\n",
    "    transforms.Normalize((0.5, 0.5, 0.5), (0.5, 0.5, 0.5))\n",
    "    ])"
   ]
  },
  {
   "cell_type": "code",
   "execution_count": null,
   "metadata": {},
   "outputs": [],
   "source": [
    "eye_dataset = simpleImageLoader(csv_file='~/Documents/SecureAndPrivateChallenge/sg-intro-ai-challenge/CNN - Eye Diseases/labels/trainLabels15.csv',\n",
    "                                    root_dir='~/Documents/SecureAndPrivateChallenge/sg-intro-ai-challenge/CNN - Eye Diseases/Data 15/train 15',\n",
    "                                    transform = transform)  "
   ]
  },
  {
   "cell_type": "code",
   "execution_count": null,
   "metadata": {},
   "outputs": [],
   "source": [
    "eye_dataloader = torch.utils.data.DataLoader(eye_dataset, batch_size=batch_size,\n",
    "                        shuffle=False, num_workers=num_workers)"
   ]
  },
  {
   "cell_type": "code",
   "execution_count": 5,
   "metadata": {},
   "outputs": [
    {
     "data": {
      "text/plain": [
       "<torch.utils.data.dataloader.DataLoader at 0x1497fc780>"
      ]
     },
     "execution_count": 5,
     "metadata": {},
     "output_type": "execute_result"
    }
   ],
   "source": [
    "#run this box only if the the next box gives pipeline error\n",
    "torch.utils.data.DataLoader(\n",
    "    datasets.MNIST(\n",
    "        \"../data/MNIST\",\n",
    "        train=True,download=True))\n",
    "\n"
   ]
  },
  {
   "cell_type": "code",
   "execution_count": 6,
   "metadata": {},
   "outputs": [],
   "source": [
    "# Download the MNIST dataset and use federated dataloader\n",
    "\n",
    "federated_train_loader = sy.FederatedDataLoader(\n",
    "    datasets.MNIST(\n",
    "        \"../data/MNIST\",\n",
    "        train=True,\n",
    "        download=True,\n",
    "        transform=transforms.Compose(\n",
    "            [transforms.ToTensor(), transforms.Normalize((0.1307,), (0.3081,))]\n",
    "        ),\n",
    "    ).federate(tuple(workers)),\n",
    "    batch_size=args.batch_size,\n",
    "    shuffle=True,\n",
    "    iter_per_worker=True\n",
    ")\n",
    "\n",
    "test_loader = torch.utils.data.DataLoader(\n",
    "    datasets.MNIST(\n",
    "        \"../data/MNIST\",\n",
    "        train=False,\n",
    "        transform=transforms.Compose(\n",
    "            [transforms.ToTensor(), transforms.Normalize((0.1307,), (0.3081,))]\n",
    "        ),\n",
    "    ),\n",
    "    batch_size=args.test_batch_size,\n",
    "    shuffle=True\n",
    ")\n",
    "\n"
   ]
  },
  {
   "cell_type": "code",
   "execution_count": 7,
   "metadata": {},
   "outputs": [
    {
     "name": "stdout",
     "output_type": "stream",
     "text": [
      "Net(\n",
      "  (conv1): Conv2d(1, 20, kernel_size=(5, 5), stride=(1, 1))\n",
      "  (conv2): Conv2d(20, 50, kernel_size=(5, 5), stride=(1, 1))\n",
      "  (fc1): Linear(in_features=800, out_features=500, bias=True)\n",
      "  (fc2): Linear(in_features=500, out_features=10, bias=True)\n",
      ")\n"
     ]
    }
   ],
   "source": [
    "# instantiate the model, imported from run_websocket_client.py\n",
    "# it is a 2 layers conv net\n",
    "model = rwc.Net().to(device)\n",
    "print(model)"
   ]
  },
  {
   "cell_type": "code",
   "execution_count": 8,
   "metadata": {},
   "outputs": [],
   "source": [
    "import logging\n",
    "import sys\n",
    "logger = logging.getLogger()\n",
    "logger.setLevel(logging.DEBUG)\n",
    "handler = logging.StreamHandler(sys.stderr)\n",
    "formatter = logging.Formatter(\"%(asctime)s %(levelname)s %(filename)s(l:%(lineno)d) - %(message)s\")\n",
    "handler.setFormatter(formatter)\n",
    "logger.handlers = [handler]"
   ]
  },
  {
   "cell_type": "code",
   "execution_count": 10,
   "metadata": {},
   "outputs": [
    {
     "name": "stdout",
     "output_type": "stream",
     "text": [
      "Starting epoch 1/2\n"
     ]
    },
    {
     "name": "stderr",
     "output_type": "stream",
     "text": [
      "2019-08-19 11:55:14,364 DEBUG run_websocket_client.py(l:123) - Starting training round, batches [0, 50]\n",
      "2019-08-19 11:55:14,589 DEBUG run_websocket_client.py(l:75) - Train Worker alice: [0/50 (0%)]\tLoss: 0.229313\n",
      "2019-08-19 11:55:16,825 DEBUG run_websocket_client.py(l:75) - Train Worker alice: [25/50 (50%)]\tLoss: 0.410354\n",
      "2019-08-19 11:55:22,215 DEBUG run_websocket_client.py(l:75) - Train Worker bob: [0/50 (0%)]\tLoss: 0.373664\n",
      "2019-08-19 11:55:24,559 DEBUG run_websocket_client.py(l:75) - Train Worker bob: [25/50 (50%)]\tLoss: 0.208844\n",
      "2019-08-19 11:55:29,823 DEBUG run_websocket_client.py(l:75) - Train Worker charlie: [0/50 (0%)]\tLoss: 0.316547\n",
      "2019-08-19 11:55:31,966 DEBUG run_websocket_client.py(l:75) - Train Worker charlie: [25/50 (50%)]\tLoss: 0.337744\n",
      "2019-08-19 11:55:50,703 DEBUG run_websocket_client.py(l:123) - Starting training round, batches [50, 100]\n",
      "2019-08-19 11:55:50,951 DEBUG run_websocket_client.py(l:75) - Train Worker alice: [0/50 (0%)]\tLoss: 0.484071\n",
      "2019-08-19 11:55:53,050 DEBUG run_websocket_client.py(l:75) - Train Worker alice: [25/50 (50%)]\tLoss: 0.170199\n",
      "2019-08-19 11:55:58,189 DEBUG run_websocket_client.py(l:75) - Train Worker bob: [0/50 (0%)]\tLoss: 0.217728\n",
      "2019-08-19 11:56:00,236 DEBUG run_websocket_client.py(l:75) - Train Worker bob: [25/50 (50%)]\tLoss: 0.247285\n",
      "2019-08-19 11:56:05,459 DEBUG run_websocket_client.py(l:75) - Train Worker charlie: [0/50 (0%)]\tLoss: 0.140104\n",
      "2019-08-19 11:56:07,645 DEBUG run_websocket_client.py(l:75) - Train Worker charlie: [25/50 (50%)]\tLoss: 0.382545\n",
      "2019-08-19 11:56:27,664 DEBUG run_websocket_client.py(l:123) - Starting training round, batches [100, 150]\n",
      "2019-08-19 11:56:27,902 DEBUG run_websocket_client.py(l:75) - Train Worker alice: [0/50 (0%)]\tLoss: 0.145365\n",
      "2019-08-19 11:56:29,995 DEBUG run_websocket_client.py(l:75) - Train Worker alice: [25/50 (50%)]\tLoss: 0.288875\n",
      "2019-08-19 11:56:35,279 DEBUG run_websocket_client.py(l:75) - Train Worker bob: [0/50 (0%)]\tLoss: 0.231272\n",
      "2019-08-19 11:56:37,429 DEBUG run_websocket_client.py(l:75) - Train Worker bob: [25/50 (50%)]\tLoss: 0.111448\n",
      "2019-08-19 11:56:43,085 DEBUG run_websocket_client.py(l:75) - Train Worker charlie: [0/50 (0%)]\tLoss: 0.247373\n",
      "2019-08-19 11:56:45,300 DEBUG run_websocket_client.py(l:75) - Train Worker charlie: [25/50 (50%)]\tLoss: 0.156458\n",
      "2019-08-19 11:57:06,275 DEBUG run_websocket_client.py(l:123) - Starting training round, batches [150, 200]\n",
      "2019-08-19 11:57:06,590 DEBUG run_websocket_client.py(l:75) - Train Worker alice: [0/50 (0%)]\tLoss: 0.096750\n",
      "2019-08-19 11:57:08,745 DEBUG run_websocket_client.py(l:75) - Train Worker alice: [25/50 (50%)]\tLoss: 0.264165\n",
      "2019-08-19 11:57:14,202 DEBUG run_websocket_client.py(l:75) - Train Worker bob: [0/50 (0%)]\tLoss: 0.073134\n",
      "2019-08-19 11:57:16,322 DEBUG run_websocket_client.py(l:75) - Train Worker bob: [25/50 (50%)]\tLoss: 0.263093\n",
      "2019-08-19 11:57:21,507 DEBUG run_websocket_client.py(l:75) - Train Worker charlie: [0/50 (0%)]\tLoss: 0.135740\n",
      "2019-08-19 11:57:23,865 DEBUG run_websocket_client.py(l:75) - Train Worker charlie: [25/50 (50%)]\tLoss: 0.125567\n",
      "2019-08-19 11:57:45,072 DEBUG run_websocket_client.py(l:123) - Starting training round, batches [200, 250]\n",
      "2019-08-19 11:57:45,348 DEBUG run_websocket_client.py(l:75) - Train Worker alice: [0/50 (0%)]\tLoss: 0.155474\n",
      "2019-08-19 11:57:47,637 DEBUG run_websocket_client.py(l:75) - Train Worker alice: [25/50 (50%)]\tLoss: 0.198471\n",
      "2019-08-19 11:57:53,082 DEBUG run_websocket_client.py(l:75) - Train Worker bob: [0/50 (0%)]\tLoss: 0.139968\n",
      "2019-08-19 11:57:55,310 DEBUG run_websocket_client.py(l:75) - Train Worker bob: [25/50 (50%)]\tLoss: 0.151425\n",
      "2019-08-19 11:58:00,826 DEBUG run_websocket_client.py(l:75) - Train Worker charlie: [0/50 (0%)]\tLoss: 0.151675\n",
      "2019-08-19 11:58:02,944 DEBUG run_websocket_client.py(l:75) - Train Worker charlie: [25/50 (50%)]\tLoss: 0.076146\n",
      "2019-08-19 11:58:26,354 DEBUG run_websocket_client.py(l:123) - Starting training round, batches [250, 300]\n",
      "2019-08-19 11:58:26,648 DEBUG run_websocket_client.py(l:75) - Train Worker alice: [0/50 (0%)]\tLoss: 0.199075\n",
      "2019-08-19 11:58:28,993 DEBUG run_websocket_client.py(l:75) - Train Worker alice: [25/50 (50%)]\tLoss: 0.109743\n",
      "2019-08-19 11:58:34,242 DEBUG run_websocket_client.py(l:75) - Train Worker bob: [0/50 (0%)]\tLoss: 0.186199\n",
      "2019-08-19 11:58:36,327 DEBUG run_websocket_client.py(l:75) - Train Worker bob: [25/50 (50%)]\tLoss: 0.168603\n",
      "2019-08-19 11:58:41,770 DEBUG run_websocket_client.py(l:75) - Train Worker charlie: [0/50 (0%)]\tLoss: 0.202772\n",
      "2019-08-19 11:58:43,925 DEBUG run_websocket_client.py(l:75) - Train Worker charlie: [25/50 (50%)]\tLoss: 0.103712\n",
      "2019-08-19 11:58:52,821 DEBUG run_websocket_client.py(l:123) - Starting training round, batches [300, 350]\n",
      "2019-08-19 11:58:53,081 DEBUG run_websocket_client.py(l:75) - Train Worker alice: [0/13 (0%)]\tLoss: 0.169263\n",
      "2019-08-19 11:58:57,348 DEBUG run_websocket_client.py(l:75) - Train Worker bob: [0/13 (0%)]\tLoss: 0.216930\n",
      "2019-08-19 11:59:01,668 DEBUG run_websocket_client.py(l:75) - Train Worker charlie: [0/13 (0%)]\tLoss: 0.233267\n",
      "2019-08-19 11:59:05,799 DEBUG run_websocket_client.py(l:123) - Starting training round, batches [350, 400]\n",
      "2019-08-19 11:59:05,810 DEBUG run_websocket_client.py(l:136) - At least one worker ran out of data, stopping.\n",
      "2019-08-19 11:59:10,593 DEBUG run_websocket_client.py(l:158) - \n",
      "\n",
      "2019-08-19 11:59:10,594 INFO run_websocket_client.py(l:162) - Test set: Average loss: 0.1429, Accuracy: 9581/10000 (96%)\n",
      "\n"
     ]
    },
    {
     "name": "stdout",
     "output_type": "stream",
     "text": [
      "Starting epoch 2/2\n"
     ]
    },
    {
     "name": "stderr",
     "output_type": "stream",
     "text": [
      "2019-08-19 11:59:25,570 DEBUG run_websocket_client.py(l:123) - Starting training round, batches [0, 50]\n",
      "2019-08-19 11:59:25,793 DEBUG run_websocket_client.py(l:75) - Train Worker alice: [0/50 (0%)]\tLoss: 0.145078\n",
      "2019-08-19 11:59:27,895 DEBUG run_websocket_client.py(l:75) - Train Worker alice: [25/50 (50%)]\tLoss: 0.153680\n",
      "2019-08-19 11:59:33,143 DEBUG run_websocket_client.py(l:75) - Train Worker bob: [0/50 (0%)]\tLoss: 0.180422\n",
      "2019-08-19 11:59:35,232 DEBUG run_websocket_client.py(l:75) - Train Worker bob: [25/50 (50%)]\tLoss: 0.128537\n",
      "2019-08-19 11:59:40,478 DEBUG run_websocket_client.py(l:75) - Train Worker charlie: [0/50 (0%)]\tLoss: 0.124347\n",
      "2019-08-19 11:59:42,674 DEBUG run_websocket_client.py(l:75) - Train Worker charlie: [25/50 (50%)]\tLoss: 0.139989\n",
      "2019-08-19 12:00:01,800 DEBUG run_websocket_client.py(l:123) - Starting training round, batches [50, 100]\n",
      "2019-08-19 12:00:02,048 DEBUG run_websocket_client.py(l:75) - Train Worker alice: [0/50 (0%)]\tLoss: 0.209772\n",
      "2019-08-19 12:00:04,114 DEBUG run_websocket_client.py(l:75) - Train Worker alice: [25/50 (50%)]\tLoss: 0.232279\n",
      "2019-08-19 12:00:09,570 DEBUG run_websocket_client.py(l:75) - Train Worker bob: [0/50 (0%)]\tLoss: 0.074328\n",
      "2019-08-19 12:00:11,727 DEBUG run_websocket_client.py(l:75) - Train Worker bob: [25/50 (50%)]\tLoss: 0.460629\n",
      "2019-08-19 12:00:17,070 DEBUG run_websocket_client.py(l:75) - Train Worker charlie: [0/50 (0%)]\tLoss: 0.274371\n",
      "2019-08-19 12:00:19,190 DEBUG run_websocket_client.py(l:75) - Train Worker charlie: [25/50 (50%)]\tLoss: 0.160816\n",
      "2019-08-19 12:00:38,582 DEBUG run_websocket_client.py(l:123) - Starting training round, batches [100, 150]\n",
      "2019-08-19 12:00:38,844 DEBUG run_websocket_client.py(l:75) - Train Worker alice: [0/50 (0%)]\tLoss: 0.153442\n",
      "2019-08-19 12:00:41,062 DEBUG run_websocket_client.py(l:75) - Train Worker alice: [25/50 (50%)]\tLoss: 0.072019\n",
      "2019-08-19 12:00:46,232 DEBUG run_websocket_client.py(l:75) - Train Worker bob: [0/50 (0%)]\tLoss: 0.198040\n",
      "2019-08-19 12:00:48,353 DEBUG run_websocket_client.py(l:75) - Train Worker bob: [25/50 (50%)]\tLoss: 0.199478\n",
      "2019-08-19 12:00:53,580 DEBUG run_websocket_client.py(l:75) - Train Worker charlie: [0/50 (0%)]\tLoss: 0.221028\n",
      "2019-08-19 12:00:55,708 DEBUG run_websocket_client.py(l:75) - Train Worker charlie: [25/50 (50%)]\tLoss: 0.169036\n",
      "2019-08-19 12:01:15,119 DEBUG run_websocket_client.py(l:123) - Starting training round, batches [150, 200]\n",
      "2019-08-19 12:01:15,366 DEBUG run_websocket_client.py(l:75) - Train Worker alice: [0/50 (0%)]\tLoss: 0.187475\n",
      "2019-08-19 12:01:17,479 DEBUG run_websocket_client.py(l:75) - Train Worker alice: [25/50 (50%)]\tLoss: 0.227243\n",
      "2019-08-19 12:01:22,597 DEBUG run_websocket_client.py(l:75) - Train Worker bob: [0/50 (0%)]\tLoss: 0.106847\n",
      "2019-08-19 12:01:24,682 DEBUG run_websocket_client.py(l:75) - Train Worker bob: [25/50 (50%)]\tLoss: 0.116129\n",
      "2019-08-19 12:01:29,957 DEBUG run_websocket_client.py(l:75) - Train Worker charlie: [0/50 (0%)]\tLoss: 0.080041\n",
      "2019-08-19 12:01:32,150 DEBUG run_websocket_client.py(l:75) - Train Worker charlie: [25/50 (50%)]\tLoss: 0.064369\n",
      "2019-08-19 12:01:50,838 DEBUG run_websocket_client.py(l:123) - Starting training round, batches [200, 250]\n",
      "2019-08-19 12:01:51,110 DEBUG run_websocket_client.py(l:75) - Train Worker alice: [0/50 (0%)]\tLoss: 0.116486\n",
      "2019-08-19 12:01:53,250 DEBUG run_websocket_client.py(l:75) - Train Worker alice: [25/50 (50%)]\tLoss: 0.250025\n",
      "2019-08-19 12:01:58,428 DEBUG run_websocket_client.py(l:75) - Train Worker bob: [0/50 (0%)]\tLoss: 0.140322\n",
      "2019-08-19 12:02:00,525 DEBUG run_websocket_client.py(l:75) - Train Worker bob: [25/50 (50%)]\tLoss: 0.154523\n",
      "2019-08-19 12:02:05,751 DEBUG run_websocket_client.py(l:75) - Train Worker charlie: [0/50 (0%)]\tLoss: 0.139363\n",
      "2019-08-19 12:02:07,968 DEBUG run_websocket_client.py(l:75) - Train Worker charlie: [25/50 (50%)]\tLoss: 0.156621\n",
      "2019-08-19 12:02:27,423 DEBUG run_websocket_client.py(l:123) - Starting training round, batches [250, 300]\n",
      "2019-08-19 12:02:27,679 DEBUG run_websocket_client.py(l:75) - Train Worker alice: [0/50 (0%)]\tLoss: 0.093179\n",
      "2019-08-19 12:02:29,758 DEBUG run_websocket_client.py(l:75) - Train Worker alice: [25/50 (50%)]\tLoss: 0.128339\n",
      "2019-08-19 12:02:34,995 DEBUG run_websocket_client.py(l:75) - Train Worker bob: [0/50 (0%)]\tLoss: 0.071151\n",
      "2019-08-19 12:02:37,069 DEBUG run_websocket_client.py(l:75) - Train Worker bob: [25/50 (50%)]\tLoss: 0.084164\n",
      "2019-08-19 12:02:42,221 DEBUG run_websocket_client.py(l:75) - Train Worker charlie: [0/50 (0%)]\tLoss: 0.144657\n",
      "2019-08-19 12:02:44,313 DEBUG run_websocket_client.py(l:75) - Train Worker charlie: [25/50 (50%)]\tLoss: 0.228867\n",
      "2019-08-19 12:02:52,614 DEBUG run_websocket_client.py(l:123) - Starting training round, batches [300, 350]\n",
      "2019-08-19 12:02:52,865 DEBUG run_websocket_client.py(l:75) - Train Worker alice: [0/13 (0%)]\tLoss: 0.180400\n",
      "2019-08-19 12:02:56,927 DEBUG run_websocket_client.py(l:75) - Train Worker bob: [0/13 (0%)]\tLoss: 0.045344\n",
      "2019-08-19 12:03:01,063 DEBUG run_websocket_client.py(l:75) - Train Worker charlie: [0/13 (0%)]\tLoss: 0.126808\n",
      "2019-08-19 12:03:05,023 DEBUG run_websocket_client.py(l:123) - Starting training round, batches [350, 400]\n",
      "2019-08-19 12:03:05,033 DEBUG run_websocket_client.py(l:136) - At least one worker ran out of data, stopping.\n",
      "2019-08-19 12:03:09,372 DEBUG run_websocket_client.py(l:158) - \n",
      "\n",
      "2019-08-19 12:03:09,373 INFO run_websocket_client.py(l:162) - Test set: Average loss: 0.1178, Accuracy: 9649/10000 (96%)\n",
      "\n"
     ]
    }
   ],
   "source": [
    "# start the training\n",
    "\n",
    "for epoch in range(1, args.epochs + 1):\n",
    "    print(\"Starting epoch {}/{}\".format(epoch, args.epochs))\n",
    "    model = rwc.train(model, device, federated_train_loader, args.lr, args.federate_after_n_batches)\n",
    "    rwc.test(model, device, test_loader)"
   ]
  },
  {
   "cell_type": "code",
   "execution_count": null,
   "metadata": {},
   "outputs": [],
   "source": []
  },
  {
   "cell_type": "code",
   "execution_count": null,
   "metadata": {},
   "outputs": [],
   "source": []
  },
  {
   "cell_type": "code",
   "execution_count": null,
   "metadata": {},
   "outputs": [],
   "source": [
    "   "
   ]
  }
 ],
 "metadata": {
  "kernelspec": {
   "display_name": "Python 3",
   "language": "python",
   "name": "python3"
  },
  "language_info": {
   "codemirror_mode": {
    "name": "ipython",
    "version": 3
   },
   "file_extension": ".py",
   "mimetype": "text/x-python",
   "name": "python",
   "nbconvert_exporter": "python",
   "pygments_lexer": "ipython3",
   "version": "3.6.5"
  }
 },
 "nbformat": 4,
 "nbformat_minor": 2
}
