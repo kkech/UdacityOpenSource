{
 "cells": [
  {
   "cell_type": "code",
   "execution_count": 1,
   "metadata": {
    "_cell_guid": "b1076dfc-b9ad-4769-8c92-a6c4dae69d19",
    "_uuid": "8f2839f25d086af736a60e9eeb907d3b93b6e0e5"
   },
   "outputs": [],
   "source": [
    "# This Python 3 environment comes with many helpful analytics libraries installed\n",
    "# It is defined by the kaggle/python docker image: https://github.com/kaggle/docker-python\n",
    "# For example, here's several helpful packages to load in \n",
    "%matplotlib inline\n",
    "import os\n",
    "import numpy as np # linear algebra\n",
    "import pandas as pd # data processing, CSV file I/O (e.g. pd.read_csv)\n",
    "\n",
    "from matplotlib import pyplot as plt\n",
    "from matplotlib import image as img\n",
    "\n",
    "import torch\n",
    "import torch.nn as nn\n",
    "import torch.nn.functional as F\n",
    "\n",
    "from torch.utils.data import Dataset, DataLoader\n",
    "from torchvision import transforms\n",
    "import torch.optim as optim\n",
    "\n",
    "from sklearn.model_selection import train_test_split\n",
    "# Input data files are available in the \"../input/\" directory.\n",
    "# For example, running this (by clicking run or pressing Shift+Enter) will list all files under the input directory\n",
    "\n",
    "# import os\n",
    "# for dirname, _, filenames in os.walk('/kaggle/input'):\n",
    "#     for filename in filenames:\n",
    "#         print(os.path.join(dirname, filename))\n",
    "\n",
    "# Any results you write to the current directory are saved as output."
   ]
  },
  {
   "cell_type": "code",
   "execution_count": 2,
   "metadata": {},
   "outputs": [],
   "source": [
    "# set all dir\n",
    "data_dir = \"../input/aerial-cactus-identification\"            # main dir\n",
    "train_dir = data_dir + \"/train/train\"                         # train images folder\n",
    "test_dir = data_dir + \"/test/test\"                            # test images folder"
   ]
  },
  {
   "cell_type": "code",
   "execution_count": 3,
   "metadata": {},
   "outputs": [
    {
     "data": {
      "text/html": [
       "<div>\n",
       "<style scoped>\n",
       "    .dataframe tbody tr th:only-of-type {\n",
       "        vertical-align: middle;\n",
       "    }\n",
       "\n",
       "    .dataframe tbody tr th {\n",
       "        vertical-align: top;\n",
       "    }\n",
       "\n",
       "    .dataframe thead th {\n",
       "        text-align: right;\n",
       "    }\n",
       "</style>\n",
       "<table border=\"1\" class=\"dataframe\">\n",
       "  <thead>\n",
       "    <tr style=\"text-align: right;\">\n",
       "      <th></th>\n",
       "      <th>id</th>\n",
       "      <th>has_cactus</th>\n",
       "    </tr>\n",
       "  </thead>\n",
       "  <tbody>\n",
       "    <tr>\n",
       "      <th>0</th>\n",
       "      <td>0004be2cfeaba1c0361d39e2b000257b.jpg</td>\n",
       "      <td>1</td>\n",
       "    </tr>\n",
       "    <tr>\n",
       "      <th>1</th>\n",
       "      <td>000c8a36845c0208e833c79c1bffedd1.jpg</td>\n",
       "      <td>1</td>\n",
       "    </tr>\n",
       "    <tr>\n",
       "      <th>2</th>\n",
       "      <td>000d1e9a533f62e55c289303b072733d.jpg</td>\n",
       "      <td>1</td>\n",
       "    </tr>\n",
       "    <tr>\n",
       "      <th>3</th>\n",
       "      <td>0011485b40695e9138e92d0b3fb55128.jpg</td>\n",
       "      <td>1</td>\n",
       "    </tr>\n",
       "    <tr>\n",
       "      <th>4</th>\n",
       "      <td>0014d7a11e90b62848904c1418fc8cf2.jpg</td>\n",
       "      <td>1</td>\n",
       "    </tr>\n",
       "  </tbody>\n",
       "</table>\n",
       "</div>"
      ],
      "text/plain": [
       "                                     id  has_cactus\n",
       "0  0004be2cfeaba1c0361d39e2b000257b.jpg           1\n",
       "1  000c8a36845c0208e833c79c1bffedd1.jpg           1\n",
       "2  000d1e9a533f62e55c289303b072733d.jpg           1\n",
       "3  0011485b40695e9138e92d0b3fb55128.jpg           1\n",
       "4  0014d7a11e90b62848904c1418fc8cf2.jpg           1"
      ]
     },
     "execution_count": 3,
     "metadata": {},
     "output_type": "execute_result"
    }
   ],
   "source": [
    "# read train csv\n",
    "data = pd.read_csv(data_dir + \"/train.csv\")\n",
    "data.head()                                                   # test csv"
   ]
  },
  {
   "cell_type": "code",
   "execution_count": 4,
   "metadata": {},
   "outputs": [
    {
     "data": {
      "text/plain": [
       "1    13136\n",
       "0     4364\n",
       "Name: has_cactus, dtype: int64"
      ]
     },
     "execution_count": 4,
     "metadata": {},
     "output_type": "execute_result"
    }
   ],
   "source": [
    "# check ratio of images with cactus and without cactus\n",
    "data[\"has_cactus\"].value_counts()"
   ]
  },
  {
   "cell_type": "code",
   "execution_count": 5,
   "metadata": {},
   "outputs": [
    {
     "data": {
      "text/plain": [
       "Text(0.5, 1.0, 'Number of Images has cactus {1} and without cactus')"
      ]
     },
     "execution_count": 5,
     "metadata": {},
     "output_type": "execute_result"
    },
    {
     "data": {
      "image/png": "[encoded data removed]",
      "text/plain": [
       "<Figure size 432x288 with 1 Axes>"
      ]
     },
     "metadata": {
      "needs_background": "light"
     },
     "output_type": "display_data"
    }
   ],
   "source": [
    "# visualize ratio of images with cactus and without cactus\n",
    "plt.hist(data.has_cactus,align='mid',bins=4)\n",
    "plt.xlim(-1, 2)\n",
    "plt.xlabel(\"0: has not cactus and 1: has cactus\")\n",
    "plt.ylabel(\"Frequency\")\n",
    "plt.title(\"Number of Images has cactus {1} and without cactus\")"
   ]
  },
  {
   "cell_type": "code",
   "execution_count": 6,
   "metadata": {},
   "outputs": [],
   "source": [
    "# inherit Dataset and make changes as we access images through index latter\n",
    "class cactData(Dataset):\n",
    "    def __init__(self, split_data, data_root = './', transform = None):\n",
    "        super().__init__()\n",
    "        self.df = split_data.values                           # set dataframe\n",
    "        self.data_root = data_root                            # images path\n",
    "        self.transform = transform                            # transform\n",
    "\n",
    "    def __len__(self):\n",
    "        return len(self.df)                                   # return total length of dataframe \n",
    "    \n",
    "    def __getitem__(self, index):\n",
    "        img_name,label = self.df[index]                       # get image id and label from csv\n",
    "        img_path = os.path.join(self.data_root, img_name)     # set image path\n",
    "        image = img.imread(img_path)                          # read image from given image path\n",
    "        if self.transform is not None:                        # transform image if transform available \n",
    "            image = self.transform(image)\n",
    "        return image, label                                   # return image and image label"
   ]
  },
  {
   "cell_type": "code",
   "execution_count": 7,
   "metadata": {},
   "outputs": [],
   "source": [
    "# split data into train and validation set; so training data = 80% and validation data = 20%\n",
    "train, valid = train_test_split(data, stratify=data.has_cactus, test_size = 0.2)"
   ]
  },
  {
   "cell_type": "code",
   "execution_count": 8,
   "metadata": {},
   "outputs": [],
   "source": [
    "# define transforms\n",
    "train_transf = transforms.Compose([transforms.ToPILImage(),\n",
    "                                   transforms.ToTensor()])\n",
    "\n",
    "valid_transf = transforms.Compose([transforms.ToPILImage(),\n",
    "                                  transforms.ToTensor()])"
   ]
  },
  {
   "cell_type": "code",
   "execution_count": 9,
   "metadata": {},
   "outputs": [],
   "source": [
    "#  batch size \n",
    "batch_size = 128"
   ]
  },
  {
   "cell_type": "code",
   "execution_count": 10,
   "metadata": {},
   "outputs": [],
   "source": [
    "# set cactData cons\n",
    "train_data = cactData(train, train_dir, train_transf)\n",
    "valid_data = cactData(valid, train_dir, valid_transf)\n",
    "\n",
    "# get training and validation data\n",
    "train_loader = DataLoader(dataset=train_data, batch_size=batch_size, shuffle=True)\n",
    "valid_loader = DataLoader(dataset=valid_data, batch_size=batch_size//2, shuffle=False)"
   ]
  },
  {
   "cell_type": "code",
   "execution_count": 11,
   "metadata": {},
   "outputs": [
    {
     "data": {
      "text/plain": [
       "(tensor([[[0.3569, 0.3608, 0.3725,  ..., 0.4667, 0.5216, 0.5333],\n",
       "          [0.3843, 0.3882, 0.4000,  ..., 0.5686, 0.6157, 0.5137],\n",
       "          [0.3961, 0.4000, 0.4000,  ..., 0.6000, 0.6902, 0.5373],\n",
       "          ...,\n",
       "          [0.4784, 0.4471, 0.3804,  ..., 0.4039, 0.4000, 0.3412],\n",
       "          [0.4863, 0.4353, 0.3765,  ..., 0.3843, 0.4275, 0.3686],\n",
       "          [0.4824, 0.4353, 0.3922,  ..., 0.4196, 0.4745, 0.4353]],\n",
       " \n",
       "         [[0.3098, 0.3137, 0.3255,  ..., 0.3725, 0.4275, 0.4392],\n",
       "          [0.3373, 0.3412, 0.3529,  ..., 0.4745, 0.5216, 0.4196],\n",
       "          [0.3490, 0.3529, 0.3529,  ..., 0.5176, 0.5961, 0.4431],\n",
       "          ...,\n",
       "          [0.4275, 0.3961, 0.3294,  ..., 0.3451, 0.3412, 0.2824],\n",
       "          [0.4353, 0.3843, 0.3255,  ..., 0.3255, 0.3686, 0.3098],\n",
       "          [0.4314, 0.3843, 0.3412,  ..., 0.3608, 0.4157, 0.3765]],\n",
       " \n",
       "         [[0.2627, 0.2667, 0.2784,  ..., 0.3569, 0.4196, 0.4314],\n",
       "          [0.2902, 0.2941, 0.3059,  ..., 0.4588, 0.5137, 0.4118],\n",
       "          [0.3020, 0.3059, 0.3059,  ..., 0.4980, 0.5882, 0.4353],\n",
       "          ...,\n",
       "          [0.3961, 0.3647, 0.2980,  ..., 0.3176, 0.3137, 0.2549],\n",
       "          [0.4039, 0.3529, 0.2941,  ..., 0.2980, 0.3412, 0.2824],\n",
       "          [0.4000, 0.3529, 0.3098,  ..., 0.3333, 0.3882, 0.3490]]]), tensor(0))"
      ]
     },
     "execution_count": 11,
     "metadata": {},
     "output_type": "execute_result"
    }
   ],
   "source": [
    "# test data\n",
    "images, labels = next(iter(train_loader))\n",
    "images[0], labels[0]"
   ]
  },
  {
   "cell_type": "code",
   "execution_count": 12,
   "metadata": {},
   "outputs": [],
   "source": [
    "# define CNN model\n",
    "class Net(nn.Module): \n",
    "    def __init__(self):\n",
    "        super(Net, self).__init__()\n",
    "        \n",
    "        # Convolutional Neural Networks\n",
    "        self.conv1 = nn.Conv2d(3, 10, 3, padding=1)\n",
    "        self.conv2 = nn.Conv2d(10, 20, 3, padding=1)\n",
    "        \n",
    "        # fully connected network\n",
    "        self.fc1 = nn.Linear(1280, 640)\n",
    "        self.fc2 = nn.Linear(640, 2)\n",
    "        \n",
    "        # pooling and dropout layer\n",
    "        self.pool = nn.MaxPool2d(2, 2)\n",
    "        self.dropout = nn.Dropout(0.25)\n",
    "        \n",
    "    def forward(self, x):\n",
    "        x = self.pool(F.relu(self.conv1(x)))\n",
    "        x = self.pool(F.relu(self.conv2(x)))\n",
    "        \n",
    "        # reshape to fit into fully connected net\n",
    "        x = x.view(x.shape[0],-1)\n",
    "        x = F.relu(self.fc1(x))\n",
    "        x = F.dropout(x, training=self.training)\n",
    "        x = self.fc2(x)\n",
    "        \n",
    "        return x"
   ]
  },
  {
   "cell_type": "code",
   "execution_count": 13,
   "metadata": {},
   "outputs": [
    {
     "data": {
      "text/plain": [
       "device(type='cuda', index=0)"
      ]
     },
     "execution_count": 13,
     "metadata": {},
     "output_type": "execute_result"
    }
   ],
   "source": [
    "# set hyper parameters\n",
    "num_epochs = 20\n",
    "learning_rate = 0.01\n",
    "momentum = 0.9\n",
    "\n",
    "# check if GPU available\n",
    "device = torch.device('cuda:0' if torch.cuda.is_available() else 'cpu')\n",
    "device"
   ]
  },
  {
   "cell_type": "code",
   "execution_count": 14,
   "metadata": {},
   "outputs": [
    {
     "name": "stdout",
     "output_type": "stream",
     "text": [
      "Net(\n",
      "  (conv1): Conv2d(3, 10, kernel_size=(3, 3), stride=(1, 1), padding=(1, 1))\n",
      "  (conv2): Conv2d(10, 20, kernel_size=(3, 3), stride=(1, 1), padding=(1, 1))\n",
      "  (fc1): Linear(in_features=1280, out_features=640, bias=True)\n",
      "  (fc2): Linear(in_features=640, out_features=2, bias=True)\n",
      "  (pool): MaxPool2d(kernel_size=2, stride=2, padding=0, dilation=1, ceil_mode=False)\n",
      "  (dropout): Dropout(p=0.25, inplace=False)\n",
      ")\n"
     ]
    }
   ],
   "source": [
    "# model architecture  \n",
    "model = Net().to(device)\n",
    "print(model)"
   ]
  },
  {
   "cell_type": "code",
   "execution_count": 15,
   "metadata": {},
   "outputs": [],
   "source": [
    "# specify loss function (categorical cross-entropy)\n",
    "criterion = nn.CrossEntropyLoss()\n",
    "\n",
    "# SGD optimizer\n",
    "optimizer = optim.SGD(model.parameters(), lr=learning_rate,momentum=momentum)"
   ]
  },
  {
   "cell_type": "code",
   "execution_count": 16,
   "metadata": {},
   "outputs": [
    {
     "name": "stdout",
     "output_type": "stream",
     "text": [
      "Epoch: 1 \tTraining Loss: 0.506759 \tValidation Loss: 0.429532\n",
      "Validation loss decreased (inf --> 0.429532).  Saving model ...\n",
      "Epoch: 2 \tTraining Loss: 0.271991 \tValidation Loss: 0.179413\n",
      "Validation loss decreased (0.429532 --> 0.179413).  Saving model ...\n",
      "Epoch: 3 \tTraining Loss: 0.184310 \tValidation Loss: 0.567914\n",
      "Epoch: 4 \tTraining Loss: 0.194244 \tValidation Loss: 0.157378\n",
      "Validation loss decreased (0.179413 --> 0.157378).  Saving model ...\n",
      "Epoch: 5 \tTraining Loss: 0.136386 \tValidation Loss: 0.112869\n",
      "Validation loss decreased (0.157378 --> 0.112869).  Saving model ...\n",
      "Epoch: 6 \tTraining Loss: 0.127845 \tValidation Loss: 0.111538\n",
      "Validation loss decreased (0.112869 --> 0.111538).  Saving model ...\n",
      "Epoch: 7 \tTraining Loss: 0.111014 \tValidation Loss: 0.111654\n",
      "Epoch: 8 \tTraining Loss: 0.111486 \tValidation Loss: 0.157831\n",
      "Epoch: 9 \tTraining Loss: 0.105680 \tValidation Loss: 0.091259\n",
      "Validation loss decreased (0.111538 --> 0.091259).  Saving model ...\n",
      "Epoch: 10 \tTraining Loss: 0.094604 \tValidation Loss: 0.089342\n",
      "Validation loss decreased (0.091259 --> 0.089342).  Saving model ...\n",
      "Epoch: 11 \tTraining Loss: 0.096200 \tValidation Loss: 0.087086\n",
      "Validation loss decreased (0.089342 --> 0.087086).  Saving model ...\n",
      "Epoch: 12 \tTraining Loss: 0.094699 \tValidation Loss: 0.124432\n",
      "Epoch: 13 \tTraining Loss: 0.094026 \tValidation Loss: 0.094645\n",
      "Epoch: 14 \tTraining Loss: 0.087855 \tValidation Loss: 0.080670\n",
      "Validation loss decreased (0.087086 --> 0.080670).  Saving model ...\n",
      "Epoch: 15 \tTraining Loss: 0.089995 \tValidation Loss: 0.089475\n",
      "Epoch: 16 \tTraining Loss: 0.081357 \tValidation Loss: 0.079744\n",
      "Validation loss decreased (0.080670 --> 0.079744).  Saving model ...\n",
      "Epoch: 17 \tTraining Loss: 0.083342 \tValidation Loss: 0.080135\n",
      "Epoch: 18 \tTraining Loss: 0.076224 \tValidation Loss: 0.082159\n",
      "Epoch: 19 \tTraining Loss: 0.082018 \tValidation Loss: 0.081641\n",
      "Epoch: 20 \tTraining Loss: 0.078008 \tValidation Loss: 0.082739\n"
     ]
    }
   ],
   "source": [
    "# to track validation loss\n",
    "valid_loss_min = np.Inf\n",
    "\n",
    "for epoch in range(1, num_epochs + 1):\n",
    "    # keep track of training and validation loss\n",
    "    train_loss = 0.0\n",
    "    valid_loss = 0.0\n",
    "    \n",
    "    # training model\n",
    "    model.train()\n",
    "    for data, target in train_loader:\n",
    "        # move tensors to GPU if CUDA is available\n",
    "        data = data.to(device)\n",
    "        target = target.to(device)\n",
    "        \n",
    "        # clear the gradients of all optimized variables\n",
    "        optimizer.zero_grad()\n",
    "        # forward pass: compute predicted outputs by passing inputs to the model\n",
    "        output = model(data)\n",
    "        # calculate the batch loss\n",
    "        loss = criterion(output, target)\n",
    "        # backward pass: compute gradient of the loss with respect to model parameters\n",
    "        loss.backward()\n",
    "        # perform a single optimization step (parameter update)\n",
    "        optimizer.step()\n",
    "        # update training loss\n",
    "        train_loss += loss.item() * data.size(0)\n",
    "        \n",
    "    # validate the model\n",
    "    model.eval()\n",
    "    for data, target in valid_loader:\n",
    "        # move tensors to GPU if CUDA is available\n",
    "        data = data.to(device)\n",
    "        target = target.to(device)\n",
    "        \n",
    "        # forward pass: compute predicted outputs by passing inputs to the model\n",
    "        output = model(data)\n",
    "        # calculate the batch loss\n",
    "        loss = criterion(output, target)\n",
    "        # update average validation loss \n",
    "        valid_loss += loss.item() * data.size(0)\n",
    "    \n",
    "    # calculate average losses\n",
    "    train_loss = train_loss/len(train_loader.sampler)\n",
    "    valid_loss = valid_loss/len(valid_loader.sampler)\n",
    "        \n",
    "    # print training/validation statistics \n",
    "    print('Epoch: {} \\tTraining Loss: {:.6f} \\tValidation Loss: {:.6f}'.format(\n",
    "        epoch, train_loss, valid_loss))\n",
    "    \n",
    "    # save model if validation loss has decreased\n",
    "    if valid_loss <= valid_loss_min:\n",
    "        print('Validation loss decreased ({:.6f} --> {:.6f}).  Saving model ...'.format(\n",
    "        valid_loss_min,\n",
    "        valid_loss))\n",
    "        torch.save(model.state_dict(), 'model_cifar.pt')\n",
    "        valid_loss_min = valid_loss"
   ]
  },
  {
   "cell_type": "code",
   "execution_count": 17,
   "metadata": {},
   "outputs": [
    {
     "data": {
      "text/plain": [
       "<All keys matched successfully>"
      ]
     },
     "execution_count": 17,
     "metadata": {},
     "output_type": "execute_result"
    }
   ],
   "source": [
    "# set best model params\n",
    "model.load_state_dict(torch.load('model_cifar.pt'))"
   ]
  },
  {
   "cell_type": "code",
   "execution_count": 18,
   "metadata": {},
   "outputs": [
    {
     "name": "stdout",
     "output_type": "stream",
     "text": [
      "Test Accuracy: 97.08571428571429 %\n"
     ]
    }
   ],
   "source": [
    "# check accuracy on validation dataset\n",
    "model.eval()\n",
    "with torch.no_grad():\n",
    "    correct = 0\n",
    "    total = 0\n",
    "    for data, target in valid_loader:\n",
    "        # move tensors to GPU if CUDA is available\n",
    "        data = data.to(device)\n",
    "        target = target.to(device)\n",
    "        \n",
    "        # forward pass: compute predicted outputs by passing inputs to the model\n",
    "        outputs = model(data)\n",
    "        \n",
    "        # convert output probabilities to predicted class\n",
    "        _, predicted = torch.max(outputs.data, 1)\n",
    "        \n",
    "        total += target.size(0)\n",
    "        correct += (predicted == target).sum().item()\n",
    "    print('Test Accuracy: {} %'.format(100 * correct / total))"
   ]
  },
  {
   "cell_type": "code",
   "execution_count": 19,
   "metadata": {},
   "outputs": [],
   "source": [
    "# prepare data for submission\n",
    "df_submission = pd.read_csv(data_dir + \"/sample_submission.csv\")\n",
    "\n",
    "test_data = cactData(df_submission, test_dir, transform=valid_transf)\n",
    "test_loader = DataLoader(dataset = test_data, batch_size=batch_size, shuffle=False)"
   ]
  },
  {
   "cell_type": "code",
   "execution_count": 20,
   "metadata": {},
   "outputs": [
    {
     "name": "stderr",
     "output_type": "stream",
     "text": [
      "/opt/conda/lib/python3.6/site-packages/tensorflow/python/framework/dtypes.py:516: FutureWarning: Passing (type, 1) or '1type' as a synonym of type is deprecated; in a future version of numpy, it will be understood as (type, (1,)) / '(1,)type'.\n",
      "  _np_qint8 = np.dtype([(\"qint8\", np.int8, 1)])\n",
      "/opt/conda/lib/python3.6/site-packages/tensorflow/python/framework/dtypes.py:517: FutureWarning: Passing (type, 1) or '1type' as a synonym of type is deprecated; in a future version of numpy, it will be understood as (type, (1,)) / '(1,)type'.\n",
      "  _np_quint8 = np.dtype([(\"quint8\", np.uint8, 1)])\n",
      "/opt/conda/lib/python3.6/site-packages/tensorflow/python/framework/dtypes.py:518: FutureWarning: Passing (type, 1) or '1type' as a synonym of type is deprecated; in a future version of numpy, it will be understood as (type, (1,)) / '(1,)type'.\n",
      "  _np_qint16 = np.dtype([(\"qint16\", np.int16, 1)])\n",
      "/opt/conda/lib/python3.6/site-packages/tensorflow/python/framework/dtypes.py:519: FutureWarning: Passing (type, 1) or '1type' as a synonym of type is deprecated; in a future version of numpy, it will be understood as (type, (1,)) / '(1,)type'.\n",
      "  _np_quint16 = np.dtype([(\"quint16\", np.uint16, 1)])\n",
      "/opt/conda/lib/python3.6/site-packages/tensorflow/python/framework/dtypes.py:520: FutureWarning: Passing (type, 1) or '1type' as a synonym of type is deprecated; in a future version of numpy, it will be understood as (type, (1,)) / '(1,)type'.\n",
      "  _np_qint32 = np.dtype([(\"qint32\", np.int32, 1)])\n",
      "/opt/conda/lib/python3.6/site-packages/tensorflow/python/framework/dtypes.py:525: FutureWarning: Passing (type, 1) or '1type' as a synonym of type is deprecated; in a future version of numpy, it will be understood as (type, (1,)) / '(1,)type'.\n",
      "  np_resource = np.dtype([(\"resource\", np.ubyte, 1)])\n",
      "/opt/conda/lib/python3.6/site-packages/tensorboard/compat/tensorflow_stub/dtypes.py:541: FutureWarning: Passing (type, 1) or '1type' as a synonym of type is deprecated; in a future version of numpy, it will be understood as (type, (1,)) / '(1,)type'.\n",
      "  _np_qint8 = np.dtype([(\"qint8\", np.int8, 1)])\n",
      "/opt/conda/lib/python3.6/site-packages/tensorboard/compat/tensorflow_stub/dtypes.py:542: FutureWarning: Passing (type, 1) or '1type' as a synonym of type is deprecated; in a future version of numpy, it will be understood as (type, (1,)) / '(1,)type'.\n",
      "  _np_quint8 = np.dtype([(\"quint8\", np.uint8, 1)])\n",
      "/opt/conda/lib/python3.6/site-packages/tensorboard/compat/tensorflow_stub/dtypes.py:543: FutureWarning: Passing (type, 1) or '1type' as a synonym of type is deprecated; in a future version of numpy, it will be understood as (type, (1,)) / '(1,)type'.\n",
      "  _np_qint16 = np.dtype([(\"qint16\", np.int16, 1)])\n",
      "/opt/conda/lib/python3.6/site-packages/tensorboard/compat/tensorflow_stub/dtypes.py:544: FutureWarning: Passing (type, 1) or '1type' as a synonym of type is deprecated; in a future version of numpy, it will be understood as (type, (1,)) / '(1,)type'.\n",
      "  _np_quint16 = np.dtype([(\"quint16\", np.uint16, 1)])\n",
      "/opt/conda/lib/python3.6/site-packages/tensorboard/compat/tensorflow_stub/dtypes.py:545: FutureWarning: Passing (type, 1) or '1type' as a synonym of type is deprecated; in a future version of numpy, it will be understood as (type, (1,)) / '(1,)type'.\n",
      "  _np_qint32 = np.dtype([(\"qint32\", np.int32, 1)])\n",
      "/opt/conda/lib/python3.6/site-packages/tensorboard/compat/tensorflow_stub/dtypes.py:550: FutureWarning: Passing (type, 1) or '1type' as a synonym of type is deprecated; in a future version of numpy, it will be understood as (type, (1,)) / '(1,)type'.\n",
      "  np_resource = np.dtype([(\"resource\", np.ubyte, 1)])\n"
     ]
    }
   ],
   "source": [
    "model.eval()\n",
    "\n",
    "pred_label = []\n",
    "for data, target in test_loader:\n",
    "    # move tensors to GPU if CUDA is available\n",
    "    data, target = data.cuda(), target.cuda()\n",
    "    \n",
    "    # forward pass\n",
    "    output = model(data)\n",
    "    \n",
    "    prob = output[:,1].detach().cpu().numpy()\n",
    "    for p in prob:\n",
    "        pred_label.append(p)\n",
    "\n",
    "# Set predicted labels to submission\n",
    "df_submission['has_cactus'] = pred_label\n",
    "df_submission.to_csv('submission.csv', index=False)"
   ]
  }
 ],
 "metadata": {
  "kernelspec": {
   "display_name": "Python 3",
   "language": "python",
   "name": "python3"
  },
  "language_info": {
   "codemirror_mode": {
    "name": "ipython",
    "version": 3
   },
   "file_extension": ".py",
   "mimetype": "text/x-python",
   "name": "python",
   "nbconvert_exporter": "python",
   "pygments_lexer": "ipython3",
   "version": "3.6.6"
  }
 },
 "nbformat": 4,
 "nbformat_minor": 1
}
