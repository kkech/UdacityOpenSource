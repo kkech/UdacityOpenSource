{
  "nbformat": 4,
  "nbformat_minor": 0,
  "metadata": {
    "colab": {
      "name": "Amazon Review Scoring.ipynb",
      "version": "0.3.2",
      "provenance": [],
      "collapsed_sections": []
    },
    "kernelspec": {
      "name": "python3",
      "display_name": "Python 3"
    },
    "accelerator": "GPU"
  },
  "cells": [
    {
      "cell_type": "markdown",
      "metadata": {
        "id": "K4KKSqxtR0iv",
        "colab_type": "text"
      },
      "source": [
        "## Getting Data"
      ]
    },
    {
      "cell_type": "code",
      "metadata": {
        "id": "xNTMoX2Me-j-",
        "colab_type": "code",
        "colab": {}
      },
      "source": [
        "# !pip install kaggle"
      ],
      "execution_count": 0,
      "outputs": []
    },
    {
      "cell_type": "code",
      "metadata": {
        "id": "nLwE-qwYe-gU",
        "colab_type": "code",
        "colab": {}
      },
      "source": [
        "!mkdir .kaggle"
      ],
      "execution_count": 0,
      "outputs": []
    },
    {
      "cell_type": "code",
      "metadata": {
        "id": "r4hr53SlgJgA",
        "colab_type": "code",
        "colab": {}
      },
      "source": [
        "!mkdir ~/.kaggle"
      ],
      "execution_count": 0,
      "outputs": []
    },
    {
      "cell_type": "code",
      "metadata": {
        "id": "ezC0nIDie-et",
        "colab_type": "code",
        "colab": {}
      },
      "source": [
        "import json\n",
        "token = {'username':'aishakhatun','key':'cd63cc254a0b0f5f8471f7b6895edc7c'}\n",
        "with open('/content/.kaggle/kaggle.json', 'w') as file:\n",
        "    json.dump(token, file)"
      ],
      "execution_count": 0,
      "outputs": []
    },
    {
      "cell_type": "code",
      "metadata": {
        "id": "KKX3k2c2e-Yc",
        "colab_type": "code",
        "colab": {}
      },
      "source": [
        "!cp /content/.kaggle/kaggle.json ~/.kaggle/kaggle.json"
      ],
      "execution_count": 0,
      "outputs": []
    },
    {
      "cell_type": "code",
      "metadata": {
        "id": "yV5ZltIVfypZ",
        "colab_type": "code",
        "outputId": "e711ee1a-9943-4400-c220-bffe3b059e22",
        "colab": {
          "base_uri": "https://localhost:8080/",
          "height": 71
        }
      },
      "source": [
        "!kaggle config set -n path -v{/content}"
      ],
      "execution_count": 5,
      "outputs": [
        {
          "output_type": "stream",
          "text": [
            "Warning: Your Kaggle API key is readable by other users on this system! To fix this, you can run 'chmod 600 /root/.kaggle/kaggle.json'\n",
            "- path is now set to: {/content}\n"
          ],
          "name": "stdout"
        }
      ]
    },
    {
      "cell_type": "code",
      "metadata": {
        "id": "_0M5gq3YfynA",
        "colab_type": "code",
        "colab": {}
      },
      "source": [
        "!chmod 600 /root/.kaggle/kaggle.json"
      ],
      "execution_count": 0,
      "outputs": []
    },
    {
      "cell_type": "code",
      "metadata": {
        "id": "xWN58vvFfyim",
        "colab_type": "code",
        "colab": {}
      },
      "source": [
        "# !kaggle datasets list"
      ],
      "execution_count": 0,
      "outputs": []
    },
    {
      "cell_type": "code",
      "metadata": {
        "id": "9kAAyiD6ge7u",
        "colab_type": "code",
        "outputId": "16798667-b41a-4a4b-ac97-55a8af19ac6e",
        "colab": {
          "base_uri": "https://localhost:8080/",
          "height": 68
        }
      },
      "source": [
        "!kaggle datasets download -d snap/amazon-fine-food-reviews -p /content"
      ],
      "execution_count": 8,
      "outputs": [
        {
          "output_type": "stream",
          "text": [
            "Downloading amazon-fine-food-reviews.zip to /content\n",
            " 98% 245M/251M [00:01<00:00, 168MB/s]\n",
            "100% 251M/251M [00:01<00:00, 173MB/s]\n"
          ],
          "name": "stdout"
        }
      ]
    },
    {
      "cell_type": "code",
      "metadata": {
        "id": "896FeTWkhEvp",
        "colab_type": "code",
        "outputId": "1fd36ae7-d108-4bcc-9631-04a79a41d1a6",
        "colab": {
          "base_uri": "https://localhost:8080/",
          "height": 85
        }
      },
      "source": [
        "!unzip \\*.zip"
      ],
      "execution_count": 9,
      "outputs": [
        {
          "output_type": "stream",
          "text": [
            "Archive:  amazon-fine-food-reviews.zip\n",
            "  inflating: Reviews.csv             \n",
            "  inflating: database.sqlite         \n",
            "  inflating: hashes.txt              \n"
          ],
          "name": "stdout"
        }
      ]
    },
    {
      "cell_type": "markdown",
      "metadata": {
        "id": "x2hZYLvkTPmv",
        "colab_type": "text"
      },
      "source": [
        "## EDA"
      ]
    },
    {
      "cell_type": "code",
      "metadata": {
        "id": "xl8i7_StT5zi",
        "colab_type": "code",
        "outputId": "01c4d3c7-08cd-4649-fc1f-83872e2624fa",
        "colab": {
          "base_uri": "https://localhost:8080/",
          "height": 34
        }
      },
      "source": [
        "import pandas as pd\n",
        "import numpy as np\n",
        "import matplotlib.pyplot as plt\n",
        "import os\n",
        "from torchtext import data, vocab\n",
        "from tqdm import tqdm\n",
        "from sklearn.model_selection import train_test_split\n",
        "import spacy\n",
        "import torchtext\n",
        "from torchtext.data import Field, BucketIterator, TabularDataset\n",
        "en = spacy.load('en')\n",
        "import numpy as np\n",
        "import pandas as pd\n",
        "import os\n",
        "import string\n",
        "import re\n",
        "import matplotlib.pyplot as plt\n",
        "import torch\n",
        "import torch.nn as nn\n",
        "from torch.nn import functional as F\n",
        "from torch.autograd import Variable\n",
        "import torch.utils.data\n",
        "from sklearn.model_selection import train_test_split\n",
        "from keras.preprocessing.sequence import pad_sequences\n",
        "from collections import Counter\n",
        "import pickle"
      ],
      "execution_count": 10,
      "outputs": [
        {
          "output_type": "stream",
          "text": [
            "Using TensorFlow backend.\n"
          ],
          "name": "stderr"
        }
      ]
    },
    {
      "cell_type": "code",
      "metadata": {
        "id": "h7wQC4aHOlaw",
        "colab_type": "code",
        "colab": {}
      },
      "source": [
        "df = pd.read_csv('Reviews.csv')"
      ],
      "execution_count": 0,
      "outputs": []
    },
    {
      "cell_type": "code",
      "metadata": {
        "id": "YHjF0BLTQ8yS",
        "colab_type": "code",
        "colab": {
          "base_uri": "https://localhost:8080/",
          "height": 204
        },
        "outputId": "1f96cf9a-160a-47d5-fc89-3444e7529831"
      },
      "source": [
        "df = df[['Score', 'Text']]\n",
        "df.head()"
      ],
      "execution_count": 48,
      "outputs": [
        {
          "output_type": "execute_result",
          "data": {
            "text/html": [
              "<div>\n",
              "<style scoped>\n",
              "    .dataframe tbody tr th:only-of-type {\n",
              "        vertical-align: middle;\n",
              "    }\n",
              "\n",
              "    .dataframe tbody tr th {\n",
              "        vertical-align: top;\n",
              "    }\n",
              "\n",
              "    .dataframe thead th {\n",
              "        text-align: right;\n",
              "    }\n",
              "</style>\n",
              "<table border=\"1\" class=\"dataframe\">\n",
              "  <thead>\n",
              "    <tr style=\"text-align: right;\">\n",
              "      <th></th>\n",
              "      <th>Score</th>\n",
              "      <th>Text</th>\n",
              "    </tr>\n",
              "  </thead>\n",
              "  <tbody>\n",
              "    <tr>\n",
              "      <th>0</th>\n",
              "      <td>5</td>\n",
              "      <td>I have bought several of the Vitality canned d...</td>\n",
              "    </tr>\n",
              "    <tr>\n",
              "      <th>1</th>\n",
              "      <td>1</td>\n",
              "      <td>Product arrived labeled as Jumbo Salted Peanut...</td>\n",
              "    </tr>\n",
              "    <tr>\n",
              "      <th>2</th>\n",
              "      <td>4</td>\n",
              "      <td>This is a confection that has been around a fe...</td>\n",
              "    </tr>\n",
              "    <tr>\n",
              "      <th>3</th>\n",
              "      <td>2</td>\n",
              "      <td>If you are looking for the secret ingredient i...</td>\n",
              "    </tr>\n",
              "    <tr>\n",
              "      <th>4</th>\n",
              "      <td>5</td>\n",
              "      <td>Great taffy at a great price.  There was a wid...</td>\n",
              "    </tr>\n",
              "  </tbody>\n",
              "</table>\n",
              "</div>"
            ],
            "text/plain": [
              "   Score                                               Text\n",
              "0      5  I have bought several of the Vitality canned d...\n",
              "1      1  Product arrived labeled as Jumbo Salted Peanut...\n",
              "2      4  This is a confection that has been around a fe...\n",
              "3      2  If you are looking for the secret ingredient i...\n",
              "4      5  Great taffy at a great price.  There was a wid..."
            ]
          },
          "metadata": {
            "tags": []
          },
          "execution_count": 48
        }
      ]
    },
    {
      "cell_type": "code",
      "metadata": {
        "id": "ZPoMqa_MO_Hi",
        "colab_type": "code",
        "colab": {
          "base_uri": "https://localhost:8080/",
          "height": 34
        },
        "outputId": "8621ca28-a018-4dd7-bc96-bf505ec23d83"
      },
      "source": [
        "df.Score.unique()"
      ],
      "execution_count": 49,
      "outputs": [
        {
          "output_type": "execute_result",
          "data": {
            "text/plain": [
              "array([5, 1, 4, 2, 3])"
            ]
          },
          "metadata": {
            "tags": []
          },
          "execution_count": 49
        }
      ]
    },
    {
      "cell_type": "markdown",
      "metadata": {
        "id": "8iBbidjZq03t",
        "colab_type": "text"
      },
      "source": [
        "Stuck at this for HOURS. Cuda gives all kinds of weird errors, but the problem is my labels we not from 0-4"
      ]
    },
    {
      "cell_type": "code",
      "metadata": {
        "id": "AFu2GGxNp-4i",
        "colab_type": "code",
        "colab": {}
      },
      "source": [
        "df.Score=df.Score-1"
      ],
      "execution_count": 0,
      "outputs": []
    },
    {
      "cell_type": "code",
      "metadata": {
        "id": "Pv-bFHrpqCmQ",
        "colab_type": "code",
        "colab": {
          "base_uri": "https://localhost:8080/",
          "height": 34
        },
        "outputId": "173f9866-6ff1-49ca-dce4-09ebb4527d8f"
      },
      "source": [
        "df.Score.unique()"
      ],
      "execution_count": 51,
      "outputs": [
        {
          "output_type": "execute_result",
          "data": {
            "text/plain": [
              "array([4, 0, 3, 1, 2])"
            ]
          },
          "metadata": {
            "tags": []
          },
          "execution_count": 51
        }
      ]
    },
    {
      "cell_type": "code",
      "metadata": {
        "id": "u8iqTocxhwKu",
        "colab_type": "code",
        "colab": {
          "base_uri": "https://localhost:8080/",
          "height": 119
        },
        "outputId": "bea4e893-4502-43fb-8d60-a940d75ec59a"
      },
      "source": [
        "df.Score.value_counts()"
      ],
      "execution_count": 52,
      "outputs": [
        {
          "output_type": "execute_result",
          "data": {
            "text/plain": [
              "4    363122\n",
              "3     80655\n",
              "0     52268\n",
              "2     42640\n",
              "1     29769\n",
              "Name: Score, dtype: int64"
            ]
          },
          "metadata": {
            "tags": []
          },
          "execution_count": 52
        }
      ]
    },
    {
      "cell_type": "code",
      "metadata": {
        "id": "nXnUwcralndg",
        "colab_type": "code",
        "colab": {
          "base_uri": "https://localhost:8080/",
          "height": 68
        },
        "outputId": "00680642-4520-4afc-fa7a-8204e50db5b9"
      },
      "source": [
        "df.dtypes"
      ],
      "execution_count": 53,
      "outputs": [
        {
          "output_type": "execute_result",
          "data": {
            "text/plain": [
              "Score     int64\n",
              "Text     object\n",
              "dtype: object"
            ]
          },
          "metadata": {
            "tags": []
          },
          "execution_count": 53
        }
      ]
    },
    {
      "cell_type": "code",
      "metadata": {
        "id": "p_uZGjVVTWz4",
        "colab_type": "code",
        "colab": {
          "base_uri": "https://localhost:8080/",
          "height": 34
        },
        "outputId": "18958257-2068-489d-811e-631809dec12c"
      },
      "source": [
        "df.shape"
      ],
      "execution_count": 54,
      "outputs": [
        {
          "output_type": "execute_result",
          "data": {
            "text/plain": [
              "(568454, 2)"
            ]
          },
          "metadata": {
            "tags": []
          },
          "execution_count": 54
        }
      ]
    },
    {
      "cell_type": "code",
      "metadata": {
        "id": "B8qnTKUXUKZm",
        "colab_type": "code",
        "colab": {}
      },
      "source": [
        "df = df.dropna().reset_index(drop=True)"
      ],
      "execution_count": 0,
      "outputs": []
    },
    {
      "cell_type": "code",
      "metadata": {
        "id": "zKAc9ywpUTuL",
        "colab_type": "code",
        "colab": {
          "base_uri": "https://localhost:8080/",
          "height": 34
        },
        "outputId": "33684497-3cd3-440e-8961-b1ad91298e53"
      },
      "source": [
        "df.shape"
      ],
      "execution_count": 56,
      "outputs": [
        {
          "output_type": "execute_result",
          "data": {
            "text/plain": [
              "(568454, 2)"
            ]
          },
          "metadata": {
            "tags": []
          },
          "execution_count": 56
        }
      ]
    },
    {
      "cell_type": "code",
      "metadata": {
        "id": "qO97tpXMkGsy",
        "colab_type": "code",
        "colab": {
          "base_uri": "https://localhost:8080/",
          "height": 34
        },
        "outputId": "d831156f-16fe-4638-cbcd-cab6f5833a30"
      },
      "source": [
        "# sm = pd.DataFrame()\n",
        "# for i in range(5):\n",
        "#   x=df[df['Score']==i].iloc[:10]\n",
        "#   sm = sm.append(x, ignore_index = True)\n",
        "\n",
        "# len(sm)"
      ],
      "execution_count": 21,
      "outputs": [
        {
          "output_type": "execute_result",
          "data": {
            "text/plain": [
              "50"
            ]
          },
          "metadata": {
            "tags": []
          },
          "execution_count": 21
        }
      ]
    },
    {
      "cell_type": "code",
      "metadata": {
        "id": "g4-BJ6akl-1I",
        "colab_type": "code",
        "colab": {}
      },
      "source": [
        "# df = sm"
      ],
      "execution_count": 0,
      "outputs": []
    },
    {
      "cell_type": "markdown",
      "metadata": {
        "id": "iARYk-o2VDUD",
        "colab_type": "text"
      },
      "source": [
        "## Tokenization"
      ]
    },
    {
      "cell_type": "code",
      "metadata": {
        "id": "9hKmLvj79ARJ",
        "colab_type": "code",
        "colab": {}
      },
      "source": [
        "### All tokenizations combined\n",
        "re_punc = re.compile(\"([\\'!\\\"#$%&()*+,-./:;<=>?@[\\]^_`{|}~\\\\\\])\") # add spaces around punctuation\n",
        "## () for capturing group, [] for one of the groups in the braces\n",
        "re_apos = re.compile(r\"n ' t \")    # n't\n",
        "re_bpos = re.compile(r\" ' s \")     # 's\n",
        "re_mult_space = re.compile(r\"  *\") # replace multiple spaces with just one\n",
        "replacements = {'\\t':' ','\\n':' ','\\r':' ','\\x0b':' ','\\x0c':' '}\n",
        "\n",
        "def simple_toks(sent):\n",
        "    sent = \"\".join([replacements.get(c,c) for c in sent])\n",
        "    sent = re_punc.sub(r\" \\1 \", sent) # \\1 is the group that we have captured\n",
        "    sent = re_apos.sub(r\" n't \", sent)\n",
        "    sent = re_bpos.sub(r\" 's \", sent)\n",
        "    sent = re_mult_space.sub(' ', sent)\n",
        "    ret = ['xbos']\n",
        "    for w in sent.split():\n",
        "        if w.isupper():\n",
        "            ret.append('xwup')\n",
        "        elif w[0].isupper():\n",
        "            ret.append('xup')\n",
        "        ret.append(w.lower())\n",
        "    return ret\n",
        "\n",
        "## en.tokenizer(text)\n",
        "## implement !!! as 3*!"
      ],
      "execution_count": 0,
      "outputs": []
    },
    {
      "cell_type": "code",
      "metadata": {
        "id": "o2Q9A810Bdxu",
        "colab_type": "code",
        "outputId": "26eb99f2-6b09-4437-e0d9-f7b084134dbd",
        "colab": {
          "base_uri": "https://localhost:8080/",
          "height": 34
        }
      },
      "source": [
        "train, valid = train_test_split(df, test_size=0.2); len(train), len(valid)"
      ],
      "execution_count": 58,
      "outputs": [
        {
          "output_type": "execute_result",
          "data": {
            "text/plain": [
              "(454763, 113691)"
            ]
          },
          "metadata": {
            "tags": []
          },
          "execution_count": 58
        }
      ]
    },
    {
      "cell_type": "code",
      "metadata": {
        "id": "8nJrlWCLBdvI",
        "colab_type": "code",
        "colab": {}
      },
      "source": [
        "train.to_csv(\"train.csv\", index=False)\n",
        "valid.to_csv(\"valid.csv\", index=False)"
      ],
      "execution_count": 0,
      "outputs": []
    },
    {
      "cell_type": "code",
      "metadata": {
        "id": "KnXCOs9PA_hZ",
        "colab_type": "code",
        "colab": {}
      },
      "source": [
        "TEXT = Field(sequential=True, tokenize=simple_toks,lower=True, unk_token='xunk' , pad_token='xunk')\n",
        "LABEL = Field(sequential=False, use_vocab=False)"
      ],
      "execution_count": 0,
      "outputs": []
    },
    {
      "cell_type": "code",
      "metadata": {
        "id": "WaaFjGq5Bdz7",
        "colab_type": "code",
        "colab": {}
      },
      "source": [
        "data_fields = [('Score', LABEL), ('Text', TEXT)]"
      ],
      "execution_count": 0,
      "outputs": []
    },
    {
      "cell_type": "markdown",
      "metadata": {
        "id": "6yCpkYJRGUDB",
        "colab_type": "text"
      },
      "source": [
        "Takes some time"
      ]
    },
    {
      "cell_type": "code",
      "metadata": {
        "id": "oKMn1Za489MS",
        "colab_type": "code",
        "colab": {}
      },
      "source": [
        "train_ds,valid_ds = data.TabularDataset.splits(path='./', train='train.csv', validation='valid.csv', format='csv', fields=data_fields,  skip_header=True)"
      ],
      "execution_count": 0,
      "outputs": []
    },
    {
      "cell_type": "code",
      "metadata": {
        "id": "WCOHbjQ489I4",
        "colab_type": "code",
        "colab": {}
      },
      "source": [
        "TEXT.build_vocab(train_ds, vectors=\"glove.6B.100d\", max_size=60000 , min_freq=5)"
      ],
      "execution_count": 0,
      "outputs": []
    },
    {
      "cell_type": "code",
      "metadata": {
        "id": "3yhesiCpZ06b",
        "colab_type": "code",
        "outputId": "8cc9e2e6-c0aa-4bb3-9e65-bc36dda3ce04",
        "colab": {
          "base_uri": "https://localhost:8080/",
          "height": 34
        }
      },
      "source": [
        "len(TEXT.vocab.itos) , len(TEXT.vocab.stoi)"
      ],
      "execution_count": 64,
      "outputs": [
        {
          "output_type": "execute_result",
          "data": {
            "text/plain": [
              "(39298, 39298)"
            ]
          },
          "metadata": {
            "tags": []
          },
          "execution_count": 64
        }
      ]
    },
    {
      "cell_type": "code",
      "metadata": {
        "id": "zl8hOO5yKDNU",
        "colab_type": "code",
        "outputId": "64a586ca-ae6e-4851-c75f-b5b530adaea1",
        "colab": {
          "base_uri": "https://localhost:8080/",
          "height": 34
        }
      },
      "source": [
        "device = 'cuda' if torch.cuda.is_available() else 'cpu'\n",
        "device"
      ],
      "execution_count": 65,
      "outputs": [
        {
          "output_type": "execute_result",
          "data": {
            "text/plain": [
              "'cuda'"
            ]
          },
          "metadata": {
            "tags": []
          },
          "execution_count": 65
        }
      ]
    },
    {
      "cell_type": "code",
      "metadata": {
        "id": "ZYua93zGZ0X5",
        "colab_type": "code",
        "colab": {}
      },
      "source": [
        "batch_size=32"
      ],
      "execution_count": 0,
      "outputs": []
    },
    {
      "cell_type": "code",
      "metadata": {
        "id": "KWmWv_mWFC73",
        "colab_type": "code",
        "colab": {}
      },
      "source": [
        "train_iter = BucketIterator(train_ds, batch_size=batch_size, sort_key=lambda x: len(x.Text), shuffle=True, device=device, sort_within_batch=False)"
      ],
      "execution_count": 0,
      "outputs": []
    },
    {
      "cell_type": "code",
      "metadata": {
        "id": "RYu5T0eZNGtT",
        "colab_type": "code",
        "colab": {}
      },
      "source": [
        "valid_iter = BucketIterator(valid_ds, batch_size=batch_size, sort_key=lambda x: len(x.Text), shuffle=False, device=device, sort_within_batch=False)"
      ],
      "execution_count": 0,
      "outputs": []
    },
    {
      "cell_type": "code",
      "metadata": {
        "id": "WTUXi9GqHkz1",
        "colab_type": "code",
        "colab": {}
      },
      "source": [
        "#embedding = nn.Embedding(n_embed, embed_dim).from_pretrained(TEXT.vocab.vectors)\n",
        "#OR\n",
        "#self.encoder_embedding_layer.weight.data.copy_(self.pre_trained_vector.weight.data)"
      ],
      "execution_count": 0,
      "outputs": []
    },
    {
      "cell_type": "code",
      "metadata": {
        "id": "enn9oRXBVR3Q",
        "colab_type": "code",
        "colab": {}
      },
      "source": [
        "# TEXT.vocab.vectors.shape"
      ],
      "execution_count": 0,
      "outputs": []
    },
    {
      "cell_type": "code",
      "metadata": {
        "id": "LDNuXznaVXya",
        "colab_type": "code",
        "colab": {}
      },
      "source": [
        "# len(TEXT.vocab)"
      ],
      "execution_count": 0,
      "outputs": []
    },
    {
      "cell_type": "code",
      "metadata": {
        "id": "YOFOhOCbVZiq",
        "colab_type": "code",
        "colab": {}
      },
      "source": [
        "# TEXT.vocab.vectors[:5,:10]"
      ],
      "execution_count": 0,
      "outputs": []
    },
    {
      "cell_type": "code",
      "metadata": {
        "id": "65eB6UxVQKzl",
        "colab_type": "code",
        "colab": {}
      },
      "source": [
        "import torch.nn as nn\n",
        "import torch.nn.functional as F\n",
        "import torch.optim as optim\n",
        "from torch.autograd import Variable\n",
        "\n",
        "class SimpleLSTMBaseline(nn.Module):\n",
        "    def __init__(self, hidden_dim, emb_dim=100, num_linear=1):\n",
        "        super().__init__()\n",
        "        self.embedding = nn.Embedding(len(TEXT.vocab), emb_dim).from_pretrained(TEXT.vocab.vectors)\n",
        "        self.encoder = nn.LSTM(emb_dim, hidden_dim, num_layers=1)\n",
        "        self.linear_layers = []\n",
        "        for _ in range(num_linear - 1):\n",
        "            self.linear_layers.append(nn.Linear(hidden_dim, hidden_dim))\n",
        "            self.linear_layers = nn.ModuleList(self.linear_layers)\n",
        "        self.predictor = nn.Linear(hidden_dim, 5)\n",
        "        self.act = nn.ReLU()\n",
        "        self.dropout = nn.Dropout(0.3)\n",
        "    def forward(self, seq):\n",
        "        hdn, _ = self.encoder(self.embedding(seq))\n",
        "        feature = hdn[-1, :, :]\n",
        "        for layer in self.linear_layers:\n",
        "          feature = self.act(layer(feature))#dropout\n",
        "        preds = self.predictor(feature)\n",
        "        return preds"
      ],
      "execution_count": 0,
      "outputs": []
    },
    {
      "cell_type": "code",
      "metadata": {
        "id": "B-5dGp6MaEHg",
        "colab_type": "code",
        "colab": {}
      },
      "source": [
        "em_sz = 100\n",
        "nh = 128\n",
        "nl = 3\n",
        "model = SimpleLSTMBaseline(nh, emb_dim=em_sz, num_linear=nl).to(device)"
      ],
      "execution_count": 0,
      "outputs": []
    },
    {
      "cell_type": "code",
      "metadata": {
        "id": "-bpQ95gmSqZu",
        "colab_type": "code",
        "colab": {}
      },
      "source": [
        "# model"
      ],
      "execution_count": 0,
      "outputs": []
    },
    {
      "cell_type": "code",
      "metadata": {
        "id": "bQthZnKMaBPV",
        "colab_type": "code",
        "colab": {}
      },
      "source": [
        "error = nn.CrossEntropyLoss()\n",
        "opt = torch.optim.Adam(model.parameters(), lr=0.001)"
      ],
      "execution_count": 0,
      "outputs": []
    },
    {
      "cell_type": "code",
      "metadata": {
        "id": "iCeLzdVFZVjo",
        "colab_type": "code",
        "colab": {}
      },
      "source": [
        "loss_list = []\n",
        "iteration_list = []\n",
        "accuracy_list = []\n",
        "train_loss_list = []\n",
        "train_acc_list = []\n",
        "count=0\n",
        "num_epochs=5"
      ],
      "execution_count": 0,
      "outputs": []
    },
    {
      "cell_type": "code",
      "metadata": {
        "id": "xj7RasHCVmJ9",
        "colab_type": "code",
        "colab": {
          "base_uri": "https://localhost:8080/",
          "height": 34
        },
        "outputId": "ab202692-88aa-4acd-afd5-127e3369534d"
      },
      "source": [
        "# tmp = BucketIterator(valid_ds, batch_size=batch_size, sort_key=lambda x: len(x.Text), shuffle=False, device='cpu', sort_within_batch=False)\n",
        "# print(tmp.device,valid_iter.device)\n",
        "# it = iter(tmp)\n",
        "# it2 = iter(valid_iter)"
      ],
      "execution_count": 43,
      "outputs": [
        {
          "output_type": "stream",
          "text": [
            "cpu cuda\n"
          ],
          "name": "stdout"
        }
      ]
    },
    {
      "cell_type": "code",
      "metadata": {
        "id": "kgPdxUVwbGTJ",
        "colab_type": "code",
        "colab": {
          "base_uri": "https://localhost:8080/",
          "height": 34
        },
        "outputId": "2e077785-d58b-4139-bd45-4c15cc8013b2"
      },
      "source": [
        "# x = next(it2)\n",
        "# x.Text.shape, x.Score.shape"
      ],
      "execution_count": 44,
      "outputs": [
        {
          "output_type": "execute_result",
          "data": {
            "text/plain": [
              "(torch.Size([255, 10]), torch.Size([10]))"
            ]
          },
          "metadata": {
            "tags": []
          },
          "execution_count": 44
        }
      ]
    },
    {
      "cell_type": "code",
      "metadata": {
        "id": "XzL-rVnKXITz",
        "colab_type": "code",
        "colab": {}
      },
      "source": [
        "def trainIt():\n",
        "  \n",
        "  global loss_list \n",
        "  global iteration_list \n",
        "  global accuracy_list\n",
        "  global train_loss_list \n",
        "  global train_acc_list \n",
        "  global count\n",
        "\n",
        "  for epoch in range(1):\n",
        "      train_loss=0\n",
        "      train_total=0\n",
        "      for X in train_iter:\n",
        "        \n",
        "          model.train()\n",
        "          \n",
        "          txt,lbl = X.Text, X.Score\n",
        "          \n",
        "          bs=txt.shape[1]\n",
        "          \n",
        "          txt = Variable(txt)\n",
        "          lbl = Variable(lbl)\n",
        "          \n",
        "          opt.zero_grad()\n",
        "          \n",
        "          outputs = model(txt)\n",
        "          \n",
        "          loss = error(outputs, lbl)\n",
        "  #         print(outputs.shape, lbl.shape)\n",
        "          \n",
        "          loss.backward()\n",
        "          opt.step()\n",
        "          \n",
        "          count+=1\n",
        "          train_loss+=loss.data\n",
        "          train_total+=bs\n",
        "          \n",
        "          if count%500==0: #500\n",
        "              with torch.no_grad():\n",
        "                  model.eval()\n",
        "                  validation_loss=0\n",
        "                  total=0\n",
        "                  correct=0\n",
        "                  for X in valid_iter:\n",
        "                    \n",
        "                      txt,lbl = X.Text, X.Score\n",
        "                      \n",
        "                      bs=txt.shape[1]\n",
        "                      \n",
        "                      txt = Variable(txt)\n",
        "                      lbl = Variable(lbl)\n",
        "                      \n",
        "                      outputs = model(txt)\n",
        "                      valid_loss = error(outputs, lbl)\n",
        "                      \n",
        "                      ##loss\n",
        "                      validation_loss+=valid_loss.data\n",
        "                      ##accuracy:\n",
        "                      prediction=torch.max(outputs.data, 1)[1]\n",
        "                      total+=bs\n",
        "                      correct+=(prediction==lbl).sum().item()\n",
        "                      \n",
        "                  loss_list.append(validation_loss/total)\n",
        "                  accuracy_list.append(100*correct/float(total))\n",
        "                  iteration_list.append(count)\n",
        "                  train_loss_list.append(train_loss/train_total)\n",
        "                  train_loss=0\n",
        "                  train_total=0\n",
        "\n",
        "                  if count%2000==0: #2000\n",
        "                      print('Iteration/Epoch: {}/{}  trainloss: {} Loss: {}  Accuracy: {} %'.format(count,epoch+1,train_loss_list[-1],loss_list[-1], accuracy_list[-1]))"
      ],
      "execution_count": 0,
      "outputs": []
    },
    {
      "cell_type": "markdown",
      "metadata": {
        "id": "aqypZtTG7Gdp",
        "colab_type": "text"
      },
      "source": [
        "Epoch 1\n",
        "```\n",
        "Iteration/Epoch: 2000/1  trainloss: 0.035509705543518066 Loss: 0.035484135150909424  Accuracy: 63.74559111978961 %\n",
        "Iteration/Epoch: 4000/1  trainloss: 0.03529617190361023 Loss: 0.03542999550700188  Accuracy: 63.783412935060824 %\n",
        "Iteration/Epoch: 6000/1  trainloss: 0.03524688631296158 Loss: 0.03536951541900635  Accuracy: 63.78517208925948 %\n",
        "Iteration/Epoch: 8000/1  trainloss: 0.035695310682058334 Loss: 0.035432081669569016  Accuracy: 63.78693124345815 %\n",
        "Iteration/Epoch: 10000/1  trainloss: 0.03554362803697586 Loss: 0.03538733720779419  Accuracy: 63.792208706054126 %\n",
        "Iteration/Epoch: 12000/1  trainloss: 0.03520361706614494 Loss: 0.03533337637782097  Accuracy: 63.81331855643806 %\n",
        "Iteration/Epoch: 14000/1  trainloss: 0.035062387585639954 Loss: 0.035336680710315704  Accuracy: 63.824753058729364 %\n",
        "```"
      ]
    },
    {
      "cell_type": "code",
      "metadata": {
        "id": "MhtpI0vi6tkW",
        "colab_type": "code",
        "colab": {
          "base_uri": "https://localhost:8080/",
          "height": 136
        },
        "outputId": "a669fd9e-1816-4557-cf3e-bc59482453a2"
      },
      "source": [
        "trainIt() #Epoch 2"
      ],
      "execution_count": 79,
      "outputs": [
        {
          "output_type": "stream",
          "text": [
            "Iteration/Epoch: 16000/1  trainloss: 0.033413324505090714 Loss: 0.033619705587625504  Accuracy: 63.83530798392133 %\n",
            "Iteration/Epoch: 18000/1  trainloss: 0.03482650965452194 Loss: 0.0346444770693779  Accuracy: 63.87312979919255 %\n",
            "Iteration/Epoch: 20000/1  trainloss: 0.03457863628864288 Loss: 0.03432739898562431  Accuracy: 63.837946715219324 %\n",
            "Iteration/Epoch: 22000/1  trainloss: 0.033574603497982025 Loss: 0.03385340794920921  Accuracy: 63.926784002251715 %\n",
            "Iteration/Epoch: 24000/1  trainloss: 0.02699345536530018 Loss: 0.026961319148540497  Accuracy: 68.25430333095848 %\n",
            "Iteration/Epoch: 26000/1  trainloss: 0.025221334770321846 Loss: 0.025146301835775375  Accuracy: 69.68537527156943 %\n",
            "Iteration/Epoch: 28000/1  trainloss: 0.024634061381220818 Loss: 0.02455015294253826  Accuracy: 70.27733065941895 %\n"
          ],
          "name": "stdout"
        }
      ]
    },
    {
      "cell_type": "code",
      "metadata": {
        "id": "MI2lT-9AJ5FZ",
        "colab_type": "code",
        "colab": {
          "base_uri": "https://localhost:8080/",
          "height": 156
        },
        "outputId": "6d828c09-87b0-497b-8a1e-a24dc53c44f6"
      },
      "source": [
        "trainIt() #Epoch 3"
      ],
      "execution_count": 83,
      "outputs": [
        {
          "output_type": "stream",
          "text": [
            "Iteration/Epoch: 30000/1  trainloss: 0.023646045476198196 Loss: 0.02354186773300171  Accuracy: 71.40670765495949 %\n",
            "Iteration/Epoch: 32000/1  trainloss: 0.02262687310576439 Loss: 0.02247110940515995  Accuracy: 73.01281543833724 %\n",
            "Iteration/Epoch: 34000/1  trainloss: 0.02178291045129299 Loss: 0.021608181297779083  Accuracy: 73.58190182160418 %\n",
            "Iteration/Epoch: 36000/1  trainloss: 0.021073248237371445 Loss: 0.02167496457695961  Accuracy: 73.48338918647914 %\n",
            "Iteration/Epoch: 38000/1  trainloss: 0.02059796452522278 Loss: 0.020859623327851295  Accuracy: 74.7851632934885 %\n",
            "Iteration/Epoch: 40000/1  trainloss: 0.020663918927311897 Loss: 0.020896395668387413  Accuracy: 75.05431388588367 %\n",
            "Iteration/Epoch: 42000/1  trainloss: 0.020461304113268852 Loss: 0.020306391641497612  Accuracy: 75.41669965080789 %\n"
          ],
          "name": "stdout"
        }
      ]
    },
    {
      "cell_type": "code",
      "metadata": {
        "id": "1SmNkt0qQmBp",
        "colab_type": "code",
        "colab": {}
      },
      "source": [
        "trainIt() #Epoch 4"
      ],
      "execution_count": 0,
      "outputs": []
    },
    {
      "cell_type": "code",
      "metadata": {
        "id": "07jJW7-Jahak",
        "colab_type": "code",
        "colab": {
          "base_uri": "https://localhost:8080/",
          "height": 34
        },
        "outputId": "7f727c7a-d6e1-48c8-d5f8-4fb19fbba57e"
      },
      "source": [
        "len(iteration_list), len(train_loss_list), len(accuracy_list), len(loss_list)"
      ],
      "execution_count": 84,
      "outputs": [
        {
          "output_type": "execute_result",
          "data": {
            "text/plain": [
              "(85, 85, 85, 85)"
            ]
          },
          "metadata": {
            "tags": []
          },
          "execution_count": 84
        }
      ]
    },
    {
      "cell_type": "code",
      "metadata": {
        "id": "uAYtX4vRfVss",
        "colab_type": "code",
        "colab": {
          "base_uri": "https://localhost:8080/",
          "height": 295
        },
        "outputId": "d4562161-2180-4cd4-d39a-0d406d010e78"
      },
      "source": [
        "# visualization loss \n",
        "plt.plot(iteration_list,loss_list,label='validation')\n",
        "plt.plot(iteration_list,train_loss_list,label='train')\n",
        "plt.xlabel(\"Number of iteration\")\n",
        "plt.ylabel(\"Loss\")\n",
        "plt.legend(loc='best')\n",
        "plt.title(\"Loss vs Number of iteration\")\n",
        "plt.savefig('loss.png')\n",
        "plt.show()"
      ],
      "execution_count": 85,
      "outputs": [
        {
          "output_type": "display_data",
          "data": {
            "image/png": "[encoded data removed]",
            "text/plain": [
              "<Figure size 432x288 with 1 Axes>"
            ]
          },
          "metadata": {
            "tags": []
          }
        }
      ]
    },
    {
      "cell_type": "code",
      "metadata": {
        "id": "khEJSNtWfV8C",
        "colab_type": "code",
        "colab": {
          "base_uri": "https://localhost:8080/",
          "height": 295
        },
        "outputId": "18e0acc3-5389-42db-b112-180f319d8894"
      },
      "source": [
        "# visualization accuracy \n",
        "plt.plot(iteration_list,accuracy_list,color = \"red\")\n",
        "plt.xlabel(\"Number of iteration\")\n",
        "plt.ylabel(\"Accuracy\")\n",
        "plt.title(\"Accuracy vs Number of iteration\")\n",
        "plt.savefig('acc.png')\n",
        "plt.show()"
      ],
      "execution_count": 86,
      "outputs": [
        {
          "output_type": "display_data",
          "data": {
            "image/png": "[encoded data removed]",
            "text/plain": [
              "<Figure size 432x288 with 1 Axes>"
            ]
          },
          "metadata": {
            "tags": []
          }
        }
      ]
    },
    {
      "cell_type": "code",
      "metadata": {
        "id": "XStVbQb7fdam",
        "colab_type": "code",
        "colab": {}
      },
      "source": [
        ""
      ],
      "execution_count": 0,
      "outputs": []
    }
  ]
}